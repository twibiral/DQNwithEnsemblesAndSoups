{
 "cells": [
  {
   "cell_type": "markdown",
   "source": [
    "# Comparing the Performance of Different Implementations\n",
    "\n",
    "This notebook was used to compare the performance of different implementations that do the same to improve the performance of the code."
   ],
   "metadata": {
    "collapsed": false
   }
  },
  {
   "cell_type": "code",
   "execution_count": 1,
   "outputs": [],
   "source": [
    "import os.path\n",
    "\n",
    "import numpy as np"
   ],
   "metadata": {
    "collapsed": false
   }
  },
  {
   "cell_type": "markdown",
   "source": [
    "## Transposing the sample extracted from a replay buffer"
   ],
   "metadata": {
    "collapsed": false
   }
  },
  {
   "cell_type": "code",
   "execution_count": 23,
   "metadata": {
    "collapsed": true
   },
   "outputs": [],
   "source": [
    "sample_batch = [\n",
    "    (np.array([0, 0, 0]), 0, 0, np.array([0, 0, 1]), False),\n",
    "    (np.array([1, 1, 1]), 1, 1, np.array([1, 1, 1]), False),\n",
    "    (np.array([2, 2, 2]), 2, 2, np.array([2, 2, 1]), False),\n",
    "    (np.array([3, 3, 3]), 3, 3, np.array([3, 3, 1]), False),\n",
    "    (np.array([4, 4, 4]), 4, 4, np.array([4, 4, 1]), True),\n",
    "    (np.array([5, 5, 5]), 5, 5, np.array([5, 5, 1]), False),\n",
    "] * 1000"
   ]
  },
  {
   "cell_type": "code",
   "execution_count": 24,
   "outputs": [
    {
     "name": "stdout",
     "output_type": "stream",
     "text": [
      "7.45 ms ± 483 µs per loop (mean ± std. dev. of 7 runs, 100 loops each)\n"
     ]
    }
   ],
   "source": [
    "%%timeit\n",
    "\n",
    "states1, actions1, rewards1, next_states1, dones1 = [], [], [], [], []\n",
    "for s, a, r, n, d in sample_batch:\n",
    "    states1.append(np.array(s, copy=False))\n",
    "    actions1.append(np.array(a, copy=False))\n",
    "    rewards1.append(np.array(r, copy=False))\n",
    "    next_states1.append(np.array(n, copy=False))\n",
    "    dones1.append(np.array(d, copy=False))"
   ],
   "metadata": {
    "collapsed": false
   }
  },
  {
   "cell_type": "code",
   "execution_count": 25,
   "outputs": [
    {
     "name": "stdout",
     "output_type": "stream",
     "text": [
      "213 µs ± 1.1 µs per loop (mean ± std. dev. of 7 runs, 1,000 loops each)\n"
     ]
    }
   ],
   "source": [
    "%%timeit\n",
    "states2, actions2, rewards2, next_states2, dones2 = list(map(list, zip(*sample_batch)))"
   ],
   "metadata": {
    "collapsed": false
   }
  },
  {
   "cell_type": "markdown",
   "source": [
    "## Can uint8 be used instead of int16?"
   ],
   "metadata": {
    "collapsed": false
   }
  },
  {
   "cell_type": "code",
   "execution_count": 9,
   "outputs": [],
   "source": [
    "import gymnasium as gym\n",
    "from tqdm.auto import tqdm\n",
    "import numpy as np"
   ],
   "metadata": {
    "collapsed": false
   }
  },
  {
   "cell_type": "code",
   "execution_count": 10,
   "outputs": [],
   "source": [
    "env = gym.make(\"BreakoutNoFrameskip-v4\")\n",
    "env = gym.wrappers.AtariPreprocessing(env, noop_max=30, frame_skip=4, screen_size=84, terminal_on_life_loss=False,\n",
    "                                      grayscale_obs=True, grayscale_newaxis=False,\n",
    "                                      scale_obs=False)  # Frame stacking\n",
    "env = gym.wrappers.FrameStack(env, 4)"
   ],
   "metadata": {
    "collapsed": false
   }
  },
  {
   "cell_type": "code",
   "execution_count": 13,
   "outputs": [
    {
     "data": {
      "text/plain": "  0%|          | 0/5000 [00:00<?, ?it/s]",
      "application/vnd.jupyter.widget-view+json": {
       "version_major": 2,
       "version_minor": 0,
       "model_id": "413d199a1ca7490eb846310505b72208"
      }
     },
     "metadata": {},
     "output_type": "display_data"
    }
   ],
   "source": [
    "env.reset()\n",
    "for _ in tqdm(range(5000)):\n",
    "    next_state, reward, terminated, truncated, _ = env.step(env.action_space.sample())\n",
    "    if terminated or truncated:\n",
    "        env.reset()\n",
    "\n",
    "    assert np.all(np.array(next_state, dtype=np.uint8) == np.array(next_state, dtype=np.int16)), \"Failed!\""
   ],
   "metadata": {
    "collapsed": false
   }
  },
  {
   "cell_type": "markdown",
   "source": [],
   "metadata": {
    "collapsed": false
   }
  }
 ],
 "metadata": {
  "kernelspec": {
   "display_name": "Python 3",
   "language": "python",
   "name": "python3"
  },
  "language_info": {
   "codemirror_mode": {
    "name": "ipython",
    "version": 2
   },
   "file_extension": ".py",
   "mimetype": "text/x-python",
   "name": "python",
   "nbconvert_exporter": "python",
   "pygments_lexer": "ipython2",
   "version": "2.7.6"
  }
 },
 "nbformat": 4,
 "nbformat_minor": 0
}
