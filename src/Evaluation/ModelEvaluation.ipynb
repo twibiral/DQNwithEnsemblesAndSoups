{
 "cells": [
  {
   "cell_type": "markdown",
   "metadata": {},
   "source": [
    "# Evaluate Models\n",
    "\n",
    "Play each game with each model and save the results to a csv file. This file can be used to create plots and compare the models."
   ]
  },
  {
   "cell_type": "code",
   "execution_count": 1,
   "metadata": {},
   "outputs": [],
   "source": [
    "import os\n",
    "import itertools\n",
    "import random\n",
    "import re\n",
    "from builtins import range\n",
    "from pathlib import Path\n",
    "\n",
    "# Set the TensorFlow logging level to suppress debug messages\n",
    "os.environ['TF_CPP_MIN_LOG_LEVEL'] = '2'\n",
    "import numpy as np\n",
    "import pandas as pd\n",
    "import tensorflow as tf\n",
    "from tqdm.auto import tqdm\n",
    "\n",
    "import Training.TrainingScript as TrainingScript\n",
    "from Ensemble import EnsembleMethods, Ensemble"
   ]
  },
  {
   "cell_type": "code",
   "execution_count": 2,
   "metadata": {},
   "outputs": [],
   "source": [
    "RESULTS_CSV = \"./../../results.csv\"\n",
    "EVALUATION_RESULTS_CSV = \"./../../evaluation_results.csv\"\n",
    "MODELS = \"./../../models/\"\n",
    "\n",
    "NUM_REPETITIONS = 2#5\n",
    "NUM_REPETITIONS_FOR_RANDOM_BASELINE = 2#50\n",
    "\n",
    "N_FOR_TOP_N_ENSEMBLES = 2\n",
    "M_FOR_SNAPSHOT_ENSEMBLES_AND_SOUPS = 3\n",
    "ENSEMBLE_METHODS_USED = [\n",
    "    EnsembleMethods.AVERAGE,\n",
    "    EnsembleMethods.LOGISTIC_AVERAGE,\n",
    "    # EnsembleMethods.AVERAGE_WITH_CONFIDENCE,\n",
    "    # EnsembleMethods.LOGISTIC_AVERAGE_WITH_CONFIDENCE,\n",
    "    EnsembleMethods.MAJORITY_VOTE,\n",
    "]"
   ]
  },
  {
   "cell_type": "code",
   "execution_count": 3,
   "metadata": {},
   "outputs": [
    {
     "data": {
      "text/html": [
       "<div>\n",
       "<style scoped>\n",
       "    .dataframe tbody tr th:only-of-type {\n",
       "        vertical-align: middle;\n",
       "    }\n",
       "\n",
       "    .dataframe tbody tr th {\n",
       "        vertical-align: top;\n",
       "    }\n",
       "\n",
       "    .dataframe thead th {\n",
       "        text-align: right;\n",
       "    }\n",
       "</style>\n",
       "<table border=\"1\" class=\"dataframe\">\n",
       "  <thead>\n",
       "    <tr style=\"text-align: right;\">\n",
       "      <th></th>\n",
       "      <th>game</th>\n",
       "      <th>training_model</th>\n",
       "      <th>reward_history</th>\n",
       "      <th>loss_history</th>\n",
       "      <th>model_path</th>\n",
       "    </tr>\n",
       "  </thead>\n",
       "  <tbody>\n",
       "    <tr>\n",
       "      <th>0</th>\n",
       "      <td>seaquest</td>\n",
       "      <td>mnih2013</td>\n",
       "      <td>[100.0, 0.0, 100.0, 100.0, 0.0, 120.0, 40.0, 2...</td>\n",
       "      <td>[0.012014569714665413, 12.65832805633545, 0.01...</td>\n",
       "      <td>mnih2013/seaquest/started_at_2023-09-25_12-09-...</td>\n",
       "    </tr>\n",
       "    <tr>\n",
       "      <th>1</th>\n",
       "      <td>enduro</td>\n",
       "      <td>interpretable_cnn</td>\n",
       "      <td>[0.0, 0.0, 0.0, 0.0, 0.0, 0.0, 0.0, 0.0, 0.0, ...</td>\n",
       "      <td>[8.388333662878722e-05, 0.00010635607759468257...</td>\n",
       "      <td>interpretable_cnn/enduro/started_at_2023-09-25...</td>\n",
       "    </tr>\n",
       "    <tr>\n",
       "      <th>2</th>\n",
       "      <td>breakout</td>\n",
       "      <td>interpretable_cnn</td>\n",
       "      <td>[0.0, 2.0, 0.0, 1.0, 4.0, 2.0, 0.0, 1.0, 0.0, ...</td>\n",
       "      <td>[5.418467117124237e-05, 4.053674638271332e-05,...</td>\n",
       "      <td>interpretable_cnn/breakout/started_at_2023-09-...</td>\n",
       "    </tr>\n",
       "    <tr>\n",
       "      <th>3</th>\n",
       "      <td>enduro</td>\n",
       "      <td>mnih2013</td>\n",
       "      <td>[0.0, 0.0, 0.0, 0.0, 0.0, 0.0, 0.0, 0.0, 0.0, ...</td>\n",
       "      <td>[0.021065175533294678, 0.022660288959741592, 0...</td>\n",
       "      <td>mnih2013/enduro/started_at_2023-09-25_12-49-42...</td>\n",
       "    </tr>\n",
       "    <tr>\n",
       "      <th>4</th>\n",
       "      <td>seaquest</td>\n",
       "      <td>mnih2013</td>\n",
       "      <td>[0.0, 40.0, 20.0, 20.0, 20.0, 120.0, 160.0, 20...</td>\n",
       "      <td>[0.02780219167470932, 0.027884984388947487, 0....</td>\n",
       "      <td>mnih2013/seaquest/started_at_2023-09-25_12-41-...</td>\n",
       "    </tr>\n",
       "  </tbody>\n",
       "</table>\n",
       "</div>"
      ],
      "text/plain": [
       "       game     training_model  \\\n",
       "0  seaquest           mnih2013   \n",
       "1    enduro  interpretable_cnn   \n",
       "2  breakout  interpretable_cnn   \n",
       "3    enduro           mnih2013   \n",
       "4  seaquest           mnih2013   \n",
       "\n",
       "                                      reward_history  \\\n",
       "0  [100.0, 0.0, 100.0, 100.0, 0.0, 120.0, 40.0, 2...   \n",
       "1  [0.0, 0.0, 0.0, 0.0, 0.0, 0.0, 0.0, 0.0, 0.0, ...   \n",
       "2  [0.0, 2.0, 0.0, 1.0, 4.0, 2.0, 0.0, 1.0, 0.0, ...   \n",
       "3  [0.0, 0.0, 0.0, 0.0, 0.0, 0.0, 0.0, 0.0, 0.0, ...   \n",
       "4  [0.0, 40.0, 20.0, 20.0, 20.0, 120.0, 160.0, 20...   \n",
       "\n",
       "                                        loss_history  \\\n",
       "0  [0.012014569714665413, 12.65832805633545, 0.01...   \n",
       "1  [8.388333662878722e-05, 0.00010635607759468257...   \n",
       "2  [5.418467117124237e-05, 4.053674638271332e-05,...   \n",
       "3  [0.021065175533294678, 0.022660288959741592, 0...   \n",
       "4  [0.02780219167470932, 0.027884984388947487, 0....   \n",
       "\n",
       "                                          model_path  \n",
       "0  mnih2013/seaquest/started_at_2023-09-25_12-09-...  \n",
       "1  interpretable_cnn/enduro/started_at_2023-09-25...  \n",
       "2  interpretable_cnn/breakout/started_at_2023-09-...  \n",
       "3  mnih2013/enduro/started_at_2023-09-25_12-49-42...  \n",
       "4  mnih2013/seaquest/started_at_2023-09-25_12-41-...  "
      ]
     },
     "execution_count": 3,
     "metadata": {},
     "output_type": "execute_result"
    }
   ],
   "source": [
    "results_df = pd.read_csv(RESULTS_CSV)\n",
    "results_df.head()"
   ]
  },
  {
   "cell_type": "code",
   "execution_count": 4,
   "metadata": {},
   "outputs": [
    {
     "data": {
      "text/html": [
       "<div>\n",
       "<style scoped>\n",
       "    .dataframe tbody tr th:only-of-type {\n",
       "        vertical-align: middle;\n",
       "    }\n",
       "\n",
       "    .dataframe tbody tr th {\n",
       "        vertical-align: top;\n",
       "    }\n",
       "\n",
       "    .dataframe thead th {\n",
       "        text-align: right;\n",
       "    }\n",
       "</style>\n",
       "<table border=\"1\" class=\"dataframe\">\n",
       "  <thead>\n",
       "    <tr style=\"text-align: right;\">\n",
       "      <th></th>\n",
       "      <th>game</th>\n",
       "      <th>training_model</th>\n",
       "      <th>reward_history</th>\n",
       "      <th>loss_history</th>\n",
       "      <th>model_path</th>\n",
       "    </tr>\n",
       "  </thead>\n",
       "  <tbody>\n",
       "    <tr>\n",
       "      <th>0</th>\n",
       "      <td>seaquest</td>\n",
       "      <td>mnih2013</td>\n",
       "      <td>[100.0, 0.0, 100.0, 100.0, 0.0, 120.0, 40.0, 2...</td>\n",
       "      <td>[0.012014569714665413, 12.65832805633545, 0.01...</td>\n",
       "      <td>mnih2013/seaquest/started_at_2023-09-25_12-09-...</td>\n",
       "    </tr>\n",
       "    <tr>\n",
       "      <th>3</th>\n",
       "      <td>enduro</td>\n",
       "      <td>mnih2013</td>\n",
       "      <td>[0.0, 0.0, 0.0, 0.0, 0.0, 0.0, 0.0, 0.0, 0.0, ...</td>\n",
       "      <td>[0.021065175533294678, 0.022660288959741592, 0...</td>\n",
       "      <td>mnih2013/enduro/started_at_2023-09-25_12-49-42...</td>\n",
       "    </tr>\n",
       "    <tr>\n",
       "      <th>4</th>\n",
       "      <td>seaquest</td>\n",
       "      <td>mnih2013</td>\n",
       "      <td>[0.0, 40.0, 20.0, 20.0, 20.0, 120.0, 160.0, 20...</td>\n",
       "      <td>[0.02780219167470932, 0.027884984388947487, 0....</td>\n",
       "      <td>mnih2013/seaquest/started_at_2023-09-25_12-41-...</td>\n",
       "    </tr>\n",
       "    <tr>\n",
       "      <th>5</th>\n",
       "      <td>breakout</td>\n",
       "      <td>mnih2013</td>\n",
       "      <td>[0.0, 0.0, 2.0, 0.0, 2.0, 6.0, 1.0, 1.0, 1.0, ...</td>\n",
       "      <td>[0.017719639465212822, 0.016713574528694153, 0...</td>\n",
       "      <td>mnih2013/breakout/started_at_2023-09-25_13-30-...</td>\n",
       "    </tr>\n",
       "    <tr>\n",
       "      <th>6</th>\n",
       "      <td>enduro</td>\n",
       "      <td>mnih2013</td>\n",
       "      <td>[0.0, 0.0, 0.0, 0.0, 0.0, 0.0, 0.0, 0.0, 0.0, ...</td>\n",
       "      <td>[0.042389389127492905, 0.031015925109386444, 0...</td>\n",
       "      <td>mnih2013/enduro/started_at_2023-09-25_13-26-14...</td>\n",
       "    </tr>\n",
       "    <tr>\n",
       "      <th>7</th>\n",
       "      <td>breakout</td>\n",
       "      <td>mnih2013</td>\n",
       "      <td>[1.0, 1.0, 0.0, 1.0, 5.0, 0.0, 1.0, 1.0, 0.0, ...</td>\n",
       "      <td>[0.043728306889534, 0.03957980498671532, 0.035...</td>\n",
       "      <td>mnih2013/breakout/started_at_2023-09-26_04-54-...</td>\n",
       "    </tr>\n",
       "    <tr>\n",
       "      <th>8</th>\n",
       "      <td>breakout</td>\n",
       "      <td>mnih2013</td>\n",
       "      <td>[0.0, 2.0, 0.0, 0.0, 3.0, 0.0, 2.0, 0.0, 3.0, ...</td>\n",
       "      <td>[0.04034668952226639, 0.004771257750689983, 0....</td>\n",
       "      <td>mnih2013/breakout/started_at_2023-09-26_04-49-...</td>\n",
       "    </tr>\n",
       "    <tr>\n",
       "      <th>24</th>\n",
       "      <td>enduro</td>\n",
       "      <td>mnih2013</td>\n",
       "      <td>[0.0, 0.0, 0.0, 0.0, 0.0, 0.0, 0.0, 0.0, 0.0, ...</td>\n",
       "      <td>[0.05833699181675911, 0.04303630813956261, 0.0...</td>\n",
       "      <td>mnih2013/enduro/started_at_2023-09-27_20-28-55...</td>\n",
       "    </tr>\n",
       "    <tr>\n",
       "      <th>25</th>\n",
       "      <td>seaquest</td>\n",
       "      <td>mnih2013</td>\n",
       "      <td>[120.0, 40.0, 120.0, 220.0, 80.0, 40.0, 180.0,...</td>\n",
       "      <td>[0.012835360132157803, 0.012768534012138844, 1...</td>\n",
       "      <td>mnih2013/seaquest/started_at_2023-09-27_23-56-...</td>\n",
       "    </tr>\n",
       "  </tbody>\n",
       "</table>\n",
       "</div>"
      ],
      "text/plain": [
       "        game training_model  \\\n",
       "0   seaquest       mnih2013   \n",
       "3     enduro       mnih2013   \n",
       "4   seaquest       mnih2013   \n",
       "5   breakout       mnih2013   \n",
       "6     enduro       mnih2013   \n",
       "7   breakout       mnih2013   \n",
       "8   breakout       mnih2013   \n",
       "24    enduro       mnih2013   \n",
       "25  seaquest       mnih2013   \n",
       "\n",
       "                                       reward_history  \\\n",
       "0   [100.0, 0.0, 100.0, 100.0, 0.0, 120.0, 40.0, 2...   \n",
       "3   [0.0, 0.0, 0.0, 0.0, 0.0, 0.0, 0.0, 0.0, 0.0, ...   \n",
       "4   [0.0, 40.0, 20.0, 20.0, 20.0, 120.0, 160.0, 20...   \n",
       "5   [0.0, 0.0, 2.0, 0.0, 2.0, 6.0, 1.0, 1.0, 1.0, ...   \n",
       "6   [0.0, 0.0, 0.0, 0.0, 0.0, 0.0, 0.0, 0.0, 0.0, ...   \n",
       "7   [1.0, 1.0, 0.0, 1.0, 5.0, 0.0, 1.0, 1.0, 0.0, ...   \n",
       "8   [0.0, 2.0, 0.0, 0.0, 3.0, 0.0, 2.0, 0.0, 3.0, ...   \n",
       "24  [0.0, 0.0, 0.0, 0.0, 0.0, 0.0, 0.0, 0.0, 0.0, ...   \n",
       "25  [120.0, 40.0, 120.0, 220.0, 80.0, 40.0, 180.0,...   \n",
       "\n",
       "                                         loss_history  \\\n",
       "0   [0.012014569714665413, 12.65832805633545, 0.01...   \n",
       "3   [0.021065175533294678, 0.022660288959741592, 0...   \n",
       "4   [0.02780219167470932, 0.027884984388947487, 0....   \n",
       "5   [0.017719639465212822, 0.016713574528694153, 0...   \n",
       "6   [0.042389389127492905, 0.031015925109386444, 0...   \n",
       "7   [0.043728306889534, 0.03957980498671532, 0.035...   \n",
       "8   [0.04034668952226639, 0.004771257750689983, 0....   \n",
       "24  [0.05833699181675911, 0.04303630813956261, 0.0...   \n",
       "25  [0.012835360132157803, 0.012768534012138844, 1...   \n",
       "\n",
       "                                           model_path  \n",
       "0   mnih2013/seaquest/started_at_2023-09-25_12-09-...  \n",
       "3   mnih2013/enduro/started_at_2023-09-25_12-49-42...  \n",
       "4   mnih2013/seaquest/started_at_2023-09-25_12-41-...  \n",
       "5   mnih2013/breakout/started_at_2023-09-25_13-30-...  \n",
       "6   mnih2013/enduro/started_at_2023-09-25_13-26-14...  \n",
       "7   mnih2013/breakout/started_at_2023-09-26_04-54-...  \n",
       "8   mnih2013/breakout/started_at_2023-09-26_04-49-...  \n",
       "24  mnih2013/enduro/started_at_2023-09-27_20-28-55...  \n",
       "25  mnih2013/seaquest/started_at_2023-09-27_23-56-...  "
      ]
     },
     "execution_count": 4,
     "metadata": {},
     "output_type": "execute_result"
    }
   ],
   "source": [
    "results_df[results_df[\"training_model\"] == \"mnih2013\"]"
   ]
  },
  {
   "cell_type": "code",
   "execution_count": 5,
   "metadata": {},
   "outputs": [
    {
     "name": "stdout",
     "output_type": "stream",
     "text": [
      "['seaquest'] ['mnih2013', 'interpretable_cnn', 'mnih2015', 'with_huber_loss_and_adam']\n"
     ]
    }
   ],
   "source": [
    "list_of_games = list(results_df[\"game\"].unique())\n",
    "list_of_games = list_of_games[:1]\n",
    "list_of_algorithms = list(results_df[\"training_model\"].unique())\n",
    "\n",
    "print(list_of_games, list_of_algorithms)"
   ]
  },
  {
   "cell_type": "code",
   "execution_count": 6,
   "metadata": {},
   "outputs": [],
   "source": [
    "evaluation_data_df = pd.DataFrame(columns=[\"game\", \"model\", \"model_id\", \"episode_rewards\", \"mean\", \"standard_deviation\"])"
   ]
  },
  {
   "cell_type": "code",
   "execution_count": 7,
   "metadata": {},
   "outputs": [
    {
     "name": "stderr",
     "output_type": "stream",
     "text": [
      "C:\\Users\\timwi\\anaconda3\\envs\\DeepReinforcementLearning\\lib\\site-packages\\keras\\layers\\core\\lambda_layer.py:327: UserWarning: ModelFactory is not loaded, but a Lambda layer uses it. It may cause errors.\n",
      "  function = cls._parse_function_from_config(\n"
     ]
    }
   ],
   "source": [
    "list_of_models = list(results_df[\"model_path\"].unique())\n",
    "models_dict = {\n",
    "    model_path: tf.keras.models.load_model(MODELS + model_path, compile=False)\n",
    "    for model_path in list_of_models\n",
    "}"
   ]
  },
  {
   "cell_type": "markdown",
   "metadata": {},
   "source": [
    "## Methods to Run Evaluations"
   ]
  },
  {
   "cell_type": "code",
   "execution_count": 8,
   "metadata": {},
   "outputs": [],
   "source": [
    "@tf.function(autograph=False)\n",
    "def get_action_from_model(model, state):\n",
    "    q_values = model(state)\n",
    "    return tf.argmax(q_values, axis=1)"
   ]
  },
  {
   "cell_type": "code",
   "execution_count": 9,
   "metadata": {},
   "outputs": [],
   "source": [
    "@tf.function(autograph=False)\n",
    "def get_action(model, state):\n",
    "    state = tf.cast(tf.convert_to_tensor(state, dtype=tf.uint8), dtype=tf.float32) / 255.0\n",
    "    state = tf.expand_dims(state, axis=0)\n",
    "    q_values = model(state)\n",
    "    return tf.argmax(q_values, axis=1)[0]"
   ]
  },
  {
   "cell_type": "code",
   "execution_count": 10,
   "metadata": {},
   "outputs": [],
   "source": [
    "def evaluate_model(game: str, model: tf.keras.Model, num_repetitions: int = 10):\n",
    "    env = TrainingScript.create_env(game)\n",
    "    # env = gym.wrappers.RecordVideo(env, video_folder='./video/', episode_trigger=lambda episode_id: episode_id % num_repetitions == 0)\n",
    "    rewards = []\n",
    "    for i in (tbar := tqdm(range(num_repetitions), leave=False)):\n",
    "        state, _ = env.reset()\n",
    "        done = False\n",
    "        episode_reward = 0\n",
    "        step = 0\n",
    "        while not done:\n",
    "            if random.random() < 0.05:\n",
    "                # To help the agent when it gets \"stuck\"\n",
    "                # Happens mainly in Breakout caused by a bug in the game\n",
    "                action = env.action_space.sample()\n",
    "            else:\n",
    "                step += 1\n",
    "                # state = tf.convert_to_tensor(state, dtype=tf.float32) / 255.0\n",
    "                # state = tf.expand_dims(state, axis=0)\n",
    "                # action = get_action_from_model(model, state)\n",
    "                # action = action.numpy()[0]\n",
    "                action = get_action(model, state)\n",
    "\n",
    "            state, reward, terminated, truncated, _ = env.step(action)\n",
    "            done = terminated or truncated\n",
    "            episode_reward += reward\n",
    "\n",
    "            tbar.set_description(f\"Episode {i}  -  Step: {step}, Reward: {episode_reward}\")\n",
    "\n",
    "        rewards.append(episode_reward)\n",
    "    return rewards"
   ]
  },
  {
   "cell_type": "code",
   "execution_count": 11,
   "metadata": {},
   "outputs": [],
   "source": [
    "def load_model(path: str):\n",
    "    model = tf.keras.models.load_model(MODELS + path, compile=False)\n",
    "    model.compile()\n",
    "    return model"
   ]
  },
  {
   "cell_type": "code",
   "execution_count": 12,
   "metadata": {},
   "outputs": [],
   "source": [
    "def load_models(path_list: list[Path]) -> list:\n",
    "    return [load_model(path) for path in path_list]"
   ]
  },
  {
   "cell_type": "code",
   "execution_count": 13,
   "metadata": {},
   "outputs": [],
   "source": [
    "def random_play(game: str, num_repetitions: int = 5):\n",
    "    env = TrainingScript.create_env(game)\n",
    "    rewards = []\n",
    "\n",
    "    for _ in tqdm(range(num_repetitions), unit=\"episode\", desc=\"Random play \" + game.capitalize(), leave=False):\n",
    "        state, _ = env.reset()\n",
    "        done = False\n",
    "        episode_reward = 0\n",
    "        step = 0\n",
    "        while not done:\n",
    "            step += 1\n",
    "\n",
    "            state, reward, terminated, truncated, _ = env.step(env.action_space.sample())\n",
    "            done = terminated or truncated\n",
    "            episode_reward += reward\n",
    "\n",
    "        rewards.append(episode_reward)\n",
    "\n",
    "    return rewards"
   ]
  },
  {
   "cell_type": "markdown",
   "metadata": {},
   "source": [
    "## Random Baseline for Each Game"
   ]
  },
  {
   "cell_type": "code",
   "execution_count": 15,
   "metadata": {},
   "outputs": [
    {
     "data": {
      "application/vnd.jupyter.widget-view+json": {
       "model_id": "8ddab76cf014494f9947e2b946a2ee88",
       "version_major": 2,
       "version_minor": 0
      },
      "text/plain": [
       "Calculate random baseline:   0%|          | 0/3 [00:00<?, ?game/s]"
      ]
     },
     "metadata": {},
     "output_type": "display_data"
    },
    {
     "data": {
      "application/vnd.jupyter.widget-view+json": {
       "model_id": "b980eb05c0f9436a98300575908a1710",
       "version_major": 2,
       "version_minor": 0
      },
      "text/plain": [
       "Random play Seaquest:   0%|          | 0/2 [00:00<?, ?episode/s]"
      ]
     },
     "metadata": {},
     "output_type": "display_data"
    },
    {
     "data": {
      "application/vnd.jupyter.widget-view+json": {
       "model_id": "6cf17286173f4735b247917f89420f1c",
       "version_major": 2,
       "version_minor": 0
      },
      "text/plain": [
       "Random play Enduro:   0%|          | 0/2 [00:00<?, ?episode/s]"
      ]
     },
     "metadata": {},
     "output_type": "display_data"
    },
    {
     "data": {
      "application/vnd.jupyter.widget-view+json": {
       "model_id": "26d025c60289483abe98739f6fa24c63",
       "version_major": 2,
       "version_minor": 0
      },
      "text/plain": [
       "Random play Breakout:   0%|          | 0/2 [00:00<?, ?episode/s]"
      ]
     },
     "metadata": {},
     "output_type": "display_data"
    }
   ],
   "source": [
    "random_baseline = []\n",
    "for game_name in tqdm(results_df[\"game\"].unique(), unit=\"game\", desc=\"Calculate random baseline\"):\n",
    "    rewards = random_play(game_name, num_repetitions=NUM_REPETITIONS_FOR_RANDOM_BASELINE)\n",
    "    random_baseline.append(\n",
    "        {\n",
    "            \"game\": game_name,\n",
    "            \"model\": \"random play\",\n",
    "            \"model_id\": 0,\n",
    "            \"episode_rewards\": rewards,\n",
    "            \"mean\": np.mean(rewards),\n",
    "            \"standard_deviation\": np.std(rewards)\n",
    "        }\n",
    "    )"
   ]
  },
  {
   "cell_type": "code",
   "execution_count": 16,
   "metadata": {},
   "outputs": [
    {
     "data": {
      "text/html": [
       "<div>\n",
       "<style scoped>\n",
       "    .dataframe tbody tr th:only-of-type {\n",
       "        vertical-align: middle;\n",
       "    }\n",
       "\n",
       "    .dataframe tbody tr th {\n",
       "        vertical-align: top;\n",
       "    }\n",
       "\n",
       "    .dataframe thead th {\n",
       "        text-align: right;\n",
       "    }\n",
       "</style>\n",
       "<table border=\"1\" class=\"dataframe\">\n",
       "  <thead>\n",
       "    <tr style=\"text-align: right;\">\n",
       "      <th></th>\n",
       "      <th>game</th>\n",
       "      <th>model</th>\n",
       "      <th>model_id</th>\n",
       "      <th>episode_rewards</th>\n",
       "      <th>mean</th>\n",
       "      <th>standard_deviation</th>\n",
       "    </tr>\n",
       "  </thead>\n",
       "  <tbody>\n",
       "    <tr>\n",
       "      <th>0</th>\n",
       "      <td>seaquest</td>\n",
       "      <td>random play</td>\n",
       "      <td>0</td>\n",
       "      <td>[100.0, 20.0]</td>\n",
       "      <td>60.0</td>\n",
       "      <td>40.0</td>\n",
       "    </tr>\n",
       "    <tr>\n",
       "      <th>1</th>\n",
       "      <td>enduro</td>\n",
       "      <td>random play</td>\n",
       "      <td>0</td>\n",
       "      <td>[0.0, 0.0]</td>\n",
       "      <td>0.0</td>\n",
       "      <td>0.0</td>\n",
       "    </tr>\n",
       "    <tr>\n",
       "      <th>2</th>\n",
       "      <td>breakout</td>\n",
       "      <td>random play</td>\n",
       "      <td>0</td>\n",
       "      <td>[0.0, 0.0]</td>\n",
       "      <td>0.0</td>\n",
       "      <td>0.0</td>\n",
       "    </tr>\n",
       "  </tbody>\n",
       "</table>\n",
       "</div>"
      ],
      "text/plain": [
       "       game        model  model_id episode_rewards  mean  standard_deviation\n",
       "0  seaquest  random play         0   [100.0, 20.0]  60.0                40.0\n",
       "1    enduro  random play         0      [0.0, 0.0]   0.0                 0.0\n",
       "2  breakout  random play         0      [0.0, 0.0]   0.0                 0.0"
      ]
     },
     "execution_count": 16,
     "metadata": {},
     "output_type": "execute_result"
    }
   ],
   "source": [
    "random_baseline_df = pd.DataFrame.from_records(random_baseline)\n",
    "random_baseline_df"
   ]
  },
  {
   "cell_type": "markdown",
   "metadata": {},
   "source": [
    "## Evaluate each Model on each Game"
   ]
  },
  {
   "cell_type": "code",
   "execution_count": 17,
   "metadata": {},
   "outputs": [
    {
     "data": {
      "application/vnd.jupyter.widget-view+json": {
       "model_id": "cff1fd878754430bb9bc4168fa280eb5",
       "version_major": 2,
       "version_minor": 0
      },
      "text/plain": [
       "  0%|          | 0/4 [00:00<?, ?it/s]"
      ]
     },
     "metadata": {},
     "output_type": "display_data"
    },
    {
     "data": {
      "application/vnd.jupyter.widget-view+json": {
       "model_id": "9213ba64e51143cba06ad3c86cbe854e",
       "version_major": 2,
       "version_minor": 0
      },
      "text/plain": [
       "  0%|          | 0/2 [00:00<?, ?it/s]"
      ]
     },
     "metadata": {},
     "output_type": "display_data"
    },
    {
     "data": {
      "application/vnd.jupyter.widget-view+json": {
       "model_id": "0e3fddd5fd0f45f69420e83fbf7bafae",
       "version_major": 2,
       "version_minor": 0
      },
      "text/plain": [
       "  0%|          | 0/2 [00:00<?, ?it/s]"
      ]
     },
     "metadata": {},
     "output_type": "display_data"
    },
    {
     "data": {
      "application/vnd.jupyter.widget-view+json": {
       "model_id": "cb693afb1a894125b50c4d9ad5078d55",
       "version_major": 2,
       "version_minor": 0
      },
      "text/plain": [
       "  0%|          | 0/2 [00:00<?, ?it/s]"
      ]
     },
     "metadata": {},
     "output_type": "display_data"
    },
    {
     "data": {
      "application/vnd.jupyter.widget-view+json": {
       "model_id": "2431c5dd154341bfa922f5d6f74aae10",
       "version_major": 2,
       "version_minor": 0
      },
      "text/plain": [
       "  0%|          | 0/2 [00:00<?, ?it/s]"
      ]
     },
     "metadata": {},
     "output_type": "display_data"
    },
    {
     "data": {
      "application/vnd.jupyter.widget-view+json": {
       "model_id": "d0346cfd2c094f50800515a4c269e8db",
       "version_major": 2,
       "version_minor": 0
      },
      "text/plain": [
       "  0%|          | 0/2 [00:00<?, ?it/s]"
      ]
     },
     "metadata": {},
     "output_type": "display_data"
    },
    {
     "data": {
      "application/vnd.jupyter.widget-view+json": {
       "model_id": "0c03194063414465bd7e5d7b01df4fb0",
       "version_major": 2,
       "version_minor": 0
      },
      "text/plain": [
       "  0%|          | 0/2 [00:00<?, ?it/s]"
      ]
     },
     "metadata": {},
     "output_type": "display_data"
    },
    {
     "data": {
      "application/vnd.jupyter.widget-view+json": {
       "model_id": "11bb209b15ff45a8908aa821375ff1d0",
       "version_major": 2,
       "version_minor": 0
      },
      "text/plain": [
       "  0%|          | 0/2 [00:00<?, ?it/s]"
      ]
     },
     "metadata": {},
     "output_type": "display_data"
    },
    {
     "data": {
      "application/vnd.jupyter.widget-view+json": {
       "model_id": "7a0ed14895044ace8dbd40916755c58d",
       "version_major": 2,
       "version_minor": 0
      },
      "text/plain": [
       "  0%|          | 0/2 [00:00<?, ?it/s]"
      ]
     },
     "metadata": {},
     "output_type": "display_data"
    },
    {
     "data": {
      "application/vnd.jupyter.widget-view+json": {
       "model_id": "4d085e84884a4ddca205e2e24edb5d6b",
       "version_major": 2,
       "version_minor": 0
      },
      "text/plain": [
       "  0%|          | 0/2 [00:00<?, ?it/s]"
      ]
     },
     "metadata": {},
     "output_type": "display_data"
    },
    {
     "data": {
      "application/vnd.jupyter.widget-view+json": {
       "model_id": "cd884cc6fc0e4b8da6d279e5924b82f7",
       "version_major": 2,
       "version_minor": 0
      },
      "text/plain": [
       "  0%|          | 0/2 [00:00<?, ?it/s]"
      ]
     },
     "metadata": {},
     "output_type": "display_data"
    }
   ],
   "source": [
    "evaluation_results = []\n",
    "for game_name, model_name in (t := tqdm(list(itertools.product(list_of_games, list_of_algorithms)))):\n",
    "    t.set_description(f\"Evaluation models for {game_name.capitalize()} using {model_name.capitalize()}\")\n",
    "    fitting_models = list(\n",
    "        results_df[(results_df[\"game\"] == game_name) & (results_df[\"training_model\"] == model_name)][\"model_path\"]\n",
    "    )\n",
    "\n",
    "    for idx, m_path in enumerate(fitting_models):\n",
    "        model = models_dict[m_path]\n",
    "        rewards = evaluate_model(game_name, model, num_repetitions=NUM_REPETITIONS)\n",
    "\n",
    "        evaluation_results.append({\n",
    "            \"game\": game_name,\n",
    "            \"model\": model_name,\n",
    "            \"model_id\": idx,\n",
    "            \"episode_rewards\": rewards,\n",
    "            \"mean\": np.mean(rewards),\n",
    "            \"standard_deviation\": np.std(rewards),\n",
    "            \"model_path\": m_path\n",
    "        })"
   ]
  },
  {
   "cell_type": "code",
   "execution_count": 18,
   "metadata": {},
   "outputs": [
    {
     "data": {
      "text/html": [
       "<div>\n",
       "<style scoped>\n",
       "    .dataframe tbody tr th:only-of-type {\n",
       "        vertical-align: middle;\n",
       "    }\n",
       "\n",
       "    .dataframe tbody tr th {\n",
       "        vertical-align: top;\n",
       "    }\n",
       "\n",
       "    .dataframe thead th {\n",
       "        text-align: right;\n",
       "    }\n",
       "</style>\n",
       "<table border=\"1\" class=\"dataframe\">\n",
       "  <thead>\n",
       "    <tr style=\"text-align: right;\">\n",
       "      <th></th>\n",
       "      <th>game</th>\n",
       "      <th>model</th>\n",
       "      <th>model_id</th>\n",
       "      <th>episode_rewards</th>\n",
       "      <th>mean</th>\n",
       "      <th>standard_deviation</th>\n",
       "      <th>model_path</th>\n",
       "    </tr>\n",
       "  </thead>\n",
       "  <tbody>\n",
       "    <tr>\n",
       "      <th>0</th>\n",
       "      <td>seaquest</td>\n",
       "      <td>mnih2013</td>\n",
       "      <td>0</td>\n",
       "      <td>[40.0, 40.0]</td>\n",
       "      <td>40.0</td>\n",
       "      <td>0.0</td>\n",
       "      <td>mnih2013/seaquest/started_at_2023-09-25_12-09-...</td>\n",
       "    </tr>\n",
       "    <tr>\n",
       "      <th>1</th>\n",
       "      <td>seaquest</td>\n",
       "      <td>mnih2013</td>\n",
       "      <td>1</td>\n",
       "      <td>[0.0, 40.0]</td>\n",
       "      <td>20.0</td>\n",
       "      <td>20.0</td>\n",
       "      <td>mnih2013/seaquest/started_at_2023-09-25_12-41-...</td>\n",
       "    </tr>\n",
       "    <tr>\n",
       "      <th>2</th>\n",
       "      <td>seaquest</td>\n",
       "      <td>mnih2013</td>\n",
       "      <td>2</td>\n",
       "      <td>[40.0, 60.0]</td>\n",
       "      <td>50.0</td>\n",
       "      <td>10.0</td>\n",
       "      <td>mnih2013/seaquest/started_at_2023-09-27_23-56-...</td>\n",
       "    </tr>\n",
       "    <tr>\n",
       "      <th>3</th>\n",
       "      <td>seaquest</td>\n",
       "      <td>interpretable_cnn</td>\n",
       "      <td>0</td>\n",
       "      <td>[100.0, 20.0]</td>\n",
       "      <td>60.0</td>\n",
       "      <td>40.0</td>\n",
       "      <td>interpretable_cnn/seaquest/started_at_2023-09-...</td>\n",
       "    </tr>\n",
       "    <tr>\n",
       "      <th>4</th>\n",
       "      <td>seaquest</td>\n",
       "      <td>mnih2015</td>\n",
       "      <td>0</td>\n",
       "      <td>[120.0, 140.0]</td>\n",
       "      <td>130.0</td>\n",
       "      <td>10.0</td>\n",
       "      <td>mnih2015/seaquest/started_at_2023-09-26_05-09-...</td>\n",
       "    </tr>\n",
       "  </tbody>\n",
       "</table>\n",
       "</div>"
      ],
      "text/plain": [
       "       game              model  model_id episode_rewards   mean  \\\n",
       "0  seaquest           mnih2013         0    [40.0, 40.0]   40.0   \n",
       "1  seaquest           mnih2013         1     [0.0, 40.0]   20.0   \n",
       "2  seaquest           mnih2013         2    [40.0, 60.0]   50.0   \n",
       "3  seaquest  interpretable_cnn         0   [100.0, 20.0]   60.0   \n",
       "4  seaquest           mnih2015         0  [120.0, 140.0]  130.0   \n",
       "\n",
       "   standard_deviation                                         model_path  \n",
       "0                 0.0  mnih2013/seaquest/started_at_2023-09-25_12-09-...  \n",
       "1                20.0  mnih2013/seaquest/started_at_2023-09-25_12-41-...  \n",
       "2                10.0  mnih2013/seaquest/started_at_2023-09-27_23-56-...  \n",
       "3                40.0  interpretable_cnn/seaquest/started_at_2023-09-...  \n",
       "4                10.0  mnih2015/seaquest/started_at_2023-09-26_05-09-...  "
      ]
     },
     "execution_count": 18,
     "metadata": {},
     "output_type": "execute_result"
    }
   ],
   "source": [
    "evaluation_single_models_df = pd.DataFrame.from_records(evaluation_results)\n",
    "evaluation_single_models_df.head()"
   ]
  },
  {
   "cell_type": "markdown",
   "metadata": {},
   "source": [
    "## Evaluate as Ensembles"
   ]
  },
  {
   "cell_type": "code",
   "execution_count": 19,
   "metadata": {},
   "outputs": [],
   "source": [
    "models_used = set(list_of_algorithms) - {\"random play\", \"interpretable_cnn\"}"
   ]
  },
  {
   "cell_type": "code",
   "execution_count": 20,
   "metadata": {},
   "outputs": [],
   "source": [
    "def evaluate_ensemble(game: str, model: Ensemble, num_repetitions: int = 10):\n",
    "    env = TrainingScript.create_env(game)\n",
    "    rewards = []\n",
    "    for i in (tbar := tqdm(range(num_repetitions), leave=False)):\n",
    "        state, _ = env.reset()\n",
    "        done = False\n",
    "        episode_reward = 0\n",
    "        step = 0\n",
    "        while not done:\n",
    "            if random.random() < 0.05:\n",
    "                # To help the agent when it gets \"stuck\"\n",
    "                # Happens mainly in Breakout caused by a bug in the game\n",
    "                action = env.action_space.sample()\n",
    "            else:\n",
    "                step += 1\n",
    "                if model.ensemble_method == EnsembleMethods.MAJORITY_VOTE:\n",
    "                    state = tf.convert_to_tensor(state, dtype=tf.float32) / 255.0\n",
    "                    state = tf.expand_dims(state, axis=0)\n",
    "                    q_values = model(state)\n",
    "                    action = tf.argmax(q_values, axis=1)\n",
    "                    # action = get_action_from_model(model, state)\n",
    "                    action = action.numpy()[0]\n",
    "\n",
    "                else:\n",
    "                    action = get_action(model, state)\n",
    "\n",
    "            state, reward, terminated, truncated, _ = env.step(action)\n",
    "            done = terminated or truncated\n",
    "            episode_reward += reward\n",
    "\n",
    "            tbar.set_description(f\"Episode {i}  -  Step: {step}, Reward: {episode_reward}\")\n",
    "\n",
    "        rewards.append(episode_reward)\n",
    "    return rewards"
   ]
  },
  {
   "cell_type": "markdown",
   "metadata": {},
   "source": [
    "### Uniform Ensembles consisting of the best $n$ models of a flavor:"
   ]
  },
  {
   "cell_type": "code",
   "execution_count": 21,
   "metadata": {},
   "outputs": [],
   "source": [
    "evaluation_results_uniform_ensembles = []"
   ]
  },
  {
   "cell_type": "code",
   "execution_count": 22,
   "metadata": {},
   "outputs": [
    {
     "data": {
      "application/vnd.jupyter.widget-view+json": {
       "model_id": "d0834efbfeac47d1a60071ce2637ac43",
       "version_major": 2,
       "version_minor": 0
      },
      "text/plain": [
       "Build and Ensemble Models:   0%|          | 0/3 [00:00<?, ?it/s]"
      ]
     },
     "metadata": {},
     "output_type": "display_data"
    },
    {
     "name": "stdout",
     "output_type": "stream",
     "text": [
      "Build and Ensemble Models (Mnih2013 for seaquest with average)\n"
     ]
    },
    {
     "data": {
      "application/vnd.jupyter.widget-view+json": {
       "model_id": "a61bf1e2b5c34e9ea6adcae10b86ec1f",
       "version_major": 2,
       "version_minor": 0
      },
      "text/plain": [
       "  0%|          | 0/2 [00:00<?, ?it/s]"
      ]
     },
     "metadata": {},
     "output_type": "display_data"
    },
    {
     "name": "stdout",
     "output_type": "stream",
     "text": [
      "Build and Ensemble Models (Mnih2013 for seaquest with logistic_average)\n"
     ]
    },
    {
     "data": {
      "application/vnd.jupyter.widget-view+json": {
       "model_id": "4fd920b85d914a61bae665d1c2f3a894",
       "version_major": 2,
       "version_minor": 0
      },
      "text/plain": [
       "  0%|          | 0/2 [00:00<?, ?it/s]"
      ]
     },
     "metadata": {},
     "output_type": "display_data"
    },
    {
     "name": "stdout",
     "output_type": "stream",
     "text": [
      "Build and Ensemble Models (Mnih2013 for seaquest with majority_vote)\n"
     ]
    },
    {
     "data": {
      "application/vnd.jupyter.widget-view+json": {
       "model_id": "baa44a0daae947b4870a5c1aa653411f",
       "version_major": 2,
       "version_minor": 0
      },
      "text/plain": [
       "  0%|          | 0/2 [00:00<?, ?it/s]"
      ]
     },
     "metadata": {},
     "output_type": "display_data"
    },
    {
     "name": "stdout",
     "output_type": "stream",
     "text": [
      "Build and Ensemble Models (Mnih2015 for seaquest with average)\n"
     ]
    },
    {
     "data": {
      "application/vnd.jupyter.widget-view+json": {
       "model_id": "cd9a92fe4bfd40aa8b2ccb3f80602cbf",
       "version_major": 2,
       "version_minor": 0
      },
      "text/plain": [
       "  0%|          | 0/2 [00:00<?, ?it/s]"
      ]
     },
     "metadata": {},
     "output_type": "display_data"
    },
    {
     "name": "stdout",
     "output_type": "stream",
     "text": [
      "Build and Ensemble Models (Mnih2015 for seaquest with logistic_average)\n"
     ]
    },
    {
     "data": {
      "application/vnd.jupyter.widget-view+json": {
       "model_id": "f2123682c7284954b2b102b1b2692e93",
       "version_major": 2,
       "version_minor": 0
      },
      "text/plain": [
       "  0%|          | 0/2 [00:00<?, ?it/s]"
      ]
     },
     "metadata": {},
     "output_type": "display_data"
    },
    {
     "name": "stdout",
     "output_type": "stream",
     "text": [
      "Build and Ensemble Models (Mnih2015 for seaquest with majority_vote)\n"
     ]
    },
    {
     "data": {
      "application/vnd.jupyter.widget-view+json": {
       "model_id": "1b78b42eca6847299a00a28d1e2196a1",
       "version_major": 2,
       "version_minor": 0
      },
      "text/plain": [
       "  0%|          | 0/2 [00:00<?, ?it/s]"
      ]
     },
     "metadata": {},
     "output_type": "display_data"
    },
    {
     "name": "stdout",
     "output_type": "stream",
     "text": [
      "Build and Ensemble Models (With_huber_loss_and_adam for seaquest with average)\n"
     ]
    },
    {
     "data": {
      "application/vnd.jupyter.widget-view+json": {
       "model_id": "6bb78b55b35b48fe890ed791617a08f9",
       "version_major": 2,
       "version_minor": 0
      },
      "text/plain": [
       "  0%|          | 0/2 [00:00<?, ?it/s]"
      ]
     },
     "metadata": {},
     "output_type": "display_data"
    },
    {
     "name": "stdout",
     "output_type": "stream",
     "text": [
      "Build and Ensemble Models (With_huber_loss_and_adam for seaquest with logistic_average)\n"
     ]
    },
    {
     "data": {
      "application/vnd.jupyter.widget-view+json": {
       "model_id": "8eb2d2d5d1454be5b486a5569b8b255c",
       "version_major": 2,
       "version_minor": 0
      },
      "text/plain": [
       "  0%|          | 0/2 [00:00<?, ?it/s]"
      ]
     },
     "metadata": {},
     "output_type": "display_data"
    },
    {
     "name": "stdout",
     "output_type": "stream",
     "text": [
      "Build and Ensemble Models (With_huber_loss_and_adam for seaquest with majority_vote)\n"
     ]
    },
    {
     "data": {
      "application/vnd.jupyter.widget-view+json": {
       "model_id": "9892e678cd9442ed92f163227aec9490",
       "version_major": 2,
       "version_minor": 0
      },
      "text/plain": [
       "  0%|          | 0/2 [00:00<?, ?it/s]"
      ]
     },
     "metadata": {},
     "output_type": "display_data"
    }
   ],
   "source": [
    "for game_name, model_name in (t := tqdm(list(itertools.product(list_of_games, models_used)),\n",
    "                                        desc=\"Build and Ensemble Models\")):\n",
    "    t.set_description(f\"Build and Ensemble Models ({model_name.capitalize()} for {game_name})\")\n",
    "\n",
    "    # Select Top-N models:\n",
    "    model_selection = evaluation_single_models_df[\n",
    "                          (evaluation_single_models_df[\"model\"] == model_name) & (evaluation_single_models_df[\"game\"] == game_name)\n",
    "                      ].sort_values(by=[\"mean\", \"standard_deviation\"], ascending=[False, True])[:N_FOR_TOP_N_ENSEMBLES]\n",
    "    model_paths = [m_path for m_path in list(model_selection[\"model_path\"])]\n",
    "    models = [models_dict[m_path] for m_path in model_paths]\n",
    "\n",
    "    for idx, ensemble_method in enumerate(ENSEMBLE_METHODS_USED):\n",
    "        ensemble = Ensemble(models, ensemble_method)\n",
    "        t.set_description(\n",
    "            f\"Build and Ensemble Models ({model_name.capitalize()} for {game_name} with {ensemble_method})\")\n",
    "\n",
    "        print(f\"Build and Ensemble Models ({model_name.capitalize()} for {game_name} with {ensemble_method})\")\n",
    "        rewards = evaluate_ensemble(game_name, ensemble, NUM_REPETITIONS)\n",
    "        evaluation_results_uniform_ensembles.append({\n",
    "            \"game\": game_name,\n",
    "            \"model\": f\"Top-{N_FOR_TOP_N_ENSEMBLES} Ensemble ({ensemble_method}) with {model_name}\",\n",
    "            \"model_id\": idx,\n",
    "            \"episode_rewards\": rewards,\n",
    "            \"mean\": np.mean(rewards),\n",
    "            \"standard_deviation\": np.std(rewards),\n",
    "            \"model_path\": model_paths\n",
    "        })"
   ]
  },
  {
   "cell_type": "code",
   "execution_count": 23,
   "metadata": {},
   "outputs": [
    {
     "data": {
      "text/html": [
       "<div>\n",
       "<style scoped>\n",
       "    .dataframe tbody tr th:only-of-type {\n",
       "        vertical-align: middle;\n",
       "    }\n",
       "\n",
       "    .dataframe tbody tr th {\n",
       "        vertical-align: top;\n",
       "    }\n",
       "\n",
       "    .dataframe thead th {\n",
       "        text-align: right;\n",
       "    }\n",
       "</style>\n",
       "<table border=\"1\" class=\"dataframe\">\n",
       "  <thead>\n",
       "    <tr style=\"text-align: right;\">\n",
       "      <th></th>\n",
       "      <th>game</th>\n",
       "      <th>model</th>\n",
       "      <th>model_id</th>\n",
       "      <th>episode_rewards</th>\n",
       "      <th>mean</th>\n",
       "      <th>standard_deviation</th>\n",
       "      <th>model_path</th>\n",
       "    </tr>\n",
       "  </thead>\n",
       "  <tbody>\n",
       "    <tr>\n",
       "      <th>0</th>\n",
       "      <td>seaquest</td>\n",
       "      <td>Top-2 Ensemble (average) with mnih2013</td>\n",
       "      <td>0</td>\n",
       "      <td>[60.0, 120.0]</td>\n",
       "      <td>90.0</td>\n",
       "      <td>30.0</td>\n",
       "      <td>[mnih2013/seaquest/started_at_2023-09-27_23-56...</td>\n",
       "    </tr>\n",
       "    <tr>\n",
       "      <th>1</th>\n",
       "      <td>seaquest</td>\n",
       "      <td>Top-2 Ensemble (logistic_average) with mnih2013</td>\n",
       "      <td>1</td>\n",
       "      <td>[40.0, 40.0]</td>\n",
       "      <td>40.0</td>\n",
       "      <td>0.0</td>\n",
       "      <td>[mnih2013/seaquest/started_at_2023-09-27_23-56...</td>\n",
       "    </tr>\n",
       "    <tr>\n",
       "      <th>2</th>\n",
       "      <td>seaquest</td>\n",
       "      <td>Top-2 Ensemble (majority_vote) with mnih2013</td>\n",
       "      <td>2</td>\n",
       "      <td>[40.0, 40.0]</td>\n",
       "      <td>40.0</td>\n",
       "      <td>0.0</td>\n",
       "      <td>[mnih2013/seaquest/started_at_2023-09-27_23-56...</td>\n",
       "    </tr>\n",
       "    <tr>\n",
       "      <th>3</th>\n",
       "      <td>seaquest</td>\n",
       "      <td>Top-2 Ensemble (average) with mnih2015</td>\n",
       "      <td>0</td>\n",
       "      <td>[220.0, 100.0]</td>\n",
       "      <td>160.0</td>\n",
       "      <td>60.0</td>\n",
       "      <td>[mnih2015/seaquest/started_at_2023-09-26_05-09...</td>\n",
       "    </tr>\n",
       "    <tr>\n",
       "      <th>4</th>\n",
       "      <td>seaquest</td>\n",
       "      <td>Top-2 Ensemble (logistic_average) with mnih2015</td>\n",
       "      <td>1</td>\n",
       "      <td>[140.0, 80.0]</td>\n",
       "      <td>110.0</td>\n",
       "      <td>30.0</td>\n",
       "      <td>[mnih2015/seaquest/started_at_2023-09-26_05-09...</td>\n",
       "    </tr>\n",
       "  </tbody>\n",
       "</table>\n",
       "</div>"
      ],
      "text/plain": [
       "       game                                            model  model_id  \\\n",
       "0  seaquest           Top-2 Ensemble (average) with mnih2013         0   \n",
       "1  seaquest  Top-2 Ensemble (logistic_average) with mnih2013         1   \n",
       "2  seaquest     Top-2 Ensemble (majority_vote) with mnih2013         2   \n",
       "3  seaquest           Top-2 Ensemble (average) with mnih2015         0   \n",
       "4  seaquest  Top-2 Ensemble (logistic_average) with mnih2015         1   \n",
       "\n",
       "  episode_rewards   mean  standard_deviation  \\\n",
       "0   [60.0, 120.0]   90.0                30.0   \n",
       "1    [40.0, 40.0]   40.0                 0.0   \n",
       "2    [40.0, 40.0]   40.0                 0.0   \n",
       "3  [220.0, 100.0]  160.0                60.0   \n",
       "4   [140.0, 80.0]  110.0                30.0   \n",
       "\n",
       "                                          model_path  \n",
       "0  [mnih2013/seaquest/started_at_2023-09-27_23-56...  \n",
       "1  [mnih2013/seaquest/started_at_2023-09-27_23-56...  \n",
       "2  [mnih2013/seaquest/started_at_2023-09-27_23-56...  \n",
       "3  [mnih2015/seaquest/started_at_2023-09-26_05-09...  \n",
       "4  [mnih2015/seaquest/started_at_2023-09-26_05-09...  "
      ]
     },
     "execution_count": 23,
     "metadata": {},
     "output_type": "execute_result"
    }
   ],
   "source": [
    "evaluation_results_uniform_ensembles_df = pd.DataFrame.from_records(evaluation_results_uniform_ensembles)\n",
    "evaluation_results_uniform_ensembles_df.head()"
   ]
  },
  {
   "cell_type": "markdown",
   "metadata": {},
   "source": [
    "### Mixed Ensemble\n",
    "\n",
    "One Ensemble containing the best $n$ models of each model type (e.g. 3 models of Mnih 2013, 3 models of Mnih 2015, and 3 models of Mnih 2015 with Huber loss and Adam)."
   ]
  },
  {
   "cell_type": "code",
   "execution_count": 24,
   "metadata": {},
   "outputs": [],
   "source": [
    "evaluation_results_mixed_ensembles = []"
   ]
  },
  {
   "cell_type": "code",
   "execution_count": 25,
   "metadata": {},
   "outputs": [
    {
     "data": {
      "application/vnd.jupyter.widget-view+json": {
       "model_id": "9e673f0628774df28cd83ca4fe30f5ad",
       "version_major": 2,
       "version_minor": 0
      },
      "text/plain": [
       "  0%|          | 0/1 [00:00<?, ?it/s]"
      ]
     },
     "metadata": {},
     "output_type": "display_data"
    },
    {
     "data": {
      "application/vnd.jupyter.widget-view+json": {
       "model_id": "21c31087549a4dc3a59b69918fd667c4",
       "version_major": 2,
       "version_minor": 0
      },
      "text/plain": [
       "  0%|          | 0/2 [00:00<?, ?it/s]"
      ]
     },
     "metadata": {},
     "output_type": "display_data"
    },
    {
     "data": {
      "application/vnd.jupyter.widget-view+json": {
       "model_id": "e91688a4a2d445b1b7ea30c3bcd2bd9e",
       "version_major": 2,
       "version_minor": 0
      },
      "text/plain": [
       "  0%|          | 0/2 [00:00<?, ?it/s]"
      ]
     },
     "metadata": {},
     "output_type": "display_data"
    },
    {
     "data": {
      "application/vnd.jupyter.widget-view+json": {
       "model_id": "1e3b7b2c49de4366beb75cb72eb63536",
       "version_major": 2,
       "version_minor": 0
      },
      "text/plain": [
       "  0%|          | 0/2 [00:00<?, ?it/s]"
      ]
     },
     "metadata": {},
     "output_type": "display_data"
    }
   ],
   "source": [
    "for game_name in (t := tqdm(list_of_games)):\n",
    "    t.set_description(f\"Evaluate mixed Ensemble for {game_name}\")\n",
    "    # Select Top-N models for each model type:\n",
    "    model_paths = []\n",
    "    for model_name in list_of_algorithms:\n",
    "        model_selection = evaluation_single_models_df[\n",
    "                          (evaluation_single_models_df[\"model\"] == model_name) & (evaluation_single_models_df[\"game\"] == game_name)\n",
    "                        ].sort_values(by=[\"mean\", \"standard_deviation\"], ascending=[False, True])[:N_FOR_TOP_N_ENSEMBLES]\n",
    "\n",
    "        model_paths.extend([m_path for m_path in list(model_selection[\"model_path\"])])\n",
    "\n",
    "    models = [models_dict[m_path] for m_path in model_paths]\n",
    "    for ensemble_method in ENSEMBLE_METHODS_USED:\n",
    "        t.set_description(f\"Evaluate mixed Ensemble ({ensemble_method}) for {game_name}\")\n",
    "        ensemble = Ensemble(models)\n",
    "        rewards = evaluate_ensemble(game_name, ensemble, num_repetitions=NUM_REPETITIONS)\n",
    "        evaluation_results_mixed_ensembles.append({\n",
    "            \"game\": game_name,\n",
    "            \"model\": f\"Top-{N_FOR_TOP_N_ENSEMBLES} Mixed Ensemble ({ensemble_method})\",\n",
    "            \"model_id\": 0,\n",
    "            \"episode_rewards\": rewards,\n",
    "            \"mean\": np.mean(rewards),\n",
    "            \"standard_deviation\": np.std(rewards),\n",
    "            \"model_path\": model_paths\n",
    "        })\n"
   ]
  },
  {
   "cell_type": "code",
   "execution_count": 26,
   "metadata": {},
   "outputs": [
    {
     "data": {
      "text/html": [
       "<div>\n",
       "<style scoped>\n",
       "    .dataframe tbody tr th:only-of-type {\n",
       "        vertical-align: middle;\n",
       "    }\n",
       "\n",
       "    .dataframe tbody tr th {\n",
       "        vertical-align: top;\n",
       "    }\n",
       "\n",
       "    .dataframe thead th {\n",
       "        text-align: right;\n",
       "    }\n",
       "</style>\n",
       "<table border=\"1\" class=\"dataframe\">\n",
       "  <thead>\n",
       "    <tr style=\"text-align: right;\">\n",
       "      <th></th>\n",
       "      <th>game</th>\n",
       "      <th>model</th>\n",
       "      <th>model_id</th>\n",
       "      <th>episode_rewards</th>\n",
       "      <th>mean</th>\n",
       "      <th>standard_deviation</th>\n",
       "      <th>model_path</th>\n",
       "    </tr>\n",
       "  </thead>\n",
       "  <tbody>\n",
       "    <tr>\n",
       "      <th>0</th>\n",
       "      <td>seaquest</td>\n",
       "      <td>Top-2 Mixed Ensemble (average)</td>\n",
       "      <td>0</td>\n",
       "      <td>[40.0, 160.0]</td>\n",
       "      <td>100.0</td>\n",
       "      <td>60.0</td>\n",
       "      <td>[mnih2013/seaquest/started_at_2023-09-27_23-56...</td>\n",
       "    </tr>\n",
       "    <tr>\n",
       "      <th>1</th>\n",
       "      <td>seaquest</td>\n",
       "      <td>Top-2 Mixed Ensemble (logistic_average)</td>\n",
       "      <td>0</td>\n",
       "      <td>[120.0, 120.0]</td>\n",
       "      <td>120.0</td>\n",
       "      <td>0.0</td>\n",
       "      <td>[mnih2013/seaquest/started_at_2023-09-27_23-56...</td>\n",
       "    </tr>\n",
       "    <tr>\n",
       "      <th>2</th>\n",
       "      <td>seaquest</td>\n",
       "      <td>Top-2 Mixed Ensemble (majority_vote)</td>\n",
       "      <td>0</td>\n",
       "      <td>[100.0, 140.0]</td>\n",
       "      <td>120.0</td>\n",
       "      <td>20.0</td>\n",
       "      <td>[mnih2013/seaquest/started_at_2023-09-27_23-56...</td>\n",
       "    </tr>\n",
       "  </tbody>\n",
       "</table>\n",
       "</div>"
      ],
      "text/plain": [
       "       game                                    model  model_id  \\\n",
       "0  seaquest           Top-2 Mixed Ensemble (average)         0   \n",
       "1  seaquest  Top-2 Mixed Ensemble (logistic_average)         0   \n",
       "2  seaquest     Top-2 Mixed Ensemble (majority_vote)         0   \n",
       "\n",
       "  episode_rewards   mean  standard_deviation  \\\n",
       "0   [40.0, 160.0]  100.0                60.0   \n",
       "1  [120.0, 120.0]  120.0                 0.0   \n",
       "2  [100.0, 140.0]  120.0                20.0   \n",
       "\n",
       "                                          model_path  \n",
       "0  [mnih2013/seaquest/started_at_2023-09-27_23-56...  \n",
       "1  [mnih2013/seaquest/started_at_2023-09-27_23-56...  \n",
       "2  [mnih2013/seaquest/started_at_2023-09-27_23-56...  "
      ]
     },
     "execution_count": 26,
     "metadata": {},
     "output_type": "execute_result"
    }
   ],
   "source": [
    "evaluation_results_mixed_ensembles_df = pd.DataFrame.from_records(evaluation_results_mixed_ensembles)\n",
    "evaluation_results_mixed_ensembles_df.head()"
   ]
  },
  {
   "cell_type": "markdown",
   "metadata": {},
   "source": [
    "### Snapshot Ensemble\n",
    "\n",
    "Ensembles consisting of the last $M$ training snapshots of a model. In the original paper, the snapshot get selected on the fly during training by saving models at local minima and increasing the learning rate after a model was selected. This leads to models that are more different from another and achieve higher results. This is not easily applicable for RL, so I use the $M$ newest snapshots instead."
   ]
  },
  {
   "cell_type": "code",
   "execution_count": 27,
   "metadata": {},
   "outputs": [],
   "source": [
    "evaluation_results_snapshot_ensembles = []"
   ]
  },
  {
   "cell_type": "code",
   "execution_count": 51,
   "metadata": {},
   "outputs": [],
   "source": [
    "# def get_snapshots(dir) -> list:\n",
    "#     if os.path.isfile(dir):\n",
    "#         dir = os.path.dirname(dir)\n",
    "#\n",
    "#     print(dir)\n",
    "#     snapshots = dict()\n",
    "#     snapshot_re = re.compile(r\"snapshot_(?P<idx>\\d+)\\.keras\")\n",
    "#\n",
    "#     for file in Path(dir).glob(\"*.keras\"):\n",
    "#         f_name = str(file.name)\n",
    "#         if snapshot_re.match(f_name):\n",
    "#             snapshots[int(snapshot_re.match(f_name)[\"idx\"])] = str(file)\n",
    "#\n",
    "#     snapshots[len(snapshots)] = str(Path(dir) / \"snapshot_final.keras\")\n",
    "#     sorted_snapshots = list(zip(*sorted(list(snapshots.items()), key=lambda a: a[1])))[1]\n",
    "#\n",
    "#     print(sorted_snapshots)\n",
    "#\n",
    "#     return sorted_snapshots\n",
    "\n",
    "def get_snapshots(models_dir) -> list:\n",
    "    models_dir = models_dir[:-len(\"snapshot_final.keras\")]\n",
    "\n",
    "    snapshots = dict()\n",
    "    snapshot_re = re.compile(r\"snapshot_(?P<idx>\\d+)\\.keras\")\n",
    "\n",
    "    for file in Path(MODELS + models_dir).glob(\"*.keras\"):\n",
    "        f_name = str(file.name)\n",
    "        if snapshot_re.match(f_name):\n",
    "            snapshots[int(snapshot_re.match(f_name)[\"idx\"])] = models_dir + f_name\n",
    "\n",
    "    snapshots[len(snapshots)] = models_dir + \"snapshot_final.keras\"\n",
    "    sorted_snapshots = list(zip(*sorted(list(snapshots.items()), key=lambda a: a[1])))[1]\n",
    "\n",
    "\n",
    "    return sorted_snapshots"
   ]
  },
  {
   "cell_type": "code",
   "execution_count": null,
   "metadata": {
    "pycharm": {
     "is_executing": true
    }
   },
   "outputs": [
    {
     "data": {
      "application/vnd.jupyter.widget-view+json": {
       "model_id": "6cd6b5712eff4c1594a8666ada029002",
       "version_major": 2,
       "version_minor": 0
      },
      "text/plain": [
       "Build Snapshot Ensemble:   0%|          | 0/3 [00:00<?, ?it/s]"
      ]
     },
     "metadata": {},
     "output_type": "display_data"
    },
    {
     "name": "stdout",
     "output_type": "stream",
     "text": [
      "mnih2013/seaquest/started_at_2023-09-25_12-09-15/snapshot_final.keras\n",
      "mnih2013/seaquest/started_at_2023-09-25_12-09-15/\n",
      "snapshot_0.keras\n",
      "snapshot_1.keras\n",
      "snapshot_10.keras\n",
      "snapshot_11.keras\n",
      "snapshot_12.keras\n",
      "snapshot_13.keras\n",
      "snapshot_14.keras\n",
      "snapshot_15.keras\n",
      "snapshot_16.keras\n",
      "snapshot_17.keras\n",
      "snapshot_18.keras\n",
      "snapshot_19.keras\n",
      "snapshot_2.keras\n",
      "snapshot_20.keras\n",
      "snapshot_21.keras\n",
      "snapshot_22.keras\n",
      "snapshot_23.keras\n",
      "snapshot_24.keras\n",
      "snapshot_25.keras\n",
      "snapshot_26.keras\n",
      "snapshot_27.keras\n",
      "snapshot_28.keras\n",
      "snapshot_29.keras\n",
      "snapshot_3.keras\n",
      "snapshot_30.keras\n",
      "snapshot_31.keras\n",
      "snapshot_32.keras\n",
      "snapshot_4.keras\n",
      "snapshot_5.keras\n",
      "snapshot_6.keras\n",
      "snapshot_7.keras\n",
      "snapshot_8.keras\n",
      "snapshot_9.keras\n",
      "snapshot_final.keras\n",
      "{0: 'mnih2013/seaquest/started_at_2023-09-25_12-09-15/snapshot_0.keras', 1: 'mnih2013/seaquest/started_at_2023-09-25_12-09-15/snapshot_1.keras', 10: 'mnih2013/seaquest/started_at_2023-09-25_12-09-15/snapshot_10.keras', 11: 'mnih2013/seaquest/started_at_2023-09-25_12-09-15/snapshot_11.keras', 12: 'mnih2013/seaquest/started_at_2023-09-25_12-09-15/snapshot_12.keras', 13: 'mnih2013/seaquest/started_at_2023-09-25_12-09-15/snapshot_13.keras', 14: 'mnih2013/seaquest/started_at_2023-09-25_12-09-15/snapshot_14.keras', 15: 'mnih2013/seaquest/started_at_2023-09-25_12-09-15/snapshot_15.keras', 16: 'mnih2013/seaquest/started_at_2023-09-25_12-09-15/snapshot_16.keras', 17: 'mnih2013/seaquest/started_at_2023-09-25_12-09-15/snapshot_17.keras', 18: 'mnih2013/seaquest/started_at_2023-09-25_12-09-15/snapshot_18.keras', 19: 'mnih2013/seaquest/started_at_2023-09-25_12-09-15/snapshot_19.keras', 2: 'mnih2013/seaquest/started_at_2023-09-25_12-09-15/snapshot_2.keras', 20: 'mnih2013/seaquest/started_at_2023-09-25_12-09-15/snapshot_20.keras', 21: 'mnih2013/seaquest/started_at_2023-09-25_12-09-15/snapshot_21.keras', 22: 'mnih2013/seaquest/started_at_2023-09-25_12-09-15/snapshot_22.keras', 23: 'mnih2013/seaquest/started_at_2023-09-25_12-09-15/snapshot_23.keras', 24: 'mnih2013/seaquest/started_at_2023-09-25_12-09-15/snapshot_24.keras', 25: 'mnih2013/seaquest/started_at_2023-09-25_12-09-15/snapshot_25.keras', 26: 'mnih2013/seaquest/started_at_2023-09-25_12-09-15/snapshot_26.keras', 27: 'mnih2013/seaquest/started_at_2023-09-25_12-09-15/snapshot_27.keras', 28: 'mnih2013/seaquest/started_at_2023-09-25_12-09-15/snapshot_28.keras', 29: 'mnih2013/seaquest/started_at_2023-09-25_12-09-15/snapshot_29.keras', 3: 'mnih2013/seaquest/started_at_2023-09-25_12-09-15/snapshot_3.keras', 30: 'mnih2013/seaquest/started_at_2023-09-25_12-09-15/snapshot_30.keras', 31: 'mnih2013/seaquest/started_at_2023-09-25_12-09-15/snapshot_31.keras', 32: 'mnih2013/seaquest/started_at_2023-09-25_12-09-15/snapshot_32.keras', 4: 'mnih2013/seaquest/started_at_2023-09-25_12-09-15/snapshot_4.keras', 5: 'mnih2013/seaquest/started_at_2023-09-25_12-09-15/snapshot_5.keras', 6: 'mnih2013/seaquest/started_at_2023-09-25_12-09-15/snapshot_6.keras', 7: 'mnih2013/seaquest/started_at_2023-09-25_12-09-15/snapshot_7.keras', 8: 'mnih2013/seaquest/started_at_2023-09-25_12-09-15/snapshot_8.keras', 9: 'mnih2013/seaquest/started_at_2023-09-25_12-09-15/snapshot_9.keras'}\n"
     ]
    },
    {
     "data": {
      "application/vnd.jupyter.widget-view+json": {
       "model_id": "6cea0e2fe2f54687a06e7a37d25e798e",
       "version_major": 2,
       "version_minor": 0
      },
      "text/plain": [
       "  0%|          | 0/2 [00:00<?, ?it/s]"
      ]
     },
     "metadata": {},
     "output_type": "display_data"
    },
    {
     "data": {
      "application/vnd.jupyter.widget-view+json": {
       "model_id": "a04b35e1bfa846c988dad5cbf3109a8d",
       "version_major": 2,
       "version_minor": 0
      },
      "text/plain": [
       "  0%|          | 0/2 [00:00<?, ?it/s]"
      ]
     },
     "metadata": {},
     "output_type": "display_data"
    },
    {
     "data": {
      "application/vnd.jupyter.widget-view+json": {
       "model_id": "eed72b0e06da46d18fae50daee4c29ae",
       "version_major": 2,
       "version_minor": 0
      },
      "text/plain": [
       "  0%|          | 0/2 [00:00<?, ?it/s]"
      ]
     },
     "metadata": {},
     "output_type": "display_data"
    },
    {
     "name": "stdout",
     "output_type": "stream",
     "text": [
      "mnih2013/seaquest/started_at_2023-09-25_12-41-34/snapshot_final.keras\n",
      "mnih2013/seaquest/started_at_2023-09-25_12-41-34/\n",
      "snapshot_0.keras\n",
      "snapshot_1.keras\n",
      "snapshot_10.keras\n",
      "snapshot_11.keras\n",
      "snapshot_12.keras\n",
      "snapshot_13.keras\n",
      "snapshot_14.keras\n",
      "snapshot_15.keras\n",
      "snapshot_16.keras\n",
      "snapshot_17.keras\n",
      "snapshot_18.keras\n",
      "snapshot_19.keras\n",
      "snapshot_2.keras\n",
      "snapshot_20.keras\n",
      "snapshot_21.keras\n",
      "snapshot_22.keras\n",
      "snapshot_23.keras\n",
      "snapshot_24.keras\n",
      "snapshot_25.keras\n",
      "snapshot_26.keras\n",
      "snapshot_27.keras\n",
      "snapshot_28.keras\n",
      "snapshot_29.keras\n",
      "snapshot_3.keras\n",
      "snapshot_30.keras\n",
      "snapshot_31.keras\n",
      "snapshot_32.keras\n",
      "snapshot_4.keras\n",
      "snapshot_5.keras\n",
      "snapshot_6.keras\n",
      "snapshot_7.keras\n",
      "snapshot_8.keras\n",
      "snapshot_9.keras\n",
      "snapshot_final.keras\n",
      "{0: 'mnih2013/seaquest/started_at_2023-09-25_12-41-34/snapshot_0.keras', 1: 'mnih2013/seaquest/started_at_2023-09-25_12-41-34/snapshot_1.keras', 10: 'mnih2013/seaquest/started_at_2023-09-25_12-41-34/snapshot_10.keras', 11: 'mnih2013/seaquest/started_at_2023-09-25_12-41-34/snapshot_11.keras', 12: 'mnih2013/seaquest/started_at_2023-09-25_12-41-34/snapshot_12.keras', 13: 'mnih2013/seaquest/started_at_2023-09-25_12-41-34/snapshot_13.keras', 14: 'mnih2013/seaquest/started_at_2023-09-25_12-41-34/snapshot_14.keras', 15: 'mnih2013/seaquest/started_at_2023-09-25_12-41-34/snapshot_15.keras', 16: 'mnih2013/seaquest/started_at_2023-09-25_12-41-34/snapshot_16.keras', 17: 'mnih2013/seaquest/started_at_2023-09-25_12-41-34/snapshot_17.keras', 18: 'mnih2013/seaquest/started_at_2023-09-25_12-41-34/snapshot_18.keras', 19: 'mnih2013/seaquest/started_at_2023-09-25_12-41-34/snapshot_19.keras', 2: 'mnih2013/seaquest/started_at_2023-09-25_12-41-34/snapshot_2.keras', 20: 'mnih2013/seaquest/started_at_2023-09-25_12-41-34/snapshot_20.keras', 21: 'mnih2013/seaquest/started_at_2023-09-25_12-41-34/snapshot_21.keras', 22: 'mnih2013/seaquest/started_at_2023-09-25_12-41-34/snapshot_22.keras', 23: 'mnih2013/seaquest/started_at_2023-09-25_12-41-34/snapshot_23.keras', 24: 'mnih2013/seaquest/started_at_2023-09-25_12-41-34/snapshot_24.keras', 25: 'mnih2013/seaquest/started_at_2023-09-25_12-41-34/snapshot_25.keras', 26: 'mnih2013/seaquest/started_at_2023-09-25_12-41-34/snapshot_26.keras', 27: 'mnih2013/seaquest/started_at_2023-09-25_12-41-34/snapshot_27.keras', 28: 'mnih2013/seaquest/started_at_2023-09-25_12-41-34/snapshot_28.keras', 29: 'mnih2013/seaquest/started_at_2023-09-25_12-41-34/snapshot_29.keras', 3: 'mnih2013/seaquest/started_at_2023-09-25_12-41-34/snapshot_3.keras', 30: 'mnih2013/seaquest/started_at_2023-09-25_12-41-34/snapshot_30.keras', 31: 'mnih2013/seaquest/started_at_2023-09-25_12-41-34/snapshot_31.keras', 32: 'mnih2013/seaquest/started_at_2023-09-25_12-41-34/snapshot_32.keras', 4: 'mnih2013/seaquest/started_at_2023-09-25_12-41-34/snapshot_4.keras', 5: 'mnih2013/seaquest/started_at_2023-09-25_12-41-34/snapshot_5.keras', 6: 'mnih2013/seaquest/started_at_2023-09-25_12-41-34/snapshot_6.keras', 7: 'mnih2013/seaquest/started_at_2023-09-25_12-41-34/snapshot_7.keras', 8: 'mnih2013/seaquest/started_at_2023-09-25_12-41-34/snapshot_8.keras', 9: 'mnih2013/seaquest/started_at_2023-09-25_12-41-34/snapshot_9.keras'}\n"
     ]
    },
    {
     "data": {
      "application/vnd.jupyter.widget-view+json": {
       "model_id": "407309af0b74425b99f7790568468cc9",
       "version_major": 2,
       "version_minor": 0
      },
      "text/plain": [
       "  0%|          | 0/2 [00:00<?, ?it/s]"
      ]
     },
     "metadata": {},
     "output_type": "display_data"
    },
    {
     "data": {
      "application/vnd.jupyter.widget-view+json": {
       "model_id": "5adf5fa9185d4d8a8933a7abfbf60a45",
       "version_major": 2,
       "version_minor": 0
      },
      "text/plain": [
       "  0%|          | 0/2 [00:00<?, ?it/s]"
      ]
     },
     "metadata": {},
     "output_type": "display_data"
    },
    {
     "data": {
      "application/vnd.jupyter.widget-view+json": {
       "model_id": "bd2de6c0c96142638bebb79a9b2df7f4",
       "version_major": 2,
       "version_minor": 0
      },
      "text/plain": [
       "  0%|          | 0/2 [00:00<?, ?it/s]"
      ]
     },
     "metadata": {},
     "output_type": "display_data"
    },
    {
     "name": "stdout",
     "output_type": "stream",
     "text": [
      "mnih2013/seaquest/started_at_2023-09-27_23-56-28/snapshot_final.keras\n",
      "mnih2013/seaquest/started_at_2023-09-27_23-56-28/\n",
      "snapshot_0.keras\n",
      "snapshot_1.keras\n",
      "snapshot_10.keras\n",
      "snapshot_11.keras\n",
      "snapshot_12.keras\n",
      "snapshot_13.keras\n",
      "snapshot_14.keras\n",
      "snapshot_15.keras\n",
      "snapshot_16.keras\n",
      "snapshot_17.keras\n",
      "snapshot_18.keras\n",
      "snapshot_19.keras\n",
      "snapshot_2.keras\n",
      "snapshot_20.keras\n",
      "snapshot_21.keras\n",
      "snapshot_22.keras\n",
      "snapshot_23.keras\n",
      "snapshot_24.keras\n",
      "snapshot_25.keras\n",
      "snapshot_26.keras\n",
      "snapshot_27.keras\n",
      "snapshot_28.keras\n",
      "snapshot_29.keras\n",
      "snapshot_3.keras\n",
      "snapshot_30.keras\n",
      "snapshot_31.keras\n",
      "snapshot_32.keras\n",
      "snapshot_4.keras\n",
      "snapshot_5.keras\n",
      "snapshot_6.keras\n",
      "snapshot_7.keras\n",
      "snapshot_8.keras\n",
      "snapshot_9.keras\n",
      "snapshot_final.keras\n",
      "{0: 'mnih2013/seaquest/started_at_2023-09-27_23-56-28/snapshot_0.keras', 1: 'mnih2013/seaquest/started_at_2023-09-27_23-56-28/snapshot_1.keras', 10: 'mnih2013/seaquest/started_at_2023-09-27_23-56-28/snapshot_10.keras', 11: 'mnih2013/seaquest/started_at_2023-09-27_23-56-28/snapshot_11.keras', 12: 'mnih2013/seaquest/started_at_2023-09-27_23-56-28/snapshot_12.keras', 13: 'mnih2013/seaquest/started_at_2023-09-27_23-56-28/snapshot_13.keras', 14: 'mnih2013/seaquest/started_at_2023-09-27_23-56-28/snapshot_14.keras', 15: 'mnih2013/seaquest/started_at_2023-09-27_23-56-28/snapshot_15.keras', 16: 'mnih2013/seaquest/started_at_2023-09-27_23-56-28/snapshot_16.keras', 17: 'mnih2013/seaquest/started_at_2023-09-27_23-56-28/snapshot_17.keras', 18: 'mnih2013/seaquest/started_at_2023-09-27_23-56-28/snapshot_18.keras', 19: 'mnih2013/seaquest/started_at_2023-09-27_23-56-28/snapshot_19.keras', 2: 'mnih2013/seaquest/started_at_2023-09-27_23-56-28/snapshot_2.keras', 20: 'mnih2013/seaquest/started_at_2023-09-27_23-56-28/snapshot_20.keras', 21: 'mnih2013/seaquest/started_at_2023-09-27_23-56-28/snapshot_21.keras', 22: 'mnih2013/seaquest/started_at_2023-09-27_23-56-28/snapshot_22.keras', 23: 'mnih2013/seaquest/started_at_2023-09-27_23-56-28/snapshot_23.keras', 24: 'mnih2013/seaquest/started_at_2023-09-27_23-56-28/snapshot_24.keras', 25: 'mnih2013/seaquest/started_at_2023-09-27_23-56-28/snapshot_25.keras', 26: 'mnih2013/seaquest/started_at_2023-09-27_23-56-28/snapshot_26.keras', 27: 'mnih2013/seaquest/started_at_2023-09-27_23-56-28/snapshot_27.keras', 28: 'mnih2013/seaquest/started_at_2023-09-27_23-56-28/snapshot_28.keras', 29: 'mnih2013/seaquest/started_at_2023-09-27_23-56-28/snapshot_29.keras', 3: 'mnih2013/seaquest/started_at_2023-09-27_23-56-28/snapshot_3.keras', 30: 'mnih2013/seaquest/started_at_2023-09-27_23-56-28/snapshot_30.keras', 31: 'mnih2013/seaquest/started_at_2023-09-27_23-56-28/snapshot_31.keras', 32: 'mnih2013/seaquest/started_at_2023-09-27_23-56-28/snapshot_32.keras', 4: 'mnih2013/seaquest/started_at_2023-09-27_23-56-28/snapshot_4.keras', 5: 'mnih2013/seaquest/started_at_2023-09-27_23-56-28/snapshot_5.keras', 6: 'mnih2013/seaquest/started_at_2023-09-27_23-56-28/snapshot_6.keras', 7: 'mnih2013/seaquest/started_at_2023-09-27_23-56-28/snapshot_7.keras', 8: 'mnih2013/seaquest/started_at_2023-09-27_23-56-28/snapshot_8.keras', 9: 'mnih2013/seaquest/started_at_2023-09-27_23-56-28/snapshot_9.keras'}\n"
     ]
    },
    {
     "data": {
      "application/vnd.jupyter.widget-view+json": {
       "model_id": "f8be0d19968e4e40b0322a0f80acb887",
       "version_major": 2,
       "version_minor": 0
      },
      "text/plain": [
       "  0%|          | 0/2 [00:00<?, ?it/s]"
      ]
     },
     "metadata": {},
     "output_type": "display_data"
    },
    {
     "data": {
      "application/vnd.jupyter.widget-view+json": {
       "model_id": "fdcc3e67a14841b49d0d58d0331c310e",
       "version_major": 2,
       "version_minor": 0
      },
      "text/plain": [
       "  0%|          | 0/2 [00:00<?, ?it/s]"
      ]
     },
     "metadata": {},
     "output_type": "display_data"
    },
    {
     "data": {
      "application/vnd.jupyter.widget-view+json": {
       "model_id": "e56ab3af14e8439898aae446e25f7a47",
       "version_major": 2,
       "version_minor": 0
      },
      "text/plain": [
       "  0%|          | 0/2 [00:00<?, ?it/s]"
      ]
     },
     "metadata": {},
     "output_type": "display_data"
    },
    {
     "name": "stdout",
     "output_type": "stream",
     "text": [
      "mnih2015/seaquest/started_at_2023-09-26_05-09-11/snapshot_final.keras\n",
      "mnih2015/seaquest/started_at_2023-09-26_05-09-11/\n",
      "snapshot_0.keras\n",
      "snapshot_1.keras\n",
      "snapshot_10.keras\n",
      "snapshot_11.keras\n",
      "snapshot_12.keras\n",
      "snapshot_13.keras\n",
      "snapshot_14.keras\n",
      "snapshot_15.keras\n",
      "snapshot_16.keras\n",
      "snapshot_17.keras\n",
      "snapshot_18.keras\n",
      "snapshot_19.keras\n",
      "snapshot_2.keras\n",
      "snapshot_20.keras\n",
      "snapshot_21.keras\n",
      "snapshot_22.keras\n",
      "snapshot_23.keras\n",
      "snapshot_24.keras\n",
      "snapshot_25.keras\n",
      "snapshot_26.keras\n",
      "snapshot_27.keras\n",
      "snapshot_28.keras\n",
      "snapshot_29.keras\n",
      "snapshot_3.keras\n",
      "snapshot_30.keras\n",
      "snapshot_31.keras\n",
      "snapshot_32.keras\n",
      "snapshot_4.keras\n",
      "snapshot_5.keras\n",
      "snapshot_6.keras\n",
      "snapshot_7.keras\n",
      "snapshot_8.keras\n",
      "snapshot_9.keras\n",
      "snapshot_final.keras\n",
      "{0: 'mnih2015/seaquest/started_at_2023-09-26_05-09-11/snapshot_0.keras', 1: 'mnih2015/seaquest/started_at_2023-09-26_05-09-11/snapshot_1.keras', 10: 'mnih2015/seaquest/started_at_2023-09-26_05-09-11/snapshot_10.keras', 11: 'mnih2015/seaquest/started_at_2023-09-26_05-09-11/snapshot_11.keras', 12: 'mnih2015/seaquest/started_at_2023-09-26_05-09-11/snapshot_12.keras', 13: 'mnih2015/seaquest/started_at_2023-09-26_05-09-11/snapshot_13.keras', 14: 'mnih2015/seaquest/started_at_2023-09-26_05-09-11/snapshot_14.keras', 15: 'mnih2015/seaquest/started_at_2023-09-26_05-09-11/snapshot_15.keras', 16: 'mnih2015/seaquest/started_at_2023-09-26_05-09-11/snapshot_16.keras', 17: 'mnih2015/seaquest/started_at_2023-09-26_05-09-11/snapshot_17.keras', 18: 'mnih2015/seaquest/started_at_2023-09-26_05-09-11/snapshot_18.keras', 19: 'mnih2015/seaquest/started_at_2023-09-26_05-09-11/snapshot_19.keras', 2: 'mnih2015/seaquest/started_at_2023-09-26_05-09-11/snapshot_2.keras', 20: 'mnih2015/seaquest/started_at_2023-09-26_05-09-11/snapshot_20.keras', 21: 'mnih2015/seaquest/started_at_2023-09-26_05-09-11/snapshot_21.keras', 22: 'mnih2015/seaquest/started_at_2023-09-26_05-09-11/snapshot_22.keras', 23: 'mnih2015/seaquest/started_at_2023-09-26_05-09-11/snapshot_23.keras', 24: 'mnih2015/seaquest/started_at_2023-09-26_05-09-11/snapshot_24.keras', 25: 'mnih2015/seaquest/started_at_2023-09-26_05-09-11/snapshot_25.keras', 26: 'mnih2015/seaquest/started_at_2023-09-26_05-09-11/snapshot_26.keras', 27: 'mnih2015/seaquest/started_at_2023-09-26_05-09-11/snapshot_27.keras', 28: 'mnih2015/seaquest/started_at_2023-09-26_05-09-11/snapshot_28.keras', 29: 'mnih2015/seaquest/started_at_2023-09-26_05-09-11/snapshot_29.keras', 3: 'mnih2015/seaquest/started_at_2023-09-26_05-09-11/snapshot_3.keras', 30: 'mnih2015/seaquest/started_at_2023-09-26_05-09-11/snapshot_30.keras', 31: 'mnih2015/seaquest/started_at_2023-09-26_05-09-11/snapshot_31.keras', 32: 'mnih2015/seaquest/started_at_2023-09-26_05-09-11/snapshot_32.keras', 4: 'mnih2015/seaquest/started_at_2023-09-26_05-09-11/snapshot_4.keras', 5: 'mnih2015/seaquest/started_at_2023-09-26_05-09-11/snapshot_5.keras', 6: 'mnih2015/seaquest/started_at_2023-09-26_05-09-11/snapshot_6.keras', 7: 'mnih2015/seaquest/started_at_2023-09-26_05-09-11/snapshot_7.keras', 8: 'mnih2015/seaquest/started_at_2023-09-26_05-09-11/snapshot_8.keras', 9: 'mnih2015/seaquest/started_at_2023-09-26_05-09-11/snapshot_9.keras'}\n"
     ]
    },
    {
     "data": {
      "application/vnd.jupyter.widget-view+json": {
       "model_id": "057a8bca273247878004fd42f300cabd",
       "version_major": 2,
       "version_minor": 0
      },
      "text/plain": [
       "  0%|          | 0/2 [00:00<?, ?it/s]"
      ]
     },
     "metadata": {},
     "output_type": "display_data"
    },
    {
     "data": {
      "application/vnd.jupyter.widget-view+json": {
       "model_id": "de21f80f969f4f429c51e5a4cd3e74b5",
       "version_major": 2,
       "version_minor": 0
      },
      "text/plain": [
       "  0%|          | 0/2 [00:00<?, ?it/s]"
      ]
     },
     "metadata": {},
     "output_type": "display_data"
    },
    {
     "data": {
      "application/vnd.jupyter.widget-view+json": {
       "model_id": "ddee7ff6a0ad4780aafea9f62fdb0785",
       "version_major": 2,
       "version_minor": 0
      },
      "text/plain": [
       "  0%|          | 0/2 [00:00<?, ?it/s]"
      ]
     },
     "metadata": {},
     "output_type": "display_data"
    },
    {
     "name": "stdout",
     "output_type": "stream",
     "text": [
      "mnih2015/seaquest/started_at_2023-09-26_05-31-20/snapshot_final.keras\n",
      "mnih2015/seaquest/started_at_2023-09-26_05-31-20/\n",
      "snapshot_0.keras\n",
      "snapshot_1.keras\n",
      "snapshot_10.keras\n",
      "snapshot_11.keras\n",
      "snapshot_12.keras\n",
      "snapshot_13.keras\n",
      "snapshot_14.keras\n",
      "snapshot_15.keras\n",
      "snapshot_16.keras\n",
      "snapshot_17.keras\n",
      "snapshot_18.keras\n",
      "snapshot_19.keras\n",
      "snapshot_2.keras\n",
      "snapshot_20.keras\n",
      "snapshot_21.keras\n",
      "snapshot_22.keras\n",
      "snapshot_23.keras\n",
      "snapshot_24.keras\n",
      "snapshot_25.keras\n",
      "snapshot_26.keras\n",
      "snapshot_27.keras\n",
      "snapshot_28.keras\n",
      "snapshot_29.keras\n",
      "snapshot_3.keras\n",
      "snapshot_30.keras\n",
      "snapshot_31.keras\n",
      "snapshot_32.keras\n",
      "snapshot_4.keras\n",
      "snapshot_5.keras\n",
      "snapshot_6.keras\n",
      "snapshot_7.keras\n",
      "snapshot_8.keras\n",
      "snapshot_9.keras\n",
      "snapshot_final.keras\n",
      "{0: 'mnih2015/seaquest/started_at_2023-09-26_05-31-20/snapshot_0.keras', 1: 'mnih2015/seaquest/started_at_2023-09-26_05-31-20/snapshot_1.keras', 10: 'mnih2015/seaquest/started_at_2023-09-26_05-31-20/snapshot_10.keras', 11: 'mnih2015/seaquest/started_at_2023-09-26_05-31-20/snapshot_11.keras', 12: 'mnih2015/seaquest/started_at_2023-09-26_05-31-20/snapshot_12.keras', 13: 'mnih2015/seaquest/started_at_2023-09-26_05-31-20/snapshot_13.keras', 14: 'mnih2015/seaquest/started_at_2023-09-26_05-31-20/snapshot_14.keras', 15: 'mnih2015/seaquest/started_at_2023-09-26_05-31-20/snapshot_15.keras', 16: 'mnih2015/seaquest/started_at_2023-09-26_05-31-20/snapshot_16.keras', 17: 'mnih2015/seaquest/started_at_2023-09-26_05-31-20/snapshot_17.keras', 18: 'mnih2015/seaquest/started_at_2023-09-26_05-31-20/snapshot_18.keras', 19: 'mnih2015/seaquest/started_at_2023-09-26_05-31-20/snapshot_19.keras', 2: 'mnih2015/seaquest/started_at_2023-09-26_05-31-20/snapshot_2.keras', 20: 'mnih2015/seaquest/started_at_2023-09-26_05-31-20/snapshot_20.keras', 21: 'mnih2015/seaquest/started_at_2023-09-26_05-31-20/snapshot_21.keras', 22: 'mnih2015/seaquest/started_at_2023-09-26_05-31-20/snapshot_22.keras', 23: 'mnih2015/seaquest/started_at_2023-09-26_05-31-20/snapshot_23.keras', 24: 'mnih2015/seaquest/started_at_2023-09-26_05-31-20/snapshot_24.keras', 25: 'mnih2015/seaquest/started_at_2023-09-26_05-31-20/snapshot_25.keras', 26: 'mnih2015/seaquest/started_at_2023-09-26_05-31-20/snapshot_26.keras', 27: 'mnih2015/seaquest/started_at_2023-09-26_05-31-20/snapshot_27.keras', 28: 'mnih2015/seaquest/started_at_2023-09-26_05-31-20/snapshot_28.keras', 29: 'mnih2015/seaquest/started_at_2023-09-26_05-31-20/snapshot_29.keras', 3: 'mnih2015/seaquest/started_at_2023-09-26_05-31-20/snapshot_3.keras', 30: 'mnih2015/seaquest/started_at_2023-09-26_05-31-20/snapshot_30.keras', 31: 'mnih2015/seaquest/started_at_2023-09-26_05-31-20/snapshot_31.keras', 32: 'mnih2015/seaquest/started_at_2023-09-26_05-31-20/snapshot_32.keras', 4: 'mnih2015/seaquest/started_at_2023-09-26_05-31-20/snapshot_4.keras', 5: 'mnih2015/seaquest/started_at_2023-09-26_05-31-20/snapshot_5.keras', 6: 'mnih2015/seaquest/started_at_2023-09-26_05-31-20/snapshot_6.keras', 7: 'mnih2015/seaquest/started_at_2023-09-26_05-31-20/snapshot_7.keras', 8: 'mnih2015/seaquest/started_at_2023-09-26_05-31-20/snapshot_8.keras', 9: 'mnih2015/seaquest/started_at_2023-09-26_05-31-20/snapshot_9.keras'}\n"
     ]
    },
    {
     "data": {
      "application/vnd.jupyter.widget-view+json": {
       "model_id": "6704a17c60c9402a9790c0246ff3dd93",
       "version_major": 2,
       "version_minor": 0
      },
      "text/plain": [
       "  0%|          | 0/2 [00:00<?, ?it/s]"
      ]
     },
     "metadata": {},
     "output_type": "display_data"
    },
    {
     "data": {
      "application/vnd.jupyter.widget-view+json": {
       "model_id": "8406aed2f39d4886bf68f81fd8f630fa",
       "version_major": 2,
       "version_minor": 0
      },
      "text/plain": [
       "  0%|          | 0/2 [00:00<?, ?it/s]"
      ]
     },
     "metadata": {},
     "output_type": "display_data"
    },
    {
     "data": {
      "application/vnd.jupyter.widget-view+json": {
       "model_id": "e1370c8f1f6f482aa336fc6b9ba2b243",
       "version_major": 2,
       "version_minor": 0
      },
      "text/plain": [
       "  0%|          | 0/2 [00:00<?, ?it/s]"
      ]
     },
     "metadata": {},
     "output_type": "display_data"
    },
    {
     "name": "stdout",
     "output_type": "stream",
     "text": [
      "mnih2015/seaquest/started_at_2023-09-26_06-55-14/snapshot_final.keras\n",
      "mnih2015/seaquest/started_at_2023-09-26_06-55-14/\n",
      "snapshot_0.keras\n",
      "snapshot_1.keras\n",
      "snapshot_10.keras\n",
      "snapshot_11.keras\n",
      "snapshot_12.keras\n",
      "snapshot_13.keras\n",
      "snapshot_14.keras\n",
      "snapshot_15.keras\n",
      "snapshot_16.keras\n",
      "snapshot_17.keras\n",
      "snapshot_18.keras\n",
      "snapshot_19.keras\n",
      "snapshot_2.keras\n",
      "snapshot_20.keras\n",
      "snapshot_21.keras\n",
      "snapshot_22.keras\n",
      "snapshot_23.keras\n",
      "snapshot_24.keras\n",
      "snapshot_25.keras\n",
      "snapshot_26.keras\n",
      "snapshot_27.keras\n",
      "snapshot_28.keras\n",
      "snapshot_29.keras\n",
      "snapshot_3.keras\n",
      "snapshot_30.keras\n",
      "snapshot_31.keras\n",
      "snapshot_32.keras\n",
      "snapshot_4.keras\n",
      "snapshot_5.keras\n",
      "snapshot_6.keras\n",
      "snapshot_7.keras\n",
      "snapshot_8.keras\n",
      "snapshot_9.keras\n",
      "snapshot_final.keras\n",
      "{0: 'mnih2015/seaquest/started_at_2023-09-26_06-55-14/snapshot_0.keras', 1: 'mnih2015/seaquest/started_at_2023-09-26_06-55-14/snapshot_1.keras', 10: 'mnih2015/seaquest/started_at_2023-09-26_06-55-14/snapshot_10.keras', 11: 'mnih2015/seaquest/started_at_2023-09-26_06-55-14/snapshot_11.keras', 12: 'mnih2015/seaquest/started_at_2023-09-26_06-55-14/snapshot_12.keras', 13: 'mnih2015/seaquest/started_at_2023-09-26_06-55-14/snapshot_13.keras', 14: 'mnih2015/seaquest/started_at_2023-09-26_06-55-14/snapshot_14.keras', 15: 'mnih2015/seaquest/started_at_2023-09-26_06-55-14/snapshot_15.keras', 16: 'mnih2015/seaquest/started_at_2023-09-26_06-55-14/snapshot_16.keras', 17: 'mnih2015/seaquest/started_at_2023-09-26_06-55-14/snapshot_17.keras', 18: 'mnih2015/seaquest/started_at_2023-09-26_06-55-14/snapshot_18.keras', 19: 'mnih2015/seaquest/started_at_2023-09-26_06-55-14/snapshot_19.keras', 2: 'mnih2015/seaquest/started_at_2023-09-26_06-55-14/snapshot_2.keras', 20: 'mnih2015/seaquest/started_at_2023-09-26_06-55-14/snapshot_20.keras', 21: 'mnih2015/seaquest/started_at_2023-09-26_06-55-14/snapshot_21.keras', 22: 'mnih2015/seaquest/started_at_2023-09-26_06-55-14/snapshot_22.keras', 23: 'mnih2015/seaquest/started_at_2023-09-26_06-55-14/snapshot_23.keras', 24: 'mnih2015/seaquest/started_at_2023-09-26_06-55-14/snapshot_24.keras', 25: 'mnih2015/seaquest/started_at_2023-09-26_06-55-14/snapshot_25.keras', 26: 'mnih2015/seaquest/started_at_2023-09-26_06-55-14/snapshot_26.keras', 27: 'mnih2015/seaquest/started_at_2023-09-26_06-55-14/snapshot_27.keras', 28: 'mnih2015/seaquest/started_at_2023-09-26_06-55-14/snapshot_28.keras', 29: 'mnih2015/seaquest/started_at_2023-09-26_06-55-14/snapshot_29.keras', 3: 'mnih2015/seaquest/started_at_2023-09-26_06-55-14/snapshot_3.keras', 30: 'mnih2015/seaquest/started_at_2023-09-26_06-55-14/snapshot_30.keras', 31: 'mnih2015/seaquest/started_at_2023-09-26_06-55-14/snapshot_31.keras', 32: 'mnih2015/seaquest/started_at_2023-09-26_06-55-14/snapshot_32.keras', 4: 'mnih2015/seaquest/started_at_2023-09-26_06-55-14/snapshot_4.keras', 5: 'mnih2015/seaquest/started_at_2023-09-26_06-55-14/snapshot_5.keras', 6: 'mnih2015/seaquest/started_at_2023-09-26_06-55-14/snapshot_6.keras', 7: 'mnih2015/seaquest/started_at_2023-09-26_06-55-14/snapshot_7.keras', 8: 'mnih2015/seaquest/started_at_2023-09-26_06-55-14/snapshot_8.keras', 9: 'mnih2015/seaquest/started_at_2023-09-26_06-55-14/snapshot_9.keras'}\n"
     ]
    },
    {
     "data": {
      "application/vnd.jupyter.widget-view+json": {
       "model_id": "d3c794bd6a584f3988af4cc444afa2de",
       "version_major": 2,
       "version_minor": 0
      },
      "text/plain": [
       "  0%|          | 0/2 [00:00<?, ?it/s]"
      ]
     },
     "metadata": {},
     "output_type": "display_data"
    },
    {
     "data": {
      "application/vnd.jupyter.widget-view+json": {
       "model_id": "6bf16afa004f4e478e4d2498b375f25c",
       "version_major": 2,
       "version_minor": 0
      },
      "text/plain": [
       "  0%|          | 0/2 [00:00<?, ?it/s]"
      ]
     },
     "metadata": {},
     "output_type": "display_data"
    },
    {
     "data": {
      "application/vnd.jupyter.widget-view+json": {
       "model_id": "ba5cc7323b234bfc8fcc326f9a4d4ce5",
       "version_major": 2,
       "version_minor": 0
      },
      "text/plain": [
       "  0%|          | 0/2 [00:00<?, ?it/s]"
      ]
     },
     "metadata": {},
     "output_type": "display_data"
    },
    {
     "name": "stdout",
     "output_type": "stream",
     "text": [
      "with_huber_loss_and_adam/seaquest/started_at_2023-09-26_10-45-03/snapshot_final.keras\n",
      "with_huber_loss_and_adam/seaquest/started_at_2023-09-26_10-45-03/\n",
      "snapshot_0.keras\n",
      "snapshot_1.keras\n",
      "snapshot_10.keras\n",
      "snapshot_11.keras\n",
      "snapshot_12.keras\n",
      "snapshot_13.keras\n",
      "snapshot_14.keras\n",
      "snapshot_15.keras\n",
      "snapshot_16.keras\n",
      "snapshot_17.keras\n",
      "snapshot_18.keras\n",
      "snapshot_19.keras\n",
      "snapshot_2.keras\n",
      "snapshot_20.keras\n",
      "snapshot_21.keras\n",
      "snapshot_22.keras\n",
      "snapshot_23.keras\n",
      "snapshot_24.keras\n",
      "snapshot_25.keras\n",
      "snapshot_26.keras\n",
      "snapshot_27.keras\n",
      "snapshot_28.keras\n",
      "snapshot_29.keras\n",
      "snapshot_3.keras\n",
      "snapshot_30.keras\n",
      "snapshot_31.keras\n",
      "snapshot_32.keras\n",
      "snapshot_4.keras\n",
      "snapshot_5.keras\n",
      "snapshot_6.keras\n",
      "snapshot_7.keras\n",
      "snapshot_8.keras\n",
      "snapshot_9.keras\n",
      "snapshot_final.keras\n",
      "{0: 'with_huber_loss_and_adam/seaquest/started_at_2023-09-26_10-45-03/snapshot_0.keras', 1: 'with_huber_loss_and_adam/seaquest/started_at_2023-09-26_10-45-03/snapshot_1.keras', 10: 'with_huber_loss_and_adam/seaquest/started_at_2023-09-26_10-45-03/snapshot_10.keras', 11: 'with_huber_loss_and_adam/seaquest/started_at_2023-09-26_10-45-03/snapshot_11.keras', 12: 'with_huber_loss_and_adam/seaquest/started_at_2023-09-26_10-45-03/snapshot_12.keras', 13: 'with_huber_loss_and_adam/seaquest/started_at_2023-09-26_10-45-03/snapshot_13.keras', 14: 'with_huber_loss_and_adam/seaquest/started_at_2023-09-26_10-45-03/snapshot_14.keras', 15: 'with_huber_loss_and_adam/seaquest/started_at_2023-09-26_10-45-03/snapshot_15.keras', 16: 'with_huber_loss_and_adam/seaquest/started_at_2023-09-26_10-45-03/snapshot_16.keras', 17: 'with_huber_loss_and_adam/seaquest/started_at_2023-09-26_10-45-03/snapshot_17.keras', 18: 'with_huber_loss_and_adam/seaquest/started_at_2023-09-26_10-45-03/snapshot_18.keras', 19: 'with_huber_loss_and_adam/seaquest/started_at_2023-09-26_10-45-03/snapshot_19.keras', 2: 'with_huber_loss_and_adam/seaquest/started_at_2023-09-26_10-45-03/snapshot_2.keras', 20: 'with_huber_loss_and_adam/seaquest/started_at_2023-09-26_10-45-03/snapshot_20.keras', 21: 'with_huber_loss_and_adam/seaquest/started_at_2023-09-26_10-45-03/snapshot_21.keras', 22: 'with_huber_loss_and_adam/seaquest/started_at_2023-09-26_10-45-03/snapshot_22.keras', 23: 'with_huber_loss_and_adam/seaquest/started_at_2023-09-26_10-45-03/snapshot_23.keras', 24: 'with_huber_loss_and_adam/seaquest/started_at_2023-09-26_10-45-03/snapshot_24.keras', 25: 'with_huber_loss_and_adam/seaquest/started_at_2023-09-26_10-45-03/snapshot_25.keras', 26: 'with_huber_loss_and_adam/seaquest/started_at_2023-09-26_10-45-03/snapshot_26.keras', 27: 'with_huber_loss_and_adam/seaquest/started_at_2023-09-26_10-45-03/snapshot_27.keras', 28: 'with_huber_loss_and_adam/seaquest/started_at_2023-09-26_10-45-03/snapshot_28.keras', 29: 'with_huber_loss_and_adam/seaquest/started_at_2023-09-26_10-45-03/snapshot_29.keras', 3: 'with_huber_loss_and_adam/seaquest/started_at_2023-09-26_10-45-03/snapshot_3.keras', 30: 'with_huber_loss_and_adam/seaquest/started_at_2023-09-26_10-45-03/snapshot_30.keras', 31: 'with_huber_loss_and_adam/seaquest/started_at_2023-09-26_10-45-03/snapshot_31.keras', 32: 'with_huber_loss_and_adam/seaquest/started_at_2023-09-26_10-45-03/snapshot_32.keras', 4: 'with_huber_loss_and_adam/seaquest/started_at_2023-09-26_10-45-03/snapshot_4.keras', 5: 'with_huber_loss_and_adam/seaquest/started_at_2023-09-26_10-45-03/snapshot_5.keras', 6: 'with_huber_loss_and_adam/seaquest/started_at_2023-09-26_10-45-03/snapshot_6.keras', 7: 'with_huber_loss_and_adam/seaquest/started_at_2023-09-26_10-45-03/snapshot_7.keras', 8: 'with_huber_loss_and_adam/seaquest/started_at_2023-09-26_10-45-03/snapshot_8.keras', 9: 'with_huber_loss_and_adam/seaquest/started_at_2023-09-26_10-45-03/snapshot_9.keras'}\n"
     ]
    },
    {
     "data": {
      "application/vnd.jupyter.widget-view+json": {
       "model_id": "9243481adf27426fa934a904540ec958",
       "version_major": 2,
       "version_minor": 0
      },
      "text/plain": [
       "  0%|          | 0/2 [00:00<?, ?it/s]"
      ]
     },
     "metadata": {},
     "output_type": "display_data"
    },
    {
     "data": {
      "application/vnd.jupyter.widget-view+json": {
       "model_id": "3117ab00a48e42d2ba9ff015efbb3a61",
       "version_major": 2,
       "version_minor": 0
      },
      "text/plain": [
       "  0%|          | 0/2 [00:00<?, ?it/s]"
      ]
     },
     "metadata": {},
     "output_type": "display_data"
    }
   ],
   "source": [
    "for game_name, model_name in (t := tqdm(list(itertools.product(list_of_games, models_used)),\n",
    "                                        desc=\"Build Snapshot Ensemble\")):\n",
    "    t.set_description(f\"Build Snapshot Ensemble ({model_name.capitalize()} for {game_name})\")\n",
    "\n",
    "    model_paths_for_game_and_model = \\\n",
    "        evaluation_single_models_df[(evaluation_single_models_df[\"model\"] == model_name) & (evaluation_single_models_df[\"game\"] == game_name)][\"model_path\"]\n",
    "\n",
    "    for idx, unique_model_path in enumerate(model_paths_for_game_and_model.unique()):\n",
    "        print(unique_model_path)\n",
    "        model_paths = get_snapshots(unique_model_path)\n",
    "        # Select M last snapshots:\n",
    "        model_paths = model_paths[-M_FOR_SNAPSHOT_ENSEMBLES_AND_SOUPS:]\n",
    "        assert len(model_paths) == M_FOR_SNAPSHOT_ENSEMBLES_AND_SOUPS\n",
    "        models = load_models(model_paths)\n",
    "\n",
    "        for idx, ensemble_method in enumerate(ENSEMBLE_METHODS_USED):\n",
    "            ensemble = Ensemble(models, ensemble_method)\n",
    "\n",
    "            rewards = evaluate_ensemble(game_name, ensemble, NUM_REPETITIONS)\n",
    "            evaluation_results_snapshot_ensembles.append({\n",
    "                \"game\": game_name,\n",
    "                \"model\": f\"{M_FOR_SNAPSHOT_ENSEMBLES_AND_SOUPS}-Snapshot Ensemble ({ensemble_method}) with {model_name}\",\n",
    "                \"model_id\": idx,\n",
    "                \"episode_rewards\": rewards,\n",
    "                \"mean\": np.mean(rewards),\n",
    "                \"standard_deviation\": np.std(rewards),\n",
    "                \"model_path\": model_paths\n",
    "            })"
   ]
  },
  {
   "cell_type": "code",
   "execution_count": 54,
   "metadata": {},
   "outputs": [
    {
     "data": {
      "text/html": [
       "<div>\n",
       "<style scoped>\n",
       "    .dataframe tbody tr th:only-of-type {\n",
       "        vertical-align: middle;\n",
       "    }\n",
       "\n",
       "    .dataframe tbody tr th {\n",
       "        vertical-align: top;\n",
       "    }\n",
       "\n",
       "    .dataframe thead th {\n",
       "        text-align: right;\n",
       "    }\n",
       "</style>\n",
       "<table border=\"1\" class=\"dataframe\">\n",
       "  <thead>\n",
       "    <tr style=\"text-align: right;\">\n",
       "      <th></th>\n",
       "      <th>game</th>\n",
       "      <th>model</th>\n",
       "      <th>model_id</th>\n",
       "      <th>episode_rewards</th>\n",
       "      <th>mean</th>\n",
       "      <th>standard_deviation</th>\n",
       "      <th>model_path</th>\n",
       "    </tr>\n",
       "  </thead>\n",
       "  <tbody>\n",
       "    <tr>\n",
       "      <th>0</th>\n",
       "      <td>seaquest</td>\n",
       "      <td>3-Snapshot Ensemble (average) with mnih2013</td>\n",
       "      <td>0</td>\n",
       "      <td>[20.0, 20.0]</td>\n",
       "      <td>20.0</td>\n",
       "      <td>0.0</td>\n",
       "      <td>(mnih2013\\seaquest\\started_at_2023-09-25_12-09...</td>\n",
       "    </tr>\n",
       "    <tr>\n",
       "      <th>1</th>\n",
       "      <td>seaquest</td>\n",
       "      <td>3-Snapshot Ensemble (logistic_average) with mn...</td>\n",
       "      <td>1</td>\n",
       "      <td>[60.0, 60.0]</td>\n",
       "      <td>60.0</td>\n",
       "      <td>0.0</td>\n",
       "      <td>(mnih2013\\seaquest\\started_at_2023-09-25_12-09...</td>\n",
       "    </tr>\n",
       "    <tr>\n",
       "      <th>2</th>\n",
       "      <td>seaquest</td>\n",
       "      <td>3-Snapshot Ensemble (majority_vote) with mnih2013</td>\n",
       "      <td>2</td>\n",
       "      <td>[20.0, 20.0]</td>\n",
       "      <td>20.0</td>\n",
       "      <td>0.0</td>\n",
       "      <td>(mnih2013\\seaquest\\started_at_2023-09-25_12-09...</td>\n",
       "    </tr>\n",
       "    <tr>\n",
       "      <th>3</th>\n",
       "      <td>seaquest</td>\n",
       "      <td>3-Snapshot Ensemble (average) with mnih2013</td>\n",
       "      <td>0</td>\n",
       "      <td>[60.0, 20.0]</td>\n",
       "      <td>40.0</td>\n",
       "      <td>20.0</td>\n",
       "      <td>(mnih2013\\seaquest\\started_at_2023-09-25_12-41...</td>\n",
       "    </tr>\n",
       "    <tr>\n",
       "      <th>4</th>\n",
       "      <td>seaquest</td>\n",
       "      <td>3-Snapshot Ensemble (average) with mnih2013</td>\n",
       "      <td>0</td>\n",
       "      <td>[80.0, 20.0]</td>\n",
       "      <td>50.0</td>\n",
       "      <td>30.0</td>\n",
       "      <td>(mnih2013/seaquest/started_at_2023-09-25_12-09...</td>\n",
       "    </tr>\n",
       "  </tbody>\n",
       "</table>\n",
       "</div>"
      ],
      "text/plain": [
       "       game                                              model  model_id  \\\n",
       "0  seaquest        3-Snapshot Ensemble (average) with mnih2013         0   \n",
       "1  seaquest  3-Snapshot Ensemble (logistic_average) with mn...         1   \n",
       "2  seaquest  3-Snapshot Ensemble (majority_vote) with mnih2013         2   \n",
       "3  seaquest        3-Snapshot Ensemble (average) with mnih2013         0   \n",
       "4  seaquest        3-Snapshot Ensemble (average) with mnih2013         0   \n",
       "\n",
       "  episode_rewards  mean  standard_deviation  \\\n",
       "0    [20.0, 20.0]  20.0                 0.0   \n",
       "1    [60.0, 60.0]  60.0                 0.0   \n",
       "2    [20.0, 20.0]  20.0                 0.0   \n",
       "3    [60.0, 20.0]  40.0                20.0   \n",
       "4    [80.0, 20.0]  50.0                30.0   \n",
       "\n",
       "                                          model_path  \n",
       "0  (mnih2013\\seaquest\\started_at_2023-09-25_12-09...  \n",
       "1  (mnih2013\\seaquest\\started_at_2023-09-25_12-09...  \n",
       "2  (mnih2013\\seaquest\\started_at_2023-09-25_12-09...  \n",
       "3  (mnih2013\\seaquest\\started_at_2023-09-25_12-41...  \n",
       "4  (mnih2013/seaquest/started_at_2023-09-25_12-09...  "
      ]
     },
     "execution_count": 54,
     "metadata": {},
     "output_type": "execute_result"
    }
   ],
   "source": [
    "evaluation_results_snapshot_ensembles_df = pd.DataFrame.from_records(evaluation_results_snapshot_ensembles)\n",
    "evaluation_results_snapshot_ensembles_df.head()"
   ]
  },
  {
   "cell_type": "markdown",
   "metadata": {},
   "source": [
    "## Evaluate as Soups"
   ]
  },
  {
   "cell_type": "code",
   "execution_count": 55,
   "metadata": {},
   "outputs": [],
   "source": [
    "models_used = set(list_of_algorithms) - {\"random play\", \"interpretable_cnn\"}"
   ]
  },
  {
   "cell_type": "markdown",
   "metadata": {},
   "source": [
    "### Uniform Soups created from the best $n$ models of a flavor:"
   ]
  },
  {
   "cell_type": "code",
   "execution_count": 56,
   "metadata": {},
   "outputs": [],
   "source": [
    "evaluation_results_uniform_soups = []"
   ]
  },
  {
   "cell_type": "code",
   "execution_count": 57,
   "metadata": {},
   "outputs": [
    {
     "data": {
      "application/vnd.jupyter.widget-view+json": {
       "model_id": "85d0f2557c0d4a888292edaf8b9d4cec",
       "version_major": 2,
       "version_minor": 0
      },
      "text/plain": [
       "  0%|          | 0/3 [00:00<?, ?it/s]"
      ]
     },
     "metadata": {},
     "output_type": "display_data"
    },
    {
     "data": {
      "application/vnd.jupyter.widget-view+json": {
       "model_id": "236f74559c00483b99fd5c3594527d97",
       "version_major": 2,
       "version_minor": 0
      },
      "text/plain": [
       "  0%|          | 0/2 [00:00<?, ?it/s]"
      ]
     },
     "metadata": {},
     "output_type": "display_data"
    },
    {
     "data": {
      "application/vnd.jupyter.widget-view+json": {
       "model_id": "dd94178711124b30b8782a58c5f20768",
       "version_major": 2,
       "version_minor": 0
      },
      "text/plain": [
       "  0%|          | 0/2 [00:00<?, ?it/s]"
      ]
     },
     "metadata": {},
     "output_type": "display_data"
    },
    {
     "data": {
      "application/vnd.jupyter.widget-view+json": {
       "model_id": "90e315fe197945b0a4550cb0e6def17a",
       "version_major": 2,
       "version_minor": 0
      },
      "text/plain": [
       "  0%|          | 0/2 [00:00<?, ?it/s]"
      ]
     },
     "metadata": {},
     "output_type": "display_data"
    }
   ],
   "source": [
    "from Soup import Soup\n",
    "\n",
    "for game_name, model_name in (t := tqdm(list(itertools.product(list_of_games, models_used)))):\n",
    "    t.set_description(f\"Cooking the Soup Model ({model_name.capitalize()} for {game_name})\")\n",
    "\n",
    "    # Select Top-N models:\n",
    "    model_selection = evaluation_single_models_df[\n",
    "                          (evaluation_single_models_df[\"model\"] == model_name) & (evaluation_single_models_df[\"game\"] == game_name)\n",
    "                        ].sort_values(by=[\"mean\", \"standard_deviation\"], ascending=[False, True])[:N_FOR_TOP_N_ENSEMBLES]\n",
    "\n",
    "    model_paths = [m_path for m_path in list(model_selection[\"model_path\"])]\n",
    "    models = [models_dict[m_path] for m_path in model_paths]\n",
    "\n",
    "    soup = Soup(models).get_soup_model()\n",
    "\n",
    "    rewards = evaluate_model(game_name, soup, NUM_REPETITIONS)\n",
    "    evaluation_results_uniform_soups.append({\n",
    "        \"game\": game_name,\n",
    "        \"model\": f\"Top-{N_FOR_TOP_N_ENSEMBLES} Soup of {model_name}\",\n",
    "        \"model_id\": 0,\n",
    "        \"episode_rewards\": rewards,\n",
    "        \"mean\": np.mean(rewards),\n",
    "        \"standard_deviation\": np.std(rewards),\n",
    "        \"model_path\": model_paths\n",
    "    })"
   ]
  },
  {
   "cell_type": "code",
   "execution_count": 58,
   "metadata": {
    "scrolled": true
   },
   "outputs": [
    {
     "data": {
      "text/html": [
       "<div>\n",
       "<style scoped>\n",
       "    .dataframe tbody tr th:only-of-type {\n",
       "        vertical-align: middle;\n",
       "    }\n",
       "\n",
       "    .dataframe tbody tr th {\n",
       "        vertical-align: top;\n",
       "    }\n",
       "\n",
       "    .dataframe thead th {\n",
       "        text-align: right;\n",
       "    }\n",
       "</style>\n",
       "<table border=\"1\" class=\"dataframe\">\n",
       "  <thead>\n",
       "    <tr style=\"text-align: right;\">\n",
       "      <th></th>\n",
       "      <th>game</th>\n",
       "      <th>model</th>\n",
       "      <th>model_id</th>\n",
       "      <th>episode_rewards</th>\n",
       "      <th>mean</th>\n",
       "      <th>standard_deviation</th>\n",
       "      <th>model_path</th>\n",
       "    </tr>\n",
       "  </thead>\n",
       "  <tbody>\n",
       "    <tr>\n",
       "      <th>0</th>\n",
       "      <td>seaquest</td>\n",
       "      <td>Top-2 Soup of mnih2013</td>\n",
       "      <td>0</td>\n",
       "      <td>[40.0, 0.0]</td>\n",
       "      <td>20.0</td>\n",
       "      <td>20.0</td>\n",
       "      <td>[mnih2013/seaquest/started_at_2023-09-27_23-56...</td>\n",
       "    </tr>\n",
       "    <tr>\n",
       "      <th>1</th>\n",
       "      <td>seaquest</td>\n",
       "      <td>Top-2 Soup of mnih2015</td>\n",
       "      <td>0</td>\n",
       "      <td>[100.0, 160.0]</td>\n",
       "      <td>130.0</td>\n",
       "      <td>30.0</td>\n",
       "      <td>[mnih2015/seaquest/started_at_2023-09-26_05-09...</td>\n",
       "    </tr>\n",
       "    <tr>\n",
       "      <th>2</th>\n",
       "      <td>seaquest</td>\n",
       "      <td>Top-2 Soup of with_huber_loss_and_adam</td>\n",
       "      <td>0</td>\n",
       "      <td>[0.0, 0.0]</td>\n",
       "      <td>0.0</td>\n",
       "      <td>0.0</td>\n",
       "      <td>[with_huber_loss_and_adam/seaquest/started_at_...</td>\n",
       "    </tr>\n",
       "  </tbody>\n",
       "</table>\n",
       "</div>"
      ],
      "text/plain": [
       "       game                                   model  model_id episode_rewards  \\\n",
       "0  seaquest                  Top-2 Soup of mnih2013         0     [40.0, 0.0]   \n",
       "1  seaquest                  Top-2 Soup of mnih2015         0  [100.0, 160.0]   \n",
       "2  seaquest  Top-2 Soup of with_huber_loss_and_adam         0      [0.0, 0.0]   \n",
       "\n",
       "    mean  standard_deviation  \\\n",
       "0   20.0                20.0   \n",
       "1  130.0                30.0   \n",
       "2    0.0                 0.0   \n",
       "\n",
       "                                          model_path  \n",
       "0  [mnih2013/seaquest/started_at_2023-09-27_23-56...  \n",
       "1  [mnih2015/seaquest/started_at_2023-09-26_05-09...  \n",
       "2  [with_huber_loss_and_adam/seaquest/started_at_...  "
      ]
     },
     "execution_count": 58,
     "metadata": {},
     "output_type": "execute_result"
    }
   ],
   "source": [
    "evaluation_results_uniform_soups_df = pd.DataFrame.from_records(evaluation_results_uniform_soups)\n",
    "evaluation_results_uniform_soups_df.head()"
   ]
  },
  {
   "cell_type": "markdown",
   "metadata": {},
   "source": [
    "### Snapshot Soup\n",
    "\n",
    "Works like the Snapshot Ensemble, but as a Soup."
   ]
  },
  {
   "cell_type": "code",
   "execution_count": 59,
   "metadata": {},
   "outputs": [],
   "source": [
    "evaluation_results_snapshot_soups = []"
   ]
  },
  {
   "cell_type": "code",
   "execution_count": 60,
   "metadata": {},
   "outputs": [
    {
     "data": {
      "application/vnd.jupyter.widget-view+json": {
       "model_id": "c3f2d3a318ec4bcdb0af5a11c2a2120f",
       "version_major": 2,
       "version_minor": 0
      },
      "text/plain": [
       "Cooking Soup Model:   0%|          | 0/3 [00:00<?, ?it/s]"
      ]
     },
     "metadata": {},
     "output_type": "display_data"
    },
    {
     "name": "stdout",
     "output_type": "stream",
     "text": [
      "mnih2013/seaquest/started_at_2023-09-25_12-09-15/\n",
      "snapshot_0.keras\n",
      "snapshot_1.keras\n",
      "snapshot_10.keras\n",
      "snapshot_11.keras\n",
      "snapshot_12.keras\n",
      "snapshot_13.keras\n",
      "snapshot_14.keras\n",
      "snapshot_15.keras\n",
      "snapshot_16.keras\n",
      "snapshot_17.keras\n",
      "snapshot_18.keras\n",
      "snapshot_19.keras\n",
      "snapshot_2.keras\n",
      "snapshot_20.keras\n",
      "snapshot_21.keras\n",
      "snapshot_22.keras\n",
      "snapshot_23.keras\n",
      "snapshot_24.keras\n",
      "snapshot_25.keras\n",
      "snapshot_26.keras\n",
      "snapshot_27.keras\n",
      "snapshot_28.keras\n",
      "snapshot_29.keras\n",
      "snapshot_3.keras\n",
      "snapshot_30.keras\n",
      "snapshot_31.keras\n",
      "snapshot_32.keras\n",
      "snapshot_4.keras\n",
      "snapshot_5.keras\n",
      "snapshot_6.keras\n",
      "snapshot_7.keras\n",
      "snapshot_8.keras\n",
      "snapshot_9.keras\n",
      "snapshot_final.keras\n",
      "{0: 'mnih2013/seaquest/started_at_2023-09-25_12-09-15/snapshot_0.keras', 1: 'mnih2013/seaquest/started_at_2023-09-25_12-09-15/snapshot_1.keras', 10: 'mnih2013/seaquest/started_at_2023-09-25_12-09-15/snapshot_10.keras', 11: 'mnih2013/seaquest/started_at_2023-09-25_12-09-15/snapshot_11.keras', 12: 'mnih2013/seaquest/started_at_2023-09-25_12-09-15/snapshot_12.keras', 13: 'mnih2013/seaquest/started_at_2023-09-25_12-09-15/snapshot_13.keras', 14: 'mnih2013/seaquest/started_at_2023-09-25_12-09-15/snapshot_14.keras', 15: 'mnih2013/seaquest/started_at_2023-09-25_12-09-15/snapshot_15.keras', 16: 'mnih2013/seaquest/started_at_2023-09-25_12-09-15/snapshot_16.keras', 17: 'mnih2013/seaquest/started_at_2023-09-25_12-09-15/snapshot_17.keras', 18: 'mnih2013/seaquest/started_at_2023-09-25_12-09-15/snapshot_18.keras', 19: 'mnih2013/seaquest/started_at_2023-09-25_12-09-15/snapshot_19.keras', 2: 'mnih2013/seaquest/started_at_2023-09-25_12-09-15/snapshot_2.keras', 20: 'mnih2013/seaquest/started_at_2023-09-25_12-09-15/snapshot_20.keras', 21: 'mnih2013/seaquest/started_at_2023-09-25_12-09-15/snapshot_21.keras', 22: 'mnih2013/seaquest/started_at_2023-09-25_12-09-15/snapshot_22.keras', 23: 'mnih2013/seaquest/started_at_2023-09-25_12-09-15/snapshot_23.keras', 24: 'mnih2013/seaquest/started_at_2023-09-25_12-09-15/snapshot_24.keras', 25: 'mnih2013/seaquest/started_at_2023-09-25_12-09-15/snapshot_25.keras', 26: 'mnih2013/seaquest/started_at_2023-09-25_12-09-15/snapshot_26.keras', 27: 'mnih2013/seaquest/started_at_2023-09-25_12-09-15/snapshot_27.keras', 28: 'mnih2013/seaquest/started_at_2023-09-25_12-09-15/snapshot_28.keras', 29: 'mnih2013/seaquest/started_at_2023-09-25_12-09-15/snapshot_29.keras', 3: 'mnih2013/seaquest/started_at_2023-09-25_12-09-15/snapshot_3.keras', 30: 'mnih2013/seaquest/started_at_2023-09-25_12-09-15/snapshot_30.keras', 31: 'mnih2013/seaquest/started_at_2023-09-25_12-09-15/snapshot_31.keras', 32: 'mnih2013/seaquest/started_at_2023-09-25_12-09-15/snapshot_32.keras', 4: 'mnih2013/seaquest/started_at_2023-09-25_12-09-15/snapshot_4.keras', 5: 'mnih2013/seaquest/started_at_2023-09-25_12-09-15/snapshot_5.keras', 6: 'mnih2013/seaquest/started_at_2023-09-25_12-09-15/snapshot_6.keras', 7: 'mnih2013/seaquest/started_at_2023-09-25_12-09-15/snapshot_7.keras', 8: 'mnih2013/seaquest/started_at_2023-09-25_12-09-15/snapshot_8.keras', 9: 'mnih2013/seaquest/started_at_2023-09-25_12-09-15/snapshot_9.keras'}\n"
     ]
    },
    {
     "name": "stderr",
     "output_type": "stream",
     "text": [
      "C:\\Users\\timwi\\anaconda3\\envs\\DeepReinforcementLearning\\lib\\site-packages\\keras\\layers\\core\\lambda_layer.py:327: UserWarning: ModelFactory is not loaded, but a Lambda layer uses it. It may cause errors.\n",
      "  function = cls._parse_function_from_config(\n"
     ]
    },
    {
     "data": {
      "application/vnd.jupyter.widget-view+json": {
       "model_id": "744502567d6c4b41b110704395f3baef",
       "version_major": 2,
       "version_minor": 0
      },
      "text/plain": [
       "  0%|          | 0/2 [00:00<?, ?it/s]"
      ]
     },
     "metadata": {},
     "output_type": "display_data"
    },
    {
     "name": "stdout",
     "output_type": "stream",
     "text": [
      "mnih2013/seaquest/started_at_2023-09-25_12-41-34/\n",
      "snapshot_0.keras\n",
      "snapshot_1.keras\n",
      "snapshot_10.keras\n",
      "snapshot_11.keras\n",
      "snapshot_12.keras\n",
      "snapshot_13.keras\n",
      "snapshot_14.keras\n",
      "snapshot_15.keras\n",
      "snapshot_16.keras\n",
      "snapshot_17.keras\n",
      "snapshot_18.keras\n",
      "snapshot_19.keras\n",
      "snapshot_2.keras\n",
      "snapshot_20.keras\n",
      "snapshot_21.keras\n",
      "snapshot_22.keras\n",
      "snapshot_23.keras\n",
      "snapshot_24.keras\n",
      "snapshot_25.keras\n",
      "snapshot_26.keras\n",
      "snapshot_27.keras\n",
      "snapshot_28.keras\n",
      "snapshot_29.keras\n",
      "snapshot_3.keras\n",
      "snapshot_30.keras\n",
      "snapshot_31.keras\n",
      "snapshot_32.keras\n",
      "snapshot_4.keras\n",
      "snapshot_5.keras\n",
      "snapshot_6.keras\n",
      "snapshot_7.keras\n",
      "snapshot_8.keras\n",
      "snapshot_9.keras\n",
      "snapshot_final.keras\n",
      "{0: 'mnih2013/seaquest/started_at_2023-09-25_12-41-34/snapshot_0.keras', 1: 'mnih2013/seaquest/started_at_2023-09-25_12-41-34/snapshot_1.keras', 10: 'mnih2013/seaquest/started_at_2023-09-25_12-41-34/snapshot_10.keras', 11: 'mnih2013/seaquest/started_at_2023-09-25_12-41-34/snapshot_11.keras', 12: 'mnih2013/seaquest/started_at_2023-09-25_12-41-34/snapshot_12.keras', 13: 'mnih2013/seaquest/started_at_2023-09-25_12-41-34/snapshot_13.keras', 14: 'mnih2013/seaquest/started_at_2023-09-25_12-41-34/snapshot_14.keras', 15: 'mnih2013/seaquest/started_at_2023-09-25_12-41-34/snapshot_15.keras', 16: 'mnih2013/seaquest/started_at_2023-09-25_12-41-34/snapshot_16.keras', 17: 'mnih2013/seaquest/started_at_2023-09-25_12-41-34/snapshot_17.keras', 18: 'mnih2013/seaquest/started_at_2023-09-25_12-41-34/snapshot_18.keras', 19: 'mnih2013/seaquest/started_at_2023-09-25_12-41-34/snapshot_19.keras', 2: 'mnih2013/seaquest/started_at_2023-09-25_12-41-34/snapshot_2.keras', 20: 'mnih2013/seaquest/started_at_2023-09-25_12-41-34/snapshot_20.keras', 21: 'mnih2013/seaquest/started_at_2023-09-25_12-41-34/snapshot_21.keras', 22: 'mnih2013/seaquest/started_at_2023-09-25_12-41-34/snapshot_22.keras', 23: 'mnih2013/seaquest/started_at_2023-09-25_12-41-34/snapshot_23.keras', 24: 'mnih2013/seaquest/started_at_2023-09-25_12-41-34/snapshot_24.keras', 25: 'mnih2013/seaquest/started_at_2023-09-25_12-41-34/snapshot_25.keras', 26: 'mnih2013/seaquest/started_at_2023-09-25_12-41-34/snapshot_26.keras', 27: 'mnih2013/seaquest/started_at_2023-09-25_12-41-34/snapshot_27.keras', 28: 'mnih2013/seaquest/started_at_2023-09-25_12-41-34/snapshot_28.keras', 29: 'mnih2013/seaquest/started_at_2023-09-25_12-41-34/snapshot_29.keras', 3: 'mnih2013/seaquest/started_at_2023-09-25_12-41-34/snapshot_3.keras', 30: 'mnih2013/seaquest/started_at_2023-09-25_12-41-34/snapshot_30.keras', 31: 'mnih2013/seaquest/started_at_2023-09-25_12-41-34/snapshot_31.keras', 32: 'mnih2013/seaquest/started_at_2023-09-25_12-41-34/snapshot_32.keras', 4: 'mnih2013/seaquest/started_at_2023-09-25_12-41-34/snapshot_4.keras', 5: 'mnih2013/seaquest/started_at_2023-09-25_12-41-34/snapshot_5.keras', 6: 'mnih2013/seaquest/started_at_2023-09-25_12-41-34/snapshot_6.keras', 7: 'mnih2013/seaquest/started_at_2023-09-25_12-41-34/snapshot_7.keras', 8: 'mnih2013/seaquest/started_at_2023-09-25_12-41-34/snapshot_8.keras', 9: 'mnih2013/seaquest/started_at_2023-09-25_12-41-34/snapshot_9.keras'}\n"
     ]
    },
    {
     "data": {
      "application/vnd.jupyter.widget-view+json": {
       "model_id": "de4d37f224f9456091bc286c276b1a20",
       "version_major": 2,
       "version_minor": 0
      },
      "text/plain": [
       "  0%|          | 0/2 [00:00<?, ?it/s]"
      ]
     },
     "metadata": {},
     "output_type": "display_data"
    },
    {
     "name": "stdout",
     "output_type": "stream",
     "text": [
      "mnih2013/seaquest/started_at_2023-09-27_23-56-28/\n",
      "snapshot_0.keras\n",
      "snapshot_1.keras\n",
      "snapshot_10.keras\n",
      "snapshot_11.keras\n",
      "snapshot_12.keras\n",
      "snapshot_13.keras\n",
      "snapshot_14.keras\n",
      "snapshot_15.keras\n",
      "snapshot_16.keras\n",
      "snapshot_17.keras\n",
      "snapshot_18.keras\n",
      "snapshot_19.keras\n",
      "snapshot_2.keras\n",
      "snapshot_20.keras\n",
      "snapshot_21.keras\n",
      "snapshot_22.keras\n",
      "snapshot_23.keras\n",
      "snapshot_24.keras\n",
      "snapshot_25.keras\n",
      "snapshot_26.keras\n",
      "snapshot_27.keras\n",
      "snapshot_28.keras\n",
      "snapshot_29.keras\n",
      "snapshot_3.keras\n",
      "snapshot_30.keras\n",
      "snapshot_31.keras\n",
      "snapshot_32.keras\n",
      "snapshot_4.keras\n",
      "snapshot_5.keras\n",
      "snapshot_6.keras\n",
      "snapshot_7.keras\n",
      "snapshot_8.keras\n",
      "snapshot_9.keras\n",
      "snapshot_final.keras\n",
      "{0: 'mnih2013/seaquest/started_at_2023-09-27_23-56-28/snapshot_0.keras', 1: 'mnih2013/seaquest/started_at_2023-09-27_23-56-28/snapshot_1.keras', 10: 'mnih2013/seaquest/started_at_2023-09-27_23-56-28/snapshot_10.keras', 11: 'mnih2013/seaquest/started_at_2023-09-27_23-56-28/snapshot_11.keras', 12: 'mnih2013/seaquest/started_at_2023-09-27_23-56-28/snapshot_12.keras', 13: 'mnih2013/seaquest/started_at_2023-09-27_23-56-28/snapshot_13.keras', 14: 'mnih2013/seaquest/started_at_2023-09-27_23-56-28/snapshot_14.keras', 15: 'mnih2013/seaquest/started_at_2023-09-27_23-56-28/snapshot_15.keras', 16: 'mnih2013/seaquest/started_at_2023-09-27_23-56-28/snapshot_16.keras', 17: 'mnih2013/seaquest/started_at_2023-09-27_23-56-28/snapshot_17.keras', 18: 'mnih2013/seaquest/started_at_2023-09-27_23-56-28/snapshot_18.keras', 19: 'mnih2013/seaquest/started_at_2023-09-27_23-56-28/snapshot_19.keras', 2: 'mnih2013/seaquest/started_at_2023-09-27_23-56-28/snapshot_2.keras', 20: 'mnih2013/seaquest/started_at_2023-09-27_23-56-28/snapshot_20.keras', 21: 'mnih2013/seaquest/started_at_2023-09-27_23-56-28/snapshot_21.keras', 22: 'mnih2013/seaquest/started_at_2023-09-27_23-56-28/snapshot_22.keras', 23: 'mnih2013/seaquest/started_at_2023-09-27_23-56-28/snapshot_23.keras', 24: 'mnih2013/seaquest/started_at_2023-09-27_23-56-28/snapshot_24.keras', 25: 'mnih2013/seaquest/started_at_2023-09-27_23-56-28/snapshot_25.keras', 26: 'mnih2013/seaquest/started_at_2023-09-27_23-56-28/snapshot_26.keras', 27: 'mnih2013/seaquest/started_at_2023-09-27_23-56-28/snapshot_27.keras', 28: 'mnih2013/seaquest/started_at_2023-09-27_23-56-28/snapshot_28.keras', 29: 'mnih2013/seaquest/started_at_2023-09-27_23-56-28/snapshot_29.keras', 3: 'mnih2013/seaquest/started_at_2023-09-27_23-56-28/snapshot_3.keras', 30: 'mnih2013/seaquest/started_at_2023-09-27_23-56-28/snapshot_30.keras', 31: 'mnih2013/seaquest/started_at_2023-09-27_23-56-28/snapshot_31.keras', 32: 'mnih2013/seaquest/started_at_2023-09-27_23-56-28/snapshot_32.keras', 4: 'mnih2013/seaquest/started_at_2023-09-27_23-56-28/snapshot_4.keras', 5: 'mnih2013/seaquest/started_at_2023-09-27_23-56-28/snapshot_5.keras', 6: 'mnih2013/seaquest/started_at_2023-09-27_23-56-28/snapshot_6.keras', 7: 'mnih2013/seaquest/started_at_2023-09-27_23-56-28/snapshot_7.keras', 8: 'mnih2013/seaquest/started_at_2023-09-27_23-56-28/snapshot_8.keras', 9: 'mnih2013/seaquest/started_at_2023-09-27_23-56-28/snapshot_9.keras'}\n"
     ]
    },
    {
     "data": {
      "application/vnd.jupyter.widget-view+json": {
       "model_id": "fc4e803892f9472689551a18fdbaa27e",
       "version_major": 2,
       "version_minor": 0
      },
      "text/plain": [
       "  0%|          | 0/2 [00:00<?, ?it/s]"
      ]
     },
     "metadata": {},
     "output_type": "display_data"
    },
    {
     "name": "stdout",
     "output_type": "stream",
     "text": [
      "mnih2015/seaquest/started_at_2023-09-26_05-09-11/\n",
      "snapshot_0.keras\n",
      "snapshot_1.keras\n",
      "snapshot_10.keras\n",
      "snapshot_11.keras\n",
      "snapshot_12.keras\n",
      "snapshot_13.keras\n",
      "snapshot_14.keras\n",
      "snapshot_15.keras\n",
      "snapshot_16.keras\n",
      "snapshot_17.keras\n",
      "snapshot_18.keras\n",
      "snapshot_19.keras\n",
      "snapshot_2.keras\n",
      "snapshot_20.keras\n",
      "snapshot_21.keras\n",
      "snapshot_22.keras\n",
      "snapshot_23.keras\n",
      "snapshot_24.keras\n",
      "snapshot_25.keras\n",
      "snapshot_26.keras\n",
      "snapshot_27.keras\n",
      "snapshot_28.keras\n",
      "snapshot_29.keras\n",
      "snapshot_3.keras\n",
      "snapshot_30.keras\n",
      "snapshot_31.keras\n",
      "snapshot_32.keras\n",
      "snapshot_4.keras\n",
      "snapshot_5.keras\n",
      "snapshot_6.keras\n",
      "snapshot_7.keras\n",
      "snapshot_8.keras\n",
      "snapshot_9.keras\n",
      "snapshot_final.keras\n",
      "{0: 'mnih2015/seaquest/started_at_2023-09-26_05-09-11/snapshot_0.keras', 1: 'mnih2015/seaquest/started_at_2023-09-26_05-09-11/snapshot_1.keras', 10: 'mnih2015/seaquest/started_at_2023-09-26_05-09-11/snapshot_10.keras', 11: 'mnih2015/seaquest/started_at_2023-09-26_05-09-11/snapshot_11.keras', 12: 'mnih2015/seaquest/started_at_2023-09-26_05-09-11/snapshot_12.keras', 13: 'mnih2015/seaquest/started_at_2023-09-26_05-09-11/snapshot_13.keras', 14: 'mnih2015/seaquest/started_at_2023-09-26_05-09-11/snapshot_14.keras', 15: 'mnih2015/seaquest/started_at_2023-09-26_05-09-11/snapshot_15.keras', 16: 'mnih2015/seaquest/started_at_2023-09-26_05-09-11/snapshot_16.keras', 17: 'mnih2015/seaquest/started_at_2023-09-26_05-09-11/snapshot_17.keras', 18: 'mnih2015/seaquest/started_at_2023-09-26_05-09-11/snapshot_18.keras', 19: 'mnih2015/seaquest/started_at_2023-09-26_05-09-11/snapshot_19.keras', 2: 'mnih2015/seaquest/started_at_2023-09-26_05-09-11/snapshot_2.keras', 20: 'mnih2015/seaquest/started_at_2023-09-26_05-09-11/snapshot_20.keras', 21: 'mnih2015/seaquest/started_at_2023-09-26_05-09-11/snapshot_21.keras', 22: 'mnih2015/seaquest/started_at_2023-09-26_05-09-11/snapshot_22.keras', 23: 'mnih2015/seaquest/started_at_2023-09-26_05-09-11/snapshot_23.keras', 24: 'mnih2015/seaquest/started_at_2023-09-26_05-09-11/snapshot_24.keras', 25: 'mnih2015/seaquest/started_at_2023-09-26_05-09-11/snapshot_25.keras', 26: 'mnih2015/seaquest/started_at_2023-09-26_05-09-11/snapshot_26.keras', 27: 'mnih2015/seaquest/started_at_2023-09-26_05-09-11/snapshot_27.keras', 28: 'mnih2015/seaquest/started_at_2023-09-26_05-09-11/snapshot_28.keras', 29: 'mnih2015/seaquest/started_at_2023-09-26_05-09-11/snapshot_29.keras', 3: 'mnih2015/seaquest/started_at_2023-09-26_05-09-11/snapshot_3.keras', 30: 'mnih2015/seaquest/started_at_2023-09-26_05-09-11/snapshot_30.keras', 31: 'mnih2015/seaquest/started_at_2023-09-26_05-09-11/snapshot_31.keras', 32: 'mnih2015/seaquest/started_at_2023-09-26_05-09-11/snapshot_32.keras', 4: 'mnih2015/seaquest/started_at_2023-09-26_05-09-11/snapshot_4.keras', 5: 'mnih2015/seaquest/started_at_2023-09-26_05-09-11/snapshot_5.keras', 6: 'mnih2015/seaquest/started_at_2023-09-26_05-09-11/snapshot_6.keras', 7: 'mnih2015/seaquest/started_at_2023-09-26_05-09-11/snapshot_7.keras', 8: 'mnih2015/seaquest/started_at_2023-09-26_05-09-11/snapshot_8.keras', 9: 'mnih2015/seaquest/started_at_2023-09-26_05-09-11/snapshot_9.keras'}\n"
     ]
    },
    {
     "data": {
      "application/vnd.jupyter.widget-view+json": {
       "model_id": "54dd66acb6b248eeb7c4f410779ab069",
       "version_major": 2,
       "version_minor": 0
      },
      "text/plain": [
       "  0%|          | 0/2 [00:00<?, ?it/s]"
      ]
     },
     "metadata": {},
     "output_type": "display_data"
    },
    {
     "name": "stdout",
     "output_type": "stream",
     "text": [
      "mnih2015/seaquest/started_at_2023-09-26_05-31-20/\n",
      "snapshot_0.keras\n",
      "snapshot_1.keras\n",
      "snapshot_10.keras\n",
      "snapshot_11.keras\n",
      "snapshot_12.keras\n",
      "snapshot_13.keras\n",
      "snapshot_14.keras\n",
      "snapshot_15.keras\n",
      "snapshot_16.keras\n",
      "snapshot_17.keras\n",
      "snapshot_18.keras\n",
      "snapshot_19.keras\n",
      "snapshot_2.keras\n",
      "snapshot_20.keras\n",
      "snapshot_21.keras\n",
      "snapshot_22.keras\n",
      "snapshot_23.keras\n",
      "snapshot_24.keras\n",
      "snapshot_25.keras\n",
      "snapshot_26.keras\n",
      "snapshot_27.keras\n",
      "snapshot_28.keras\n",
      "snapshot_29.keras\n",
      "snapshot_3.keras\n",
      "snapshot_30.keras\n",
      "snapshot_31.keras\n",
      "snapshot_32.keras\n",
      "snapshot_4.keras\n",
      "snapshot_5.keras\n",
      "snapshot_6.keras\n",
      "snapshot_7.keras\n",
      "snapshot_8.keras\n",
      "snapshot_9.keras\n",
      "snapshot_final.keras\n",
      "{0: 'mnih2015/seaquest/started_at_2023-09-26_05-31-20/snapshot_0.keras', 1: 'mnih2015/seaquest/started_at_2023-09-26_05-31-20/snapshot_1.keras', 10: 'mnih2015/seaquest/started_at_2023-09-26_05-31-20/snapshot_10.keras', 11: 'mnih2015/seaquest/started_at_2023-09-26_05-31-20/snapshot_11.keras', 12: 'mnih2015/seaquest/started_at_2023-09-26_05-31-20/snapshot_12.keras', 13: 'mnih2015/seaquest/started_at_2023-09-26_05-31-20/snapshot_13.keras', 14: 'mnih2015/seaquest/started_at_2023-09-26_05-31-20/snapshot_14.keras', 15: 'mnih2015/seaquest/started_at_2023-09-26_05-31-20/snapshot_15.keras', 16: 'mnih2015/seaquest/started_at_2023-09-26_05-31-20/snapshot_16.keras', 17: 'mnih2015/seaquest/started_at_2023-09-26_05-31-20/snapshot_17.keras', 18: 'mnih2015/seaquest/started_at_2023-09-26_05-31-20/snapshot_18.keras', 19: 'mnih2015/seaquest/started_at_2023-09-26_05-31-20/snapshot_19.keras', 2: 'mnih2015/seaquest/started_at_2023-09-26_05-31-20/snapshot_2.keras', 20: 'mnih2015/seaquest/started_at_2023-09-26_05-31-20/snapshot_20.keras', 21: 'mnih2015/seaquest/started_at_2023-09-26_05-31-20/snapshot_21.keras', 22: 'mnih2015/seaquest/started_at_2023-09-26_05-31-20/snapshot_22.keras', 23: 'mnih2015/seaquest/started_at_2023-09-26_05-31-20/snapshot_23.keras', 24: 'mnih2015/seaquest/started_at_2023-09-26_05-31-20/snapshot_24.keras', 25: 'mnih2015/seaquest/started_at_2023-09-26_05-31-20/snapshot_25.keras', 26: 'mnih2015/seaquest/started_at_2023-09-26_05-31-20/snapshot_26.keras', 27: 'mnih2015/seaquest/started_at_2023-09-26_05-31-20/snapshot_27.keras', 28: 'mnih2015/seaquest/started_at_2023-09-26_05-31-20/snapshot_28.keras', 29: 'mnih2015/seaquest/started_at_2023-09-26_05-31-20/snapshot_29.keras', 3: 'mnih2015/seaquest/started_at_2023-09-26_05-31-20/snapshot_3.keras', 30: 'mnih2015/seaquest/started_at_2023-09-26_05-31-20/snapshot_30.keras', 31: 'mnih2015/seaquest/started_at_2023-09-26_05-31-20/snapshot_31.keras', 32: 'mnih2015/seaquest/started_at_2023-09-26_05-31-20/snapshot_32.keras', 4: 'mnih2015/seaquest/started_at_2023-09-26_05-31-20/snapshot_4.keras', 5: 'mnih2015/seaquest/started_at_2023-09-26_05-31-20/snapshot_5.keras', 6: 'mnih2015/seaquest/started_at_2023-09-26_05-31-20/snapshot_6.keras', 7: 'mnih2015/seaquest/started_at_2023-09-26_05-31-20/snapshot_7.keras', 8: 'mnih2015/seaquest/started_at_2023-09-26_05-31-20/snapshot_8.keras', 9: 'mnih2015/seaquest/started_at_2023-09-26_05-31-20/snapshot_9.keras'}\n"
     ]
    },
    {
     "data": {
      "application/vnd.jupyter.widget-view+json": {
       "model_id": "94d7113f32134f658da4e6ccc12b576e",
       "version_major": 2,
       "version_minor": 0
      },
      "text/plain": [
       "  0%|          | 0/2 [00:00<?, ?it/s]"
      ]
     },
     "metadata": {},
     "output_type": "display_data"
    },
    {
     "name": "stdout",
     "output_type": "stream",
     "text": [
      "mnih2015/seaquest/started_at_2023-09-26_06-55-14/\n",
      "snapshot_0.keras\n",
      "snapshot_1.keras\n",
      "snapshot_10.keras\n",
      "snapshot_11.keras\n",
      "snapshot_12.keras\n",
      "snapshot_13.keras\n",
      "snapshot_14.keras\n",
      "snapshot_15.keras\n",
      "snapshot_16.keras\n",
      "snapshot_17.keras\n",
      "snapshot_18.keras\n",
      "snapshot_19.keras\n",
      "snapshot_2.keras\n",
      "snapshot_20.keras\n",
      "snapshot_21.keras\n",
      "snapshot_22.keras\n",
      "snapshot_23.keras\n",
      "snapshot_24.keras\n",
      "snapshot_25.keras\n",
      "snapshot_26.keras\n",
      "snapshot_27.keras\n",
      "snapshot_28.keras\n",
      "snapshot_29.keras\n",
      "snapshot_3.keras\n",
      "snapshot_30.keras\n",
      "snapshot_31.keras\n",
      "snapshot_32.keras\n",
      "snapshot_4.keras\n",
      "snapshot_5.keras\n",
      "snapshot_6.keras\n",
      "snapshot_7.keras\n",
      "snapshot_8.keras\n",
      "snapshot_9.keras\n",
      "snapshot_final.keras\n",
      "{0: 'mnih2015/seaquest/started_at_2023-09-26_06-55-14/snapshot_0.keras', 1: 'mnih2015/seaquest/started_at_2023-09-26_06-55-14/snapshot_1.keras', 10: 'mnih2015/seaquest/started_at_2023-09-26_06-55-14/snapshot_10.keras', 11: 'mnih2015/seaquest/started_at_2023-09-26_06-55-14/snapshot_11.keras', 12: 'mnih2015/seaquest/started_at_2023-09-26_06-55-14/snapshot_12.keras', 13: 'mnih2015/seaquest/started_at_2023-09-26_06-55-14/snapshot_13.keras', 14: 'mnih2015/seaquest/started_at_2023-09-26_06-55-14/snapshot_14.keras', 15: 'mnih2015/seaquest/started_at_2023-09-26_06-55-14/snapshot_15.keras', 16: 'mnih2015/seaquest/started_at_2023-09-26_06-55-14/snapshot_16.keras', 17: 'mnih2015/seaquest/started_at_2023-09-26_06-55-14/snapshot_17.keras', 18: 'mnih2015/seaquest/started_at_2023-09-26_06-55-14/snapshot_18.keras', 19: 'mnih2015/seaquest/started_at_2023-09-26_06-55-14/snapshot_19.keras', 2: 'mnih2015/seaquest/started_at_2023-09-26_06-55-14/snapshot_2.keras', 20: 'mnih2015/seaquest/started_at_2023-09-26_06-55-14/snapshot_20.keras', 21: 'mnih2015/seaquest/started_at_2023-09-26_06-55-14/snapshot_21.keras', 22: 'mnih2015/seaquest/started_at_2023-09-26_06-55-14/snapshot_22.keras', 23: 'mnih2015/seaquest/started_at_2023-09-26_06-55-14/snapshot_23.keras', 24: 'mnih2015/seaquest/started_at_2023-09-26_06-55-14/snapshot_24.keras', 25: 'mnih2015/seaquest/started_at_2023-09-26_06-55-14/snapshot_25.keras', 26: 'mnih2015/seaquest/started_at_2023-09-26_06-55-14/snapshot_26.keras', 27: 'mnih2015/seaquest/started_at_2023-09-26_06-55-14/snapshot_27.keras', 28: 'mnih2015/seaquest/started_at_2023-09-26_06-55-14/snapshot_28.keras', 29: 'mnih2015/seaquest/started_at_2023-09-26_06-55-14/snapshot_29.keras', 3: 'mnih2015/seaquest/started_at_2023-09-26_06-55-14/snapshot_3.keras', 30: 'mnih2015/seaquest/started_at_2023-09-26_06-55-14/snapshot_30.keras', 31: 'mnih2015/seaquest/started_at_2023-09-26_06-55-14/snapshot_31.keras', 32: 'mnih2015/seaquest/started_at_2023-09-26_06-55-14/snapshot_32.keras', 4: 'mnih2015/seaquest/started_at_2023-09-26_06-55-14/snapshot_4.keras', 5: 'mnih2015/seaquest/started_at_2023-09-26_06-55-14/snapshot_5.keras', 6: 'mnih2015/seaquest/started_at_2023-09-26_06-55-14/snapshot_6.keras', 7: 'mnih2015/seaquest/started_at_2023-09-26_06-55-14/snapshot_7.keras', 8: 'mnih2015/seaquest/started_at_2023-09-26_06-55-14/snapshot_8.keras', 9: 'mnih2015/seaquest/started_at_2023-09-26_06-55-14/snapshot_9.keras'}\n"
     ]
    },
    {
     "data": {
      "application/vnd.jupyter.widget-view+json": {
       "model_id": "17a4ac3a16f842ff8fe63b86afb91aaa",
       "version_major": 2,
       "version_minor": 0
      },
      "text/plain": [
       "  0%|          | 0/2 [00:00<?, ?it/s]"
      ]
     },
     "metadata": {},
     "output_type": "display_data"
    },
    {
     "name": "stdout",
     "output_type": "stream",
     "text": [
      "with_huber_loss_and_adam/seaquest/started_at_2023-09-26_10-45-03/\n",
      "snapshot_0.keras\n",
      "snapshot_1.keras\n",
      "snapshot_10.keras\n",
      "snapshot_11.keras\n",
      "snapshot_12.keras\n",
      "snapshot_13.keras\n",
      "snapshot_14.keras\n",
      "snapshot_15.keras\n",
      "snapshot_16.keras\n",
      "snapshot_17.keras\n",
      "snapshot_18.keras\n",
      "snapshot_19.keras\n",
      "snapshot_2.keras\n",
      "snapshot_20.keras\n",
      "snapshot_21.keras\n",
      "snapshot_22.keras\n",
      "snapshot_23.keras\n",
      "snapshot_24.keras\n",
      "snapshot_25.keras\n",
      "snapshot_26.keras\n",
      "snapshot_27.keras\n",
      "snapshot_28.keras\n",
      "snapshot_29.keras\n",
      "snapshot_3.keras\n",
      "snapshot_30.keras\n",
      "snapshot_31.keras\n",
      "snapshot_32.keras\n",
      "snapshot_4.keras\n",
      "snapshot_5.keras\n",
      "snapshot_6.keras\n",
      "snapshot_7.keras\n",
      "snapshot_8.keras\n",
      "snapshot_9.keras\n",
      "snapshot_final.keras\n",
      "{0: 'with_huber_loss_and_adam/seaquest/started_at_2023-09-26_10-45-03/snapshot_0.keras', 1: 'with_huber_loss_and_adam/seaquest/started_at_2023-09-26_10-45-03/snapshot_1.keras', 10: 'with_huber_loss_and_adam/seaquest/started_at_2023-09-26_10-45-03/snapshot_10.keras', 11: 'with_huber_loss_and_adam/seaquest/started_at_2023-09-26_10-45-03/snapshot_11.keras', 12: 'with_huber_loss_and_adam/seaquest/started_at_2023-09-26_10-45-03/snapshot_12.keras', 13: 'with_huber_loss_and_adam/seaquest/started_at_2023-09-26_10-45-03/snapshot_13.keras', 14: 'with_huber_loss_and_adam/seaquest/started_at_2023-09-26_10-45-03/snapshot_14.keras', 15: 'with_huber_loss_and_adam/seaquest/started_at_2023-09-26_10-45-03/snapshot_15.keras', 16: 'with_huber_loss_and_adam/seaquest/started_at_2023-09-26_10-45-03/snapshot_16.keras', 17: 'with_huber_loss_and_adam/seaquest/started_at_2023-09-26_10-45-03/snapshot_17.keras', 18: 'with_huber_loss_and_adam/seaquest/started_at_2023-09-26_10-45-03/snapshot_18.keras', 19: 'with_huber_loss_and_adam/seaquest/started_at_2023-09-26_10-45-03/snapshot_19.keras', 2: 'with_huber_loss_and_adam/seaquest/started_at_2023-09-26_10-45-03/snapshot_2.keras', 20: 'with_huber_loss_and_adam/seaquest/started_at_2023-09-26_10-45-03/snapshot_20.keras', 21: 'with_huber_loss_and_adam/seaquest/started_at_2023-09-26_10-45-03/snapshot_21.keras', 22: 'with_huber_loss_and_adam/seaquest/started_at_2023-09-26_10-45-03/snapshot_22.keras', 23: 'with_huber_loss_and_adam/seaquest/started_at_2023-09-26_10-45-03/snapshot_23.keras', 24: 'with_huber_loss_and_adam/seaquest/started_at_2023-09-26_10-45-03/snapshot_24.keras', 25: 'with_huber_loss_and_adam/seaquest/started_at_2023-09-26_10-45-03/snapshot_25.keras', 26: 'with_huber_loss_and_adam/seaquest/started_at_2023-09-26_10-45-03/snapshot_26.keras', 27: 'with_huber_loss_and_adam/seaquest/started_at_2023-09-26_10-45-03/snapshot_27.keras', 28: 'with_huber_loss_and_adam/seaquest/started_at_2023-09-26_10-45-03/snapshot_28.keras', 29: 'with_huber_loss_and_adam/seaquest/started_at_2023-09-26_10-45-03/snapshot_29.keras', 3: 'with_huber_loss_and_adam/seaquest/started_at_2023-09-26_10-45-03/snapshot_3.keras', 30: 'with_huber_loss_and_adam/seaquest/started_at_2023-09-26_10-45-03/snapshot_30.keras', 31: 'with_huber_loss_and_adam/seaquest/started_at_2023-09-26_10-45-03/snapshot_31.keras', 32: 'with_huber_loss_and_adam/seaquest/started_at_2023-09-26_10-45-03/snapshot_32.keras', 4: 'with_huber_loss_and_adam/seaquest/started_at_2023-09-26_10-45-03/snapshot_4.keras', 5: 'with_huber_loss_and_adam/seaquest/started_at_2023-09-26_10-45-03/snapshot_5.keras', 6: 'with_huber_loss_and_adam/seaquest/started_at_2023-09-26_10-45-03/snapshot_6.keras', 7: 'with_huber_loss_and_adam/seaquest/started_at_2023-09-26_10-45-03/snapshot_7.keras', 8: 'with_huber_loss_and_adam/seaquest/started_at_2023-09-26_10-45-03/snapshot_8.keras', 9: 'with_huber_loss_and_adam/seaquest/started_at_2023-09-26_10-45-03/snapshot_9.keras'}\n"
     ]
    },
    {
     "data": {
      "application/vnd.jupyter.widget-view+json": {
       "model_id": "ea26d2d70020461e982239fa5f37cf6f",
       "version_major": 2,
       "version_minor": 0
      },
      "text/plain": [
       "  0%|          | 0/2 [00:00<?, ?it/s]"
      ]
     },
     "metadata": {},
     "output_type": "display_data"
    },
    {
     "name": "stdout",
     "output_type": "stream",
     "text": [
      "with_huber_loss_and_adam/seaquest/started_at_2023-09-26_11-35-06/\n",
      "snapshot_0.keras\n",
      "snapshot_1.keras\n",
      "snapshot_10.keras\n",
      "snapshot_11.keras\n",
      "snapshot_12.keras\n",
      "snapshot_13.keras\n",
      "snapshot_14.keras\n",
      "snapshot_15.keras\n",
      "snapshot_16.keras\n",
      "snapshot_17.keras\n",
      "snapshot_18.keras\n",
      "snapshot_19.keras\n",
      "snapshot_2.keras\n",
      "snapshot_20.keras\n",
      "snapshot_21.keras\n",
      "snapshot_22.keras\n",
      "snapshot_23.keras\n",
      "snapshot_24.keras\n",
      "snapshot_25.keras\n",
      "snapshot_26.keras\n",
      "snapshot_27.keras\n",
      "snapshot_28.keras\n",
      "snapshot_29.keras\n",
      "snapshot_3.keras\n",
      "snapshot_30.keras\n",
      "snapshot_31.keras\n",
      "snapshot_32.keras\n",
      "snapshot_4.keras\n",
      "snapshot_5.keras\n",
      "snapshot_6.keras\n",
      "snapshot_7.keras\n",
      "snapshot_8.keras\n",
      "snapshot_9.keras\n",
      "snapshot_final.keras\n",
      "{0: 'with_huber_loss_and_adam/seaquest/started_at_2023-09-26_11-35-06/snapshot_0.keras', 1: 'with_huber_loss_and_adam/seaquest/started_at_2023-09-26_11-35-06/snapshot_1.keras', 10: 'with_huber_loss_and_adam/seaquest/started_at_2023-09-26_11-35-06/snapshot_10.keras', 11: 'with_huber_loss_and_adam/seaquest/started_at_2023-09-26_11-35-06/snapshot_11.keras', 12: 'with_huber_loss_and_adam/seaquest/started_at_2023-09-26_11-35-06/snapshot_12.keras', 13: 'with_huber_loss_and_adam/seaquest/started_at_2023-09-26_11-35-06/snapshot_13.keras', 14: 'with_huber_loss_and_adam/seaquest/started_at_2023-09-26_11-35-06/snapshot_14.keras', 15: 'with_huber_loss_and_adam/seaquest/started_at_2023-09-26_11-35-06/snapshot_15.keras', 16: 'with_huber_loss_and_adam/seaquest/started_at_2023-09-26_11-35-06/snapshot_16.keras', 17: 'with_huber_loss_and_adam/seaquest/started_at_2023-09-26_11-35-06/snapshot_17.keras', 18: 'with_huber_loss_and_adam/seaquest/started_at_2023-09-26_11-35-06/snapshot_18.keras', 19: 'with_huber_loss_and_adam/seaquest/started_at_2023-09-26_11-35-06/snapshot_19.keras', 2: 'with_huber_loss_and_adam/seaquest/started_at_2023-09-26_11-35-06/snapshot_2.keras', 20: 'with_huber_loss_and_adam/seaquest/started_at_2023-09-26_11-35-06/snapshot_20.keras', 21: 'with_huber_loss_and_adam/seaquest/started_at_2023-09-26_11-35-06/snapshot_21.keras', 22: 'with_huber_loss_and_adam/seaquest/started_at_2023-09-26_11-35-06/snapshot_22.keras', 23: 'with_huber_loss_and_adam/seaquest/started_at_2023-09-26_11-35-06/snapshot_23.keras', 24: 'with_huber_loss_and_adam/seaquest/started_at_2023-09-26_11-35-06/snapshot_24.keras', 25: 'with_huber_loss_and_adam/seaquest/started_at_2023-09-26_11-35-06/snapshot_25.keras', 26: 'with_huber_loss_and_adam/seaquest/started_at_2023-09-26_11-35-06/snapshot_26.keras', 27: 'with_huber_loss_and_adam/seaquest/started_at_2023-09-26_11-35-06/snapshot_27.keras', 28: 'with_huber_loss_and_adam/seaquest/started_at_2023-09-26_11-35-06/snapshot_28.keras', 29: 'with_huber_loss_and_adam/seaquest/started_at_2023-09-26_11-35-06/snapshot_29.keras', 3: 'with_huber_loss_and_adam/seaquest/started_at_2023-09-26_11-35-06/snapshot_3.keras', 30: 'with_huber_loss_and_adam/seaquest/started_at_2023-09-26_11-35-06/snapshot_30.keras', 31: 'with_huber_loss_and_adam/seaquest/started_at_2023-09-26_11-35-06/snapshot_31.keras', 32: 'with_huber_loss_and_adam/seaquest/started_at_2023-09-26_11-35-06/snapshot_32.keras', 4: 'with_huber_loss_and_adam/seaquest/started_at_2023-09-26_11-35-06/snapshot_4.keras', 5: 'with_huber_loss_and_adam/seaquest/started_at_2023-09-26_11-35-06/snapshot_5.keras', 6: 'with_huber_loss_and_adam/seaquest/started_at_2023-09-26_11-35-06/snapshot_6.keras', 7: 'with_huber_loss_and_adam/seaquest/started_at_2023-09-26_11-35-06/snapshot_7.keras', 8: 'with_huber_loss_and_adam/seaquest/started_at_2023-09-26_11-35-06/snapshot_8.keras', 9: 'with_huber_loss_and_adam/seaquest/started_at_2023-09-26_11-35-06/snapshot_9.keras'}\n"
     ]
    },
    {
     "data": {
      "application/vnd.jupyter.widget-view+json": {
       "model_id": "64eb9a45e6c94d6f861973050a9fca8e",
       "version_major": 2,
       "version_minor": 0
      },
      "text/plain": [
       "  0%|          | 0/2 [00:00<?, ?it/s]"
      ]
     },
     "metadata": {},
     "output_type": "display_data"
    },
    {
     "name": "stdout",
     "output_type": "stream",
     "text": [
      "with_huber_loss_and_adam/seaquest/started_at_2023-09-26_12-05-08/\n",
      "snapshot_0.keras\n",
      "snapshot_1.keras\n",
      "snapshot_10.keras\n",
      "snapshot_11.keras\n",
      "snapshot_12.keras\n",
      "snapshot_13.keras\n",
      "snapshot_14.keras\n",
      "snapshot_15.keras\n",
      "snapshot_16.keras\n",
      "snapshot_17.keras\n",
      "snapshot_18.keras\n",
      "snapshot_19.keras\n",
      "snapshot_2.keras\n",
      "snapshot_20.keras\n",
      "snapshot_21.keras\n",
      "snapshot_22.keras\n",
      "snapshot_23.keras\n",
      "snapshot_24.keras\n",
      "snapshot_25.keras\n",
      "snapshot_26.keras\n",
      "snapshot_27.keras\n",
      "snapshot_28.keras\n",
      "snapshot_29.keras\n",
      "snapshot_3.keras\n",
      "snapshot_30.keras\n",
      "snapshot_31.keras\n",
      "snapshot_32.keras\n",
      "snapshot_4.keras\n",
      "snapshot_5.keras\n",
      "snapshot_6.keras\n",
      "snapshot_7.keras\n",
      "snapshot_8.keras\n",
      "snapshot_9.keras\n",
      "snapshot_final.keras\n",
      "{0: 'with_huber_loss_and_adam/seaquest/started_at_2023-09-26_12-05-08/snapshot_0.keras', 1: 'with_huber_loss_and_adam/seaquest/started_at_2023-09-26_12-05-08/snapshot_1.keras', 10: 'with_huber_loss_and_adam/seaquest/started_at_2023-09-26_12-05-08/snapshot_10.keras', 11: 'with_huber_loss_and_adam/seaquest/started_at_2023-09-26_12-05-08/snapshot_11.keras', 12: 'with_huber_loss_and_adam/seaquest/started_at_2023-09-26_12-05-08/snapshot_12.keras', 13: 'with_huber_loss_and_adam/seaquest/started_at_2023-09-26_12-05-08/snapshot_13.keras', 14: 'with_huber_loss_and_adam/seaquest/started_at_2023-09-26_12-05-08/snapshot_14.keras', 15: 'with_huber_loss_and_adam/seaquest/started_at_2023-09-26_12-05-08/snapshot_15.keras', 16: 'with_huber_loss_and_adam/seaquest/started_at_2023-09-26_12-05-08/snapshot_16.keras', 17: 'with_huber_loss_and_adam/seaquest/started_at_2023-09-26_12-05-08/snapshot_17.keras', 18: 'with_huber_loss_and_adam/seaquest/started_at_2023-09-26_12-05-08/snapshot_18.keras', 19: 'with_huber_loss_and_adam/seaquest/started_at_2023-09-26_12-05-08/snapshot_19.keras', 2: 'with_huber_loss_and_adam/seaquest/started_at_2023-09-26_12-05-08/snapshot_2.keras', 20: 'with_huber_loss_and_adam/seaquest/started_at_2023-09-26_12-05-08/snapshot_20.keras', 21: 'with_huber_loss_and_adam/seaquest/started_at_2023-09-26_12-05-08/snapshot_21.keras', 22: 'with_huber_loss_and_adam/seaquest/started_at_2023-09-26_12-05-08/snapshot_22.keras', 23: 'with_huber_loss_and_adam/seaquest/started_at_2023-09-26_12-05-08/snapshot_23.keras', 24: 'with_huber_loss_and_adam/seaquest/started_at_2023-09-26_12-05-08/snapshot_24.keras', 25: 'with_huber_loss_and_adam/seaquest/started_at_2023-09-26_12-05-08/snapshot_25.keras', 26: 'with_huber_loss_and_adam/seaquest/started_at_2023-09-26_12-05-08/snapshot_26.keras', 27: 'with_huber_loss_and_adam/seaquest/started_at_2023-09-26_12-05-08/snapshot_27.keras', 28: 'with_huber_loss_and_adam/seaquest/started_at_2023-09-26_12-05-08/snapshot_28.keras', 29: 'with_huber_loss_and_adam/seaquest/started_at_2023-09-26_12-05-08/snapshot_29.keras', 3: 'with_huber_loss_and_adam/seaquest/started_at_2023-09-26_12-05-08/snapshot_3.keras', 30: 'with_huber_loss_and_adam/seaquest/started_at_2023-09-26_12-05-08/snapshot_30.keras', 31: 'with_huber_loss_and_adam/seaquest/started_at_2023-09-26_12-05-08/snapshot_31.keras', 32: 'with_huber_loss_and_adam/seaquest/started_at_2023-09-26_12-05-08/snapshot_32.keras', 4: 'with_huber_loss_and_adam/seaquest/started_at_2023-09-26_12-05-08/snapshot_4.keras', 5: 'with_huber_loss_and_adam/seaquest/started_at_2023-09-26_12-05-08/snapshot_5.keras', 6: 'with_huber_loss_and_adam/seaquest/started_at_2023-09-26_12-05-08/snapshot_6.keras', 7: 'with_huber_loss_and_adam/seaquest/started_at_2023-09-26_12-05-08/snapshot_7.keras', 8: 'with_huber_loss_and_adam/seaquest/started_at_2023-09-26_12-05-08/snapshot_8.keras', 9: 'with_huber_loss_and_adam/seaquest/started_at_2023-09-26_12-05-08/snapshot_9.keras'}\n"
     ]
    },
    {
     "data": {
      "application/vnd.jupyter.widget-view+json": {
       "model_id": "482b43f23fda486e95ca93e4c03ae951",
       "version_major": 2,
       "version_minor": 0
      },
      "text/plain": [
       "  0%|          | 0/2 [00:00<?, ?it/s]"
      ]
     },
     "metadata": {},
     "output_type": "display_data"
    },
    {
     "ename": "KeyboardInterrupt",
     "evalue": "",
     "output_type": "error",
     "traceback": [
      "\u001B[1;31m---------------------------------------------------------------------------\u001B[0m",
      "\u001B[1;31mKeyboardInterrupt\u001B[0m                         Traceback (most recent call last)",
      "Cell \u001B[1;32mIn[60], line 18\u001B[0m\n\u001B[0;32m     14\u001B[0m models \u001B[38;5;241m=\u001B[39m load_models(model_paths)\n\u001B[0;32m     16\u001B[0m soup \u001B[38;5;241m=\u001B[39m Soup(models)\u001B[38;5;241m.\u001B[39mget_soup_model()\n\u001B[1;32m---> 18\u001B[0m rewards \u001B[38;5;241m=\u001B[39m \u001B[43mevaluate_model\u001B[49m\u001B[43m(\u001B[49m\u001B[43mgame_name\u001B[49m\u001B[43m,\u001B[49m\u001B[43m \u001B[49m\u001B[43msoup\u001B[49m\u001B[43m,\u001B[49m\u001B[43m \u001B[49m\u001B[43mNUM_REPETITIONS\u001B[49m\u001B[43m)\u001B[49m\n\u001B[0;32m     19\u001B[0m evaluation_results_snapshot_soups\u001B[38;5;241m.\u001B[39mappend({\n\u001B[0;32m     20\u001B[0m     \u001B[38;5;124m\"\u001B[39m\u001B[38;5;124mgame\u001B[39m\u001B[38;5;124m\"\u001B[39m: game_name,\n\u001B[0;32m     21\u001B[0m     \u001B[38;5;124m\"\u001B[39m\u001B[38;5;124mmodel\u001B[39m\u001B[38;5;124m\"\u001B[39m: \u001B[38;5;124mf\u001B[39m\u001B[38;5;124m\"\u001B[39m\u001B[38;5;132;01m{\u001B[39;00mM_FOR_SNAPSHOT_ENSEMBLES_AND_SOUPS\u001B[38;5;132;01m}\u001B[39;00m\u001B[38;5;124m-Snapshot Soup \u001B[39m\u001B[38;5;132;01m{\u001B[39;00mmodel_name\u001B[38;5;132;01m}\u001B[39;00m\u001B[38;5;124m\"\u001B[39m,\n\u001B[1;32m   (...)\u001B[0m\n\u001B[0;32m     26\u001B[0m     \u001B[38;5;124m\"\u001B[39m\u001B[38;5;124mmodel_path\u001B[39m\u001B[38;5;124m\"\u001B[39m: model_paths\n\u001B[0;32m     27\u001B[0m })\n",
      "Cell \u001B[1;32mIn[10], line 27\u001B[0m, in \u001B[0;36mevaluate_model\u001B[1;34m(game, model, num_repetitions)\u001B[0m\n\u001B[0;32m     24\u001B[0m         done \u001B[38;5;241m=\u001B[39m terminated \u001B[38;5;129;01mor\u001B[39;00m truncated\n\u001B[0;32m     25\u001B[0m         episode_reward \u001B[38;5;241m+\u001B[39m\u001B[38;5;241m=\u001B[39m reward\n\u001B[1;32m---> 27\u001B[0m         \u001B[43mtbar\u001B[49m\u001B[38;5;241;43m.\u001B[39;49m\u001B[43mset_description\u001B[49m\u001B[43m(\u001B[49m\u001B[38;5;124;43mf\u001B[39;49m\u001B[38;5;124;43m\"\u001B[39;49m\u001B[38;5;124;43mEpisode \u001B[39;49m\u001B[38;5;132;43;01m{\u001B[39;49;00m\u001B[43mi\u001B[49m\u001B[38;5;132;43;01m}\u001B[39;49;00m\u001B[38;5;124;43m  -  Step: \u001B[39;49m\u001B[38;5;132;43;01m{\u001B[39;49;00m\u001B[43mstep\u001B[49m\u001B[38;5;132;43;01m}\u001B[39;49;00m\u001B[38;5;124;43m, Reward: \u001B[39;49m\u001B[38;5;132;43;01m{\u001B[39;49;00m\u001B[43mepisode_reward\u001B[49m\u001B[38;5;132;43;01m}\u001B[39;49;00m\u001B[38;5;124;43m\"\u001B[39;49m\u001B[43m)\u001B[49m\n\u001B[0;32m     29\u001B[0m     rewards\u001B[38;5;241m.\u001B[39mappend(episode_reward)\n\u001B[0;32m     30\u001B[0m \u001B[38;5;28;01mreturn\u001B[39;00m rewards\n",
      "File \u001B[1;32m~\\anaconda3\\envs\\DeepReinforcementLearning\\lib\\site-packages\\tqdm\\std.py:1391\u001B[0m, in \u001B[0;36mtqdm.set_description\u001B[1;34m(self, desc, refresh)\u001B[0m\n\u001B[0;32m   1389\u001B[0m \u001B[38;5;28mself\u001B[39m\u001B[38;5;241m.\u001B[39mdesc \u001B[38;5;241m=\u001B[39m desc \u001B[38;5;241m+\u001B[39m \u001B[38;5;124m'\u001B[39m\u001B[38;5;124m: \u001B[39m\u001B[38;5;124m'\u001B[39m \u001B[38;5;28;01mif\u001B[39;00m desc \u001B[38;5;28;01melse\u001B[39;00m \u001B[38;5;124m'\u001B[39m\u001B[38;5;124m'\u001B[39m\n\u001B[0;32m   1390\u001B[0m \u001B[38;5;28;01mif\u001B[39;00m refresh:\n\u001B[1;32m-> 1391\u001B[0m     \u001B[38;5;28;43mself\u001B[39;49m\u001B[38;5;241;43m.\u001B[39;49m\u001B[43mrefresh\u001B[49m\u001B[43m(\u001B[49m\u001B[43m)\u001B[49m\n",
      "File \u001B[1;32m~\\anaconda3\\envs\\DeepReinforcementLearning\\lib\\site-packages\\tqdm\\std.py:1344\u001B[0m, in \u001B[0;36mtqdm.refresh\u001B[1;34m(self, nolock, lock_args)\u001B[0m\n\u001B[0;32m   1342\u001B[0m     \u001B[38;5;28;01melse\u001B[39;00m:\n\u001B[0;32m   1343\u001B[0m         \u001B[38;5;28mself\u001B[39m\u001B[38;5;241m.\u001B[39m_lock\u001B[38;5;241m.\u001B[39macquire()\n\u001B[1;32m-> 1344\u001B[0m \u001B[38;5;28;43mself\u001B[39;49m\u001B[38;5;241;43m.\u001B[39;49m\u001B[43mdisplay\u001B[49m\u001B[43m(\u001B[49m\u001B[43m)\u001B[49m\n\u001B[0;32m   1345\u001B[0m \u001B[38;5;28;01mif\u001B[39;00m \u001B[38;5;129;01mnot\u001B[39;00m nolock:\n\u001B[0;32m   1346\u001B[0m     \u001B[38;5;28mself\u001B[39m\u001B[38;5;241m.\u001B[39m_lock\u001B[38;5;241m.\u001B[39mrelease()\n",
      "File \u001B[1;32m~\\anaconda3\\envs\\DeepReinforcementLearning\\lib\\site-packages\\tqdm\\notebook.py:172\u001B[0m, in \u001B[0;36mtqdm_notebook.display\u001B[1;34m(self, msg, pos, close, bar_style, check_delay)\u001B[0m\n\u001B[0;32m    169\u001B[0m     left, right \u001B[38;5;241m=\u001B[39m \u001B[38;5;124m'\u001B[39m\u001B[38;5;124m'\u001B[39m, escape(msg)\n\u001B[0;32m    171\u001B[0m \u001B[38;5;66;03m# Update description\u001B[39;00m\n\u001B[1;32m--> 172\u001B[0m ltext\u001B[38;5;241m.\u001B[39mvalue \u001B[38;5;241m=\u001B[39m left\n\u001B[0;32m    173\u001B[0m \u001B[38;5;66;03m# never clear the bar (signal: msg='')\u001B[39;00m\n\u001B[0;32m    174\u001B[0m \u001B[38;5;28;01mif\u001B[39;00m right:\n",
      "File \u001B[1;32m~\\anaconda3\\envs\\DeepReinforcementLearning\\lib\\site-packages\\traitlets\\traitlets.py:729\u001B[0m, in \u001B[0;36mTraitType.__set__\u001B[1;34m(self, obj, value)\u001B[0m\n\u001B[0;32m    727\u001B[0m     \u001B[38;5;28;01mraise\u001B[39;00m TraitError(\u001B[38;5;124m'\u001B[39m\u001B[38;5;124mThe \u001B[39m\u001B[38;5;124m\"\u001B[39m\u001B[38;5;132;01m%s\u001B[39;00m\u001B[38;5;124m\"\u001B[39m\u001B[38;5;124m trait is read-only.\u001B[39m\u001B[38;5;124m'\u001B[39m \u001B[38;5;241m%\u001B[39m \u001B[38;5;28mself\u001B[39m\u001B[38;5;241m.\u001B[39mname)\n\u001B[0;32m    728\u001B[0m \u001B[38;5;28;01melse\u001B[39;00m:\n\u001B[1;32m--> 729\u001B[0m     \u001B[38;5;28;43mself\u001B[39;49m\u001B[38;5;241;43m.\u001B[39;49m\u001B[43mset\u001B[49m\u001B[43m(\u001B[49m\u001B[43mobj\u001B[49m\u001B[43m,\u001B[49m\u001B[43m \u001B[49m\u001B[43mvalue\u001B[49m\u001B[43m)\u001B[49m\n",
      "File \u001B[1;32m~\\anaconda3\\envs\\DeepReinforcementLearning\\lib\\site-packages\\traitlets\\traitlets.py:718\u001B[0m, in \u001B[0;36mTraitType.set\u001B[1;34m(self, obj, value)\u001B[0m\n\u001B[0;32m    714\u001B[0m     silent \u001B[38;5;241m=\u001B[39m \u001B[38;5;28;01mFalse\u001B[39;00m\n\u001B[0;32m    715\u001B[0m \u001B[38;5;28;01mif\u001B[39;00m silent \u001B[38;5;129;01mis\u001B[39;00m \u001B[38;5;129;01mnot\u001B[39;00m \u001B[38;5;28;01mTrue\u001B[39;00m:\n\u001B[0;32m    716\u001B[0m     \u001B[38;5;66;03m# we explicitly compare silent to True just in case the equality\u001B[39;00m\n\u001B[0;32m    717\u001B[0m     \u001B[38;5;66;03m# comparison above returns something other than True/False\u001B[39;00m\n\u001B[1;32m--> 718\u001B[0m     \u001B[43mobj\u001B[49m\u001B[38;5;241;43m.\u001B[39;49m\u001B[43m_notify_trait\u001B[49m\u001B[43m(\u001B[49m\u001B[38;5;28;43mself\u001B[39;49m\u001B[38;5;241;43m.\u001B[39;49m\u001B[43mname\u001B[49m\u001B[43m,\u001B[49m\u001B[43m \u001B[49m\u001B[43mold_value\u001B[49m\u001B[43m,\u001B[49m\u001B[43m \u001B[49m\u001B[43mnew_value\u001B[49m\u001B[43m)\u001B[49m\n",
      "File \u001B[1;32m~\\anaconda3\\envs\\DeepReinforcementLearning\\lib\\site-packages\\traitlets\\traitlets.py:1501\u001B[0m, in \u001B[0;36mHasTraits._notify_trait\u001B[1;34m(self, name, old_value, new_value)\u001B[0m\n\u001B[0;32m   1500\u001B[0m \u001B[38;5;28;01mdef\u001B[39;00m \u001B[38;5;21m_notify_trait\u001B[39m(\u001B[38;5;28mself\u001B[39m, name, old_value, new_value):\n\u001B[1;32m-> 1501\u001B[0m     \u001B[38;5;28;43mself\u001B[39;49m\u001B[38;5;241;43m.\u001B[39;49m\u001B[43mnotify_change\u001B[49m\u001B[43m(\u001B[49m\n\u001B[0;32m   1502\u001B[0m \u001B[43m        \u001B[49m\u001B[43mBunch\u001B[49m\u001B[43m(\u001B[49m\n\u001B[0;32m   1503\u001B[0m \u001B[43m            \u001B[49m\u001B[43mname\u001B[49m\u001B[38;5;241;43m=\u001B[39;49m\u001B[43mname\u001B[49m\u001B[43m,\u001B[49m\n\u001B[0;32m   1504\u001B[0m \u001B[43m            \u001B[49m\u001B[43mold\u001B[49m\u001B[38;5;241;43m=\u001B[39;49m\u001B[43mold_value\u001B[49m\u001B[43m,\u001B[49m\n\u001B[0;32m   1505\u001B[0m \u001B[43m            \u001B[49m\u001B[43mnew\u001B[49m\u001B[38;5;241;43m=\u001B[39;49m\u001B[43mnew_value\u001B[49m\u001B[43m,\u001B[49m\n\u001B[0;32m   1506\u001B[0m \u001B[43m            \u001B[49m\u001B[43mowner\u001B[49m\u001B[38;5;241;43m=\u001B[39;49m\u001B[38;5;28;43mself\u001B[39;49m\u001B[43m,\u001B[49m\n\u001B[0;32m   1507\u001B[0m \u001B[43m            \u001B[49m\u001B[38;5;28;43mtype\u001B[39;49m\u001B[38;5;241;43m=\u001B[39;49m\u001B[38;5;124;43m\"\u001B[39;49m\u001B[38;5;124;43mchange\u001B[39;49m\u001B[38;5;124;43m\"\u001B[39;49m\u001B[43m,\u001B[49m\n\u001B[0;32m   1508\u001B[0m \u001B[43m        \u001B[49m\u001B[43m)\u001B[49m\n\u001B[0;32m   1509\u001B[0m \u001B[43m    \u001B[49m\u001B[43m)\u001B[49m\n",
      "File \u001B[1;32m~\\anaconda3\\envs\\DeepReinforcementLearning\\lib\\site-packages\\ipywidgets\\widgets\\widget.py:693\u001B[0m, in \u001B[0;36mWidget.notify_change\u001B[1;34m(self, change)\u001B[0m\n\u001B[0;32m    689\u001B[0m \u001B[38;5;28;01mif\u001B[39;00m \u001B[38;5;28mself\u001B[39m\u001B[38;5;241m.\u001B[39mcomm \u001B[38;5;129;01mis\u001B[39;00m \u001B[38;5;129;01mnot\u001B[39;00m \u001B[38;5;28;01mNone\u001B[39;00m \u001B[38;5;129;01mand\u001B[39;00m \u001B[38;5;28mself\u001B[39m\u001B[38;5;241m.\u001B[39mcomm\u001B[38;5;241m.\u001B[39mkernel \u001B[38;5;129;01mis\u001B[39;00m \u001B[38;5;129;01mnot\u001B[39;00m \u001B[38;5;28;01mNone\u001B[39;00m:\n\u001B[0;32m    690\u001B[0m     \u001B[38;5;66;03m# Make sure this isn't information that the front-end just sent us.\u001B[39;00m\n\u001B[0;32m    691\u001B[0m     \u001B[38;5;28;01mif\u001B[39;00m name \u001B[38;5;129;01min\u001B[39;00m \u001B[38;5;28mself\u001B[39m\u001B[38;5;241m.\u001B[39mkeys \u001B[38;5;129;01mand\u001B[39;00m \u001B[38;5;28mself\u001B[39m\u001B[38;5;241m.\u001B[39m_should_send_property(name, \u001B[38;5;28mgetattr\u001B[39m(\u001B[38;5;28mself\u001B[39m, name)):\n\u001B[0;32m    692\u001B[0m         \u001B[38;5;66;03m# Send new state to front-end\u001B[39;00m\n\u001B[1;32m--> 693\u001B[0m         \u001B[38;5;28;43mself\u001B[39;49m\u001B[38;5;241;43m.\u001B[39;49m\u001B[43msend_state\u001B[49m\u001B[43m(\u001B[49m\u001B[43mkey\u001B[49m\u001B[38;5;241;43m=\u001B[39;49m\u001B[43mname\u001B[49m\u001B[43m)\u001B[49m\n\u001B[0;32m    694\u001B[0m \u001B[38;5;28msuper\u001B[39m()\u001B[38;5;241m.\u001B[39mnotify_change(change)\n",
      "File \u001B[1;32m~\\anaconda3\\envs\\DeepReinforcementLearning\\lib\\site-packages\\ipywidgets\\widgets\\widget.py:579\u001B[0m, in \u001B[0;36mWidget.send_state\u001B[1;34m(self, key)\u001B[0m\n\u001B[0;32m    577\u001B[0m state, buffer_paths, buffers \u001B[38;5;241m=\u001B[39m _remove_buffers(state)\n\u001B[0;32m    578\u001B[0m msg \u001B[38;5;241m=\u001B[39m {\u001B[38;5;124m'\u001B[39m\u001B[38;5;124mmethod\u001B[39m\u001B[38;5;124m'\u001B[39m: \u001B[38;5;124m'\u001B[39m\u001B[38;5;124mupdate\u001B[39m\u001B[38;5;124m'\u001B[39m, \u001B[38;5;124m'\u001B[39m\u001B[38;5;124mstate\u001B[39m\u001B[38;5;124m'\u001B[39m: state, \u001B[38;5;124m'\u001B[39m\u001B[38;5;124mbuffer_paths\u001B[39m\u001B[38;5;124m'\u001B[39m: buffer_paths}\n\u001B[1;32m--> 579\u001B[0m \u001B[38;5;28;43mself\u001B[39;49m\u001B[38;5;241;43m.\u001B[39;49m\u001B[43m_send\u001B[49m\u001B[43m(\u001B[49m\u001B[43mmsg\u001B[49m\u001B[43m,\u001B[49m\u001B[43m \u001B[49m\u001B[43mbuffers\u001B[49m\u001B[38;5;241;43m=\u001B[39;49m\u001B[43mbuffers\u001B[49m\u001B[43m)\u001B[49m\n",
      "File \u001B[1;32m~\\anaconda3\\envs\\DeepReinforcementLearning\\lib\\site-packages\\ipywidgets\\widgets\\widget.py:818\u001B[0m, in \u001B[0;36mWidget._send\u001B[1;34m(self, msg, buffers)\u001B[0m\n\u001B[0;32m    816\u001B[0m \u001B[38;5;250m\u001B[39m\u001B[38;5;124;03m\"\"\"Sends a message to the model in the front-end.\"\"\"\u001B[39;00m\n\u001B[0;32m    817\u001B[0m \u001B[38;5;28;01mif\u001B[39;00m \u001B[38;5;28mself\u001B[39m\u001B[38;5;241m.\u001B[39mcomm \u001B[38;5;129;01mis\u001B[39;00m \u001B[38;5;129;01mnot\u001B[39;00m \u001B[38;5;28;01mNone\u001B[39;00m \u001B[38;5;129;01mand\u001B[39;00m \u001B[38;5;28mself\u001B[39m\u001B[38;5;241m.\u001B[39mcomm\u001B[38;5;241m.\u001B[39mkernel \u001B[38;5;129;01mis\u001B[39;00m \u001B[38;5;129;01mnot\u001B[39;00m \u001B[38;5;28;01mNone\u001B[39;00m:\n\u001B[1;32m--> 818\u001B[0m     \u001B[38;5;28;43mself\u001B[39;49m\u001B[38;5;241;43m.\u001B[39;49m\u001B[43mcomm\u001B[49m\u001B[38;5;241;43m.\u001B[39;49m\u001B[43msend\u001B[49m\u001B[43m(\u001B[49m\u001B[43mdata\u001B[49m\u001B[38;5;241;43m=\u001B[39;49m\u001B[43mmsg\u001B[49m\u001B[43m,\u001B[49m\u001B[43m \u001B[49m\u001B[43mbuffers\u001B[49m\u001B[38;5;241;43m=\u001B[39;49m\u001B[43mbuffers\u001B[49m\u001B[43m)\u001B[49m\n",
      "File \u001B[1;32m~\\anaconda3\\envs\\DeepReinforcementLearning\\lib\\site-packages\\comm\\base_comm.py:113\u001B[0m, in \u001B[0;36mBaseComm.send\u001B[1;34m(self, data, metadata, buffers)\u001B[0m\n\u001B[0;32m    111\u001B[0m \u001B[38;5;28;01mdef\u001B[39;00m \u001B[38;5;21msend\u001B[39m(\u001B[38;5;28mself\u001B[39m, data\u001B[38;5;241m=\u001B[39m\u001B[38;5;28;01mNone\u001B[39;00m, metadata\u001B[38;5;241m=\u001B[39m\u001B[38;5;28;01mNone\u001B[39;00m, buffers\u001B[38;5;241m=\u001B[39m\u001B[38;5;28;01mNone\u001B[39;00m):\n\u001B[0;32m    112\u001B[0m \u001B[38;5;250m    \u001B[39m\u001B[38;5;124;03m\"\"\"Send a message to the frontend-side version of this comm\"\"\"\u001B[39;00m\n\u001B[1;32m--> 113\u001B[0m     \u001B[38;5;28;43mself\u001B[39;49m\u001B[38;5;241;43m.\u001B[39;49m\u001B[43mpublish_msg\u001B[49m\u001B[43m(\u001B[49m\n\u001B[0;32m    114\u001B[0m \u001B[43m        \u001B[49m\u001B[38;5;124;43m\"\u001B[39;49m\u001B[38;5;124;43mcomm_msg\u001B[39;49m\u001B[38;5;124;43m\"\u001B[39;49m\u001B[43m,\u001B[49m\n\u001B[0;32m    115\u001B[0m \u001B[43m        \u001B[49m\u001B[43mdata\u001B[49m\u001B[38;5;241;43m=\u001B[39;49m\u001B[43mdata\u001B[49m\u001B[43m,\u001B[49m\n\u001B[0;32m    116\u001B[0m \u001B[43m        \u001B[49m\u001B[43mmetadata\u001B[49m\u001B[38;5;241;43m=\u001B[39;49m\u001B[43mmetadata\u001B[49m\u001B[43m,\u001B[49m\n\u001B[0;32m    117\u001B[0m \u001B[43m        \u001B[49m\u001B[43mbuffers\u001B[49m\u001B[38;5;241;43m=\u001B[39;49m\u001B[43mbuffers\u001B[49m\u001B[43m,\u001B[49m\n\u001B[0;32m    118\u001B[0m \u001B[43m    \u001B[49m\u001B[43m)\u001B[49m\n",
      "File \u001B[1;32m~\\anaconda3\\envs\\DeepReinforcementLearning\\lib\\site-packages\\ipykernel\\comm\\comm.py:33\u001B[0m, in \u001B[0;36mBaseComm.publish_msg\u001B[1;34m(self, msg_type, data, metadata, buffers, **keys)\u001B[0m\n\u001B[0;32m     30\u001B[0m \u001B[38;5;28;01mif\u001B[39;00m \u001B[38;5;28mself\u001B[39m\u001B[38;5;241m.\u001B[39mkernel \u001B[38;5;129;01mis\u001B[39;00m \u001B[38;5;28;01mNone\u001B[39;00m:\n\u001B[0;32m     31\u001B[0m     \u001B[38;5;28mself\u001B[39m\u001B[38;5;241m.\u001B[39mkernel \u001B[38;5;241m=\u001B[39m Kernel\u001B[38;5;241m.\u001B[39minstance()\n\u001B[1;32m---> 33\u001B[0m \u001B[38;5;28;43mself\u001B[39;49m\u001B[38;5;241;43m.\u001B[39;49m\u001B[43mkernel\u001B[49m\u001B[38;5;241;43m.\u001B[39;49m\u001B[43msession\u001B[49m\u001B[38;5;241;43m.\u001B[39;49m\u001B[43msend\u001B[49m\u001B[43m(\u001B[49m\n\u001B[0;32m     34\u001B[0m \u001B[43m    \u001B[49m\u001B[38;5;28;43mself\u001B[39;49m\u001B[38;5;241;43m.\u001B[39;49m\u001B[43mkernel\u001B[49m\u001B[38;5;241;43m.\u001B[39;49m\u001B[43miopub_socket\u001B[49m\u001B[43m,\u001B[49m\n\u001B[0;32m     35\u001B[0m \u001B[43m    \u001B[49m\u001B[43mmsg_type\u001B[49m\u001B[43m,\u001B[49m\n\u001B[0;32m     36\u001B[0m \u001B[43m    \u001B[49m\u001B[43mcontent\u001B[49m\u001B[43m,\u001B[49m\n\u001B[0;32m     37\u001B[0m \u001B[43m    \u001B[49m\u001B[43mmetadata\u001B[49m\u001B[38;5;241;43m=\u001B[39;49m\u001B[43mjson_clean\u001B[49m\u001B[43m(\u001B[49m\u001B[43mmetadata\u001B[49m\u001B[43m)\u001B[49m\u001B[43m,\u001B[49m\n\u001B[0;32m     38\u001B[0m \u001B[43m    \u001B[49m\u001B[43mparent\u001B[49m\u001B[38;5;241;43m=\u001B[39;49m\u001B[38;5;28;43mself\u001B[39;49m\u001B[38;5;241;43m.\u001B[39;49m\u001B[43mkernel\u001B[49m\u001B[38;5;241;43m.\u001B[39;49m\u001B[43mget_parent\u001B[49m\u001B[43m(\u001B[49m\u001B[38;5;124;43m\"\u001B[39;49m\u001B[38;5;124;43mshell\u001B[39;49m\u001B[38;5;124;43m\"\u001B[39;49m\u001B[43m)\u001B[49m\u001B[43m,\u001B[49m\n\u001B[0;32m     39\u001B[0m \u001B[43m    \u001B[49m\u001B[43mident\u001B[49m\u001B[38;5;241;43m=\u001B[39;49m\u001B[38;5;28;43mself\u001B[39;49m\u001B[38;5;241;43m.\u001B[39;49m\u001B[43mtopic\u001B[49m\u001B[43m,\u001B[49m\n\u001B[0;32m     40\u001B[0m \u001B[43m    \u001B[49m\u001B[43mbuffers\u001B[49m\u001B[38;5;241;43m=\u001B[39;49m\u001B[43mbuffers\u001B[49m\u001B[43m,\u001B[49m\n\u001B[0;32m     41\u001B[0m \u001B[43m\u001B[49m\u001B[43m)\u001B[49m\n",
      "File \u001B[1;32m~\\anaconda3\\envs\\DeepReinforcementLearning\\lib\\site-packages\\jupyter_client\\session.py:861\u001B[0m, in \u001B[0;36mSession.send\u001B[1;34m(self, stream, msg_or_type, content, parent, ident, buffers, track, header, metadata)\u001B[0m\n\u001B[0;32m    858\u001B[0m \u001B[38;5;28;01melif\u001B[39;00m stream:\n\u001B[0;32m    859\u001B[0m     \u001B[38;5;66;03m# use dummy tracker, which will be done immediately\u001B[39;00m\n\u001B[0;32m    860\u001B[0m     tracker \u001B[38;5;241m=\u001B[39m DONE\n\u001B[1;32m--> 861\u001B[0m     \u001B[43mstream\u001B[49m\u001B[38;5;241;43m.\u001B[39;49m\u001B[43msend_multipart\u001B[49m\u001B[43m(\u001B[49m\u001B[43mto_send\u001B[49m\u001B[43m,\u001B[49m\u001B[43m \u001B[49m\u001B[43mcopy\u001B[49m\u001B[38;5;241;43m=\u001B[39;49m\u001B[43mcopy\u001B[49m\u001B[43m)\u001B[49m\n\u001B[0;32m    863\u001B[0m \u001B[38;5;28;01mif\u001B[39;00m \u001B[38;5;28mself\u001B[39m\u001B[38;5;241m.\u001B[39mdebug:\n\u001B[0;32m    864\u001B[0m     pprint\u001B[38;5;241m.\u001B[39mpprint(msg)\n",
      "File \u001B[1;32m~\\anaconda3\\envs\\DeepReinforcementLearning\\lib\\site-packages\\ipykernel\\iostream.py:286\u001B[0m, in \u001B[0;36mBackgroundSocket.send_multipart\u001B[1;34m(self, *args, **kwargs)\u001B[0m\n\u001B[0;32m    284\u001B[0m \u001B[38;5;250m\u001B[39m\u001B[38;5;124;03m\"\"\"Schedule send in IO thread\"\"\"\u001B[39;00m\n\u001B[0;32m    285\u001B[0m \u001B[38;5;28;01massert\u001B[39;00m \u001B[38;5;28mself\u001B[39m\u001B[38;5;241m.\u001B[39mio_thread \u001B[38;5;129;01mis\u001B[39;00m \u001B[38;5;129;01mnot\u001B[39;00m \u001B[38;5;28;01mNone\u001B[39;00m\n\u001B[1;32m--> 286\u001B[0m \u001B[38;5;28;01mreturn\u001B[39;00m \u001B[38;5;28mself\u001B[39m\u001B[38;5;241m.\u001B[39mio_thread\u001B[38;5;241m.\u001B[39msend_multipart(\u001B[38;5;241m*\u001B[39margs, \u001B[38;5;241m*\u001B[39m\u001B[38;5;241m*\u001B[39mkwargs)\n",
      "File \u001B[1;32m~\\anaconda3\\envs\\DeepReinforcementLearning\\lib\\site-packages\\ipykernel\\iostream.py:219\u001B[0m, in \u001B[0;36mIOPubThread.send_multipart\u001B[1;34m(self, *args, **kwargs)\u001B[0m\n\u001B[0;32m    214\u001B[0m \u001B[38;5;28;01mdef\u001B[39;00m \u001B[38;5;21msend_multipart\u001B[39m(\u001B[38;5;28mself\u001B[39m, \u001B[38;5;241m*\u001B[39margs, \u001B[38;5;241m*\u001B[39m\u001B[38;5;241m*\u001B[39mkwargs):\n\u001B[0;32m    215\u001B[0m \u001B[38;5;250m    \u001B[39m\u001B[38;5;124;03m\"\"\"send_multipart schedules actual zmq send in my thread.\u001B[39;00m\n\u001B[0;32m    216\u001B[0m \n\u001B[0;32m    217\u001B[0m \u001B[38;5;124;03m    If my thread isn't running (e.g. forked process), send immediately.\u001B[39;00m\n\u001B[0;32m    218\u001B[0m \u001B[38;5;124;03m    \"\"\"\u001B[39;00m\n\u001B[1;32m--> 219\u001B[0m     \u001B[38;5;28;43mself\u001B[39;49m\u001B[38;5;241;43m.\u001B[39;49m\u001B[43mschedule\u001B[49m\u001B[43m(\u001B[49m\u001B[38;5;28;43;01mlambda\u001B[39;49;00m\u001B[43m:\u001B[49m\u001B[43m \u001B[49m\u001B[38;5;28;43mself\u001B[39;49m\u001B[38;5;241;43m.\u001B[39;49m\u001B[43m_really_send\u001B[49m\u001B[43m(\u001B[49m\u001B[38;5;241;43m*\u001B[39;49m\u001B[43margs\u001B[49m\u001B[43m,\u001B[49m\u001B[43m \u001B[49m\u001B[38;5;241;43m*\u001B[39;49m\u001B[38;5;241;43m*\u001B[39;49m\u001B[43mkwargs\u001B[49m\u001B[43m)\u001B[49m\u001B[43m)\u001B[49m\n",
      "File \u001B[1;32m~\\anaconda3\\envs\\DeepReinforcementLearning\\lib\\site-packages\\ipykernel\\iostream.py:210\u001B[0m, in \u001B[0;36mIOPubThread.schedule\u001B[1;34m(self, f)\u001B[0m\n\u001B[0;32m    208\u001B[0m     \u001B[38;5;28mself\u001B[39m\u001B[38;5;241m.\u001B[39m_events\u001B[38;5;241m.\u001B[39mappend(f)\n\u001B[0;32m    209\u001B[0m     \u001B[38;5;66;03m# wake event thread (message content is ignored)\u001B[39;00m\n\u001B[1;32m--> 210\u001B[0m     \u001B[38;5;28;43mself\u001B[39;49m\u001B[38;5;241;43m.\u001B[39;49m\u001B[43m_event_pipe\u001B[49m\u001B[38;5;241;43m.\u001B[39;49m\u001B[43msend\u001B[49m\u001B[43m(\u001B[49m\u001B[38;5;124;43mb\u001B[39;49m\u001B[38;5;124;43m\"\u001B[39;49m\u001B[38;5;124;43m\"\u001B[39;49m\u001B[43m)\u001B[49m\n\u001B[0;32m    211\u001B[0m \u001B[38;5;28;01melse\u001B[39;00m:\n\u001B[0;32m    212\u001B[0m     f()\n",
      "File \u001B[1;32m~\\anaconda3\\envs\\DeepReinforcementLearning\\lib\\site-packages\\zmq\\sugar\\socket.py:688\u001B[0m, in \u001B[0;36mSocket.send\u001B[1;34m(self, data, flags, copy, track, routing_id, group)\u001B[0m\n\u001B[0;32m    681\u001B[0m         data \u001B[38;5;241m=\u001B[39m zmq\u001B[38;5;241m.\u001B[39mFrame(\n\u001B[0;32m    682\u001B[0m             data,\n\u001B[0;32m    683\u001B[0m             track\u001B[38;5;241m=\u001B[39mtrack,\n\u001B[0;32m    684\u001B[0m             copy\u001B[38;5;241m=\u001B[39mcopy \u001B[38;5;129;01mor\u001B[39;00m \u001B[38;5;28;01mNone\u001B[39;00m,\n\u001B[0;32m    685\u001B[0m             copy_threshold\u001B[38;5;241m=\u001B[39m\u001B[38;5;28mself\u001B[39m\u001B[38;5;241m.\u001B[39mcopy_threshold,\n\u001B[0;32m    686\u001B[0m         )\n\u001B[0;32m    687\u001B[0m     data\u001B[38;5;241m.\u001B[39mgroup \u001B[38;5;241m=\u001B[39m group\n\u001B[1;32m--> 688\u001B[0m \u001B[38;5;28;01mreturn\u001B[39;00m \u001B[38;5;28;43msuper\u001B[39;49m\u001B[43m(\u001B[49m\u001B[43m)\u001B[49m\u001B[38;5;241;43m.\u001B[39;49m\u001B[43msend\u001B[49m\u001B[43m(\u001B[49m\u001B[43mdata\u001B[49m\u001B[43m,\u001B[49m\u001B[43m \u001B[49m\u001B[43mflags\u001B[49m\u001B[38;5;241;43m=\u001B[39;49m\u001B[43mflags\u001B[49m\u001B[43m,\u001B[49m\u001B[43m \u001B[49m\u001B[43mcopy\u001B[49m\u001B[38;5;241;43m=\u001B[39;49m\u001B[43mcopy\u001B[49m\u001B[43m,\u001B[49m\u001B[43m \u001B[49m\u001B[43mtrack\u001B[49m\u001B[38;5;241;43m=\u001B[39;49m\u001B[43mtrack\u001B[49m\u001B[43m)\u001B[49m\n",
      "File \u001B[1;32mzmq/backend/cython/socket.pyx:742\u001B[0m, in \u001B[0;36mzmq.backend.cython.socket.Socket.send\u001B[1;34m()\u001B[0m\n",
      "File \u001B[1;32mzmq/backend/cython/socket.pyx:789\u001B[0m, in \u001B[0;36mzmq.backend.cython.socket.Socket.send\u001B[1;34m()\u001B[0m\n",
      "File \u001B[1;32mzmq/backend/cython/socket.pyx:250\u001B[0m, in \u001B[0;36mzmq.backend.cython.socket._send_copy\u001B[1;34m()\u001B[0m\n",
      "File \u001B[1;32m~\\anaconda3\\envs\\DeepReinforcementLearning\\lib\\site-packages\\zmq\\backend\\cython\\checkrc.pxd:13\u001B[0m, in \u001B[0;36mzmq.backend.cython.checkrc._check_rc\u001B[1;34m()\u001B[0m\n",
      "\u001B[1;31mKeyboardInterrupt\u001B[0m: "
     ]
    }
   ],
   "source": [
    "for game_name, model_name in (t := tqdm(list(itertools.product(list_of_games, models_used)),\n",
    "                                        desc=\"Cooking Soup Model\")):\n",
    "    t.set_description(f\"Cooking Soup Model ({model_name.capitalize()} for {game_name})\")\n",
    "\n",
    "    model_paths_for_game_and_model = \\\n",
    "        results_df[(results_df[\"training_model\"] == model_name) & (results_df[\"game\"] == game_name)][\"model_path\"]\n",
    "\n",
    "    for idx, unique_model_path in enumerate(model_paths_for_game_and_model.unique()):\n",
    "        model_paths = get_snapshots(unique_model_path)\n",
    "        # Select M last snapshots:\n",
    "        model_paths = model_paths[-M_FOR_SNAPSHOT_ENSEMBLES_AND_SOUPS:]\n",
    "        assert len(model_paths) == M_FOR_SNAPSHOT_ENSEMBLES_AND_SOUPS\n",
    "\n",
    "        models = load_models(model_paths)\n",
    "\n",
    "        soup = Soup(models).get_soup_model()\n",
    "\n",
    "        rewards = evaluate_model(game_name, soup, NUM_REPETITIONS)\n",
    "        evaluation_results_snapshot_soups.append({\n",
    "            \"game\": game_name,\n",
    "            \"model\": f\"{M_FOR_SNAPSHOT_ENSEMBLES_AND_SOUPS}-Snapshot Soup {model_name}\",\n",
    "            \"model_id\": idx,\n",
    "            \"episode_rewards\": rewards,\n",
    "            \"mean\": np.mean(rewards),\n",
    "            \"standard_deviation\": np.std(rewards),\n",
    "            \"model_path\": model_paths\n",
    "        })"
   ]
  },
  {
   "cell_type": "code",
   "execution_count": 61,
   "metadata": {},
   "outputs": [
    {
     "data": {
      "text/html": [
       "<div>\n",
       "<style scoped>\n",
       "    .dataframe tbody tr th:only-of-type {\n",
       "        vertical-align: middle;\n",
       "    }\n",
       "\n",
       "    .dataframe tbody tr th {\n",
       "        vertical-align: top;\n",
       "    }\n",
       "\n",
       "    .dataframe thead th {\n",
       "        text-align: right;\n",
       "    }\n",
       "</style>\n",
       "<table border=\"1\" class=\"dataframe\">\n",
       "  <thead>\n",
       "    <tr style=\"text-align: right;\">\n",
       "      <th></th>\n",
       "      <th>game</th>\n",
       "      <th>model</th>\n",
       "      <th>model_id</th>\n",
       "      <th>episode_rewards</th>\n",
       "      <th>mean</th>\n",
       "      <th>standard_deviation</th>\n",
       "      <th>model_path</th>\n",
       "    </tr>\n",
       "  </thead>\n",
       "  <tbody>\n",
       "    <tr>\n",
       "      <th>0</th>\n",
       "      <td>seaquest</td>\n",
       "      <td>3-Snapshot Soup mnih2013</td>\n",
       "      <td>0</td>\n",
       "      <td>[0.0, 60.0]</td>\n",
       "      <td>30.0</td>\n",
       "      <td>30.0</td>\n",
       "      <td>(mnih2013/seaquest/started_at_2023-09-25_12-09...</td>\n",
       "    </tr>\n",
       "    <tr>\n",
       "      <th>1</th>\n",
       "      <td>seaquest</td>\n",
       "      <td>3-Snapshot Soup mnih2013</td>\n",
       "      <td>1</td>\n",
       "      <td>[40.0, 40.0]</td>\n",
       "      <td>40.0</td>\n",
       "      <td>0.0</td>\n",
       "      <td>(mnih2013/seaquest/started_at_2023-09-25_12-41...</td>\n",
       "    </tr>\n",
       "    <tr>\n",
       "      <th>2</th>\n",
       "      <td>seaquest</td>\n",
       "      <td>3-Snapshot Soup mnih2013</td>\n",
       "      <td>2</td>\n",
       "      <td>[40.0, 60.0]</td>\n",
       "      <td>50.0</td>\n",
       "      <td>10.0</td>\n",
       "      <td>(mnih2013/seaquest/started_at_2023-09-27_23-56...</td>\n",
       "    </tr>\n",
       "    <tr>\n",
       "      <th>3</th>\n",
       "      <td>seaquest</td>\n",
       "      <td>3-Snapshot Soup mnih2015</td>\n",
       "      <td>0</td>\n",
       "      <td>[20.0, 60.0]</td>\n",
       "      <td>40.0</td>\n",
       "      <td>20.0</td>\n",
       "      <td>(mnih2015/seaquest/started_at_2023-09-26_05-09...</td>\n",
       "    </tr>\n",
       "    <tr>\n",
       "      <th>4</th>\n",
       "      <td>seaquest</td>\n",
       "      <td>3-Snapshot Soup mnih2015</td>\n",
       "      <td>1</td>\n",
       "      <td>[260.0, 180.0]</td>\n",
       "      <td>220.0</td>\n",
       "      <td>40.0</td>\n",
       "      <td>(mnih2015/seaquest/started_at_2023-09-26_05-31...</td>\n",
       "    </tr>\n",
       "  </tbody>\n",
       "</table>\n",
       "</div>"
      ],
      "text/plain": [
       "       game                     model  model_id episode_rewards   mean  \\\n",
       "0  seaquest  3-Snapshot Soup mnih2013         0     [0.0, 60.0]   30.0   \n",
       "1  seaquest  3-Snapshot Soup mnih2013         1    [40.0, 40.0]   40.0   \n",
       "2  seaquest  3-Snapshot Soup mnih2013         2    [40.0, 60.0]   50.0   \n",
       "3  seaquest  3-Snapshot Soup mnih2015         0    [20.0, 60.0]   40.0   \n",
       "4  seaquest  3-Snapshot Soup mnih2015         1  [260.0, 180.0]  220.0   \n",
       "\n",
       "   standard_deviation                                         model_path  \n",
       "0                30.0  (mnih2013/seaquest/started_at_2023-09-25_12-09...  \n",
       "1                 0.0  (mnih2013/seaquest/started_at_2023-09-25_12-41...  \n",
       "2                10.0  (mnih2013/seaquest/started_at_2023-09-27_23-56...  \n",
       "3                20.0  (mnih2015/seaquest/started_at_2023-09-26_05-09...  \n",
       "4                40.0  (mnih2015/seaquest/started_at_2023-09-26_05-31...  "
      ]
     },
     "execution_count": 61,
     "metadata": {},
     "output_type": "execute_result"
    }
   ],
   "source": [
    "evaluation_results_snapshot_soups_df = pd.DataFrame.from_records(evaluation_results_snapshot_soups)\n",
    "evaluation_results_snapshot_soups_df.head()"
   ]
  },
  {
   "cell_type": "markdown",
   "metadata": {},
   "source": [
    "## Save the Evaluation Data"
   ]
  },
  {
   "cell_type": "code",
   "execution_count": 62,
   "metadata": {},
   "outputs": [
    {
     "data": {
      "text/html": [
       "<div>\n",
       "<style scoped>\n",
       "    .dataframe tbody tr th:only-of-type {\n",
       "        vertical-align: middle;\n",
       "    }\n",
       "\n",
       "    .dataframe tbody tr th {\n",
       "        vertical-align: top;\n",
       "    }\n",
       "\n",
       "    .dataframe thead th {\n",
       "        text-align: right;\n",
       "    }\n",
       "</style>\n",
       "<table border=\"1\" class=\"dataframe\">\n",
       "  <thead>\n",
       "    <tr style=\"text-align: right;\">\n",
       "      <th></th>\n",
       "      <th>game</th>\n",
       "      <th>model</th>\n",
       "      <th>model_id</th>\n",
       "      <th>episode_rewards</th>\n",
       "      <th>mean</th>\n",
       "      <th>standard_deviation</th>\n",
       "      <th>model_path</th>\n",
       "    </tr>\n",
       "  </thead>\n",
       "  <tbody>\n",
       "    <tr>\n",
       "      <th>0</th>\n",
       "      <td>seaquest</td>\n",
       "      <td>random play</td>\n",
       "      <td>0</td>\n",
       "      <td>[100.0, 20.0]</td>\n",
       "      <td>60.0</td>\n",
       "      <td>40.0</td>\n",
       "      <td>NaN</td>\n",
       "    </tr>\n",
       "    <tr>\n",
       "      <th>1</th>\n",
       "      <td>enduro</td>\n",
       "      <td>random play</td>\n",
       "      <td>0</td>\n",
       "      <td>[0.0, 0.0]</td>\n",
       "      <td>0.0</td>\n",
       "      <td>0.0</td>\n",
       "      <td>NaN</td>\n",
       "    </tr>\n",
       "    <tr>\n",
       "      <th>2</th>\n",
       "      <td>breakout</td>\n",
       "      <td>random play</td>\n",
       "      <td>0</td>\n",
       "      <td>[0.0, 0.0]</td>\n",
       "      <td>0.0</td>\n",
       "      <td>0.0</td>\n",
       "      <td>NaN</td>\n",
       "    </tr>\n",
       "    <tr>\n",
       "      <th>3</th>\n",
       "      <td>seaquest</td>\n",
       "      <td>mnih2013</td>\n",
       "      <td>0</td>\n",
       "      <td>[40.0, 40.0]</td>\n",
       "      <td>40.0</td>\n",
       "      <td>0.0</td>\n",
       "      <td>mnih2013/seaquest/started_at_2023-09-25_12-09-...</td>\n",
       "    </tr>\n",
       "    <tr>\n",
       "      <th>4</th>\n",
       "      <td>seaquest</td>\n",
       "      <td>mnih2013</td>\n",
       "      <td>1</td>\n",
       "      <td>[0.0, 40.0]</td>\n",
       "      <td>20.0</td>\n",
       "      <td>20.0</td>\n",
       "      <td>mnih2013/seaquest/started_at_2023-09-25_12-41-...</td>\n",
       "    </tr>\n",
       "  </tbody>\n",
       "</table>\n",
       "</div>"
      ],
      "text/plain": [
       "       game        model  model_id episode_rewards  mean  standard_deviation  \\\n",
       "0  seaquest  random play         0   [100.0, 20.0]  60.0                40.0   \n",
       "1    enduro  random play         0      [0.0, 0.0]   0.0                 0.0   \n",
       "2  breakout  random play         0      [0.0, 0.0]   0.0                 0.0   \n",
       "3  seaquest     mnih2013         0    [40.0, 40.0]  40.0                 0.0   \n",
       "4  seaquest     mnih2013         1     [0.0, 40.0]  20.0                20.0   \n",
       "\n",
       "                                          model_path  \n",
       "0                                                NaN  \n",
       "1                                                NaN  \n",
       "2                                                NaN  \n",
       "3  mnih2013/seaquest/started_at_2023-09-25_12-09-...  \n",
       "4  mnih2013/seaquest/started_at_2023-09-25_12-41-...  "
      ]
     },
     "execution_count": 62,
     "metadata": {},
     "output_type": "execute_result"
    }
   ],
   "source": [
    "evaluation_data_df = pd.concat([\n",
    "    random_baseline_df,\n",
    "    evaluation_single_models_df,\n",
    "    # Ensembles:\n",
    "    evaluation_results_uniform_ensembles_df,\n",
    "    evaluation_results_mixed_ensembles_df,\n",
    "    evaluation_results_snapshot_ensembles_df,\n",
    "    # Soups:\n",
    "    evaluation_results_uniform_soups_df,\n",
    "    evaluation_results_snapshot_soups_df\n",
    "])\n",
    "evaluation_data_df.reset_index(drop=True, inplace=True)\n",
    "evaluation_data_df.head()"
   ]
  },
  {
   "cell_type": "code",
   "execution_count": 63,
   "metadata": {},
   "outputs": [],
   "source": [
    "evaluation_data_df.to_csv(EVALUATION_RESULTS_CSV, index=False)"
   ]
  }
 ],
 "metadata": {
  "kernelspec": {
   "display_name": "Python 3 (ipykernel)",
   "language": "python",
   "name": "python3"
  },
  "language_info": {
   "codemirror_mode": {
    "name": "ipython",
    "version": 3
   },
   "file_extension": ".py",
   "mimetype": "text/x-python",
   "name": "python",
   "nbconvert_exporter": "python",
   "pygments_lexer": "ipython3",
   "version": "3.9.7"
  }
 },
 "nbformat": 4,
 "nbformat_minor": 1
}
