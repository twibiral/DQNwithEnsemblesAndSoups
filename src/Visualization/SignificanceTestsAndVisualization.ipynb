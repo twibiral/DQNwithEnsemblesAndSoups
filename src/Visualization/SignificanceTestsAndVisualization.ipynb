{
 "cells": [
  {
   "cell_type": "markdown",
   "source": [
    "# Calculating and Visalizing Significance Tests\n",
    "\n",
    "Creates \"Critical Difference\" diagrams (cd diagrams) for the results of the experiments that use Wilcoxon signed-rank test for significance testing. Based on https://github.com/hfawaz/cd-diagram by Hassan Fawaz."
   ],
   "metadata": {
    "collapsed": false
   }
  },
  {
   "cell_type": "code",
   "execution_count": 1,
   "metadata": {
    "collapsed": true
   },
   "outputs": [],
   "source": [
    "import shutil\n",
    "from ast import literal_eval\n",
    "\n",
    "import pandas as pd"
   ]
  },
  {
   "cell_type": "markdown",
   "source": [
    "Load the results from the csv file and reformat them to the format required by cd-diagram scripts."
   ],
   "metadata": {
    "collapsed": false
   }
  },
  {
   "cell_type": "code",
   "execution_count": 2,
   "outputs": [],
   "source": [
    "RESULTS_CSV = \"./../../results.csv\"\n",
    "EVALUATION_RESULTS_CSV = \"./../../evaluation_results.csv\"\n",
    "\n",
    "IMAGES_SAVE_FOLDER = \"./../../latex/cdd\""
   ],
   "metadata": {
    "collapsed": false
   }
  },
  {
   "cell_type": "code",
   "execution_count": 3,
   "outputs": [],
   "source": [
    "USE_CDD_LABELS = False"
   ],
   "metadata": {
    "collapsed": false
   }
  },
  {
   "cell_type": "code",
   "execution_count": 4,
   "outputs": [],
   "source": [
    "evaluation_data_df = pd.read_csv(EVALUATION_RESULTS_CSV)\n",
    "evaluation_data_df[\"episode_rewards\"] = evaluation_data_df[\"episode_rewards\"].apply(literal_eval)\n",
    "evaluation_data_df.rename(columns={\"mean\": \"rewards\"}, inplace=True)\n",
    "\n",
    "# create a new column for the mean of reward grouped by model and game\n",
    "evaluation_data_df[\"mean\"] = evaluation_data_df.groupby([\"model\", \"game\"])[\"rewards\"].transform(\"mean\")"
   ],
   "metadata": {
    "collapsed": false
   }
  },
  {
   "cell_type": "code",
   "execution_count": 5,
   "outputs": [],
   "source": [
    "naming_scheme = {\n",
    "    \"random play\": \"Random Play\",\n",
    "    \"interpretable_cnn\": \"Interpretable CNN\",\n",
    "    \"mnih2013\": \"Mnih et al. (2013)\",\n",
    "    \"mnih2015\": \"Mnih et al. (2015)\",\n",
    "    \"with_huber_loss_and_adam\": \"Mnih et al. (2015) with Huber Loss and Adam\",\n",
    "    \"Top-3 Soup of mnih2013\": \"Top-3 Soup of Mnih et al. (2013)\",\n",
    "    \"Top-3 Soup of mnih2015\": \"Top-3 Soup of Mnih et al. (2015)\",\n",
    "    \"Top-3 Soup of with_huber_loss_and_adam\": \"Top-3 Soup of Mnih et al. (2015) with Huber Loss and Adam\",\n",
    "    \"Top-3 Mixed Ensemble (average)\": \"Top-3 Mixed Ensemble (average)\",\n",
    "    \"Top-3 Mixed Ensemble (logistic_average)\": \"Top-3 Mixed Ensemble (logistic average)\",\n",
    "    \"Top-3 Mixed Ensemble (majority_vote)\": \"Top-3 Mixed Ensemble (majority vote)\",\n",
    "    \"Top-3 Ensemble (average) with mnih2013\": \"Top-3 Ensemble (average) with Mnih et al. (2013)\",\n",
    "    \"Top-3 Ensemble (average) with mnih2015\": \"Top-3 Ensemble (average) with Mnih et al. (2015)\",\n",
    "    \"Top-3 Ensemble (average) with with_huber_loss_and_adam\": \"Top-3 Ensemble (average) with Mnih et al. (2015) with Huber Loss and Adam\",\n",
    "    \"Top-3 Ensemble (logistic_average) with mnih2013\": \"Top-3 Ensemble (logistic average) with Mnih et al. (2013)\",\n",
    "    \"Top-3 Ensemble (logistic_average) with mnih2015\": \"Top-3 Ensemble (logistic average) with Mnih et al. (2015)\",\n",
    "    \"Top-3 Ensemble (logistic_average) with with_huber_loss_and_adam\": \"Top-3 Ensemble (logistic average) with Mnih et al. (2015) with Huber Loss and Adam\",\n",
    "    \"Top-3 Ensemble (majority_vote) with mnih2013\": \"Top-3 Ensemble (majority vote) with Mnih et al. (2013)\",\n",
    "    \"Top-3 Ensemble (majority_vote) with mnih2015\": \"Top-3 Ensemble (majority vote) with Mnih et al. (2015)\",\n",
    "    \"Top-3 Ensemble (majority_vote) with with_huber_loss_and_adam\": \"Top-3 Ensemble (majority vote) with Mnih et al. (2015) with Huber Loss and Adam\",\n",
    "    \"3-Snapshot Ensemble (average) with mnih2013\": \"3-Snapshot Ensemble (average) with Mnih et al. (2013)\",\n",
    "    \"3-Snapshot Ensemble (average) with mnih2015\": \"3-Snapshot Ensemble (average) with Mnih et al. (2015)\",\n",
    "    \"3-Snapshot Ensemble (average) with with_huber_loss_and_adam\": \"3-Snapshot Ensemble (average) with Mnih et al. (2015) with Huber Loss and Adam\",\n",
    "    \"3-Snapshot Ensemble (logistic_average) with mnih2013\": \"3-Snapshot Ensemble (logistic average) with Mnih et al. (2013)\",\n",
    "    \"3-Snapshot Ensemble (logistic_average) with mnih2015\": \"3-Snapshot Ensemble (logistic average) with Mnih et al. (2015)\",\n",
    "    \"3-Snapshot Ensemble (logistic_average) with with_huber_loss_and_adam\": \"3-Snapshot Ensemble (logistic average) with Mnih et al. (2015) with Huber Loss and Adam\",\n",
    "    \"3-Snapshot Ensemble (majority_vote) with mnih2013\": \"3-Snapshot Ensemble (majority vote) with Mnih et al. (2013)\",\n",
    "    \"3-Snapshot Ensemble (majority_vote) with mnih2015\": \"3-Snapshot Ensemble (majority vote) with Mnih et al. (2015)\",\n",
    "    \"3-Snapshot Ensemble (majority_vote) with with_huber_loss_and_adam\": \"3-Snapshot Ensemble (majority vote) with Mnih et al. (2015) with Huber Loss and Adam\",\n",
    "    \"3-Snapshot Soup mnih2013\": \"3-Snapshot Soup of Mnih et al. (2013)\",\n",
    "    \"3-Snapshot Soup mnih2015\": \"3-Snapshot Soup of Mnih et al. (2015)\",\n",
    "    \"3-Snapshot Soup with_huber_loss_and_adam\": \"3-Snapshot Soup of Mnih et al. (2015) with Huber Loss and Adam\",\n",
    "}\n",
    "evaluation_data_df[\"model\"] = evaluation_data_df[\"model\"].apply(lambda x: naming_scheme[x])"
   ],
   "metadata": {
    "collapsed": false
   }
  },
  {
   "cell_type": "code",
   "execution_count": 6,
   "outputs": [
    {
     "name": "stderr",
     "output_type": "stream",
     "text": [
      "C:\\Users\\timwi\\AppData\\Local\\Temp\\ipykernel_17584\\2627744955.py:2: SettingWithCopyWarning: \n",
      "A value is trying to be set on a copy of a slice from a DataFrame\n",
      "\n",
      "See the caveats in the documentation: https://pandas.pydata.org/pandas-docs/stable/user_guide/indexing.html#returning-a-view-versus-a-copy\n",
      "  evaluation_data_df_for_cdd.drop_duplicates(inplace=True)\n"
     ]
    },
    {
     "data": {
      "text/plain": "                                      classifier_name dataset_name   accuracy\n0                                         Random Play     seaquest  81.840000\n1                                         Random Play       enduro   0.000000\n2                                         Random Play     breakout   1.332000\n3                                  Mnih et al. (2013)     seaquest  55.333333\n4                                  Mnih et al. (2015)     seaquest  98.000000\n..                                                ...          ...        ...\n88              3-Snapshot Soup of Mnih et al. (2013)       enduro   0.000000\n89              3-Snapshot Soup of Mnih et al. (2015)       enduro   0.000000\n90  3-Snapshot Soup of Mnih et al. (2015) with Hub...     breakout   1.433333\n91              3-Snapshot Soup of Mnih et al. (2013)     breakout   1.366667\n92              3-Snapshot Soup of Mnih et al. (2015)     breakout   0.733333\n\n[93 rows x 3 columns]",
      "text/html": "<div>\n<style scoped>\n    .dataframe tbody tr th:only-of-type {\n        vertical-align: middle;\n    }\n\n    .dataframe tbody tr th {\n        vertical-align: top;\n    }\n\n    .dataframe thead th {\n        text-align: right;\n    }\n</style>\n<table border=\"1\" class=\"dataframe\">\n  <thead>\n    <tr style=\"text-align: right;\">\n      <th></th>\n      <th>classifier_name</th>\n      <th>dataset_name</th>\n      <th>accuracy</th>\n    </tr>\n  </thead>\n  <tbody>\n    <tr>\n      <th>0</th>\n      <td>Random Play</td>\n      <td>seaquest</td>\n      <td>81.840000</td>\n    </tr>\n    <tr>\n      <th>1</th>\n      <td>Random Play</td>\n      <td>enduro</td>\n      <td>0.000000</td>\n    </tr>\n    <tr>\n      <th>2</th>\n      <td>Random Play</td>\n      <td>breakout</td>\n      <td>1.332000</td>\n    </tr>\n    <tr>\n      <th>3</th>\n      <td>Mnih et al. (2013)</td>\n      <td>seaquest</td>\n      <td>55.333333</td>\n    </tr>\n    <tr>\n      <th>4</th>\n      <td>Mnih et al. (2015)</td>\n      <td>seaquest</td>\n      <td>98.000000</td>\n    </tr>\n    <tr>\n      <th>...</th>\n      <td>...</td>\n      <td>...</td>\n      <td>...</td>\n    </tr>\n    <tr>\n      <th>88</th>\n      <td>3-Snapshot Soup of Mnih et al. (2013)</td>\n      <td>enduro</td>\n      <td>0.000000</td>\n    </tr>\n    <tr>\n      <th>89</th>\n      <td>3-Snapshot Soup of Mnih et al. (2015)</td>\n      <td>enduro</td>\n      <td>0.000000</td>\n    </tr>\n    <tr>\n      <th>90</th>\n      <td>3-Snapshot Soup of Mnih et al. (2015) with Hub...</td>\n      <td>breakout</td>\n      <td>1.433333</td>\n    </tr>\n    <tr>\n      <th>91</th>\n      <td>3-Snapshot Soup of Mnih et al. (2013)</td>\n      <td>breakout</td>\n      <td>1.366667</td>\n    </tr>\n    <tr>\n      <th>92</th>\n      <td>3-Snapshot Soup of Mnih et al. (2015)</td>\n      <td>breakout</td>\n      <td>0.733333</td>\n    </tr>\n  </tbody>\n</table>\n<p>93 rows × 3 columns</p>\n</div>"
     },
     "execution_count": 6,
     "metadata": {},
     "output_type": "execute_result"
    }
   ],
   "source": [
    "evaluation_data_df_for_cdd = evaluation_data_df[[\"model\", \"game\", \"mean\"]]\n",
    "evaluation_data_df_for_cdd.drop_duplicates(inplace=True)\n",
    "evaluation_data_df_for_cdd = evaluation_data_df_for_cdd.rename(columns={\"mean\": \"accuracy\", \"model\": \"classifier_name\", \"game\": \"dataset_name\"}, inplace=False)\n",
    "# evaluation_data_df_exploded = evaluation_data_df_exploded[evaluation_data_df_exploded[\"classifier_name\"] != \"Interpretable CNN\"]\n",
    "evaluation_data_df_for_cdd = evaluation_data_df_for_cdd[evaluation_data_df_for_cdd[\"classifier_name\"] != \"Interpretable CNN\"]\n",
    "evaluation_data_df_for_cdd.reset_index(inplace=True, drop=True)\n",
    "evaluation_data_df_for_cdd"
   ],
   "metadata": {
    "collapsed": false
   }
  },
  {
   "cell_type": "code",
   "execution_count": 7,
   "outputs": [],
   "source": [
    "# Normalize the accuracy per game to [0, 1]\n",
    "evaluation_data_df_for_cdd[\"accuracy\"] = evaluation_data_df_for_cdd.groupby(\"dataset_name\")[\"accuracy\"].transform(lambda x: (x - x.min()) / (x.max() - x.min()))\n",
    "evaluation_data_df_for_cdd.reset_index(inplace=True, drop=True)"
   ],
   "metadata": {
    "collapsed": false
   }
  },
  {
   "cell_type": "markdown",
   "source": [
    "## Create the cd-diagrams\n",
    "\n",
    "Loads the code by Hassan Fawaz et al. and creates the cd-diagram. I slightly modified the code to make it work with the data we have and save the diagram as a pdf file."
   ],
   "metadata": {
    "collapsed": false
   }
  },
  {
   "cell_type": "code",
   "execution_count": 8,
   "outputs": [],
   "source": [
    "import CreateCDDiagram as cdd"
   ],
   "metadata": {
    "collapsed": false
   }
  },
  {
   "cell_type": "code",
   "execution_count": 9,
   "outputs": [],
   "source": [
    "def rename_cdd_to(new_name: str):\n",
    "    return  shutil.copy(\"./cd-diagram.pdf\", f\"{IMAGES_SAVE_FOLDER}/cdd_{new_name}.pdf\")"
   ],
   "metadata": {
    "collapsed": false
   }
  },
  {
   "cell_type": "markdown",
   "source": [
    "### All models"
   ],
   "metadata": {
    "collapsed": false
   }
  },
  {
   "cell_type": "code",
   "execution_count": 10,
   "outputs": [
    {
     "name": "stderr",
     "output_type": "stream",
     "text": [
      "C:\\Users\\timwi\\anaconda3\\envs\\DeepReinforcementLearning\\lib\\site-packages\\scipy\\stats\\_morestats.py:3414: UserWarning: Exact p-value calculation does not work if there are zeros. Switching to normal approximation.\n",
      "  warnings.warn(\"Exact p-value calculation does not work if there are \"\n",
      "C:\\Users\\timwi\\anaconda3\\envs\\DeepReinforcementLearning\\lib\\site-packages\\scipy\\stats\\_morestats.py:3428: UserWarning: Sample size too small for normal approximation.\n",
      "  warnings.warn(\"Sample size too small for normal approximation.\")\n"
     ]
    },
    {
     "name": "stdout",
     "output_type": "stream",
     "text": [
      "['Random Play' 'Mnih et al. (2013)' 'Mnih et al. (2015)'\n",
      " 'Mnih et al. (2015) with Huber Loss and Adam'\n",
      " 'Top-3 Ensemble (average) with Mnih et al. (2015) with Huber Loss and Adam'\n",
      " 'Top-3 Ensemble (logistic average) with Mnih et al. (2015) with Huber Loss and Adam'\n",
      " 'Top-3 Ensemble (majority vote) with Mnih et al. (2015) with Huber Loss and Adam'\n",
      " 'Top-3 Ensemble (average) with Mnih et al. (2013)'\n",
      " 'Top-3 Ensemble (logistic average) with Mnih et al. (2013)'\n",
      " 'Top-3 Ensemble (majority vote) with Mnih et al. (2013)'\n",
      " 'Top-3 Ensemble (average) with Mnih et al. (2015)'\n",
      " 'Top-3 Ensemble (logistic average) with Mnih et al. (2015)'\n",
      " 'Top-3 Ensemble (majority vote) with Mnih et al. (2015)'\n",
      " 'Top-3 Mixed Ensemble (average)'\n",
      " 'Top-3 Mixed Ensemble (logistic average)'\n",
      " 'Top-3 Mixed Ensemble (majority vote)'\n",
      " '3-Snapshot Ensemble (average) with Mnih et al. (2015) with Huber Loss and Adam'\n",
      " '3-Snapshot Ensemble (logistic average) with Mnih et al. (2015) with Huber Loss and Adam'\n",
      " '3-Snapshot Ensemble (majority vote) with Mnih et al. (2015) with Huber Loss and Adam'\n",
      " '3-Snapshot Ensemble (average) with Mnih et al. (2013)'\n",
      " '3-Snapshot Ensemble (logistic average) with Mnih et al. (2013)'\n",
      " '3-Snapshot Ensemble (majority vote) with Mnih et al. (2013)'\n",
      " '3-Snapshot Ensemble (average) with Mnih et al. (2015)'\n",
      " '3-Snapshot Ensemble (logistic average) with Mnih et al. (2015)'\n",
      " '3-Snapshot Ensemble (majority vote) with Mnih et al. (2015)'\n",
      " 'Top-3 Soup of Mnih et al. (2015) with Huber Loss and Adam'\n",
      " 'Top-3 Soup of Mnih et al. (2013)' 'Top-3 Soup of Mnih et al. (2015)'\n",
      " '3-Snapshot Soup of Mnih et al. (2015) with Huber Loss and Adam'\n",
      " '3-Snapshot Soup of Mnih et al. (2013)'\n",
      " '3-Snapshot Soup of Mnih et al. (2015)']\n"
     ]
    },
    {
     "ename": "ValueError",
     "evalue": "zero_method 'wilcox' and 'pratt' do not work if x - y is zero for all elements.",
     "output_type": "error",
     "traceback": [
      "\u001B[1;31m---------------------------------------------------------------------------\u001B[0m",
      "\u001B[1;31mValueError\u001B[0m                                Traceback (most recent call last)",
      "Cell \u001B[1;32mIn[10], line 1\u001B[0m\n\u001B[1;32m----> 1\u001B[0m \u001B[43mcdd\u001B[49m\u001B[38;5;241;43m.\u001B[39;49m\u001B[43mdraw_cd_diagram\u001B[49m\u001B[43m(\u001B[49m\u001B[43mdf_perf\u001B[49m\u001B[38;5;241;43m=\u001B[39;49m\u001B[43mevaluation_data_df_for_cdd\u001B[49m\u001B[43m,\u001B[49m\u001B[43m \u001B[49m\u001B[43mtitle\u001B[49m\u001B[38;5;241;43m=\u001B[39;49m\u001B[38;5;124;43m'\u001B[39;49m\u001B[38;5;124;43mAll Models\u001B[39;49m\u001B[38;5;124;43m'\u001B[39;49m\u001B[43m,\u001B[49m\u001B[43m \u001B[49m\u001B[43mlabels\u001B[49m\u001B[38;5;241;43m=\u001B[39;49m\u001B[43mUSE_CDD_LABELS\u001B[49m\u001B[43m)\u001B[49m\n\u001B[0;32m      2\u001B[0m rename_cdd_to(\u001B[38;5;124m\"\u001B[39m\u001B[38;5;124mall_models\u001B[39m\u001B[38;5;124m\"\u001B[39m)\n",
      "File \u001B[1;32m~\\Documents\\Uni\\DeepReinforcementLearning\\src\\Visualization\\CreateCDDiagram.py:284\u001B[0m, in \u001B[0;36mdraw_cd_diagram\u001B[1;34m(df_perf, alpha, title, labels)\u001B[0m\n\u001B[0;32m    279\u001B[0m \u001B[38;5;28;01mdef\u001B[39;00m \u001B[38;5;21mdraw_cd_diagram\u001B[39m(df_perf\u001B[38;5;241m=\u001B[39m\u001B[38;5;28;01mNone\u001B[39;00m, alpha\u001B[38;5;241m=\u001B[39m\u001B[38;5;241m0.05\u001B[39m, title\u001B[38;5;241m=\u001B[39m\u001B[38;5;28;01mNone\u001B[39;00m, labels\u001B[38;5;241m=\u001B[39m\u001B[38;5;28;01mFalse\u001B[39;00m):\n\u001B[0;32m    280\u001B[0m \u001B[38;5;250m    \u001B[39m\u001B[38;5;124;03m\"\"\"\u001B[39;00m\n\u001B[0;32m    281\u001B[0m \u001B[38;5;124;03m    Draws the critical difference diagram given the list of pairwise classifiers that are\u001B[39;00m\n\u001B[0;32m    282\u001B[0m \u001B[38;5;124;03m    significant or not\u001B[39;00m\n\u001B[0;32m    283\u001B[0m \u001B[38;5;124;03m    \"\"\"\u001B[39;00m\n\u001B[1;32m--> 284\u001B[0m     p_values, average_ranks, _ \u001B[38;5;241m=\u001B[39m \u001B[43mwilcoxon_holm\u001B[49m\u001B[43m(\u001B[49m\u001B[43mdf_perf\u001B[49m\u001B[38;5;241;43m=\u001B[39;49m\u001B[43mdf_perf\u001B[49m\u001B[43m,\u001B[49m\u001B[43m \u001B[49m\u001B[43malpha\u001B[49m\u001B[38;5;241;43m=\u001B[39;49m\u001B[43malpha\u001B[49m\u001B[43m)\u001B[49m\n\u001B[0;32m    286\u001B[0m     \u001B[38;5;28mprint\u001B[39m(average_ranks)\n\u001B[0;32m    288\u001B[0m     \u001B[38;5;28;01mfor\u001B[39;00m p \u001B[38;5;129;01min\u001B[39;00m p_values:\n",
      "File \u001B[1;32m~\\Documents\\Uni\\DeepReinforcementLearning\\src\\Visualization\\CreateCDDiagram.py:344\u001B[0m, in \u001B[0;36mwilcoxon_holm\u001B[1;34m(alpha, df_perf)\u001B[0m\n\u001B[0;32m    341\u001B[0m perf_2 \u001B[38;5;241m=\u001B[39m np\u001B[38;5;241m.\u001B[39marray(df_perf\u001B[38;5;241m.\u001B[39mloc[df_perf[\u001B[38;5;124m'\u001B[39m\u001B[38;5;124mclassifier_name\u001B[39m\u001B[38;5;124m'\u001B[39m] \u001B[38;5;241m==\u001B[39m classifier_2]\n\u001B[0;32m    342\u001B[0m                   [\u001B[38;5;124m'\u001B[39m\u001B[38;5;124maccuracy\u001B[39m\u001B[38;5;124m'\u001B[39m], dtype\u001B[38;5;241m=\u001B[39mnp\u001B[38;5;241m.\u001B[39mfloat64)\n\u001B[0;32m    343\u001B[0m \u001B[38;5;66;03m# calculate the p_value\u001B[39;00m\n\u001B[1;32m--> 344\u001B[0m p_value \u001B[38;5;241m=\u001B[39m \u001B[43mwilcoxon\u001B[49m\u001B[43m(\u001B[49m\u001B[43mperf_1\u001B[49m\u001B[43m,\u001B[49m\u001B[43m \u001B[49m\u001B[43mperf_2\u001B[49m\u001B[43m,\u001B[49m\u001B[43m \u001B[49m\u001B[43mzero_method\u001B[49m\u001B[38;5;241;43m=\u001B[39;49m\u001B[38;5;124;43m'\u001B[39;49m\u001B[38;5;124;43mpratt\u001B[39;49m\u001B[38;5;124;43m'\u001B[39;49m\u001B[43m)\u001B[49m[\u001B[38;5;241m1\u001B[39m]\n\u001B[0;32m    345\u001B[0m \u001B[38;5;66;03m# appen to the list\u001B[39;00m\n\u001B[0;32m    346\u001B[0m p_values\u001B[38;5;241m.\u001B[39mappend((classifier_1, classifier_2, p_value, \u001B[38;5;28;01mFalse\u001B[39;00m))\n",
      "File \u001B[1;32m~\\anaconda3\\envs\\DeepReinforcementLearning\\lib\\site-packages\\scipy\\_lib\\_util.py:700\u001B[0m, in \u001B[0;36m_rename_parameter.<locals>.decorator.<locals>.wrapper\u001B[1;34m(*args, **kwargs)\u001B[0m\n\u001B[0;32m    698\u001B[0m         \u001B[38;5;28;01mraise\u001B[39;00m \u001B[38;5;167;01mTypeError\u001B[39;00m(message)\n\u001B[0;32m    699\u001B[0m     kwargs[new_name] \u001B[38;5;241m=\u001B[39m kwargs\u001B[38;5;241m.\u001B[39mpop(old_name)\n\u001B[1;32m--> 700\u001B[0m \u001B[38;5;28;01mreturn\u001B[39;00m fun(\u001B[38;5;241m*\u001B[39margs, \u001B[38;5;241m*\u001B[39m\u001B[38;5;241m*\u001B[39mkwargs)\n",
      "File \u001B[1;32m~\\anaconda3\\envs\\DeepReinforcementLearning\\lib\\site-packages\\scipy\\stats\\_axis_nan_policy.py:502\u001B[0m, in \u001B[0;36m_axis_nan_policy_factory.<locals>.axis_nan_policy_decorator.<locals>.axis_nan_policy_wrapper\u001B[1;34m(***failed resolving arguments***)\u001B[0m\n\u001B[0;32m    500\u001B[0m \u001B[38;5;28;01mif\u001B[39;00m sentinel:\n\u001B[0;32m    501\u001B[0m     samples \u001B[38;5;241m=\u001B[39m _remove_sentinel(samples, paired, sentinel)\n\u001B[1;32m--> 502\u001B[0m res \u001B[38;5;241m=\u001B[39m hypotest_fun_out(\u001B[38;5;241m*\u001B[39msamples, \u001B[38;5;241m*\u001B[39m\u001B[38;5;241m*\u001B[39mkwds)\n\u001B[0;32m    503\u001B[0m res \u001B[38;5;241m=\u001B[39m result_to_tuple(res)\n\u001B[0;32m    504\u001B[0m res \u001B[38;5;241m=\u001B[39m _add_reduced_axes(res, reduced_axes, keepdims)\n",
      "File \u001B[1;32m~\\anaconda3\\envs\\DeepReinforcementLearning\\lib\\site-packages\\scipy\\stats\\_morestats.py:3420\u001B[0m, in \u001B[0;36mwilcoxon\u001B[1;34m(x, y, zero_method, correction, alternative, method)\u001B[0m\n\u001B[0;32m   3418\u001B[0m \u001B[38;5;28;01mif\u001B[39;00m zero_method \u001B[38;5;129;01min\u001B[39;00m [\u001B[38;5;124m\"\u001B[39m\u001B[38;5;124mwilcox\u001B[39m\u001B[38;5;124m\"\u001B[39m, \u001B[38;5;124m\"\u001B[39m\u001B[38;5;124mpratt\u001B[39m\u001B[38;5;124m\"\u001B[39m]:\n\u001B[0;32m   3419\u001B[0m     \u001B[38;5;28;01mif\u001B[39;00m n_zero \u001B[38;5;241m==\u001B[39m \u001B[38;5;28mlen\u001B[39m(d):\n\u001B[1;32m-> 3420\u001B[0m         \u001B[38;5;28;01mraise\u001B[39;00m \u001B[38;5;167;01mValueError\u001B[39;00m(\u001B[38;5;124m\"\u001B[39m\u001B[38;5;124mzero_method \u001B[39m\u001B[38;5;124m'\u001B[39m\u001B[38;5;124mwilcox\u001B[39m\u001B[38;5;124m'\u001B[39m\u001B[38;5;124m and \u001B[39m\u001B[38;5;124m'\u001B[39m\u001B[38;5;124mpratt\u001B[39m\u001B[38;5;124m'\u001B[39m\u001B[38;5;124m do not \u001B[39m\u001B[38;5;124m\"\u001B[39m\n\u001B[0;32m   3421\u001B[0m                          \u001B[38;5;124m\"\u001B[39m\u001B[38;5;124mwork if x - y is zero for all elements.\u001B[39m\u001B[38;5;124m\"\u001B[39m)\n\u001B[0;32m   3422\u001B[0m \u001B[38;5;28;01mif\u001B[39;00m zero_method \u001B[38;5;241m==\u001B[39m \u001B[38;5;124m\"\u001B[39m\u001B[38;5;124mwilcox\u001B[39m\u001B[38;5;124m\"\u001B[39m:\n\u001B[0;32m   3423\u001B[0m     \u001B[38;5;66;03m# Keep all non-zero differences\u001B[39;00m\n\u001B[0;32m   3424\u001B[0m     d \u001B[38;5;241m=\u001B[39m compress(np\u001B[38;5;241m.\u001B[39mnot_equal(d, \u001B[38;5;241m0\u001B[39m), d)\n",
      "\u001B[1;31mValueError\u001B[0m: zero_method 'wilcox' and 'pratt' do not work if x - y is zero for all elements."
     ]
    }
   ],
   "source": [
    "cdd.draw_cd_diagram(df_perf=evaluation_data_df_for_cdd, title='All Models', labels=USE_CDD_LABELS)\n",
    "rename_cdd_to(\"all_models\")"
   ],
   "metadata": {
    "collapsed": false
   }
  },
  {
   "cell_type": "markdown",
   "source": [
    "### Ensembles Only"
   ],
   "metadata": {
    "collapsed": false
   }
  },
  {
   "cell_type": "code",
   "execution_count": 11,
   "outputs": [
    {
     "data": {
      "text/plain": "                                      classifier_name dataset_name  accuracy\n12  Top-3 Ensemble (average) with Mnih et al. (201...     seaquest  0.313589\n13  Top-3 Ensemble (logistic average) with Mnih et...     seaquest  0.271777\n14  Top-3 Ensemble (majority vote) with Mnih et al...     seaquest  0.209059\n15   Top-3 Ensemble (average) with Mnih et al. (2013)     seaquest  0.188153\n16  Top-3 Ensemble (logistic average) with Mnih et...     seaquest  0.125436\n..                                                ...          ...       ...\n70  3-Snapshot Ensemble (logistic average) with Mn...     breakout  0.182796\n71  3-Snapshot Ensemble (majority vote) with Mnih ...     breakout  0.172043\n72  3-Snapshot Ensemble (average) with Mnih et al....     breakout  0.086022\n73  3-Snapshot Ensemble (logistic average) with Mn...     breakout  0.129032\n74  3-Snapshot Ensemble (majority vote) with Mnih ...     breakout  0.236559\n\n[63 rows x 3 columns]",
      "text/html": "<div>\n<style scoped>\n    .dataframe tbody tr th:only-of-type {\n        vertical-align: middle;\n    }\n\n    .dataframe tbody tr th {\n        vertical-align: top;\n    }\n\n    .dataframe thead th {\n        text-align: right;\n    }\n</style>\n<table border=\"1\" class=\"dataframe\">\n  <thead>\n    <tr style=\"text-align: right;\">\n      <th></th>\n      <th>classifier_name</th>\n      <th>dataset_name</th>\n      <th>accuracy</th>\n    </tr>\n  </thead>\n  <tbody>\n    <tr>\n      <th>12</th>\n      <td>Top-3 Ensemble (average) with Mnih et al. (201...</td>\n      <td>seaquest</td>\n      <td>0.313589</td>\n    </tr>\n    <tr>\n      <th>13</th>\n      <td>Top-3 Ensemble (logistic average) with Mnih et...</td>\n      <td>seaquest</td>\n      <td>0.271777</td>\n    </tr>\n    <tr>\n      <th>14</th>\n      <td>Top-3 Ensemble (majority vote) with Mnih et al...</td>\n      <td>seaquest</td>\n      <td>0.209059</td>\n    </tr>\n    <tr>\n      <th>15</th>\n      <td>Top-3 Ensemble (average) with Mnih et al. (2013)</td>\n      <td>seaquest</td>\n      <td>0.188153</td>\n    </tr>\n    <tr>\n      <th>16</th>\n      <td>Top-3 Ensemble (logistic average) with Mnih et...</td>\n      <td>seaquest</td>\n      <td>0.125436</td>\n    </tr>\n    <tr>\n      <th>...</th>\n      <td>...</td>\n      <td>...</td>\n      <td>...</td>\n    </tr>\n    <tr>\n      <th>70</th>\n      <td>3-Snapshot Ensemble (logistic average) with Mn...</td>\n      <td>breakout</td>\n      <td>0.182796</td>\n    </tr>\n    <tr>\n      <th>71</th>\n      <td>3-Snapshot Ensemble (majority vote) with Mnih ...</td>\n      <td>breakout</td>\n      <td>0.172043</td>\n    </tr>\n    <tr>\n      <th>72</th>\n      <td>3-Snapshot Ensemble (average) with Mnih et al....</td>\n      <td>breakout</td>\n      <td>0.086022</td>\n    </tr>\n    <tr>\n      <th>73</th>\n      <td>3-Snapshot Ensemble (logistic average) with Mn...</td>\n      <td>breakout</td>\n      <td>0.129032</td>\n    </tr>\n    <tr>\n      <th>74</th>\n      <td>3-Snapshot Ensemble (majority vote) with Mnih ...</td>\n      <td>breakout</td>\n      <td>0.236559</td>\n    </tr>\n  </tbody>\n</table>\n<p>63 rows × 3 columns</p>\n</div>"
     },
     "execution_count": 11,
     "metadata": {},
     "output_type": "execute_result"
    }
   ],
   "source": [
    "all_ensembles = evaluation_data_df_for_cdd[\n",
    "        evaluation_data_df_for_cdd[\"classifier_name\"].str.contains(\"Ensemble\")\n",
    "    ].dropna()\n",
    "all_ensembles"
   ],
   "metadata": {
    "collapsed": false
   }
  },
  {
   "cell_type": "code",
   "execution_count": 12,
   "outputs": [
    {
     "name": "stdout",
     "output_type": "stream",
     "text": [
      "['Top-3 Ensemble (average) with Mnih et al. (2015) with Huber Loss and Adam'\n",
      " 'Top-3 Ensemble (logistic average) with Mnih et al. (2015) with Huber Loss and Adam'\n",
      " 'Top-3 Ensemble (majority vote) with Mnih et al. (2015) with Huber Loss and Adam'\n",
      " 'Top-3 Ensemble (average) with Mnih et al. (2013)'\n",
      " 'Top-3 Ensemble (logistic average) with Mnih et al. (2013)'\n",
      " 'Top-3 Ensemble (majority vote) with Mnih et al. (2013)'\n",
      " 'Top-3 Ensemble (average) with Mnih et al. (2015)'\n",
      " 'Top-3 Ensemble (logistic average) with Mnih et al. (2015)'\n",
      " 'Top-3 Ensemble (majority vote) with Mnih et al. (2015)'\n",
      " 'Top-3 Mixed Ensemble (average)'\n",
      " 'Top-3 Mixed Ensemble (logistic average)'\n",
      " 'Top-3 Mixed Ensemble (majority vote)'\n",
      " '3-Snapshot Ensemble (average) with Mnih et al. (2015) with Huber Loss and Adam'\n",
      " '3-Snapshot Ensemble (logistic average) with Mnih et al. (2015) with Huber Loss and Adam'\n",
      " '3-Snapshot Ensemble (majority vote) with Mnih et al. (2015) with Huber Loss and Adam'\n",
      " '3-Snapshot Ensemble (average) with Mnih et al. (2013)'\n",
      " '3-Snapshot Ensemble (logistic average) with Mnih et al. (2013)'\n",
      " '3-Snapshot Ensemble (majority vote) with Mnih et al. (2013)'\n",
      " '3-Snapshot Ensemble (average) with Mnih et al. (2015)'\n",
      " '3-Snapshot Ensemble (logistic average) with Mnih et al. (2015)'\n",
      " '3-Snapshot Ensemble (majority vote) with Mnih et al. (2015)']\n",
      "3-Snapshot Ensemble (average) with Mnih et al. (2013)                                      0.0\n",
      "3-Snapshot Ensemble (average) with Mnih et al. (2015)                                      0.0\n",
      "3-Snapshot Ensemble (average) with Mnih et al. (2015) with Huber Loss and Adam             0.0\n",
      "3-Snapshot Ensemble (logistic average) with Mnih et al. (2013)                             0.0\n",
      "3-Snapshot Ensemble (logistic average) with Mnih et al. (2015)                             0.0\n",
      "3-Snapshot Ensemble (logistic average) with Mnih et al. (2015) with Huber Loss and Adam    0.0\n",
      "3-Snapshot Ensemble (majority vote) with Mnih et al. (2013)                                0.0\n",
      "3-Snapshot Ensemble (majority vote) with Mnih et al. (2015)                                0.0\n",
      "3-Snapshot Ensemble (majority vote) with Mnih et al. (2015) with Huber Loss and Adam       0.0\n",
      "Top-3 Ensemble (average) with Mnih et al. (2013)                                           0.0\n",
      "Top-3 Ensemble (average) with Mnih et al. (2015)                                           0.0\n",
      "Top-3 Ensemble (average) with Mnih et al. (2015) with Huber Loss and Adam                  0.0\n",
      "Top-3 Ensemble (logistic average) with Mnih et al. (2013)                                  0.0\n",
      "Top-3 Ensemble (logistic average) with Mnih et al. (2015)                                  0.0\n",
      "Top-3 Ensemble (logistic average) with Mnih et al. (2015) with Huber Loss and Adam         0.0\n",
      "Top-3 Ensemble (majority vote) with Mnih et al. (2013)                                     0.0\n",
      "Top-3 Ensemble (majority vote) with Mnih et al. (2015)                                     0.0\n",
      "Top-3 Ensemble (majority vote) with Mnih et al. (2015) with Huber Loss and Adam            0.0\n",
      "Top-3 Mixed Ensemble (average)                                                             1.0\n",
      "Top-3 Mixed Ensemble (logistic average)                                                    1.0\n",
      "Top-3 Mixed Ensemble (majority vote)                                                       1.0\n",
      "dtype: float64\n",
      "Top-3 Ensemble (majority vote) with Mnih et al. (2015)                                     18.166667\n",
      "Top-3 Ensemble (logistic average) with Mnih et al. (2013)                                  14.833333\n",
      "Top-3 Ensemble (average) with Mnih et al. (2015) with Huber Loss and Adam                  14.333333\n",
      "Top-3 Ensemble (logistic average) with Mnih et al. (2015) with Huber Loss and Adam         14.166667\n",
      "3-Snapshot Ensemble (logistic average) with Mnih et al. (2015) with Huber Loss and Adam    14.000000\n",
      "Top-3 Ensemble (average) with Mnih et al. (2015)                                           13.666667\n",
      "3-Snapshot Ensemble (logistic average) with Mnih et al. (2013)                             13.666667\n",
      "3-Snapshot Ensemble (majority vote) with Mnih et al. (2015)                                13.666667\n",
      "3-Snapshot Ensemble (average) with Mnih et al. (2015) with Huber Loss and Adam             12.833333\n",
      "3-Snapshot Ensemble (average) with Mnih et al. (2015)                                      12.833333\n",
      "3-Snapshot Ensemble (logistic average) with Mnih et al. (2015)                             12.333333\n",
      "Top-3 Ensemble (majority vote) with Mnih et al. (2015) with Huber Loss and Adam            11.500000\n",
      "Top-3 Ensemble (logistic average) with Mnih et al. (2015)                                  10.833333\n",
      "3-Snapshot Ensemble (average) with Mnih et al. (2013)                                      10.000000\n",
      "3-Snapshot Ensemble (majority vote) with Mnih et al. (2013)                                10.000000\n",
      "Top-3 Ensemble (average) with Mnih et al. (2013)                                            8.666667\n",
      "Top-3 Ensemble (majority vote) with Mnih et al. (2013)                                      7.333333\n",
      "3-Snapshot Ensemble (majority vote) with Mnih et al. (2015) with Huber Loss and Adam        6.666667\n",
      "Top-3 Mixed Ensemble (average)                                                              5.166667\n",
      "Top-3 Mixed Ensemble (majority vote)                                                        3.333333\n",
      "Top-3 Mixed Ensemble (logistic average)                                                     3.000000\n",
      "dtype: float64\n",
      "('3-Snapshot Ensemble (average) with Mnih et al. (2015)', 'Top-3 Ensemble (average) with Mnih et al. (2015) with Huber Loss and Adam', 0.16551785869746993, False)\n",
      "('3-Snapshot Ensemble (average) with Mnih et al. (2015)', 'Top-3 Ensemble (logistic average) with Mnih et al. (2015)', 0.16551785869746993, False)\n",
      "('3-Snapshot Ensemble (average) with Mnih et al. (2015)', 'Top-3 Ensemble (logistic average) with Mnih et al. (2015) with Huber Loss and Adam', 0.16551785869746993, False)\n",
      "('3-Snapshot Ensemble (average) with Mnih et al. (2015)', 'Top-3 Ensemble (majority vote) with Mnih et al. (2015)', 0.16551785869746993, False)\n",
      "('3-Snapshot Ensemble (average) with Mnih et al. (2015) with Huber Loss and Adam', '3-Snapshot Ensemble (logistic average) with Mnih et al. (2015) with Huber Loss and Adam', 0.16551785869746993, False)\n",
      "('3-Snapshot Ensemble (average) with Mnih et al. (2015) with Huber Loss and Adam', 'Top-3 Ensemble (majority vote) with Mnih et al. (2015)', 0.16551785869746993, False)\n",
      "('3-Snapshot Ensemble (logistic average) with Mnih et al. (2013)', 'Top-3 Ensemble (majority vote) with Mnih et al. (2015)', 0.16551785869746993, False)\n",
      "('3-Snapshot Ensemble (logistic average) with Mnih et al. (2015)', 'Top-3 Ensemble (average) with Mnih et al. (2015) with Huber Loss and Adam', 0.16551785869746993, False)\n",
      "('3-Snapshot Ensemble (logistic average) with Mnih et al. (2015)', 'Top-3 Ensemble (logistic average) with Mnih et al. (2015) with Huber Loss and Adam', 0.16551785869746993, False)\n",
      "('3-Snapshot Ensemble (logistic average) with Mnih et al. (2015)', 'Top-3 Ensemble (majority vote) with Mnih et al. (2015)', 0.16551785869746993, False)\n",
      "('3-Snapshot Ensemble (logistic average) with Mnih et al. (2015) with Huber Loss and Adam', 'Top-3 Ensemble (majority vote) with Mnih et al. (2015)', 0.16551785869746993, False)\n",
      "('3-Snapshot Ensemble (logistic average) with Mnih et al. (2015) with Huber Loss and Adam', 'Top-3 Ensemble (majority vote) with Mnih et al. (2015) with Huber Loss and Adam', 0.16551785869746993, False)\n",
      "('3-Snapshot Ensemble (majority vote) with Mnih et al. (2015)', 'Top-3 Ensemble (logistic average) with Mnih et al. (2013)', 0.16551785869746993, False)\n",
      "('3-Snapshot Ensemble (majority vote) with Mnih et al. (2015)', 'Top-3 Ensemble (majority vote) with Mnih et al. (2015)', 0.16551785869746993, False)\n",
      "('3-Snapshot Ensemble (majority vote) with Mnih et al. (2015)', 'Top-3 Ensemble (majority vote) with Mnih et al. (2015) with Huber Loss and Adam', 0.16551785869746993, False)\n",
      "('Top-3 Ensemble (average) with Mnih et al. (2015)', 'Top-3 Ensemble (logistic average) with Mnih et al. (2015)', 0.16551785869746993, False)\n",
      "('Top-3 Ensemble (average) with Mnih et al. (2015) with Huber Loss and Adam', 'Top-3 Ensemble (logistic average) with Mnih et al. (2015)', 0.16551785869746993, False)\n",
      "('Top-3 Ensemble (logistic average) with Mnih et al. (2013)', 'Top-3 Ensemble (majority vote) with Mnih et al. (2015)', 0.16551785869746993, False)\n",
      "('Top-3 Ensemble (logistic average) with Mnih et al. (2013)', 'Top-3 Ensemble (majority vote) with Mnih et al. (2015) with Huber Loss and Adam', 0.16551785869746993, False)\n",
      "('Top-3 Ensemble (logistic average) with Mnih et al. (2013)', 'Top-3 Mixed Ensemble (average)', 0.16551785869746993, False)\n",
      "('Top-3 Ensemble (logistic average) with Mnih et al. (2015)', 'Top-3 Ensemble (logistic average) with Mnih et al. (2015) with Huber Loss and Adam', 0.16551785869746993, False)\n",
      "('Top-3 Ensemble (logistic average) with Mnih et al. (2015)', 'Top-3 Ensemble (majority vote) with Mnih et al. (2015)', 0.16551785869746993, False)\n",
      "('Top-3 Ensemble (majority vote) with Mnih et al. (2015)', 'Top-3 Ensemble (majority vote) with Mnih et al. (2015) with Huber Loss and Adam', 0.16551785869746993, False)\n",
      "('3-Snapshot Ensemble (average) with Mnih et al. (2013)', 'Top-3 Ensemble (logistic average) with Mnih et al. (2013)', 0.25, False)\n",
      "('3-Snapshot Ensemble (average) with Mnih et al. (2013)', 'Top-3 Ensemble (majority vote) with Mnih et al. (2015)', 0.25, False)\n",
      "('3-Snapshot Ensemble (average) with Mnih et al. (2013)', 'Top-3 Mixed Ensemble (logistic average)', 0.25, False)\n",
      "('3-Snapshot Ensemble (average) with Mnih et al. (2013)', 'Top-3 Mixed Ensemble (majority vote)', 0.25, False)\n",
      "('3-Snapshot Ensemble (average) with Mnih et al. (2015)', 'Top-3 Mixed Ensemble (average)', 0.25, False)\n",
      "('3-Snapshot Ensemble (average) with Mnih et al. (2015)', 'Top-3 Mixed Ensemble (logistic average)', 0.25, False)\n",
      "('3-Snapshot Ensemble (average) with Mnih et al. (2015)', 'Top-3 Mixed Ensemble (majority vote)', 0.25, False)\n",
      "('3-Snapshot Ensemble (average) with Mnih et al. (2015) with Huber Loss and Adam', '3-Snapshot Ensemble (majority vote) with Mnih et al. (2015) with Huber Loss and Adam', 0.25, False)\n",
      "('3-Snapshot Ensemble (average) with Mnih et al. (2015) with Huber Loss and Adam', 'Top-3 Ensemble (majority vote) with Mnih et al. (2013)', 0.25, False)\n",
      "('3-Snapshot Ensemble (average) with Mnih et al. (2015) with Huber Loss and Adam', 'Top-3 Mixed Ensemble (logistic average)', 0.25, False)\n",
      "('3-Snapshot Ensemble (logistic average) with Mnih et al. (2013)', '3-Snapshot Ensemble (majority vote) with Mnih et al. (2015) with Huber Loss and Adam', 0.25, False)\n",
      "('3-Snapshot Ensemble (logistic average) with Mnih et al. (2013)', 'Top-3 Ensemble (majority vote) with Mnih et al. (2013)', 0.25, False)\n",
      "('3-Snapshot Ensemble (logistic average) with Mnih et al. (2013)', 'Top-3 Mixed Ensemble (average)', 0.25, False)\n",
      "('3-Snapshot Ensemble (logistic average) with Mnih et al. (2013)', 'Top-3 Mixed Ensemble (logistic average)', 0.25, False)\n",
      "('3-Snapshot Ensemble (logistic average) with Mnih et al. (2013)', 'Top-3 Mixed Ensemble (majority vote)', 0.25, False)\n",
      "('3-Snapshot Ensemble (logistic average) with Mnih et al. (2015)', 'Top-3 Mixed Ensemble (average)', 0.25, False)\n",
      "('3-Snapshot Ensemble (logistic average) with Mnih et al. (2015)', 'Top-3 Mixed Ensemble (logistic average)', 0.25, False)\n",
      "('3-Snapshot Ensemble (logistic average) with Mnih et al. (2015)', 'Top-3 Mixed Ensemble (majority vote)', 0.25, False)\n",
      "('3-Snapshot Ensemble (logistic average) with Mnih et al. (2015) with Huber Loss and Adam', '3-Snapshot Ensemble (majority vote) with Mnih et al. (2015) with Huber Loss and Adam', 0.25, False)\n",
      "('3-Snapshot Ensemble (logistic average) with Mnih et al. (2015) with Huber Loss and Adam', 'Top-3 Ensemble (majority vote) with Mnih et al. (2013)', 0.25, False)\n",
      "('3-Snapshot Ensemble (logistic average) with Mnih et al. (2015) with Huber Loss and Adam', 'Top-3 Mixed Ensemble (logistic average)', 0.25, False)\n",
      "('3-Snapshot Ensemble (logistic average) with Mnih et al. (2015) with Huber Loss and Adam', 'Top-3 Mixed Ensemble (majority vote)', 0.25, False)\n",
      "('3-Snapshot Ensemble (majority vote) with Mnih et al. (2013)', 'Top-3 Ensemble (majority vote) with Mnih et al. (2015)', 0.25, False)\n",
      "('3-Snapshot Ensemble (majority vote) with Mnih et al. (2013)', 'Top-3 Mixed Ensemble (average)', 0.25, False)\n",
      "('3-Snapshot Ensemble (majority vote) with Mnih et al. (2013)', 'Top-3 Mixed Ensemble (logistic average)', 0.25, False)\n",
      "('3-Snapshot Ensemble (majority vote) with Mnih et al. (2013)', 'Top-3 Mixed Ensemble (majority vote)', 0.25, False)\n",
      "('3-Snapshot Ensemble (majority vote) with Mnih et al. (2015)', '3-Snapshot Ensemble (majority vote) with Mnih et al. (2015) with Huber Loss and Adam', 0.25, False)\n",
      "('3-Snapshot Ensemble (majority vote) with Mnih et al. (2015)', 'Top-3 Ensemble (average) with Mnih et al. (2013)', 0.25, False)\n",
      "('3-Snapshot Ensemble (majority vote) with Mnih et al. (2015)', 'Top-3 Ensemble (majority vote) with Mnih et al. (2013)', 0.25, False)\n",
      "('3-Snapshot Ensemble (majority vote) with Mnih et al. (2015)', 'Top-3 Mixed Ensemble (logistic average)', 0.25, False)\n",
      "('3-Snapshot Ensemble (majority vote) with Mnih et al. (2015)', 'Top-3 Mixed Ensemble (majority vote)', 0.25, False)\n",
      "('3-Snapshot Ensemble (majority vote) with Mnih et al. (2015) with Huber Loss and Adam', 'Top-3 Ensemble (logistic average) with Mnih et al. (2013)', 0.25, False)\n",
      "('3-Snapshot Ensemble (majority vote) with Mnih et al. (2015) with Huber Loss and Adam', 'Top-3 Ensemble (majority vote) with Mnih et al. (2015)', 0.25, False)\n",
      "('3-Snapshot Ensemble (majority vote) with Mnih et al. (2015) with Huber Loss and Adam', 'Top-3 Ensemble (majority vote) with Mnih et al. (2015) with Huber Loss and Adam', 0.25, False)\n",
      "('3-Snapshot Ensemble (majority vote) with Mnih et al. (2015) with Huber Loss and Adam', 'Top-3 Mixed Ensemble (logistic average)', 0.25, False)\n",
      "('Top-3 Ensemble (average) with Mnih et al. (2013)', 'Top-3 Ensemble (logistic average) with Mnih et al. (2013)', 0.25, False)\n",
      "('Top-3 Ensemble (average) with Mnih et al. (2013)', 'Top-3 Ensemble (majority vote) with Mnih et al. (2015)', 0.25, False)\n",
      "('Top-3 Ensemble (average) with Mnih et al. (2015)', 'Top-3 Mixed Ensemble (average)', 0.25, False)\n",
      "('Top-3 Ensemble (average) with Mnih et al. (2015)', 'Top-3 Mixed Ensemble (logistic average)', 0.25, False)\n",
      "('Top-3 Ensemble (average) with Mnih et al. (2015)', 'Top-3 Mixed Ensemble (majority vote)', 0.25, False)\n",
      "('Top-3 Ensemble (average) with Mnih et al. (2015) with Huber Loss and Adam', 'Top-3 Mixed Ensemble (average)', 0.25, False)\n",
      "('Top-3 Ensemble (average) with Mnih et al. (2015) with Huber Loss and Adam', 'Top-3 Mixed Ensemble (logistic average)', 0.25, False)\n",
      "('Top-3 Ensemble (average) with Mnih et al. (2015) with Huber Loss and Adam', 'Top-3 Mixed Ensemble (majority vote)', 0.25, False)\n",
      "('Top-3 Ensemble (logistic average) with Mnih et al. (2013)', 'Top-3 Ensemble (majority vote) with Mnih et al. (2013)', 0.25, False)\n",
      "('Top-3 Ensemble (logistic average) with Mnih et al. (2013)', 'Top-3 Mixed Ensemble (logistic average)', 0.25, False)\n",
      "('Top-3 Ensemble (logistic average) with Mnih et al. (2013)', 'Top-3 Mixed Ensemble (majority vote)', 0.25, False)\n",
      "('Top-3 Ensemble (logistic average) with Mnih et al. (2015)', 'Top-3 Mixed Ensemble (majority vote)', 0.25, False)\n",
      "('Top-3 Ensemble (logistic average) with Mnih et al. (2015) with Huber Loss and Adam', 'Top-3 Mixed Ensemble (average)', 0.25, False)\n",
      "('Top-3 Ensemble (logistic average) with Mnih et al. (2015) with Huber Loss and Adam', 'Top-3 Mixed Ensemble (logistic average)', 0.25, False)\n",
      "('Top-3 Ensemble (logistic average) with Mnih et al. (2015) with Huber Loss and Adam', 'Top-3 Mixed Ensemble (majority vote)', 0.25, False)\n",
      "('Top-3 Ensemble (majority vote) with Mnih et al. (2013)', 'Top-3 Ensemble (majority vote) with Mnih et al. (2015)', 0.25, False)\n",
      "('Top-3 Ensemble (majority vote) with Mnih et al. (2013)', 'Top-3 Ensemble (majority vote) with Mnih et al. (2015) with Huber Loss and Adam', 0.25, False)\n",
      "('Top-3 Ensemble (majority vote) with Mnih et al. (2013)', 'Top-3 Mixed Ensemble (logistic average)', 0.25, False)\n",
      "('Top-3 Ensemble (majority vote) with Mnih et al. (2015)', 'Top-3 Mixed Ensemble (average)', 0.25, False)\n",
      "('Top-3 Ensemble (majority vote) with Mnih et al. (2015)', 'Top-3 Mixed Ensemble (logistic average)', 0.25, False)\n",
      "('Top-3 Ensemble (majority vote) with Mnih et al. (2015)', 'Top-3 Mixed Ensemble (majority vote)', 0.25, False)\n",
      "('Top-3 Ensemble (majority vote) with Mnih et al. (2015) with Huber Loss and Adam', 'Top-3 Mixed Ensemble (logistic average)', 0.25, False)\n",
      "('3-Snapshot Ensemble (average) with Mnih et al. (2015)', '3-Snapshot Ensemble (logistic average) with Mnih et al. (2015)', 0.31731050786291415, False)\n",
      "('3-Snapshot Ensemble (average) with Mnih et al. (2015) with Huber Loss and Adam', 'Top-3 Ensemble (majority vote) with Mnih et al. (2015) with Huber Loss and Adam', 0.31731050786291415, False)\n",
      "('3-Snapshot Ensemble (logistic average) with Mnih et al. (2015)', 'Top-3 Ensemble (logistic average) with Mnih et al. (2015)', 0.31731050786291415, False)\n",
      "('Top-3 Ensemble (logistic average) with Mnih et al. (2015) with Huber Loss and Adam', 'Top-3 Ensemble (majority vote) with Mnih et al. (2015)', 0.31731050786291415, False)\n",
      "('3-Snapshot Ensemble (average) with Mnih et al. (2013)', '3-Snapshot Ensemble (logistic average) with Mnih et al. (2013)', 0.5, False)\n",
      "('3-Snapshot Ensemble (average) with Mnih et al. (2013)', '3-Snapshot Ensemble (logistic average) with Mnih et al. (2015) with Huber Loss and Adam', 0.5, False)\n",
      "('3-Snapshot Ensemble (average) with Mnih et al. (2013)', '3-Snapshot Ensemble (majority vote) with Mnih et al. (2013)', 0.5, False)\n",
      "('3-Snapshot Ensemble (average) with Mnih et al. (2013)', '3-Snapshot Ensemble (majority vote) with Mnih et al. (2015)', 0.5, False)\n",
      "('3-Snapshot Ensemble (average) with Mnih et al. (2013)', 'Top-3 Ensemble (average) with Mnih et al. (2013)', 0.5, False)\n",
      "('3-Snapshot Ensemble (average) with Mnih et al. (2013)', 'Top-3 Ensemble (average) with Mnih et al. (2015) with Huber Loss and Adam', 0.5, False)\n",
      "('3-Snapshot Ensemble (average) with Mnih et al. (2013)', 'Top-3 Ensemble (logistic average) with Mnih et al. (2015) with Huber Loss and Adam', 0.5, False)\n",
      "('3-Snapshot Ensemble (average) with Mnih et al. (2013)', 'Top-3 Ensemble (majority vote) with Mnih et al. (2013)', 0.5, False)\n",
      "('3-Snapshot Ensemble (average) with Mnih et al. (2013)', 'Top-3 Mixed Ensemble (average)', 0.5, False)\n",
      "('3-Snapshot Ensemble (average) with Mnih et al. (2015)', '3-Snapshot Ensemble (majority vote) with Mnih et al. (2015) with Huber Loss and Adam', 0.5, False)\n",
      "('3-Snapshot Ensemble (average) with Mnih et al. (2015)', 'Top-3 Ensemble (majority vote) with Mnih et al. (2013)', 0.5, False)\n",
      "('3-Snapshot Ensemble (average) with Mnih et al. (2015) with Huber Loss and Adam', 'Top-3 Mixed Ensemble (average)', 0.5, False)\n",
      "('3-Snapshot Ensemble (average) with Mnih et al. (2015) with Huber Loss and Adam', 'Top-3 Mixed Ensemble (majority vote)', 0.5, False)\n",
      "('3-Snapshot Ensemble (logistic average) with Mnih et al. (2013)', '3-Snapshot Ensemble (majority vote) with Mnih et al. (2013)', 0.5, False)\n",
      "('3-Snapshot Ensemble (logistic average) with Mnih et al. (2013)', 'Top-3 Ensemble (average) with Mnih et al. (2013)', 0.5, False)\n",
      "('3-Snapshot Ensemble (logistic average) with Mnih et al. (2015)', '3-Snapshot Ensemble (majority vote) with Mnih et al. (2015) with Huber Loss and Adam', 0.5, False)\n",
      "('3-Snapshot Ensemble (logistic average) with Mnih et al. (2015)', 'Top-3 Ensemble (majority vote) with Mnih et al. (2013)', 0.5, False)\n",
      "('3-Snapshot Ensemble (logistic average) with Mnih et al. (2015) with Huber Loss and Adam', '3-Snapshot Ensemble (majority vote) with Mnih et al. (2013)', 0.5, False)\n",
      "('3-Snapshot Ensemble (logistic average) with Mnih et al. (2015) with Huber Loss and Adam', 'Top-3 Ensemble (average) with Mnih et al. (2013)', 0.5, False)\n",
      "('3-Snapshot Ensemble (logistic average) with Mnih et al. (2015) with Huber Loss and Adam', 'Top-3 Mixed Ensemble (average)', 0.5, False)\n",
      "('3-Snapshot Ensemble (majority vote) with Mnih et al. (2013)', '3-Snapshot Ensemble (majority vote) with Mnih et al. (2015)', 0.5, False)\n",
      "('3-Snapshot Ensemble (majority vote) with Mnih et al. (2013)', 'Top-3 Ensemble (average) with Mnih et al. (2013)', 0.5, False)\n",
      "('3-Snapshot Ensemble (majority vote) with Mnih et al. (2013)', 'Top-3 Ensemble (average) with Mnih et al. (2015) with Huber Loss and Adam', 0.5, False)\n",
      "('3-Snapshot Ensemble (majority vote) with Mnih et al. (2013)', 'Top-3 Ensemble (logistic average) with Mnih et al. (2013)', 0.5, False)\n",
      "('3-Snapshot Ensemble (majority vote) with Mnih et al. (2013)', 'Top-3 Ensemble (logistic average) with Mnih et al. (2015) with Huber Loss and Adam', 0.5, False)\n",
      "('3-Snapshot Ensemble (majority vote) with Mnih et al. (2015)', 'Top-3 Mixed Ensemble (average)', 0.5, False)\n",
      "('3-Snapshot Ensemble (majority vote) with Mnih et al. (2015) with Huber Loss and Adam', 'Top-3 Ensemble (average) with Mnih et al. (2015) with Huber Loss and Adam', 0.5, False)\n",
      "('3-Snapshot Ensemble (majority vote) with Mnih et al. (2015) with Huber Loss and Adam', 'Top-3 Ensemble (logistic average) with Mnih et al. (2015) with Huber Loss and Adam', 0.5, False)\n",
      "('3-Snapshot Ensemble (majority vote) with Mnih et al. (2015) with Huber Loss and Adam', 'Top-3 Mixed Ensemble (majority vote)', 0.5, False)\n",
      "('Top-3 Ensemble (average) with Mnih et al. (2013)', 'Top-3 Ensemble (average) with Mnih et al. (2015) with Huber Loss and Adam', 0.5, False)\n",
      "('Top-3 Ensemble (average) with Mnih et al. (2013)', 'Top-3 Ensemble (logistic average) with Mnih et al. (2015) with Huber Loss and Adam', 0.5, False)\n",
      "('Top-3 Ensemble (average) with Mnih et al. (2013)', 'Top-3 Mixed Ensemble (average)', 0.5, False)\n",
      "('Top-3 Ensemble (average) with Mnih et al. (2013)', 'Top-3 Mixed Ensemble (logistic average)', 0.5, False)\n",
      "('Top-3 Ensemble (average) with Mnih et al. (2015) with Huber Loss and Adam', 'Top-3 Ensemble (majority vote) with Mnih et al. (2013)', 0.5, False)\n",
      "('Top-3 Ensemble (logistic average) with Mnih et al. (2015)', 'Top-3 Mixed Ensemble (logistic average)', 0.5, False)\n",
      "('Top-3 Ensemble (logistic average) with Mnih et al. (2015) with Huber Loss and Adam', 'Top-3 Ensemble (majority vote) with Mnih et al. (2013)', 0.5, False)\n",
      "('Top-3 Ensemble (majority vote) with Mnih et al. (2013)', 'Top-3 Mixed Ensemble (majority vote)', 0.5, False)\n",
      "('Top-3 Ensemble (majority vote) with Mnih et al. (2015) with Huber Loss and Adam', 'Top-3 Mixed Ensemble (average)', 0.5, False)\n",
      "('Top-3 Ensemble (majority vote) with Mnih et al. (2015) with Huber Loss and Adam', 'Top-3 Mixed Ensemble (majority vote)', 0.5, False)\n",
      "('3-Snapshot Ensemble (average) with Mnih et al. (2013)', '3-Snapshot Ensemble (average) with Mnih et al. (2015)', 0.75, False)\n",
      "('3-Snapshot Ensemble (average) with Mnih et al. (2013)', '3-Snapshot Ensemble (average) with Mnih et al. (2015) with Huber Loss and Adam', 0.75, False)\n",
      "('3-Snapshot Ensemble (average) with Mnih et al. (2013)', '3-Snapshot Ensemble (logistic average) with Mnih et al. (2015)', 0.75, False)\n",
      "('3-Snapshot Ensemble (average) with Mnih et al. (2013)', '3-Snapshot Ensemble (majority vote) with Mnih et al. (2015) with Huber Loss and Adam', 0.75, False)\n",
      "('3-Snapshot Ensemble (average) with Mnih et al. (2013)', 'Top-3 Ensemble (majority vote) with Mnih et al. (2015) with Huber Loss and Adam', 0.75, False)\n",
      "('3-Snapshot Ensemble (average) with Mnih et al. (2015)', '3-Snapshot Ensemble (majority vote) with Mnih et al. (2013)', 0.75, False)\n",
      "('3-Snapshot Ensemble (average) with Mnih et al. (2015)', 'Top-3 Ensemble (average) with Mnih et al. (2013)', 0.75, False)\n",
      "('3-Snapshot Ensemble (average) with Mnih et al. (2015) with Huber Loss and Adam', '3-Snapshot Ensemble (majority vote) with Mnih et al. (2013)', 0.75, False)\n",
      "('3-Snapshot Ensemble (average) with Mnih et al. (2015) with Huber Loss and Adam', 'Top-3 Ensemble (average) with Mnih et al. (2013)', 0.75, False)\n",
      "('3-Snapshot Ensemble (logistic average) with Mnih et al. (2015)', '3-Snapshot Ensemble (majority vote) with Mnih et al. (2013)', 0.75, False)\n",
      "('3-Snapshot Ensemble (logistic average) with Mnih et al. (2015)', 'Top-3 Ensemble (average) with Mnih et al. (2013)', 0.75, False)\n",
      "('3-Snapshot Ensemble (majority vote) with Mnih et al. (2013)', '3-Snapshot Ensemble (majority vote) with Mnih et al. (2015) with Huber Loss and Adam', 0.75, False)\n",
      "('3-Snapshot Ensemble (majority vote) with Mnih et al. (2013)', 'Top-3 Ensemble (majority vote) with Mnih et al. (2015) with Huber Loss and Adam', 0.75, False)\n",
      "('3-Snapshot Ensemble (majority vote) with Mnih et al. (2015) with Huber Loss and Adam', 'Top-3 Ensemble (average) with Mnih et al. (2015)', 0.75, False)\n",
      "('3-Snapshot Ensemble (majority vote) with Mnih et al. (2015) with Huber Loss and Adam', 'Top-3 Mixed Ensemble (average)', 0.75, False)\n",
      "('Top-3 Ensemble (average) with Mnih et al. (2013)', 'Top-3 Ensemble (average) with Mnih et al. (2015)', 0.75, False)\n",
      "('Top-3 Ensemble (average) with Mnih et al. (2013)', 'Top-3 Ensemble (logistic average) with Mnih et al. (2015)', 0.75, False)\n",
      "('Top-3 Ensemble (average) with Mnih et al. (2013)', 'Top-3 Mixed Ensemble (majority vote)', 0.75, False)\n",
      "('Top-3 Ensemble (average) with Mnih et al. (2015)', 'Top-3 Ensemble (majority vote) with Mnih et al. (2013)', 0.75, False)\n",
      "('Top-3 Ensemble (logistic average) with Mnih et al. (2015)', 'Top-3 Mixed Ensemble (average)', 0.75, False)\n",
      "('Top-3 Ensemble (majority vote) with Mnih et al. (2013)', 'Top-3 Mixed Ensemble (average)', 0.75, False)\n",
      "('Top-3 Mixed Ensemble (average)', 'Top-3 Mixed Ensemble (majority vote)', 0.75, False)\n",
      "('3-Snapshot Ensemble (average) with Mnih et al. (2015)', '3-Snapshot Ensemble (average) with Mnih et al. (2015) with Huber Loss and Adam', 0.7815112949987133, False)\n",
      "('3-Snapshot Ensemble (average) with Mnih et al. (2015)', '3-Snapshot Ensemble (logistic average) with Mnih et al. (2013)', 0.7815112949987133, False)\n",
      "('3-Snapshot Ensemble (average) with Mnih et al. (2015)', '3-Snapshot Ensemble (logistic average) with Mnih et al. (2015) with Huber Loss and Adam', 0.7815112949987133, False)\n",
      "('3-Snapshot Ensemble (average) with Mnih et al. (2015)', '3-Snapshot Ensemble (majority vote) with Mnih et al. (2015)', 0.7815112949987133, False)\n",
      "('3-Snapshot Ensemble (average) with Mnih et al. (2015)', 'Top-3 Ensemble (average) with Mnih et al. (2015)', 0.7815112949987133, False)\n",
      "('3-Snapshot Ensemble (average) with Mnih et al. (2015)', 'Top-3 Ensemble (logistic average) with Mnih et al. (2013)', 0.7815112949987133, False)\n",
      "('3-Snapshot Ensemble (average) with Mnih et al. (2015)', 'Top-3 Ensemble (majority vote) with Mnih et al. (2015) with Huber Loss and Adam', 0.7815112949987133, False)\n",
      "('3-Snapshot Ensemble (average) with Mnih et al. (2015) with Huber Loss and Adam', '3-Snapshot Ensemble (logistic average) with Mnih et al. (2013)', 0.7815112949987133, False)\n",
      "('3-Snapshot Ensemble (average) with Mnih et al. (2015) with Huber Loss and Adam', '3-Snapshot Ensemble (logistic average) with Mnih et al. (2015)', 0.7815112949987133, False)\n",
      "('3-Snapshot Ensemble (average) with Mnih et al. (2015) with Huber Loss and Adam', '3-Snapshot Ensemble (majority vote) with Mnih et al. (2015)', 0.7815112949987133, False)\n",
      "('3-Snapshot Ensemble (average) with Mnih et al. (2015) with Huber Loss and Adam', 'Top-3 Ensemble (average) with Mnih et al. (2015)', 0.7815112949987133, False)\n",
      "('3-Snapshot Ensemble (average) with Mnih et al. (2015) with Huber Loss and Adam', 'Top-3 Ensemble (average) with Mnih et al. (2015) with Huber Loss and Adam', 0.7815112949987133, False)\n",
      "('3-Snapshot Ensemble (average) with Mnih et al. (2015) with Huber Loss and Adam', 'Top-3 Ensemble (logistic average) with Mnih et al. (2013)', 0.7815112949987133, False)\n",
      "('3-Snapshot Ensemble (average) with Mnih et al. (2015) with Huber Loss and Adam', 'Top-3 Ensemble (logistic average) with Mnih et al. (2015)', 0.7815112949987133, False)\n",
      "('3-Snapshot Ensemble (average) with Mnih et al. (2015) with Huber Loss and Adam', 'Top-3 Ensemble (logistic average) with Mnih et al. (2015) with Huber Loss and Adam', 0.7815112949987133, False)\n",
      "('3-Snapshot Ensemble (logistic average) with Mnih et al. (2013)', '3-Snapshot Ensemble (logistic average) with Mnih et al. (2015)', 0.7815112949987133, False)\n",
      "('3-Snapshot Ensemble (logistic average) with Mnih et al. (2013)', '3-Snapshot Ensemble (logistic average) with Mnih et al. (2015) with Huber Loss and Adam', 0.7815112949987133, False)\n",
      "('3-Snapshot Ensemble (logistic average) with Mnih et al. (2013)', '3-Snapshot Ensemble (majority vote) with Mnih et al. (2015)', 0.7815112949987133, False)\n",
      "('3-Snapshot Ensemble (logistic average) with Mnih et al. (2013)', 'Top-3 Ensemble (average) with Mnih et al. (2015)', 0.7815112949987133, False)\n",
      "('3-Snapshot Ensemble (logistic average) with Mnih et al. (2013)', 'Top-3 Ensemble (average) with Mnih et al. (2015) with Huber Loss and Adam', 0.7815112949987133, False)\n",
      "('3-Snapshot Ensemble (logistic average) with Mnih et al. (2013)', 'Top-3 Ensemble (logistic average) with Mnih et al. (2013)', 0.7815112949987133, False)\n",
      "('3-Snapshot Ensemble (logistic average) with Mnih et al. (2013)', 'Top-3 Ensemble (logistic average) with Mnih et al. (2015)', 0.7815112949987133, False)\n",
      "('3-Snapshot Ensemble (logistic average) with Mnih et al. (2013)', 'Top-3 Ensemble (logistic average) with Mnih et al. (2015) with Huber Loss and Adam', 0.7815112949987133, False)\n",
      "('3-Snapshot Ensemble (logistic average) with Mnih et al. (2013)', 'Top-3 Ensemble (majority vote) with Mnih et al. (2015) with Huber Loss and Adam', 0.7815112949987133, False)\n",
      "('3-Snapshot Ensemble (logistic average) with Mnih et al. (2015)', '3-Snapshot Ensemble (logistic average) with Mnih et al. (2015) with Huber Loss and Adam', 0.7815112949987133, False)\n",
      "('3-Snapshot Ensemble (logistic average) with Mnih et al. (2015)', '3-Snapshot Ensemble (majority vote) with Mnih et al. (2015)', 0.7815112949987133, False)\n",
      "('3-Snapshot Ensemble (logistic average) with Mnih et al. (2015)', 'Top-3 Ensemble (average) with Mnih et al. (2015)', 0.7815112949987133, False)\n",
      "('3-Snapshot Ensemble (logistic average) with Mnih et al. (2015)', 'Top-3 Ensemble (logistic average) with Mnih et al. (2013)', 0.7815112949987133, False)\n",
      "('3-Snapshot Ensemble (logistic average) with Mnih et al. (2015)', 'Top-3 Ensemble (majority vote) with Mnih et al. (2015) with Huber Loss and Adam', 0.7815112949987133, False)\n",
      "('3-Snapshot Ensemble (logistic average) with Mnih et al. (2015) with Huber Loss and Adam', '3-Snapshot Ensemble (majority vote) with Mnih et al. (2015)', 0.7815112949987133, False)\n",
      "('3-Snapshot Ensemble (logistic average) with Mnih et al. (2015) with Huber Loss and Adam', 'Top-3 Ensemble (average) with Mnih et al. (2015)', 0.7815112949987133, False)\n",
      "('3-Snapshot Ensemble (logistic average) with Mnih et al. (2015) with Huber Loss and Adam', 'Top-3 Ensemble (average) with Mnih et al. (2015) with Huber Loss and Adam', 0.7815112949987133, False)\n",
      "('3-Snapshot Ensemble (logistic average) with Mnih et al. (2015) with Huber Loss and Adam', 'Top-3 Ensemble (logistic average) with Mnih et al. (2013)', 0.7815112949987133, False)\n",
      "('3-Snapshot Ensemble (logistic average) with Mnih et al. (2015) with Huber Loss and Adam', 'Top-3 Ensemble (logistic average) with Mnih et al. (2015)', 0.7815112949987133, False)\n",
      "('3-Snapshot Ensemble (logistic average) with Mnih et al. (2015) with Huber Loss and Adam', 'Top-3 Ensemble (logistic average) with Mnih et al. (2015) with Huber Loss and Adam', 0.7815112949987133, False)\n",
      "('3-Snapshot Ensemble (majority vote) with Mnih et al. (2015)', 'Top-3 Ensemble (average) with Mnih et al. (2015)', 0.7815112949987133, False)\n",
      "('3-Snapshot Ensemble (majority vote) with Mnih et al. (2015)', 'Top-3 Ensemble (average) with Mnih et al. (2015) with Huber Loss and Adam', 0.7815112949987133, False)\n",
      "('3-Snapshot Ensemble (majority vote) with Mnih et al. (2015)', 'Top-3 Ensemble (logistic average) with Mnih et al. (2015)', 0.7815112949987133, False)\n",
      "('3-Snapshot Ensemble (majority vote) with Mnih et al. (2015)', 'Top-3 Ensemble (logistic average) with Mnih et al. (2015) with Huber Loss and Adam', 0.7815112949987133, False)\n",
      "('Top-3 Ensemble (average) with Mnih et al. (2015)', 'Top-3 Ensemble (average) with Mnih et al. (2015) with Huber Loss and Adam', 0.7815112949987133, False)\n",
      "('Top-3 Ensemble (average) with Mnih et al. (2015)', 'Top-3 Ensemble (logistic average) with Mnih et al. (2013)', 0.7815112949987133, False)\n",
      "('Top-3 Ensemble (average) with Mnih et al. (2015)', 'Top-3 Ensemble (logistic average) with Mnih et al. (2015) with Huber Loss and Adam', 0.7815112949987133, False)\n",
      "('Top-3 Ensemble (average) with Mnih et al. (2015)', 'Top-3 Ensemble (majority vote) with Mnih et al. (2015)', 0.7815112949987133, False)\n",
      "('Top-3 Ensemble (average) with Mnih et al. (2015)', 'Top-3 Ensemble (majority vote) with Mnih et al. (2015) with Huber Loss and Adam', 0.7815112949987133, False)\n",
      "('Top-3 Ensemble (average) with Mnih et al. (2015) with Huber Loss and Adam', 'Top-3 Ensemble (logistic average) with Mnih et al. (2013)', 0.7815112949987133, False)\n",
      "('Top-3 Ensemble (average) with Mnih et al. (2015) with Huber Loss and Adam', 'Top-3 Ensemble (logistic average) with Mnih et al. (2015) with Huber Loss and Adam', 0.7815112949987133, False)\n",
      "('Top-3 Ensemble (average) with Mnih et al. (2015) with Huber Loss and Adam', 'Top-3 Ensemble (majority vote) with Mnih et al. (2015)', 0.7815112949987133, False)\n",
      "('Top-3 Ensemble (average) with Mnih et al. (2015) with Huber Loss and Adam', 'Top-3 Ensemble (majority vote) with Mnih et al. (2015) with Huber Loss and Adam', 0.7815112949987133, False)\n",
      "('Top-3 Ensemble (logistic average) with Mnih et al. (2013)', 'Top-3 Ensemble (logistic average) with Mnih et al. (2015)', 0.7815112949987133, False)\n",
      "('Top-3 Ensemble (logistic average) with Mnih et al. (2013)', 'Top-3 Ensemble (logistic average) with Mnih et al. (2015) with Huber Loss and Adam', 0.7815112949987133, False)\n",
      "('Top-3 Ensemble (logistic average) with Mnih et al. (2015)', 'Top-3 Ensemble (majority vote) with Mnih et al. (2015) with Huber Loss and Adam', 0.7815112949987133, False)\n",
      "('Top-3 Ensemble (logistic average) with Mnih et al. (2015) with Huber Loss and Adam', 'Top-3 Ensemble (majority vote) with Mnih et al. (2015) with Huber Loss and Adam', 0.7815112949987133, False)\n",
      "('3-Snapshot Ensemble (average) with Mnih et al. (2013)', 'Top-3 Ensemble (average) with Mnih et al. (2015)', 1.0, False)\n",
      "('3-Snapshot Ensemble (average) with Mnih et al. (2013)', 'Top-3 Ensemble (logistic average) with Mnih et al. (2015)', 1.0, False)\n",
      "('3-Snapshot Ensemble (majority vote) with Mnih et al. (2013)', 'Top-3 Ensemble (average) with Mnih et al. (2015)', 1.0, False)\n",
      "('3-Snapshot Ensemble (majority vote) with Mnih et al. (2013)', 'Top-3 Ensemble (logistic average) with Mnih et al. (2015)', 1.0, False)\n",
      "('3-Snapshot Ensemble (majority vote) with Mnih et al. (2013)', 'Top-3 Ensemble (majority vote) with Mnih et al. (2013)', 1.0, False)\n",
      "('3-Snapshot Ensemble (majority vote) with Mnih et al. (2015) with Huber Loss and Adam', 'Top-3 Ensemble (average) with Mnih et al. (2013)', 1.0, False)\n",
      "('3-Snapshot Ensemble (majority vote) with Mnih et al. (2015) with Huber Loss and Adam', 'Top-3 Ensemble (logistic average) with Mnih et al. (2015)', 1.0, False)\n",
      "('3-Snapshot Ensemble (majority vote) with Mnih et al. (2015) with Huber Loss and Adam', 'Top-3 Ensemble (majority vote) with Mnih et al. (2013)', 1.0, False)\n",
      "('Top-3 Ensemble (average) with Mnih et al. (2013)', 'Top-3 Ensemble (majority vote) with Mnih et al. (2013)', 1.0, False)\n",
      "('Top-3 Ensemble (average) with Mnih et al. (2013)', 'Top-3 Ensemble (majority vote) with Mnih et al. (2015) with Huber Loss and Adam', 1.0, False)\n",
      "('Top-3 Ensemble (logistic average) with Mnih et al. (2015)', 'Top-3 Ensemble (majority vote) with Mnih et al. (2013)', 1.0, False)\n",
      "('Top-3 Mixed Ensemble (average)', 'Top-3 Mixed Ensemble (logistic average)', 1.0, False)\n",
      "('Top-3 Mixed Ensemble (logistic average)', 'Top-3 Mixed Ensemble (majority vote)', 1.0, False)\n",
      "Index(['Top-3 Ensemble (majority vote) with Mnih et al. (2015)',\n",
      "       'Top-3 Ensemble (logistic average) with Mnih et al. (2013)',\n",
      "       'Top-3 Ensemble (average) with Mnih et al. (2015) with Huber Loss and Adam',\n",
      "       'Top-3 Ensemble (logistic average) with Mnih et al. (2015) with Huber Loss and Adam',\n",
      "       '3-Snapshot Ensemble (logistic average) with Mnih et al. (2015) with Huber Loss and Adam',\n",
      "       'Top-3 Ensemble (average) with Mnih et al. (2015)',\n",
      "       '3-Snapshot Ensemble (logistic average) with Mnih et al. (2013)',\n",
      "       '3-Snapshot Ensemble (majority vote) with Mnih et al. (2015)',\n",
      "       '3-Snapshot Ensemble (average) with Mnih et al. (2015) with Huber Loss and Adam',\n",
      "       '3-Snapshot Ensemble (average) with Mnih et al. (2015)',\n",
      "       '3-Snapshot Ensemble (logistic average) with Mnih et al. (2015)',\n",
      "       'Top-3 Ensemble (majority vote) with Mnih et al. (2015) with Huber Loss and Adam',\n",
      "       'Top-3 Ensemble (logistic average) with Mnih et al. (2015)',\n",
      "       '3-Snapshot Ensemble (average) with Mnih et al. (2013)',\n",
      "       '3-Snapshot Ensemble (majority vote) with Mnih et al. (2013)',\n",
      "       'Top-3 Ensemble (average) with Mnih et al. (2013)',\n",
      "       'Top-3 Ensemble (majority vote) with Mnih et al. (2013)',\n",
      "       '3-Snapshot Ensemble (majority vote) with Mnih et al. (2015) with Huber Loss and Adam',\n",
      "       'Top-3 Mixed Ensemble (average)',\n",
      "       'Top-3 Mixed Ensemble (majority vote)',\n",
      "       'Top-3 Mixed Ensemble (logistic average)'],\n",
      "      dtype='object')\n",
      "[0, 1, 2, 3, 4, 5, 6, 7, 8, 9, 10, 11, 12, 13, 14, 15, 16, 17, 18, 19, 20]\n"
     ]
    },
    {
     "name": "stderr",
     "output_type": "stream",
     "text": [
      "C:\\Users\\timwi\\anaconda3\\envs\\DeepReinforcementLearning\\lib\\site-packages\\scipy\\stats\\_morestats.py:3414: UserWarning: Exact p-value calculation does not work if there are zeros. Switching to normal approximation.\n",
      "  warnings.warn(\"Exact p-value calculation does not work if there are \"\n",
      "C:\\Users\\timwi\\anaconda3\\envs\\DeepReinforcementLearning\\lib\\site-packages\\scipy\\stats\\_morestats.py:3428: UserWarning: Sample size too small for normal approximation.\n",
      "  warnings.warn(\"Sample size too small for normal approximation.\")\n"
     ]
    },
    {
     "data": {
      "text/plain": "'./../../latex/cdd/cdd_all_ensembles.pdf'"
     },
     "execution_count": 12,
     "metadata": {},
     "output_type": "execute_result"
    }
   ],
   "source": [
    "cdd.draw_cd_diagram(df_perf=all_ensembles, title='All Ensembles', labels=USE_CDD_LABELS)\n",
    "rename_cdd_to(\"all_ensembles\")"
   ],
   "metadata": {
    "collapsed": false
   }
  },
  {
   "cell_type": "code",
   "execution_count": 13,
   "outputs": [
    {
     "data": {
      "text/plain": "                                      classifier_name dataset_name  accuracy\n75  Top-3 Soup of Mnih et al. (2015) with Huber Lo...     seaquest  0.188153\n76                   Top-3 Soup of Mnih et al. (2013)     seaquest  0.198606\n77                   Top-3 Soup of Mnih et al. (2015)     seaquest  0.271777\n78  Top-3 Soup of Mnih et al. (2015) with Huber Lo...       enduro  0.000000\n79                   Top-3 Soup of Mnih et al. (2013)       enduro  0.000000\n80                   Top-3 Soup of Mnih et al. (2015)       enduro  0.000000\n81  Top-3 Soup of Mnih et al. (2015) with Huber Lo...     breakout  1.000000\n82                   Top-3 Soup of Mnih et al. (2013)     breakout  0.419355\n83                   Top-3 Soup of Mnih et al. (2015)     breakout  0.064516\n84  3-Snapshot Soup of Mnih et al. (2015) with Hub...     seaquest  0.212544\n85              3-Snapshot Soup of Mnih et al. (2013)     seaquest  0.250871\n86              3-Snapshot Soup of Mnih et al. (2015)     seaquest  1.000000\n87  3-Snapshot Soup of Mnih et al. (2015) with Hub...       enduro  0.000000\n88              3-Snapshot Soup of Mnih et al. (2013)       enduro  0.000000\n89              3-Snapshot Soup of Mnih et al. (2015)       enduro  0.000000\n90  3-Snapshot Soup of Mnih et al. (2015) with Hub...     breakout  0.301075\n91              3-Snapshot Soup of Mnih et al. (2013)     breakout  0.279570\n92              3-Snapshot Soup of Mnih et al. (2015)     breakout  0.075269",
      "text/html": "<div>\n<style scoped>\n    .dataframe tbody tr th:only-of-type {\n        vertical-align: middle;\n    }\n\n    .dataframe tbody tr th {\n        vertical-align: top;\n    }\n\n    .dataframe thead th {\n        text-align: right;\n    }\n</style>\n<table border=\"1\" class=\"dataframe\">\n  <thead>\n    <tr style=\"text-align: right;\">\n      <th></th>\n      <th>classifier_name</th>\n      <th>dataset_name</th>\n      <th>accuracy</th>\n    </tr>\n  </thead>\n  <tbody>\n    <tr>\n      <th>75</th>\n      <td>Top-3 Soup of Mnih et al. (2015) with Huber Lo...</td>\n      <td>seaquest</td>\n      <td>0.188153</td>\n    </tr>\n    <tr>\n      <th>76</th>\n      <td>Top-3 Soup of Mnih et al. (2013)</td>\n      <td>seaquest</td>\n      <td>0.198606</td>\n    </tr>\n    <tr>\n      <th>77</th>\n      <td>Top-3 Soup of Mnih et al. (2015)</td>\n      <td>seaquest</td>\n      <td>0.271777</td>\n    </tr>\n    <tr>\n      <th>78</th>\n      <td>Top-3 Soup of Mnih et al. (2015) with Huber Lo...</td>\n      <td>enduro</td>\n      <td>0.000000</td>\n    </tr>\n    <tr>\n      <th>79</th>\n      <td>Top-3 Soup of Mnih et al. (2013)</td>\n      <td>enduro</td>\n      <td>0.000000</td>\n    </tr>\n    <tr>\n      <th>80</th>\n      <td>Top-3 Soup of Mnih et al. (2015)</td>\n      <td>enduro</td>\n      <td>0.000000</td>\n    </tr>\n    <tr>\n      <th>81</th>\n      <td>Top-3 Soup of Mnih et al. (2015) with Huber Lo...</td>\n      <td>breakout</td>\n      <td>1.000000</td>\n    </tr>\n    <tr>\n      <th>82</th>\n      <td>Top-3 Soup of Mnih et al. (2013)</td>\n      <td>breakout</td>\n      <td>0.419355</td>\n    </tr>\n    <tr>\n      <th>83</th>\n      <td>Top-3 Soup of Mnih et al. (2015)</td>\n      <td>breakout</td>\n      <td>0.064516</td>\n    </tr>\n    <tr>\n      <th>84</th>\n      <td>3-Snapshot Soup of Mnih et al. (2015) with Hub...</td>\n      <td>seaquest</td>\n      <td>0.212544</td>\n    </tr>\n    <tr>\n      <th>85</th>\n      <td>3-Snapshot Soup of Mnih et al. (2013)</td>\n      <td>seaquest</td>\n      <td>0.250871</td>\n    </tr>\n    <tr>\n      <th>86</th>\n      <td>3-Snapshot Soup of Mnih et al. (2015)</td>\n      <td>seaquest</td>\n      <td>1.000000</td>\n    </tr>\n    <tr>\n      <th>87</th>\n      <td>3-Snapshot Soup of Mnih et al. (2015) with Hub...</td>\n      <td>enduro</td>\n      <td>0.000000</td>\n    </tr>\n    <tr>\n      <th>88</th>\n      <td>3-Snapshot Soup of Mnih et al. (2013)</td>\n      <td>enduro</td>\n      <td>0.000000</td>\n    </tr>\n    <tr>\n      <th>89</th>\n      <td>3-Snapshot Soup of Mnih et al. (2015)</td>\n      <td>enduro</td>\n      <td>0.000000</td>\n    </tr>\n    <tr>\n      <th>90</th>\n      <td>3-Snapshot Soup of Mnih et al. (2015) with Hub...</td>\n      <td>breakout</td>\n      <td>0.301075</td>\n    </tr>\n    <tr>\n      <th>91</th>\n      <td>3-Snapshot Soup of Mnih et al. (2013)</td>\n      <td>breakout</td>\n      <td>0.279570</td>\n    </tr>\n    <tr>\n      <th>92</th>\n      <td>3-Snapshot Soup of Mnih et al. (2015)</td>\n      <td>breakout</td>\n      <td>0.075269</td>\n    </tr>\n  </tbody>\n</table>\n</div>"
     },
     "execution_count": 13,
     "metadata": {},
     "output_type": "execute_result"
    }
   ],
   "source": [
    "all_soups = evaluation_data_df_for_cdd[\n",
    "        evaluation_data_df_for_cdd[\"classifier_name\"].str.contains(\"Soup\")\n",
    "    ].dropna()\n",
    "all_soups"
   ],
   "metadata": {
    "collapsed": false
   }
  },
  {
   "cell_type": "code",
   "execution_count": 14,
   "outputs": [
    {
     "name": "stdout",
     "output_type": "stream",
     "text": [
      "['Top-3 Soup of Mnih et al. (2015) with Huber Loss and Adam'\n",
      " 'Top-3 Soup of Mnih et al. (2013)' 'Top-3 Soup of Mnih et al. (2015)'\n",
      " '3-Snapshot Soup of Mnih et al. (2015) with Huber Loss and Adam'\n",
      " '3-Snapshot Soup of Mnih et al. (2013)'\n",
      " '3-Snapshot Soup of Mnih et al. (2015)']\n",
      "3-Snapshot Soup of Mnih et al. (2013)                             0.0\n",
      "3-Snapshot Soup of Mnih et al. (2015)                             1.0\n",
      "3-Snapshot Soup of Mnih et al. (2015) with Huber Loss and Adam    0.0\n",
      "Top-3 Soup of Mnih et al. (2013)                                  0.0\n",
      "Top-3 Soup of Mnih et al. (2015)                                  0.0\n",
      "Top-3 Soup of Mnih et al. (2015) with Huber Loss and Adam         1.0\n",
      "dtype: float64\n",
      "Top-3 Soup of Mnih et al. (2015)                                  3.833333\n",
      "3-Snapshot Soup of Mnih et al. (2013)                             3.500000\n",
      "3-Snapshot Soup of Mnih et al. (2015) with Huber Loss and Adam    3.500000\n",
      "Top-3 Soup of Mnih et al. (2013)                                  3.500000\n",
      "Top-3 Soup of Mnih et al. (2015) with Huber Loss and Adam         3.500000\n",
      "3-Snapshot Soup of Mnih et al. (2015)                             3.166667\n",
      "dtype: float64\n",
      "('3-Snapshot Soup of Mnih et al. (2015)', 'Top-3 Soup of Mnih et al. (2015)', 0.16551785869746993, False)\n",
      "('3-Snapshot Soup of Mnih et al. (2013)', '3-Snapshot Soup of Mnih et al. (2015)', 0.7815112949987133, False)\n",
      "('3-Snapshot Soup of Mnih et al. (2013)', '3-Snapshot Soup of Mnih et al. (2015) with Huber Loss and Adam', 0.7815112949987133, False)\n",
      "('3-Snapshot Soup of Mnih et al. (2013)', 'Top-3 Soup of Mnih et al. (2013)', 0.7815112949987133, False)\n",
      "('3-Snapshot Soup of Mnih et al. (2013)', 'Top-3 Soup of Mnih et al. (2015)', 0.7815112949987133, False)\n",
      "('3-Snapshot Soup of Mnih et al. (2013)', 'Top-3 Soup of Mnih et al. (2015) with Huber Loss and Adam', 0.7815112949987133, False)\n",
      "('3-Snapshot Soup of Mnih et al. (2015)', '3-Snapshot Soup of Mnih et al. (2015) with Huber Loss and Adam', 0.7815112949987133, False)\n",
      "('3-Snapshot Soup of Mnih et al. (2015)', 'Top-3 Soup of Mnih et al. (2013)', 0.7815112949987133, False)\n",
      "('3-Snapshot Soup of Mnih et al. (2015)', 'Top-3 Soup of Mnih et al. (2015) with Huber Loss and Adam', 0.7815112949987133, False)\n",
      "('3-Snapshot Soup of Mnih et al. (2015) with Huber Loss and Adam', 'Top-3 Soup of Mnih et al. (2013)', 0.7815112949987133, False)\n",
      "('3-Snapshot Soup of Mnih et al. (2015) with Huber Loss and Adam', 'Top-3 Soup of Mnih et al. (2015)', 0.7815112949987133, False)\n",
      "('3-Snapshot Soup of Mnih et al. (2015) with Huber Loss and Adam', 'Top-3 Soup of Mnih et al. (2015) with Huber Loss and Adam', 0.7815112949987133, False)\n",
      "('Top-3 Soup of Mnih et al. (2013)', 'Top-3 Soup of Mnih et al. (2015)', 0.7815112949987133, False)\n",
      "('Top-3 Soup of Mnih et al. (2013)', 'Top-3 Soup of Mnih et al. (2015) with Huber Loss and Adam', 0.7815112949987133, False)\n",
      "('Top-3 Soup of Mnih et al. (2015)', 'Top-3 Soup of Mnih et al. (2015) with Huber Loss and Adam', 0.7815112949987133, False)\n",
      "Index(['Top-3 Soup of Mnih et al. (2015)',\n",
      "       '3-Snapshot Soup of Mnih et al. (2013)',\n",
      "       '3-Snapshot Soup of Mnih et al. (2015) with Huber Loss and Adam',\n",
      "       'Top-3 Soup of Mnih et al. (2013)',\n",
      "       'Top-3 Soup of Mnih et al. (2015) with Huber Loss and Adam',\n",
      "       '3-Snapshot Soup of Mnih et al. (2015)'],\n",
      "      dtype='object')\n",
      "[0, 1, 2, 3, 4, 5]\n"
     ]
    },
    {
     "name": "stderr",
     "output_type": "stream",
     "text": [
      "C:\\Users\\timwi\\anaconda3\\envs\\DeepReinforcementLearning\\lib\\site-packages\\scipy\\stats\\_morestats.py:3414: UserWarning: Exact p-value calculation does not work if there are zeros. Switching to normal approximation.\n",
      "  warnings.warn(\"Exact p-value calculation does not work if there are \"\n",
      "C:\\Users\\timwi\\anaconda3\\envs\\DeepReinforcementLearning\\lib\\site-packages\\scipy\\stats\\_morestats.py:3428: UserWarning: Sample size too small for normal approximation.\n",
      "  warnings.warn(\"Sample size too small for normal approximation.\")\n"
     ]
    },
    {
     "data": {
      "text/plain": "'./../../latex/cdd/cdd_all_soups.pdf'"
     },
     "execution_count": 14,
     "metadata": {},
     "output_type": "execute_result"
    }
   ],
   "source": [
    "cdd.draw_cd_diagram(df_perf=all_soups, title='All Soups', labels=USE_CDD_LABELS)\n",
    "rename_cdd_to(\"all_soups\")"
   ],
   "metadata": {
    "collapsed": false
   }
  },
  {
   "cell_type": "markdown",
   "source": [
    "### Best Models"
   ],
   "metadata": {
    "collapsed": false
   }
  },
  {
   "cell_type": "code",
   "execution_count": 15,
   "outputs": [
    {
     "name": "stdout",
     "output_type": "stream",
     "text": [
      "Model: 2013\n",
      "Best Ensemble for 2013: Top-3 Ensemble (average) with Mnih et al. (2013)\n",
      "Best Soup for 2013: Top-3 Soup of Mnih et al. (2013)\n",
      "Model: 2015\\)$\n",
      "Best Ensemble for 2015\\)$: Top-3 Ensemble (logistic average) with Mnih et al. (2015)\n",
      "Best Soup for 2015\\)$: 3-Snapshot Soup of Mnih et al. (2015)\n",
      "Model: Huber Loss and Adam\n",
      "Best Ensemble for Huber Loss and Adam: 3-Snapshot Ensemble (majority vote) with Mnih et al. (2015) with Huber Loss and Adam\n",
      "Best Soup for Huber Loss and Adam: Top-3 Soup of Mnih et al. (2015) with Huber Loss and Adam\n",
      "Best Mixed Ensemble: Top-3 Mixed Ensemble (average)\n"
     ]
    },
    {
     "data": {
      "text/plain": "                                      classifier_name dataset_name  accuracy\n0    Top-3 Ensemble (average) with Mnih et al. (2013)       enduro  0.922764\n1    Top-3 Ensemble (average) with Mnih et al. (2013)     breakout  0.258065\n2    Top-3 Ensemble (average) with Mnih et al. (2013)     seaquest  0.188153\n3                    Top-3 Soup of Mnih et al. (2013)     breakout  0.419355\n4                    Top-3 Soup of Mnih et al. (2013)     seaquest  0.198606\n5                    Top-3 Soup of Mnih et al. (2013)       enduro  0.000000\n6   Top-3 Ensemble (logistic average) with Mnih et...     seaquest  0.794425\n7   Top-3 Ensemble (logistic average) with Mnih et...     breakout  0.129032\n8   Top-3 Ensemble (logistic average) with Mnih et...       enduro  0.000000\n9               3-Snapshot Soup of Mnih et al. (2015)     seaquest  1.000000\n10              3-Snapshot Soup of Mnih et al. (2015)     breakout  0.075269\n11              3-Snapshot Soup of Mnih et al. (2015)       enduro  0.000000\n12  3-Snapshot Ensemble (majority vote) with Mnih ...     breakout  0.591398\n13  3-Snapshot Ensemble (majority vote) with Mnih ...     seaquest  0.250871\n14  3-Snapshot Ensemble (majority vote) with Mnih ...       enduro  0.218157\n15  Top-3 Soup of Mnih et al. (2015) with Huber Lo...     breakout  1.000000\n16  Top-3 Soup of Mnih et al. (2015) with Huber Lo...     seaquest  0.188153\n17  Top-3 Soup of Mnih et al. (2015) with Huber Lo...       enduro  0.000000\n18                     Top-3 Mixed Ensemble (average)       enduro  1.000000\n19                     Top-3 Mixed Ensemble (average)     seaquest  0.585366\n20                     Top-3 Mixed Ensemble (average)     breakout  0.193548\n21                                 Mnih et al. (2013)     seaquest  0.268293\n22                                 Mnih et al. (2015)     seaquest  0.491289\n23        Mnih et al. (2015) with Huber Loss and Adam     seaquest  0.209059\n24                                 Mnih et al. (2013)       enduro  0.345528\n25                                 Mnih et al. (2015)       enduro  0.000000\n26        Mnih et al. (2015) with Huber Loss and Adam       enduro  0.000000\n27                                 Mnih et al. (2013)     breakout  0.376344\n28                                 Mnih et al. (2015)     breakout  0.333333\n29        Mnih et al. (2015) with Huber Loss and Adam     breakout  0.537634",
      "text/html": "<div>\n<style scoped>\n    .dataframe tbody tr th:only-of-type {\n        vertical-align: middle;\n    }\n\n    .dataframe tbody tr th {\n        vertical-align: top;\n    }\n\n    .dataframe thead th {\n        text-align: right;\n    }\n</style>\n<table border=\"1\" class=\"dataframe\">\n  <thead>\n    <tr style=\"text-align: right;\">\n      <th></th>\n      <th>classifier_name</th>\n      <th>dataset_name</th>\n      <th>accuracy</th>\n    </tr>\n  </thead>\n  <tbody>\n    <tr>\n      <th>0</th>\n      <td>Top-3 Ensemble (average) with Mnih et al. (2013)</td>\n      <td>enduro</td>\n      <td>0.922764</td>\n    </tr>\n    <tr>\n      <th>1</th>\n      <td>Top-3 Ensemble (average) with Mnih et al. (2013)</td>\n      <td>breakout</td>\n      <td>0.258065</td>\n    </tr>\n    <tr>\n      <th>2</th>\n      <td>Top-3 Ensemble (average) with Mnih et al. (2013)</td>\n      <td>seaquest</td>\n      <td>0.188153</td>\n    </tr>\n    <tr>\n      <th>3</th>\n      <td>Top-3 Soup of Mnih et al. (2013)</td>\n      <td>breakout</td>\n      <td>0.419355</td>\n    </tr>\n    <tr>\n      <th>4</th>\n      <td>Top-3 Soup of Mnih et al. (2013)</td>\n      <td>seaquest</td>\n      <td>0.198606</td>\n    </tr>\n    <tr>\n      <th>5</th>\n      <td>Top-3 Soup of Mnih et al. (2013)</td>\n      <td>enduro</td>\n      <td>0.000000</td>\n    </tr>\n    <tr>\n      <th>6</th>\n      <td>Top-3 Ensemble (logistic average) with Mnih et...</td>\n      <td>seaquest</td>\n      <td>0.794425</td>\n    </tr>\n    <tr>\n      <th>7</th>\n      <td>Top-3 Ensemble (logistic average) with Mnih et...</td>\n      <td>breakout</td>\n      <td>0.129032</td>\n    </tr>\n    <tr>\n      <th>8</th>\n      <td>Top-3 Ensemble (logistic average) with Mnih et...</td>\n      <td>enduro</td>\n      <td>0.000000</td>\n    </tr>\n    <tr>\n      <th>9</th>\n      <td>3-Snapshot Soup of Mnih et al. (2015)</td>\n      <td>seaquest</td>\n      <td>1.000000</td>\n    </tr>\n    <tr>\n      <th>10</th>\n      <td>3-Snapshot Soup of Mnih et al. (2015)</td>\n      <td>breakout</td>\n      <td>0.075269</td>\n    </tr>\n    <tr>\n      <th>11</th>\n      <td>3-Snapshot Soup of Mnih et al. (2015)</td>\n      <td>enduro</td>\n      <td>0.000000</td>\n    </tr>\n    <tr>\n      <th>12</th>\n      <td>3-Snapshot Ensemble (majority vote) with Mnih ...</td>\n      <td>breakout</td>\n      <td>0.591398</td>\n    </tr>\n    <tr>\n      <th>13</th>\n      <td>3-Snapshot Ensemble (majority vote) with Mnih ...</td>\n      <td>seaquest</td>\n      <td>0.250871</td>\n    </tr>\n    <tr>\n      <th>14</th>\n      <td>3-Snapshot Ensemble (majority vote) with Mnih ...</td>\n      <td>enduro</td>\n      <td>0.218157</td>\n    </tr>\n    <tr>\n      <th>15</th>\n      <td>Top-3 Soup of Mnih et al. (2015) with Huber Lo...</td>\n      <td>breakout</td>\n      <td>1.000000</td>\n    </tr>\n    <tr>\n      <th>16</th>\n      <td>Top-3 Soup of Mnih et al. (2015) with Huber Lo...</td>\n      <td>seaquest</td>\n      <td>0.188153</td>\n    </tr>\n    <tr>\n      <th>17</th>\n      <td>Top-3 Soup of Mnih et al. (2015) with Huber Lo...</td>\n      <td>enduro</td>\n      <td>0.000000</td>\n    </tr>\n    <tr>\n      <th>18</th>\n      <td>Top-3 Mixed Ensemble (average)</td>\n      <td>enduro</td>\n      <td>1.000000</td>\n    </tr>\n    <tr>\n      <th>19</th>\n      <td>Top-3 Mixed Ensemble (average)</td>\n      <td>seaquest</td>\n      <td>0.585366</td>\n    </tr>\n    <tr>\n      <th>20</th>\n      <td>Top-3 Mixed Ensemble (average)</td>\n      <td>breakout</td>\n      <td>0.193548</td>\n    </tr>\n    <tr>\n      <th>21</th>\n      <td>Mnih et al. (2013)</td>\n      <td>seaquest</td>\n      <td>0.268293</td>\n    </tr>\n    <tr>\n      <th>22</th>\n      <td>Mnih et al. (2015)</td>\n      <td>seaquest</td>\n      <td>0.491289</td>\n    </tr>\n    <tr>\n      <th>23</th>\n      <td>Mnih et al. (2015) with Huber Loss and Adam</td>\n      <td>seaquest</td>\n      <td>0.209059</td>\n    </tr>\n    <tr>\n      <th>24</th>\n      <td>Mnih et al. (2013)</td>\n      <td>enduro</td>\n      <td>0.345528</td>\n    </tr>\n    <tr>\n      <th>25</th>\n      <td>Mnih et al. (2015)</td>\n      <td>enduro</td>\n      <td>0.000000</td>\n    </tr>\n    <tr>\n      <th>26</th>\n      <td>Mnih et al. (2015) with Huber Loss and Adam</td>\n      <td>enduro</td>\n      <td>0.000000</td>\n    </tr>\n    <tr>\n      <th>27</th>\n      <td>Mnih et al. (2013)</td>\n      <td>breakout</td>\n      <td>0.376344</td>\n    </tr>\n    <tr>\n      <th>28</th>\n      <td>Mnih et al. (2015)</td>\n      <td>breakout</td>\n      <td>0.333333</td>\n    </tr>\n    <tr>\n      <th>29</th>\n      <td>Mnih et al. (2015) with Huber Loss and Adam</td>\n      <td>breakout</td>\n      <td>0.537634</td>\n    </tr>\n  </tbody>\n</table>\n</div>"
     },
     "execution_count": 15,
     "metadata": {},
     "output_type": "execute_result"
    }
   ],
   "source": [
    "best_models_per_method_list = []\n",
    "for model_name in [\"2013\", \"2015\\)$\", \"Huber Loss and Adam\"]:\n",
    "    print(\"Model:\", model_name)\n",
    "\n",
    "    # Find best ensemble for each model type:\n",
    "    best_ensembles = evaluation_data_df_for_cdd[\n",
    "        evaluation_data_df_for_cdd[\"classifier_name\"].str.contains(model_name) &\n",
    "        evaluation_data_df_for_cdd[\"classifier_name\"].str.contains(\"Ensemble\")\n",
    "    ].dropna()\n",
    "    if len(best_ensembles) > 0:\n",
    "        best_ensembles = best_ensembles.sort_values(by=[\"accuracy\"], ascending=False, inplace=False)\n",
    "        print(f\"Best Ensemble for {model_name}: {best_ensembles.iloc[0]['classifier_name']}\")\n",
    "        temp_selection = best_ensembles[best_ensembles[\"classifier_name\"] == best_ensembles.iloc[0][\"classifier_name\"]]\n",
    "        best_models_per_method_list.append(temp_selection)\n",
    "\n",
    "    # Find best soup for each model type:\n",
    "    best_soups = evaluation_data_df_for_cdd[\n",
    "        evaluation_data_df_for_cdd[\"classifier_name\"].str.contains(model_name) &\n",
    "        evaluation_data_df_for_cdd[\"classifier_name\"].str.contains(\"Soup\")\n",
    "    ].dropna()\n",
    "    if len(best_soups) > 0:\n",
    "        best_soups = best_soups.sort_values(by=[\"accuracy\"], ascending=False, inplace=False)\n",
    "        print(f\"Best Soup for {model_name}: {best_soups.iloc[0]['classifier_name']}\")\n",
    "        temp_selection = best_soups[best_soups[\"classifier_name\"] == best_soups.iloc[0][\"classifier_name\"]]\n",
    "        best_models_per_method_list.append(temp_selection)\n",
    "\n",
    "\n",
    "# Find best mixed ensemble:\n",
    "best_mixed_ensemble = evaluation_data_df_for_cdd[\n",
    "    evaluation_data_df_for_cdd[\"classifier_name\"].str.contains(\"Mixed\")\n",
    "].dropna()\n",
    "if len(best_mixed_ensemble) > 0:\n",
    "    best_mixed_ensemble = best_mixed_ensemble.sort_values(by=[\"accuracy\"], ascending=False, inplace=False)\n",
    "    print(f\"Best Mixed Ensemble: {best_mixed_ensemble.iloc[0]['classifier_name']}\")\n",
    "    temp_selection = best_mixed_ensemble[best_mixed_ensemble[\"classifier_name\"] == best_mixed_ensemble.iloc[0][\"classifier_name\"]]\n",
    "    best_models_per_method_list.append(temp_selection)\n",
    "\n",
    "selected_data = pd.concat(best_models_per_method_list)\n",
    "selected_data = pd.concat([\n",
    "    selected_data,\n",
    "    evaluation_data_df_for_cdd[\n",
    "        (~evaluation_data_df_for_cdd[\"classifier_name\"].str.contains(\"Ensemble\")) &\n",
    "        (~evaluation_data_df_for_cdd[\"classifier_name\"].str.contains(\"Soup\")) &\n",
    "        (~evaluation_data_df_for_cdd[\"classifier_name\"].str.contains(\"Interpretable CNN\")) &\n",
    "        (~evaluation_data_df_for_cdd[\"classifier_name\"].str.contains(\"Random Play\"))\n",
    "    ],\n",
    "])\n",
    "\n",
    "selected_data.reset_index(inplace=True, drop=True)\n",
    "selected_data"
   ],
   "metadata": {
    "collapsed": false
   }
  },
  {
   "cell_type": "code",
   "execution_count": 16,
   "outputs": [
    {
     "name": "stdout",
     "output_type": "stream",
     "text": [
      "['Top-3 Ensemble (average) with Mnih et al. (2013)'\n",
      " 'Top-3 Soup of Mnih et al. (2013)'\n",
      " 'Top-3 Ensemble (logistic average) with Mnih et al. (2015)'\n",
      " '3-Snapshot Soup of Mnih et al. (2015)'\n",
      " '3-Snapshot Ensemble (majority vote) with Mnih et al. (2015) with Huber Loss and Adam'\n",
      " 'Top-3 Soup of Mnih et al. (2015) with Huber Loss and Adam'\n",
      " 'Top-3 Mixed Ensemble (average)' 'Mnih et al. (2013)'\n",
      " 'Mnih et al. (2015)' 'Mnih et al. (2015) with Huber Loss and Adam']\n",
      "3-Snapshot Ensemble (majority vote) with Mnih et al. (2015) with Huber Loss and Adam    0.0\n",
      "3-Snapshot Soup of Mnih et al. (2015)                                                   1.0\n",
      "Mnih et al. (2013)                                                                      0.0\n",
      "Mnih et al. (2015)                                                                      0.0\n",
      "Mnih et al. (2015) with Huber Loss and Adam                                             0.0\n",
      "Top-3 Ensemble (average) with Mnih et al. (2013)                                        0.0\n",
      "Top-3 Ensemble (logistic average) with Mnih et al. (2015)                               0.0\n",
      "Top-3 Mixed Ensemble (average)                                                          1.0\n",
      "Top-3 Soup of Mnih et al. (2013)                                                        0.0\n",
      "Top-3 Soup of Mnih et al. (2015) with Huber Loss and Adam                               1.0\n",
      "dtype: float64\n",
      "Top-3 Soup of Mnih et al. (2013)                                                        6.500000\n",
      "3-Snapshot Soup of Mnih et al. (2015)                                                   6.166667\n",
      "Top-3 Ensemble (average) with Mnih et al. (2013)                                        6.166667\n",
      "Top-3 Ensemble (logistic average) with Mnih et al. (2015)                               6.166667\n",
      "Top-3 Soup of Mnih et al. (2015) with Huber Loss and Adam                               6.000000\n",
      "Mnih et al. (2015)                                                                      5.833333\n",
      "Mnih et al. (2015) with Huber Loss and Adam                                             5.833333\n",
      "Mnih et al. (2013)                                                                      4.333333\n",
      "3-Snapshot Ensemble (majority vote) with Mnih et al. (2015) with Huber Loss and Adam    4.000000\n",
      "Top-3 Mixed Ensemble (average)                                                          4.000000\n",
      "dtype: float64\n",
      "('3-Snapshot Soup of Mnih et al. (2015)', 'Top-3 Mixed Ensemble (average)', 0.16551785869746993, False)\n",
      "('Top-3 Ensemble (logistic average) with Mnih et al. (2015)', 'Top-3 Soup of Mnih et al. (2015) with Huber Loss and Adam', 0.16551785869746993, False)\n",
      "('Top-3 Mixed Ensemble (average)', 'Top-3 Soup of Mnih et al. (2015) with Huber Loss and Adam', 0.16551785869746993, False)\n",
      "('3-Snapshot Ensemble (majority vote) with Mnih et al. (2015) with Huber Loss and Adam', 'Top-3 Soup of Mnih et al. (2013)', 0.25, False)\n",
      "('Top-3 Ensemble (average) with Mnih et al. (2013)', 'Top-3 Ensemble (logistic average) with Mnih et al. (2015)', 0.25, False)\n",
      "('Top-3 Ensemble (average) with Mnih et al. (2013)', 'Top-3 Mixed Ensemble (average)', 0.25, False)\n",
      "('Top-3 Ensemble (average) with Mnih et al. (2013)', 'Top-3 Soup of Mnih et al. (2013)', 0.25, False)\n",
      "('Top-3 Ensemble (logistic average) with Mnih et al. (2015)', 'Top-3 Mixed Ensemble (average)', 0.25, False)\n",
      "('Top-3 Mixed Ensemble (average)', 'Top-3 Soup of Mnih et al. (2013)', 0.25, False)\n",
      "('3-Snapshot Soup of Mnih et al. (2015)', 'Top-3 Soup of Mnih et al. (2015) with Huber Loss and Adam', 0.31731050786291415, False)\n",
      "('3-Snapshot Ensemble (majority vote) with Mnih et al. (2015) with Huber Loss and Adam', 'Top-3 Mixed Ensemble (average)', 0.5, False)\n",
      "('3-Snapshot Soup of Mnih et al. (2015)', 'Top-3 Ensemble (average) with Mnih et al. (2013)', 0.5, False)\n",
      "('Mnih et al. (2013)', 'Top-3 Mixed Ensemble (average)', 0.5, False)\n",
      "('Mnih et al. (2015)', 'Top-3 Ensemble (average) with Mnih et al. (2013)', 0.5, False)\n",
      "('Mnih et al. (2015)', 'Top-3 Mixed Ensemble (average)', 0.5, False)\n",
      "('Mnih et al. (2015) with Huber Loss and Adam', 'Top-3 Mixed Ensemble (average)', 0.5, False)\n",
      "('3-Snapshot Ensemble (majority vote) with Mnih et al. (2015) with Huber Loss and Adam', 'Mnih et al. (2015)', 0.75, False)\n",
      "('3-Snapshot Ensemble (majority vote) with Mnih et al. (2015) with Huber Loss and Adam', 'Mnih et al. (2015) with Huber Loss and Adam', 0.75, False)\n",
      "('3-Snapshot Ensemble (majority vote) with Mnih et al. (2015) with Huber Loss and Adam', 'Top-3 Ensemble (average) with Mnih et al. (2013)', 0.75, False)\n",
      "('3-Snapshot Ensemble (majority vote) with Mnih et al. (2015) with Huber Loss and Adam', 'Top-3 Ensemble (logistic average) with Mnih et al. (2015)', 0.75, False)\n",
      "('3-Snapshot Soup of Mnih et al. (2015)', 'Mnih et al. (2015)', 0.75, False)\n",
      "('3-Snapshot Soup of Mnih et al. (2015)', 'Mnih et al. (2015) with Huber Loss and Adam', 0.75, False)\n",
      "('Mnih et al. (2013)', 'Mnih et al. (2015)', 0.75, False)\n",
      "('Mnih et al. (2013)', 'Mnih et al. (2015) with Huber Loss and Adam', 0.75, False)\n",
      "('Mnih et al. (2013)', 'Top-3 Soup of Mnih et al. (2013)', 0.75, False)\n",
      "('Mnih et al. (2015)', 'Top-3 Soup of Mnih et al. (2013)', 0.75, False)\n",
      "('Mnih et al. (2015)', 'Top-3 Soup of Mnih et al. (2015) with Huber Loss and Adam', 0.75, False)\n",
      "('Mnih et al. (2015) with Huber Loss and Adam', 'Top-3 Ensemble (average) with Mnih et al. (2013)', 0.75, False)\n",
      "('Mnih et al. (2015) with Huber Loss and Adam', 'Top-3 Ensemble (logistic average) with Mnih et al. (2015)', 0.75, False)\n",
      "('Mnih et al. (2015) with Huber Loss and Adam', 'Top-3 Soup of Mnih et al. (2015) with Huber Loss and Adam', 0.75, False)\n",
      "('Top-3 Ensemble (average) with Mnih et al. (2013)', 'Top-3 Soup of Mnih et al. (2015) with Huber Loss and Adam', 0.75, False)\n",
      "('3-Snapshot Soup of Mnih et al. (2015)', 'Top-3 Ensemble (logistic average) with Mnih et al. (2015)', 0.7815112949987133, False)\n",
      "('3-Snapshot Soup of Mnih et al. (2015)', 'Top-3 Soup of Mnih et al. (2013)', 0.7815112949987133, False)\n",
      "('Mnih et al. (2015)', 'Mnih et al. (2015) with Huber Loss and Adam', 0.7815112949987133, False)\n",
      "('Top-3 Ensemble (logistic average) with Mnih et al. (2015)', 'Top-3 Soup of Mnih et al. (2013)', 0.7815112949987133, False)\n",
      "('Top-3 Soup of Mnih et al. (2013)', 'Top-3 Soup of Mnih et al. (2015) with Huber Loss and Adam', 0.7815112949987133, False)\n",
      "('3-Snapshot Ensemble (majority vote) with Mnih et al. (2015) with Huber Loss and Adam', '3-Snapshot Soup of Mnih et al. (2015)', 1.0, False)\n",
      "('3-Snapshot Ensemble (majority vote) with Mnih et al. (2015) with Huber Loss and Adam', 'Mnih et al. (2013)', 1.0, False)\n",
      "('3-Snapshot Ensemble (majority vote) with Mnih et al. (2015) with Huber Loss and Adam', 'Top-3 Soup of Mnih et al. (2015) with Huber Loss and Adam', 1.0, False)\n",
      "('3-Snapshot Soup of Mnih et al. (2015)', 'Mnih et al. (2013)', 1.0, False)\n",
      "('Mnih et al. (2013)', 'Top-3 Ensemble (average) with Mnih et al. (2013)', 1.0, False)\n",
      "('Mnih et al. (2013)', 'Top-3 Ensemble (logistic average) with Mnih et al. (2015)', 1.0, False)\n",
      "('Mnih et al. (2013)', 'Top-3 Soup of Mnih et al. (2015) with Huber Loss and Adam', 1.0, False)\n",
      "('Mnih et al. (2015)', 'Top-3 Ensemble (logistic average) with Mnih et al. (2015)', 1.0, False)\n",
      "('Mnih et al. (2015) with Huber Loss and Adam', 'Top-3 Soup of Mnih et al. (2013)', 1.0, False)\n",
      "Index(['Top-3 Soup of Mnih et al. (2013)',\n",
      "       '3-Snapshot Soup of Mnih et al. (2015)',\n",
      "       'Top-3 Ensemble (average) with Mnih et al. (2013)',\n",
      "       'Top-3 Ensemble (logistic average) with Mnih et al. (2015)',\n",
      "       'Top-3 Soup of Mnih et al. (2015) with Huber Loss and Adam',\n",
      "       'Mnih et al. (2015)', 'Mnih et al. (2015) with Huber Loss and Adam',\n",
      "       'Mnih et al. (2013)',\n",
      "       '3-Snapshot Ensemble (majority vote) with Mnih et al. (2015) with Huber Loss and Adam',\n",
      "       'Top-3 Mixed Ensemble (average)'],\n",
      "      dtype='object')\n",
      "[0, 1, 2, 3, 4, 5, 8, 9, 6, 7]\n"
     ]
    },
    {
     "name": "stderr",
     "output_type": "stream",
     "text": [
      "C:\\Users\\timwi\\anaconda3\\envs\\DeepReinforcementLearning\\lib\\site-packages\\scipy\\stats\\_morestats.py:3414: UserWarning: Exact p-value calculation does not work if there are zeros. Switching to normal approximation.\n",
      "  warnings.warn(\"Exact p-value calculation does not work if there are \"\n",
      "C:\\Users\\timwi\\anaconda3\\envs\\DeepReinforcementLearning\\lib\\site-packages\\scipy\\stats\\_morestats.py:3428: UserWarning: Sample size too small for normal approximation.\n",
      "  warnings.warn(\"Sample size too small for normal approximation.\")\n"
     ]
    },
    {
     "data": {
      "text/plain": "'./../../latex/cdd/cdd_selection_of_best_models.pdf'"
     },
     "execution_count": 16,
     "metadata": {},
     "output_type": "execute_result"
    }
   ],
   "source": [
    "cdd.draw_cd_diagram(df_perf=selected_data, title='Selection of Best Models', labels=USE_CDD_LABELS)\n",
    "rename_cdd_to(\"selection_of_best_models\")"
   ],
   "metadata": {
    "collapsed": false
   }
  },
  {
   "cell_type": "markdown",
   "source": [
    "## Compare Ensembles with Soups and with Individual Models\n",
    "\n",
    "Artificial \"datasets\" are created based on the model architecture and the game. This is necessary because of how the CDD library is implemented. This way the Mnih2013 model can be compared to the Mnih2013 ensemble, for example."
   ],
   "metadata": {
    "collapsed": false
   }
  },
  {
   "cell_type": "code",
   "execution_count": 17,
   "outputs": [],
   "source": [
    "def create_artificial_dataset_name(model_name: str, game_name: str):\n",
    "    if \"huber loss\" in model_name.lower():\n",
    "        short = \"with_huber_loss_and_adam\"\n",
    "    elif \"2015\" in model_name:\n",
    "        short = \"mnih2015\"\n",
    "    elif \"2013\" in model_name:\n",
    "        short = \"mnih2013\"\n",
    "    else:\n",
    "        raise ValueError(f\"Unknown model name: {model_name}\")\n",
    "\n",
    "    return f\"{short} on {game_name}\""
   ],
   "metadata": {
    "collapsed": false
   }
  },
  {
   "cell_type": "code",
   "execution_count": 18,
   "outputs": [],
   "source": [
    "eval_df_temp = evaluation_data_df_for_cdd.copy()\n",
    "eval_df_temp = eval_df_temp[(eval_df_temp[\"classifier_name\"] != \"Interpretable CNN\") & (eval_df_temp[\"classifier_name\"] != \"Random Play\") & (~eval_df_temp[\"classifier_name\"].str.contains(\"Mixed\"))]"
   ],
   "metadata": {
    "collapsed": false
   }
  },
  {
   "cell_type": "code",
   "execution_count": 19,
   "outputs": [
    {
     "data": {
      "text/plain": "                                      classifier_name dataset_name  accuracy  \\\n3                                  Mnih et al. (2013)     seaquest  0.268293   \n4                                  Mnih et al. (2015)     seaquest  0.491289   \n5         Mnih et al. (2015) with Huber Loss and Adam     seaquest  0.209059   \n6                                  Mnih et al. (2013)       enduro  0.345528   \n7                                  Mnih et al. (2015)       enduro  0.000000   \n..                                                ...          ...       ...   \n88              3-Snapshot Soup of Mnih et al. (2013)       enduro  0.000000   \n89              3-Snapshot Soup of Mnih et al. (2015)       enduro  0.000000   \n90  3-Snapshot Soup of Mnih et al. (2015) with Hub...     breakout  0.301075   \n91              3-Snapshot Soup of Mnih et al. (2013)     breakout  0.279570   \n92              3-Snapshot Soup of Mnih et al. (2015)     breakout  0.075269   \n\n                 artificial_dataset_name  \n3                   mnih2013 on seaquest  \n4                   mnih2015 on seaquest  \n5   with_huber_loss_and_adam on seaquest  \n6                     mnih2013 on enduro  \n7                     mnih2015 on enduro  \n..                                   ...  \n88                    mnih2013 on enduro  \n89                    mnih2015 on enduro  \n90  with_huber_loss_and_adam on breakout  \n91                  mnih2013 on breakout  \n92                  mnih2015 on breakout  \n\n[81 rows x 4 columns]",
      "text/html": "<div>\n<style scoped>\n    .dataframe tbody tr th:only-of-type {\n        vertical-align: middle;\n    }\n\n    .dataframe tbody tr th {\n        vertical-align: top;\n    }\n\n    .dataframe thead th {\n        text-align: right;\n    }\n</style>\n<table border=\"1\" class=\"dataframe\">\n  <thead>\n    <tr style=\"text-align: right;\">\n      <th></th>\n      <th>classifier_name</th>\n      <th>dataset_name</th>\n      <th>accuracy</th>\n      <th>artificial_dataset_name</th>\n    </tr>\n  </thead>\n  <tbody>\n    <tr>\n      <th>3</th>\n      <td>Mnih et al. (2013)</td>\n      <td>seaquest</td>\n      <td>0.268293</td>\n      <td>mnih2013 on seaquest</td>\n    </tr>\n    <tr>\n      <th>4</th>\n      <td>Mnih et al. (2015)</td>\n      <td>seaquest</td>\n      <td>0.491289</td>\n      <td>mnih2015 on seaquest</td>\n    </tr>\n    <tr>\n      <th>5</th>\n      <td>Mnih et al. (2015) with Huber Loss and Adam</td>\n      <td>seaquest</td>\n      <td>0.209059</td>\n      <td>with_huber_loss_and_adam on seaquest</td>\n    </tr>\n    <tr>\n      <th>6</th>\n      <td>Mnih et al. (2013)</td>\n      <td>enduro</td>\n      <td>0.345528</td>\n      <td>mnih2013 on enduro</td>\n    </tr>\n    <tr>\n      <th>7</th>\n      <td>Mnih et al. (2015)</td>\n      <td>enduro</td>\n      <td>0.000000</td>\n      <td>mnih2015 on enduro</td>\n    </tr>\n    <tr>\n      <th>...</th>\n      <td>...</td>\n      <td>...</td>\n      <td>...</td>\n      <td>...</td>\n    </tr>\n    <tr>\n      <th>88</th>\n      <td>3-Snapshot Soup of Mnih et al. (2013)</td>\n      <td>enduro</td>\n      <td>0.000000</td>\n      <td>mnih2013 on enduro</td>\n    </tr>\n    <tr>\n      <th>89</th>\n      <td>3-Snapshot Soup of Mnih et al. (2015)</td>\n      <td>enduro</td>\n      <td>0.000000</td>\n      <td>mnih2015 on enduro</td>\n    </tr>\n    <tr>\n      <th>90</th>\n      <td>3-Snapshot Soup of Mnih et al. (2015) with Hub...</td>\n      <td>breakout</td>\n      <td>0.301075</td>\n      <td>with_huber_loss_and_adam on breakout</td>\n    </tr>\n    <tr>\n      <th>91</th>\n      <td>3-Snapshot Soup of Mnih et al. (2013)</td>\n      <td>breakout</td>\n      <td>0.279570</td>\n      <td>mnih2013 on breakout</td>\n    </tr>\n    <tr>\n      <th>92</th>\n      <td>3-Snapshot Soup of Mnih et al. (2015)</td>\n      <td>breakout</td>\n      <td>0.075269</td>\n      <td>mnih2015 on breakout</td>\n    </tr>\n  </tbody>\n</table>\n<p>81 rows × 4 columns</p>\n</div>"
     },
     "execution_count": 19,
     "metadata": {},
     "output_type": "execute_result"
    }
   ],
   "source": [
    "eval_df_temp[\"artificial_dataset_name\"] = eval_df_temp.apply(lambda row: create_artificial_dataset_name(row[\"classifier_name\"], row[\"dataset_name\"]), axis=1)\n",
    "eval_df_temp"
   ],
   "metadata": {
    "collapsed": false
   }
  },
  {
   "cell_type": "code",
   "execution_count": 20,
   "outputs": [
    {
     "data": {
      "text/plain": "     classifier_name                          dataset_name  accuracy\n3   Individual Model                  mnih2013 on seaquest  0.268293\n4   Individual Model                  mnih2015 on seaquest  0.491289\n5   Individual Model  with_huber_loss_and_adam on seaquest  0.209059\n6   Individual Model                    mnih2013 on enduro  0.345528\n7   Individual Model                    mnih2015 on enduro  0.000000\n8   Individual Model    with_huber_loss_and_adam on enduro  0.000000\n9   Individual Model                  mnih2013 on breakout  0.376344\n10  Individual Model                  mnih2015 on breakout  0.333333\n11  Individual Model  with_huber_loss_and_adam on breakout  0.537634\n12          Ensemble  with_huber_loss_and_adam on seaquest  0.200929\n15          Ensemble                  mnih2013 on seaquest  0.207317\n18          Ensemble                  mnih2015 on seaquest  0.376307\n21          Ensemble    with_huber_loss_and_adam on enduro  0.036360\n24          Ensemble                    mnih2013 on enduro  0.289747\n27          Ensemble                    mnih2015 on enduro  0.000000\n30          Ensemble  with_huber_loss_and_adam on breakout  0.301075\n33          Ensemble                  mnih2013 on breakout  0.265233\n36          Ensemble                  mnih2015 on breakout  0.107527\n75              Soup  with_huber_loss_and_adam on seaquest  0.200348\n76              Soup                  mnih2013 on seaquest  0.224739\n77              Soup                  mnih2015 on seaquest  0.635889\n78              Soup    with_huber_loss_and_adam on enduro  0.000000\n79              Soup                    mnih2013 on enduro  0.000000\n80              Soup                    mnih2015 on enduro  0.000000\n81              Soup  with_huber_loss_and_adam on breakout  0.650538\n82              Soup                  mnih2013 on breakout  0.349462\n83              Soup                  mnih2015 on breakout  0.069892",
      "text/html": "<div>\n<style scoped>\n    .dataframe tbody tr th:only-of-type {\n        vertical-align: middle;\n    }\n\n    .dataframe tbody tr th {\n        vertical-align: top;\n    }\n\n    .dataframe thead th {\n        text-align: right;\n    }\n</style>\n<table border=\"1\" class=\"dataframe\">\n  <thead>\n    <tr style=\"text-align: right;\">\n      <th></th>\n      <th>classifier_name</th>\n      <th>dataset_name</th>\n      <th>accuracy</th>\n    </tr>\n  </thead>\n  <tbody>\n    <tr>\n      <th>3</th>\n      <td>Individual Model</td>\n      <td>mnih2013 on seaquest</td>\n      <td>0.268293</td>\n    </tr>\n    <tr>\n      <th>4</th>\n      <td>Individual Model</td>\n      <td>mnih2015 on seaquest</td>\n      <td>0.491289</td>\n    </tr>\n    <tr>\n      <th>5</th>\n      <td>Individual Model</td>\n      <td>with_huber_loss_and_adam on seaquest</td>\n      <td>0.209059</td>\n    </tr>\n    <tr>\n      <th>6</th>\n      <td>Individual Model</td>\n      <td>mnih2013 on enduro</td>\n      <td>0.345528</td>\n    </tr>\n    <tr>\n      <th>7</th>\n      <td>Individual Model</td>\n      <td>mnih2015 on enduro</td>\n      <td>0.000000</td>\n    </tr>\n    <tr>\n      <th>8</th>\n      <td>Individual Model</td>\n      <td>with_huber_loss_and_adam on enduro</td>\n      <td>0.000000</td>\n    </tr>\n    <tr>\n      <th>9</th>\n      <td>Individual Model</td>\n      <td>mnih2013 on breakout</td>\n      <td>0.376344</td>\n    </tr>\n    <tr>\n      <th>10</th>\n      <td>Individual Model</td>\n      <td>mnih2015 on breakout</td>\n      <td>0.333333</td>\n    </tr>\n    <tr>\n      <th>11</th>\n      <td>Individual Model</td>\n      <td>with_huber_loss_and_adam on breakout</td>\n      <td>0.537634</td>\n    </tr>\n    <tr>\n      <th>12</th>\n      <td>Ensemble</td>\n      <td>with_huber_loss_and_adam on seaquest</td>\n      <td>0.200929</td>\n    </tr>\n    <tr>\n      <th>15</th>\n      <td>Ensemble</td>\n      <td>mnih2013 on seaquest</td>\n      <td>0.207317</td>\n    </tr>\n    <tr>\n      <th>18</th>\n      <td>Ensemble</td>\n      <td>mnih2015 on seaquest</td>\n      <td>0.376307</td>\n    </tr>\n    <tr>\n      <th>21</th>\n      <td>Ensemble</td>\n      <td>with_huber_loss_and_adam on enduro</td>\n      <td>0.036360</td>\n    </tr>\n    <tr>\n      <th>24</th>\n      <td>Ensemble</td>\n      <td>mnih2013 on enduro</td>\n      <td>0.289747</td>\n    </tr>\n    <tr>\n      <th>27</th>\n      <td>Ensemble</td>\n      <td>mnih2015 on enduro</td>\n      <td>0.000000</td>\n    </tr>\n    <tr>\n      <th>30</th>\n      <td>Ensemble</td>\n      <td>with_huber_loss_and_adam on breakout</td>\n      <td>0.301075</td>\n    </tr>\n    <tr>\n      <th>33</th>\n      <td>Ensemble</td>\n      <td>mnih2013 on breakout</td>\n      <td>0.265233</td>\n    </tr>\n    <tr>\n      <th>36</th>\n      <td>Ensemble</td>\n      <td>mnih2015 on breakout</td>\n      <td>0.107527</td>\n    </tr>\n    <tr>\n      <th>75</th>\n      <td>Soup</td>\n      <td>with_huber_loss_and_adam on seaquest</td>\n      <td>0.200348</td>\n    </tr>\n    <tr>\n      <th>76</th>\n      <td>Soup</td>\n      <td>mnih2013 on seaquest</td>\n      <td>0.224739</td>\n    </tr>\n    <tr>\n      <th>77</th>\n      <td>Soup</td>\n      <td>mnih2015 on seaquest</td>\n      <td>0.635889</td>\n    </tr>\n    <tr>\n      <th>78</th>\n      <td>Soup</td>\n      <td>with_huber_loss_and_adam on enduro</td>\n      <td>0.000000</td>\n    </tr>\n    <tr>\n      <th>79</th>\n      <td>Soup</td>\n      <td>mnih2013 on enduro</td>\n      <td>0.000000</td>\n    </tr>\n    <tr>\n      <th>80</th>\n      <td>Soup</td>\n      <td>mnih2015 on enduro</td>\n      <td>0.000000</td>\n    </tr>\n    <tr>\n      <th>81</th>\n      <td>Soup</td>\n      <td>with_huber_loss_and_adam on breakout</td>\n      <td>0.650538</td>\n    </tr>\n    <tr>\n      <th>82</th>\n      <td>Soup</td>\n      <td>mnih2013 on breakout</td>\n      <td>0.349462</td>\n    </tr>\n    <tr>\n      <th>83</th>\n      <td>Soup</td>\n      <td>mnih2015 on breakout</td>\n      <td>0.069892</td>\n    </tr>\n  </tbody>\n</table>\n</div>"
     },
     "execution_count": 20,
     "metadata": {},
     "output_type": "execute_result"
    }
   ],
   "source": [
    "# Rename classifiers to either Soup, Ensemble, or Individual Model\n",
    "eval_df_temp[\"classifier_name\"] = eval_df_temp[\"classifier_name\"].apply(lambda x: \"Soup\" if \"Soup\" in x else (\"Ensemble\" if \"Ensemble\" in x else \"Individual Model\"))\n",
    "eval_df_temp[\"accuracy\"] = eval_df_temp.groupby([\"artificial_dataset_name\", \"classifier_name\"])[\"accuracy\"].transform(\"mean\")\n",
    "eval_df_temp[\"dataset_name\"] = eval_df_temp[\"artificial_dataset_name\"]\n",
    "eval_df_temp.drop(columns=[\"artificial_dataset_name\"], inplace=True)\n",
    "eval_df_temp.drop_duplicates(inplace=True)\n",
    "eval_df_temp"
   ],
   "metadata": {
    "collapsed": false
   }
  },
  {
   "cell_type": "code",
   "execution_count": 21,
   "outputs": [],
   "source": [
    "eval_df_temp2 = eval_df_temp.copy()\n",
    "eval_df_temp2 = eval_df_temp2[~eval_df_temp2[\"dataset_name\"].str.contains(\"enduro\")]"
   ],
   "metadata": {
    "collapsed": false
   }
  },
  {
   "cell_type": "code",
   "execution_count": 22,
   "outputs": [
    {
     "name": "stdout",
     "output_type": "stream",
     "text": [
      "['Individual Model' 'Ensemble' 'Soup']\n",
      "Ensemble            1.0\n",
      "Individual Model    5.0\n",
      "Soup                2.0\n",
      "dtype: float64\n",
      "Ensemble            2.333333\n",
      "Soup                2.166667\n",
      "Individual Model    1.500000\n",
      "dtype: float64\n",
      "('Ensemble', 'Individual Model', 0.23531375547707434, False)\n",
      "('Individual Model', 'Soup', 0.6325851216960414, False)\n",
      "('Ensemble', 'Soup', 0.721814730439508, False)\n",
      "Index(['Ensemble', 'Soup', 'Individual Model'], dtype='object')\n",
      "[0, 1, 2]\n"
     ]
    },
    {
     "name": "stderr",
     "output_type": "stream",
     "text": [
      "C:\\Users\\timwi\\anaconda3\\envs\\DeepReinforcementLearning\\lib\\site-packages\\scipy\\stats\\_morestats.py:3414: UserWarning: Exact p-value calculation does not work if there are zeros. Switching to normal approximation.\n",
      "  warnings.warn(\"Exact p-value calculation does not work if there are \"\n",
      "C:\\Users\\timwi\\anaconda3\\envs\\DeepReinforcementLearning\\lib\\site-packages\\scipy\\stats\\_morestats.py:3428: UserWarning: Sample size too small for normal approximation.\n",
      "  warnings.warn(\"Sample size too small for normal approximation.\")\n"
     ]
    },
    {
     "data": {
      "text/plain": "'./../../latex/cdd/cdd_Ensembles_vs_Soups_vs_Individual_Models.pdf'"
     },
     "execution_count": 22,
     "metadata": {},
     "output_type": "execute_result"
    }
   ],
   "source": [
    "cdd.draw_cd_diagram(df_perf=eval_df_temp, title='Comparing Ensembles, Soups, and Individual Models', labels=USE_CDD_LABELS)\n",
    "rename_cdd_to(\"Ensembles_vs_Soups_vs_Individual_Models\")"
   ],
   "metadata": {
    "collapsed": false
   }
  },
  {
   "cell_type": "markdown",
   "source": [
    "## Random Play vs. Mixed Ensembles"
   ],
   "metadata": {
    "collapsed": false
   }
  },
  {
   "cell_type": "code",
   "execution_count": 23,
   "outputs": [
    {
     "data": {
      "text/plain": "                            classifier_name dataset_name  accuracy\n0                               Random Play     seaquest  0.406829\n1                               Random Play       enduro  0.000000\n2                               Random Play     breakout  0.268387\n3            Top-3 Mixed Ensemble (average)     seaquest  0.585366\n4   Top-3 Mixed Ensemble (logistic average)     seaquest  0.574913\n5      Top-3 Mixed Ensemble (majority vote)     seaquest  0.825784\n6            Top-3 Mixed Ensemble (average)       enduro  1.000000\n7   Top-3 Mixed Ensemble (logistic average)       enduro  0.735772\n8      Top-3 Mixed Ensemble (majority vote)       enduro  0.845528\n9            Top-3 Mixed Ensemble (average)     breakout  0.193548\n10  Top-3 Mixed Ensemble (logistic average)     breakout  0.774194\n11     Top-3 Mixed Ensemble (majority vote)     breakout  0.290323",
      "text/html": "<div>\n<style scoped>\n    .dataframe tbody tr th:only-of-type {\n        vertical-align: middle;\n    }\n\n    .dataframe tbody tr th {\n        vertical-align: top;\n    }\n\n    .dataframe thead th {\n        text-align: right;\n    }\n</style>\n<table border=\"1\" class=\"dataframe\">\n  <thead>\n    <tr style=\"text-align: right;\">\n      <th></th>\n      <th>classifier_name</th>\n      <th>dataset_name</th>\n      <th>accuracy</th>\n    </tr>\n  </thead>\n  <tbody>\n    <tr>\n      <th>0</th>\n      <td>Random Play</td>\n      <td>seaquest</td>\n      <td>0.406829</td>\n    </tr>\n    <tr>\n      <th>1</th>\n      <td>Random Play</td>\n      <td>enduro</td>\n      <td>0.000000</td>\n    </tr>\n    <tr>\n      <th>2</th>\n      <td>Random Play</td>\n      <td>breakout</td>\n      <td>0.268387</td>\n    </tr>\n    <tr>\n      <th>3</th>\n      <td>Top-3 Mixed Ensemble (average)</td>\n      <td>seaquest</td>\n      <td>0.585366</td>\n    </tr>\n    <tr>\n      <th>4</th>\n      <td>Top-3 Mixed Ensemble (logistic average)</td>\n      <td>seaquest</td>\n      <td>0.574913</td>\n    </tr>\n    <tr>\n      <th>5</th>\n      <td>Top-3 Mixed Ensemble (majority vote)</td>\n      <td>seaquest</td>\n      <td>0.825784</td>\n    </tr>\n    <tr>\n      <th>6</th>\n      <td>Top-3 Mixed Ensemble (average)</td>\n      <td>enduro</td>\n      <td>1.000000</td>\n    </tr>\n    <tr>\n      <th>7</th>\n      <td>Top-3 Mixed Ensemble (logistic average)</td>\n      <td>enduro</td>\n      <td>0.735772</td>\n    </tr>\n    <tr>\n      <th>8</th>\n      <td>Top-3 Mixed Ensemble (majority vote)</td>\n      <td>enduro</td>\n      <td>0.845528</td>\n    </tr>\n    <tr>\n      <th>9</th>\n      <td>Top-3 Mixed Ensemble (average)</td>\n      <td>breakout</td>\n      <td>0.193548</td>\n    </tr>\n    <tr>\n      <th>10</th>\n      <td>Top-3 Mixed Ensemble (logistic average)</td>\n      <td>breakout</td>\n      <td>0.774194</td>\n    </tr>\n    <tr>\n      <th>11</th>\n      <td>Top-3 Mixed Ensemble (majority vote)</td>\n      <td>breakout</td>\n      <td>0.290323</td>\n    </tr>\n  </tbody>\n</table>\n</div>"
     },
     "execution_count": 23,
     "metadata": {},
     "output_type": "execute_result"
    }
   ],
   "source": [
    "selected_data = pd.concat([\n",
    "    evaluation_data_df_for_cdd[evaluation_data_df_for_cdd[\"classifier_name\"] == \"Random Play\"],\n",
    "    evaluation_data_df_for_cdd[evaluation_data_df_for_cdd[\"classifier_name\"].str.contains(\"Mixed\")],\n",
    "])\n",
    "\n",
    "selected_data.reset_index(inplace=True, drop=True)\n",
    "selected_data"
   ],
   "metadata": {
    "collapsed": false
   }
  },
  {
   "cell_type": "code",
   "execution_count": 24,
   "outputs": [
    {
     "name": "stdout",
     "output_type": "stream",
     "text": [
      "['Random Play' 'Top-3 Mixed Ensemble (average)'\n",
      " 'Top-3 Mixed Ensemble (logistic average)'\n",
      " 'Top-3 Mixed Ensemble (majority vote)']\n",
      "Random Play                                0.0\n",
      "Top-3 Mixed Ensemble (average)             1.0\n",
      "Top-3 Mixed Ensemble (logistic average)    1.0\n",
      "Top-3 Mixed Ensemble (majority vote)       1.0\n",
      "dtype: float64\n",
      "Random Play                                3.666667\n",
      "Top-3 Mixed Ensemble (average)             2.333333\n",
      "Top-3 Mixed Ensemble (logistic average)    2.333333\n",
      "Top-3 Mixed Ensemble (majority vote)       1.666667\n",
      "dtype: float64\n",
      "('Random Play', 'Top-3 Mixed Ensemble (logistic average)', 0.25, False)\n",
      "('Random Play', 'Top-3 Mixed Ensemble (majority vote)', 0.25, False)\n",
      "('Random Play', 'Top-3 Mixed Ensemble (average)', 0.5, False)\n",
      "('Top-3 Mixed Ensemble (average)', 'Top-3 Mixed Ensemble (majority vote)', 0.75, False)\n",
      "('Top-3 Mixed Ensemble (average)', 'Top-3 Mixed Ensemble (logistic average)', 1.0, False)\n",
      "('Top-3 Mixed Ensemble (logistic average)', 'Top-3 Mixed Ensemble (majority vote)', 1.0, False)\n",
      "Index(['Random Play', 'Top-3 Mixed Ensemble (average)',\n",
      "       'Top-3 Mixed Ensemble (logistic average)',\n",
      "       'Top-3 Mixed Ensemble (majority vote)'],\n",
      "      dtype='object')\n",
      "[0, 1, 2, 3]\n"
     ]
    },
    {
     "data": {
      "text/plain": "'./../../latex/cdd/cdd_Random_Play_vs_Mixed_Ensembles.pdf'"
     },
     "execution_count": 24,
     "metadata": {},
     "output_type": "execute_result"
    }
   ],
   "source": [
    "cdd.draw_cd_diagram(df_perf=selected_data, title='Random Play vs. Mixed Ensembles', labels=USE_CDD_LABELS)\n",
    "rename_cdd_to(\"Random_Play_vs_Mixed_Ensembles\")"
   ],
   "metadata": {
    "collapsed": false
   }
  }
 ],
 "metadata": {
  "kernelspec": {
   "display_name": "Python 3",
   "language": "python",
   "name": "python3"
  },
  "language_info": {
   "codemirror_mode": {
    "name": "ipython",
    "version": 2
   },
   "file_extension": ".py",
   "mimetype": "text/x-python",
   "name": "python",
   "nbconvert_exporter": "python",
   "pygments_lexer": "ipython2",
   "version": "2.7.6"
  }
 },
 "nbformat": 4,
 "nbformat_minor": 0
}
