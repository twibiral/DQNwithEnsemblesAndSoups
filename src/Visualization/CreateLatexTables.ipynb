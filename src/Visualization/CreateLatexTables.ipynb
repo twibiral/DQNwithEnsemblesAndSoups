{
 "cells": [
  {
   "cell_type": "markdown",
   "source": [
    "# Create LaTeX Table from Data"
   ],
   "metadata": {
    "collapsed": false
   }
  },
  {
   "cell_type": "code",
   "execution_count": 1,
   "outputs": [],
   "source": [
    "from ast import literal_eval\n",
    "\n",
    "import pandas as pd"
   ],
   "metadata": {
    "collapsed": false
   }
  },
  {
   "cell_type": "code",
   "execution_count": 2,
   "metadata": {
    "collapsed": true
   },
   "outputs": [],
   "source": [
    "RESULTS_CSV = \"./../../results.csv\"\n",
    "EVALUATION_RESULTS_CSV = \"./../../evaluation_results.csv\"\n",
    "\n",
    "IMAGES_SAVE_FOLDER = \"./../../latex/images/\""
   ]
  },
  {
   "cell_type": "code",
   "execution_count": 3,
   "outputs": [],
   "source": [
    "table_string = \"\"\n",
    "table_header = \"\\\\begin{sidewaystable}\\n\" \\\n",
    "               \"\\centering\\n\" \\\n",
    "               \"\\\\begin{tabularx}{\\\\textheight}{@{}l>{\\centering\\\\arraybackslash}X>{\\centering\\\\arraybackslash}X>{\\centering\\\\arraybackslash}X@{}}\\n\" \\\n",
    "               \"\\\\toprule\\n\" \\\n",
    "               \" & Breakout & Enduro & Seaquest \\\\\\\\\\n\" \\\n",
    "               \"\\midrule\\n\"\n",
    "table_footer = \"\\end{tabularx}\\n\" \\\n",
    "    \"\\caption{\\label{tab:results}Table with results for Breakout, Enduro, and Seaquest. The number after $\\pm$ indicates the standard deviation}\\n\" \\\n",
    "    \"\\end{sidewaystable}\"\n",
    "divider = \"\\hdashline\\n\""
   ],
   "metadata": {
    "collapsed": false
   }
  },
  {
   "cell_type": "code",
   "execution_count": 4,
   "outputs": [],
   "source": [
    "evaluation_data_df = pd.read_csv(EVALUATION_RESULTS_CSV)\n",
    "evaluation_data_df[\"episode_rewards\"] = evaluation_data_df[\"episode_rewards\"].apply(literal_eval)\n",
    "evaluation_data_df = evaluation_data_df.explode(\"episode_rewards\")[[\"game\", \"model\", \"episode_rewards\"]]"
   ],
   "metadata": {
    "collapsed": false
   }
  },
  {
   "cell_type": "code",
   "execution_count": 5,
   "outputs": [],
   "source": [
    "naming_scheme = {\n",
    "    \"random play\": \"Random Play\",\n",
    "    \"interpretable_cnn\": \"Interpretable CNN\",\n",
    "    \"mnih2013\": \"\\\\textcite{mnih_playing_2013}\",\n",
    "    \"mnih2015\": \"\\\\textcite{mnih_human-level_2015}\",\n",
    "    \"with_huber_loss_and_adam\": \"\\\\textcite{mnih_human-level_2015} with Huber Loss and Adam\",\n",
    "    \"Top-3 Soup of mnih2013\": \"Top-3 Soup of \\\\textcite{mnih_playing_2013}\",\n",
    "    \"Top-3 Soup of mnih2015\": \"Top-3 Soup of \\\\textcite{mnih_human-level_2015}\",\n",
    "    \"Top-3 Soup of with_huber_loss_and_adam\": \"Top-3 Soup of \\\\textcite{mnih_human-level_2015} with Huber Loss and Adam\",\n",
    "    \"Top-3 Mixed Ensemble (average)\": \"Top-3 Mixed Ensemble (average)\",\n",
    "    \"Top-3 Mixed Ensemble (logistic_average)\": \"Top-3 Mixed Ensemble (logistic average)\",\n",
    "    \"Top-3 Mixed Ensemble (majority_vote)\": \"Top-3 Mixed Ensemble (majority vote)\",\n",
    "    \"Top-3 Ensemble (average) with mnih2013\": \"Top-3 Ensemble (average) with \\\\textcite{mnih_playing_2013}\",\n",
    "    \"Top-3 Ensemble (average) with mnih2015\": \"Top-3 Ensemble (average) with \\\\textcite{mnih_human-level_2015}\",\n",
    "    \"Top-3 Ensemble (average) with with_huber_loss_and_adam\": \"Top-3 Ensemble (average) with \\\\textcite{mnih_human-level_2015} with Huber Loss and Adam\",\n",
    "    \"Top-3 Ensemble (logistic_average) with mnih2013\": \"Top-3 Ensemble (logistic average) with \\\\textcite{mnih_playing_2013}\",\n",
    "    \"Top-3 Ensemble (logistic_average) with mnih2015\": \"Top-3 Ensemble (logistic average) with \\\\textcite{mnih_human-level_2015}\",\n",
    "    \"Top-3 Ensemble (logistic_average) with with_huber_loss_and_adam\": \"Top-3 Ensemble (logistic average) with \\\\textcite{mnih_human-level_2015} with Huber Loss and Adam\",\n",
    "    \"Top-3 Ensemble (majority_vote) with mnih2013\": \"Top-3 Ensemble (majority vote) with \\\\textcite{mnih_playing_2013}\",\n",
    "    \"Top-3 Ensemble (majority_vote) with mnih2015\": \"Top-3 Ensemble (majority vote) with \\\\textcite{mnih_human-level_2015}\",\n",
    "    \"Top-3 Ensemble (majority_vote) with with_huber_loss_and_adam\": \"Top-3 Ensemble (majority vote) with \\\\textcite{mnih_human-level_2015} with Huber Loss and Adam\",\n",
    "    \"3-Snapshot Ensemble (average) with mnih2013\": \"3-Snapshot Ensemble (average) with \\\\textcite{mnih_playing_2013}\",\n",
    "    \"3-Snapshot Ensemble (average) with mnih2015\": \"3-Snapshot Ensemble (average) with \\\\textcite{mnih_human-level_2015}\",\n",
    "    \"3-Snapshot Ensemble (average) with with_huber_loss_and_adam\": \"3-Snapshot Ensemble (average) with \\\\textcite{mnih_human-level_2015} with Huber Loss and Adam\",\n",
    "    \"3-Snapshot Ensemble (logistic_average) with mnih2013\": \"3-Snapshot Ensemble (logistic average) with \\\\textcite{mnih_playing_2013}\",\n",
    "    \"3-Snapshot Ensemble (logistic_average) with mnih2015\": \"3-Snapshot Ensemble (logistic average) with \\\\textcite{mnih_human-level_2015}\",\n",
    "    \"3-Snapshot Ensemble (logistic_average) with with_huber_loss_and_adam\": \"3-Snapshot Ensemble (logistic average) with \\\\textcite{mnih_human-level_2015} with Huber Loss and Adam\",\n",
    "    \"3-Snapshot Ensemble (majority_vote) with mnih2013\": \"3-Snapshot Ensemble (majority vote) with \\\\textcite{mnih_playing_2013}\",\n",
    "    \"3-Snapshot Ensemble (majority_vote) with mnih2015\": \"3-Snapshot Ensemble (majority vote) with \\\\textcite{mnih_human-level_2015}\",\n",
    "    \"3-Snapshot Ensemble (majority_vote) with with_huber_loss_and_adam\": \"3-Snapshot Ensemble (majority vote) with \\\\textcite{mnih_human-level_2015} with Huber Loss and Adam\",\n",
    "    \"3-Snapshot Soup mnih2013\": \"3-Snapshot Soup of \\\\textcite{mnih_playing_2013}\",\n",
    "    \"3-Snapshot Soup mnih2015\": \"3-Snapshot Soup of \\\\textcite{mnih_human-level_2015}\",\n",
    "    \"3-Snapshot Soup with_huber_loss_and_adam\": \"3-Snapshot Soup of \\\\textcite{mnih_human-level_2015} with Huber Loss and Adam\",\n",
    "}\n",
    "\n",
    "evaluation_data_df[\"model\"] = evaluation_data_df[\"model\"].apply(lambda x: naming_scheme[x])"
   ],
   "metadata": {
    "collapsed": false
   }
  },
  {
   "cell_type": "code",
   "execution_count": 6,
   "outputs": [
    {
     "name": "stderr",
     "output_type": "stream",
     "text": [
      "C:\\Users\\timwi\\AppData\\Local\\Temp\\ipykernel_14872\\1045705703.py:8: FutureWarning: The frame.append method is deprecated and will be removed from pandas in a future version. Use pandas.concat instead.\n",
      "  evaluation_data_df = evaluation_data_df.append(temp_df1)\n",
      "C:\\Users\\timwi\\AppData\\Local\\Temp\\ipykernel_14872\\1045705703.py:9: FutureWarning: The frame.append method is deprecated and will be removed from pandas in a future version. Use pandas.concat instead.\n",
      "  evaluation_data_df = evaluation_data_df.append(temp_df2)\n"
     ]
    },
    {
     "data": {
      "text/plain": "         game                                              model  \\\n0    seaquest                                        Random Play   \n1    seaquest                                        Random Play   \n2    seaquest                                        Random Play   \n3    seaquest                                        Random Play   \n4    seaquest                                        Random Play   \n..        ...                                                ...   \n952  seaquest  3-Snapshot Soup of \\textcite{mnih_human-level_...   \n953  seaquest  3-Snapshot Soup of \\textcite{mnih_human-level_...   \n954  seaquest  3-Snapshot Soup of \\textcite{mnih_human-level_...   \n955  seaquest  3-Snapshot Soup of \\textcite{mnih_human-level_...   \n956  seaquest  3-Snapshot Soup of \\textcite{mnih_human-level_...   \n\n    episode_rewards  \n0               0.0  \n1              60.0  \n2             240.0  \n3              80.0  \n4              20.0  \n..              ...  \n952             1.0  \n953             3.0  \n954             2.0  \n955             6.0  \n956             5.0  \n\n[957 rows x 3 columns]",
      "text/html": "<div>\n<style scoped>\n    .dataframe tbody tr th:only-of-type {\n        vertical-align: middle;\n    }\n\n    .dataframe tbody tr th {\n        vertical-align: top;\n    }\n\n    .dataframe thead th {\n        text-align: right;\n    }\n</style>\n<table border=\"1\" class=\"dataframe\">\n  <thead>\n    <tr style=\"text-align: right;\">\n      <th></th>\n      <th>game</th>\n      <th>model</th>\n      <th>episode_rewards</th>\n    </tr>\n  </thead>\n  <tbody>\n    <tr>\n      <th>0</th>\n      <td>seaquest</td>\n      <td>Random Play</td>\n      <td>0.0</td>\n    </tr>\n    <tr>\n      <th>1</th>\n      <td>seaquest</td>\n      <td>Random Play</td>\n      <td>60.0</td>\n    </tr>\n    <tr>\n      <th>2</th>\n      <td>seaquest</td>\n      <td>Random Play</td>\n      <td>240.0</td>\n    </tr>\n    <tr>\n      <th>3</th>\n      <td>seaquest</td>\n      <td>Random Play</td>\n      <td>80.0</td>\n    </tr>\n    <tr>\n      <th>4</th>\n      <td>seaquest</td>\n      <td>Random Play</td>\n      <td>20.0</td>\n    </tr>\n    <tr>\n      <th>...</th>\n      <td>...</td>\n      <td>...</td>\n      <td>...</td>\n    </tr>\n    <tr>\n      <th>952</th>\n      <td>seaquest</td>\n      <td>3-Snapshot Soup of \\textcite{mnih_human-level_...</td>\n      <td>1.0</td>\n    </tr>\n    <tr>\n      <th>953</th>\n      <td>seaquest</td>\n      <td>3-Snapshot Soup of \\textcite{mnih_human-level_...</td>\n      <td>3.0</td>\n    </tr>\n    <tr>\n      <th>954</th>\n      <td>seaquest</td>\n      <td>3-Snapshot Soup of \\textcite{mnih_human-level_...</td>\n      <td>2.0</td>\n    </tr>\n    <tr>\n      <th>955</th>\n      <td>seaquest</td>\n      <td>3-Snapshot Soup of \\textcite{mnih_human-level_...</td>\n      <td>6.0</td>\n    </tr>\n    <tr>\n      <th>956</th>\n      <td>seaquest</td>\n      <td>3-Snapshot Soup of \\textcite{mnih_human-level_...</td>\n      <td>5.0</td>\n    </tr>\n  </tbody>\n</table>\n<p>957 rows × 3 columns</p>\n</div>"
     },
     "execution_count": 6,
     "metadata": {},
     "output_type": "execute_result"
    }
   ],
   "source": [
    "# Add fake data by replicating the data for two more games (enduro and seaquest)\n",
    "temp_df1 = evaluation_data_df.copy()\n",
    "temp_df1[\"game\"] = \"enduro\"\n",
    "\n",
    "temp_df2 = evaluation_data_df.copy()\n",
    "temp_df2[\"game\"] = \"seaquest\"\n",
    "\n",
    "evaluation_data_df = evaluation_data_df.append(temp_df1)\n",
    "evaluation_data_df = evaluation_data_df.append(temp_df2)\n",
    "\n",
    "evaluation_data_df.drop_duplicates(inplace=True)\n",
    "evaluation_data_df.reset_index(inplace=True, drop=True)\n",
    "evaluation_data_df"
   ],
   "metadata": {
    "collapsed": false
   }
  },
  {
   "cell_type": "code",
   "execution_count": 7,
   "outputs": [],
   "source": [
    "# Mean and Std:\n",
    "evaluation_data_df = evaluation_data_df.groupby([\"game\", \"model\"]).agg([\"mean\", \"std\"])"
   ],
   "metadata": {
    "collapsed": false
   }
  },
  {
   "cell_type": "code",
   "execution_count": 8,
   "outputs": [
    {
     "data": {
      "text/plain": "                                                        mean              \\\ngame                                                breakout      enduro   \nmodel                                                                      \n3-Snapshot Ensemble (average) with \\textcite{mn...  1.500000   82.166667   \n3-Snapshot Ensemble (average) with \\textcite{mn...  3.833333   26.300000   \n3-Snapshot Ensemble (average) with \\textcite{mn...  2.000000   26.833333   \n3-Snapshot Ensemble (logistic average) with \\te...  1.500000   65.500000   \n3-Snapshot Ensemble (logistic average) with \\te...  4.166667   24.500000   \n3-Snapshot Ensemble (logistic average) with \\te...  2.200000   42.818182   \n3-Snapshot Ensemble (majority vote) with \\textc...  3.750000   59.545455   \n3-Snapshot Ensemble (majority vote) with \\textc...  3.333333   29.894737   \n3-Snapshot Ensemble (majority vote) with \\textc...  2.000000   28.111111   \n3-Snapshot Soup of \\textcite{mnih_human-level_2...  2.833333  185.708333   \n3-Snapshot Soup of \\textcite{mnih_human-level_2...  3.500000   43.400000   \n3-Snapshot Soup of \\textcite{mnih_playing_2013}     2.833333   28.818182   \nInterpretable CNN                                   1.000000   40.375000   \nRandom Play                                         4.125000  123.720000   \nTop-3 Ensemble (average) with \\textcite{mnih_hu...  1.666667   78.500000   \nTop-3 Ensemble (average) with \\textcite{mnih_hu...  1.000000   40.428571   \nTop-3 Ensemble (average) with \\textcite{mnih_pl...  2.400000   23.777778   \nTop-3 Ensemble (logistic average) with \\textcit...  1.500000  104.181818   \nTop-3 Ensemble (logistic average) with \\textcit...  1.000000   29.000000   \nTop-3 Ensemble (logistic average) with \\textcit...  1.500000   18.000000   \nTop-3 Ensemble (majority vote) with \\textcite{m...  0.500000    7.000000   \nTop-3 Ensemble (majority vote) with \\textcite{m...  4.500000   41.500000   \nTop-3 Ensemble (majority vote) with \\textcite{m...  2.000000   32.846154   \nTop-3 Mixed Ensemble (average)                      1.500000   48.600000   \nTop-3 Mixed Ensemble (logistic average)             3.500000   47.550000   \nTop-3 Mixed Ensemble (majority vote)                1.500000   69.238095   \nTop-3 Soup of \\textcite{mnih_human-level_2015}      2.333333   29.571429   \nTop-3 Soup of \\textcite{mnih_human-level_2015} ...  4.500000   25.800000   \nTop-3 Soup of \\textcite{mnih_playing_2013}          4.500000   41.500000   \n\\textcite{mnih_human-level_2015}                    2.500000   88.437500   \n\\textcite{mnih_human-level_2015} with Huber Los...  3.000000   31.500000   \n\\textcite{mnih_playing_2013}                        3.166667   38.000000   \n\n                                                                     std  \\\ngame                                                  seaquest  breakout   \nmodel                                                                      \n3-Snapshot Ensemble (average) with \\textcite{mn...   82.166667  1.290994   \n3-Snapshot Ensemble (average) with \\textcite{mn...   26.300000  3.970726   \n3-Snapshot Ensemble (average) with \\textcite{mn...   26.833333  1.581139   \n3-Snapshot Ensemble (logistic average) with \\te...   65.500000  1.290994   \n3-Snapshot Ensemble (logistic average) with \\te...   24.500000  4.355074   \n3-Snapshot Ensemble (logistic average) with \\te...   42.818182  1.923538   \n3-Snapshot Ensemble (majority vote) with \\textc...   59.545455  5.560276   \n3-Snapshot Ensemble (majority vote) with \\textc...   29.894737  3.265986   \n3-Snapshot Ensemble (majority vote) with \\textc...   28.111111  1.581139   \n3-Snapshot Soup of \\textcite{mnih_human-level_2...  185.708333  2.316607   \n3-Snapshot Soup of \\textcite{mnih_human-level_2...   43.400000  5.066228   \n3-Snapshot Soup of \\textcite{mnih_playing_2013}      28.818182  2.483277   \nInterpretable CNN                                    40.375000  1.000000   \nRandom Play                                         123.720000  3.563205   \nTop-3 Ensemble (average) with \\textcite{mnih_hu...   78.500000  1.527525   \nTop-3 Ensemble (average) with \\textcite{mnih_hu...   40.428571  1.000000   \nTop-3 Ensemble (average) with \\textcite{mnih_pl...   23.777778  2.073644   \nTop-3 Ensemble (logistic average) with \\textcit...  104.181818  1.290994   \nTop-3 Ensemble (logistic average) with \\textcit...   29.000000  1.000000   \nTop-3 Ensemble (logistic average) with \\textcit...   18.000000  1.290994   \nTop-3 Ensemble (majority vote) with \\textcite{m...    7.000000  0.707107   \nTop-3 Ensemble (majority vote) with \\textcite{m...   41.500000  6.363961   \nTop-3 Ensemble (majority vote) with \\textcite{m...   32.846154  1.581139   \nTop-3 Mixed Ensemble (average)                       48.600000  1.290994   \nTop-3 Mixed Ensemble (logistic average)              47.550000  3.271085   \nTop-3 Mixed Ensemble (majority vote)                 69.238095  1.290994   \nTop-3 Soup of \\textcite{mnih_human-level_2015}       29.571429  2.516611   \nTop-3 Soup of \\textcite{mnih_human-level_2015} ...   25.800000  6.363961   \nTop-3 Soup of \\textcite{mnih_playing_2013}           41.500000  6.363961   \n\\textcite{mnih_human-level_2015}                     88.437500  1.870829   \n\\textcite{mnih_human-level_2015} with Huber Los...   31.500000  3.535534   \n\\textcite{mnih_playing_2013}                         38.000000  2.926887   \n\n                                                                            \ngame                                                    enduro    seaquest  \nmodel                                                                       \n3-Snapshot Ensemble (average) with \\textcite{mn...   96.576708   96.576708  \n3-Snapshot Ensemble (average) with \\textcite{mn...   35.978543   35.978543  \n3-Snapshot Ensemble (average) with \\textcite{mn...   28.103276   28.103276  \n3-Snapshot Ensemble (logistic average) with \\te...   66.147906   66.147906  \n3-Snapshot Ensemble (logistic average) with \\te...   32.992423   32.992423  \n3-Snapshot Ensemble (logistic average) with \\te...   50.864168   50.864168  \n3-Snapshot Ensemble (majority vote) with \\textc...   67.784015   67.784015  \n3-Snapshot Ensemble (majority vote) with \\textc...   35.773818   35.773818  \n3-Snapshot Ensemble (majority vote) with \\textc...   28.367108   28.367108  \n3-Snapshot Soup of \\textcite{mnih_human-level_2...  187.752492  187.752492  \n3-Snapshot Soup of \\textcite{mnih_human-level_2...   44.335088   44.335088  \n3-Snapshot Soup of \\textcite{mnih_playing_2013}      35.977266   35.977266  \nInterpretable CNN                                    43.693535   43.693535  \nRandom Play                                         117.537058  117.537058  \nTop-3 Ensemble (average) with \\textcite{mnih_hu...   79.155613   79.155613  \nTop-3 Ensemble (average) with \\textcite{mnih_hu...   41.157653   41.157653  \nTop-3 Ensemble (average) with \\textcite{mnih_pl...   21.514853   21.514853  \nTop-3 Ensemble (logistic average) with \\textcit...   97.273653   97.273653  \nTop-3 Ensemble (logistic average) with \\textcit...   31.932220   31.932220  \nTop-3 Ensemble (logistic average) with \\textcit...   23.614967   23.614967  \nTop-3 Ensemble (majority vote) with \\textcite{m...   11.269428   11.269428  \nTop-3 Ensemble (majority vote) with \\textcite{m...   40.367066   40.367066  \nTop-3 Ensemble (majority vote) with \\textcite{m...   43.352905   43.352905  \nTop-3 Mixed Ensemble (average)                       57.233042   57.233042  \nTop-3 Mixed Ensemble (logistic average)              60.249896   60.249896  \nTop-3 Mixed Ensemble (majority vote)                 90.703861   90.703861  \nTop-3 Soup of \\textcite{mnih_human-level_2015}       31.378640   31.378640  \nTop-3 Soup of \\textcite{mnih_human-level_2015} ...   24.252835   24.252835  \nTop-3 Soup of \\textcite{mnih_playing_2013}           44.153143   44.153143  \n\\textcite{mnih_human-level_2015}                     95.956913   95.956913  \n\\textcite{mnih_human-level_2015} with Huber Los...   36.776351   36.776351  \n\\textcite{mnih_playing_2013}                         42.715002   42.715002  ",
      "text/html": "<div>\n<style scoped>\n    .dataframe tbody tr th:only-of-type {\n        vertical-align: middle;\n    }\n\n    .dataframe tbody tr th {\n        vertical-align: top;\n    }\n\n    .dataframe thead tr th {\n        text-align: left;\n    }\n\n    .dataframe thead tr:last-of-type th {\n        text-align: right;\n    }\n</style>\n<table border=\"1\" class=\"dataframe\">\n  <thead>\n    <tr>\n      <th></th>\n      <th colspan=\"3\" halign=\"left\">mean</th>\n      <th colspan=\"3\" halign=\"left\">std</th>\n    </tr>\n    <tr>\n      <th>game</th>\n      <th>breakout</th>\n      <th>enduro</th>\n      <th>seaquest</th>\n      <th>breakout</th>\n      <th>enduro</th>\n      <th>seaquest</th>\n    </tr>\n    <tr>\n      <th>model</th>\n      <th></th>\n      <th></th>\n      <th></th>\n      <th></th>\n      <th></th>\n      <th></th>\n    </tr>\n  </thead>\n  <tbody>\n    <tr>\n      <th>3-Snapshot Ensemble (average) with \\textcite{mnih_human-level_2015}</th>\n      <td>1.500000</td>\n      <td>82.166667</td>\n      <td>82.166667</td>\n      <td>1.290994</td>\n      <td>96.576708</td>\n      <td>96.576708</td>\n    </tr>\n    <tr>\n      <th>3-Snapshot Ensemble (average) with \\textcite{mnih_human-level_2015} with Huber Loss and Adam</th>\n      <td>3.833333</td>\n      <td>26.300000</td>\n      <td>26.300000</td>\n      <td>3.970726</td>\n      <td>35.978543</td>\n      <td>35.978543</td>\n    </tr>\n    <tr>\n      <th>3-Snapshot Ensemble (average) with \\textcite{mnih_playing_2013}</th>\n      <td>2.000000</td>\n      <td>26.833333</td>\n      <td>26.833333</td>\n      <td>1.581139</td>\n      <td>28.103276</td>\n      <td>28.103276</td>\n    </tr>\n    <tr>\n      <th>3-Snapshot Ensemble (logistic average) with \\textcite{mnih_human-level_2015}</th>\n      <td>1.500000</td>\n      <td>65.500000</td>\n      <td>65.500000</td>\n      <td>1.290994</td>\n      <td>66.147906</td>\n      <td>66.147906</td>\n    </tr>\n    <tr>\n      <th>3-Snapshot Ensemble (logistic average) with \\textcite{mnih_human-level_2015} with Huber Loss and Adam</th>\n      <td>4.166667</td>\n      <td>24.500000</td>\n      <td>24.500000</td>\n      <td>4.355074</td>\n      <td>32.992423</td>\n      <td>32.992423</td>\n    </tr>\n    <tr>\n      <th>3-Snapshot Ensemble (logistic average) with \\textcite{mnih_playing_2013}</th>\n      <td>2.200000</td>\n      <td>42.818182</td>\n      <td>42.818182</td>\n      <td>1.923538</td>\n      <td>50.864168</td>\n      <td>50.864168</td>\n    </tr>\n    <tr>\n      <th>3-Snapshot Ensemble (majority vote) with \\textcite{mnih_human-level_2015}</th>\n      <td>3.750000</td>\n      <td>59.545455</td>\n      <td>59.545455</td>\n      <td>5.560276</td>\n      <td>67.784015</td>\n      <td>67.784015</td>\n    </tr>\n    <tr>\n      <th>3-Snapshot Ensemble (majority vote) with \\textcite{mnih_human-level_2015} with Huber Loss and Adam</th>\n      <td>3.333333</td>\n      <td>29.894737</td>\n      <td>29.894737</td>\n      <td>3.265986</td>\n      <td>35.773818</td>\n      <td>35.773818</td>\n    </tr>\n    <tr>\n      <th>3-Snapshot Ensemble (majority vote) with \\textcite{mnih_playing_2013}</th>\n      <td>2.000000</td>\n      <td>28.111111</td>\n      <td>28.111111</td>\n      <td>1.581139</td>\n      <td>28.367108</td>\n      <td>28.367108</td>\n    </tr>\n    <tr>\n      <th>3-Snapshot Soup of \\textcite{mnih_human-level_2015}</th>\n      <td>2.833333</td>\n      <td>185.708333</td>\n      <td>185.708333</td>\n      <td>2.316607</td>\n      <td>187.752492</td>\n      <td>187.752492</td>\n    </tr>\n    <tr>\n      <th>3-Snapshot Soup of \\textcite{mnih_human-level_2015} with Huber Loss and Adam</th>\n      <td>3.500000</td>\n      <td>43.400000</td>\n      <td>43.400000</td>\n      <td>5.066228</td>\n      <td>44.335088</td>\n      <td>44.335088</td>\n    </tr>\n    <tr>\n      <th>3-Snapshot Soup of \\textcite{mnih_playing_2013}</th>\n      <td>2.833333</td>\n      <td>28.818182</td>\n      <td>28.818182</td>\n      <td>2.483277</td>\n      <td>35.977266</td>\n      <td>35.977266</td>\n    </tr>\n    <tr>\n      <th>Interpretable CNN</th>\n      <td>1.000000</td>\n      <td>40.375000</td>\n      <td>40.375000</td>\n      <td>1.000000</td>\n      <td>43.693535</td>\n      <td>43.693535</td>\n    </tr>\n    <tr>\n      <th>Random Play</th>\n      <td>4.125000</td>\n      <td>123.720000</td>\n      <td>123.720000</td>\n      <td>3.563205</td>\n      <td>117.537058</td>\n      <td>117.537058</td>\n    </tr>\n    <tr>\n      <th>Top-3 Ensemble (average) with \\textcite{mnih_human-level_2015}</th>\n      <td>1.666667</td>\n      <td>78.500000</td>\n      <td>78.500000</td>\n      <td>1.527525</td>\n      <td>79.155613</td>\n      <td>79.155613</td>\n    </tr>\n    <tr>\n      <th>Top-3 Ensemble (average) with \\textcite{mnih_human-level_2015} with Huber Loss and Adam</th>\n      <td>1.000000</td>\n      <td>40.428571</td>\n      <td>40.428571</td>\n      <td>1.000000</td>\n      <td>41.157653</td>\n      <td>41.157653</td>\n    </tr>\n    <tr>\n      <th>Top-3 Ensemble (average) with \\textcite{mnih_playing_2013}</th>\n      <td>2.400000</td>\n      <td>23.777778</td>\n      <td>23.777778</td>\n      <td>2.073644</td>\n      <td>21.514853</td>\n      <td>21.514853</td>\n    </tr>\n    <tr>\n      <th>Top-3 Ensemble (logistic average) with \\textcite{mnih_human-level_2015}</th>\n      <td>1.500000</td>\n      <td>104.181818</td>\n      <td>104.181818</td>\n      <td>1.290994</td>\n      <td>97.273653</td>\n      <td>97.273653</td>\n    </tr>\n    <tr>\n      <th>Top-3 Ensemble (logistic average) with \\textcite{mnih_human-level_2015} with Huber Loss and Adam</th>\n      <td>1.000000</td>\n      <td>29.000000</td>\n      <td>29.000000</td>\n      <td>1.000000</td>\n      <td>31.932220</td>\n      <td>31.932220</td>\n    </tr>\n    <tr>\n      <th>Top-3 Ensemble (logistic average) with \\textcite{mnih_playing_2013}</th>\n      <td>1.500000</td>\n      <td>18.000000</td>\n      <td>18.000000</td>\n      <td>1.290994</td>\n      <td>23.614967</td>\n      <td>23.614967</td>\n    </tr>\n    <tr>\n      <th>Top-3 Ensemble (majority vote) with \\textcite{mnih_human-level_2015}</th>\n      <td>0.500000</td>\n      <td>7.000000</td>\n      <td>7.000000</td>\n      <td>0.707107</td>\n      <td>11.269428</td>\n      <td>11.269428</td>\n    </tr>\n    <tr>\n      <th>Top-3 Ensemble (majority vote) with \\textcite{mnih_human-level_2015} with Huber Loss and Adam</th>\n      <td>4.500000</td>\n      <td>41.500000</td>\n      <td>41.500000</td>\n      <td>6.363961</td>\n      <td>40.367066</td>\n      <td>40.367066</td>\n    </tr>\n    <tr>\n      <th>Top-3 Ensemble (majority vote) with \\textcite{mnih_playing_2013}</th>\n      <td>2.000000</td>\n      <td>32.846154</td>\n      <td>32.846154</td>\n      <td>1.581139</td>\n      <td>43.352905</td>\n      <td>43.352905</td>\n    </tr>\n    <tr>\n      <th>Top-3 Mixed Ensemble (average)</th>\n      <td>1.500000</td>\n      <td>48.600000</td>\n      <td>48.600000</td>\n      <td>1.290994</td>\n      <td>57.233042</td>\n      <td>57.233042</td>\n    </tr>\n    <tr>\n      <th>Top-3 Mixed Ensemble (logistic average)</th>\n      <td>3.500000</td>\n      <td>47.550000</td>\n      <td>47.550000</td>\n      <td>3.271085</td>\n      <td>60.249896</td>\n      <td>60.249896</td>\n    </tr>\n    <tr>\n      <th>Top-3 Mixed Ensemble (majority vote)</th>\n      <td>1.500000</td>\n      <td>69.238095</td>\n      <td>69.238095</td>\n      <td>1.290994</td>\n      <td>90.703861</td>\n      <td>90.703861</td>\n    </tr>\n    <tr>\n      <th>Top-3 Soup of \\textcite{mnih_human-level_2015}</th>\n      <td>2.333333</td>\n      <td>29.571429</td>\n      <td>29.571429</td>\n      <td>2.516611</td>\n      <td>31.378640</td>\n      <td>31.378640</td>\n    </tr>\n    <tr>\n      <th>Top-3 Soup of \\textcite{mnih_human-level_2015} with Huber Loss and Adam</th>\n      <td>4.500000</td>\n      <td>25.800000</td>\n      <td>25.800000</td>\n      <td>6.363961</td>\n      <td>24.252835</td>\n      <td>24.252835</td>\n    </tr>\n    <tr>\n      <th>Top-3 Soup of \\textcite{mnih_playing_2013}</th>\n      <td>4.500000</td>\n      <td>41.500000</td>\n      <td>41.500000</td>\n      <td>6.363961</td>\n      <td>44.153143</td>\n      <td>44.153143</td>\n    </tr>\n    <tr>\n      <th>\\textcite{mnih_human-level_2015}</th>\n      <td>2.500000</td>\n      <td>88.437500</td>\n      <td>88.437500</td>\n      <td>1.870829</td>\n      <td>95.956913</td>\n      <td>95.956913</td>\n    </tr>\n    <tr>\n      <th>\\textcite{mnih_human-level_2015} with Huber Loss and Adam</th>\n      <td>3.000000</td>\n      <td>31.500000</td>\n      <td>31.500000</td>\n      <td>3.535534</td>\n      <td>36.776351</td>\n      <td>36.776351</td>\n    </tr>\n    <tr>\n      <th>\\textcite{mnih_playing_2013}</th>\n      <td>3.166667</td>\n      <td>38.000000</td>\n      <td>38.000000</td>\n      <td>2.926887</td>\n      <td>42.715002</td>\n      <td>42.715002</td>\n    </tr>\n  </tbody>\n</table>\n</div>"
     },
     "execution_count": 8,
     "metadata": {},
     "output_type": "execute_result"
    }
   ],
   "source": [
    "evaluation_data_df.pivot_table(index=\"model\", columns=\"game\", values=\"episode_rewards\")"
   ],
   "metadata": {
    "collapsed": false
   }
  },
  {
   "cell_type": "code",
   "execution_count": 9,
   "outputs": [
    {
     "data": {
      "text/plain": "                                                model  mean_breakout  \\\n0   3-Snapshot Ensemble (average) with \\textcite{m...       1.500000   \n1   3-Snapshot Ensemble (average) with \\textcite{m...       3.833333   \n2   3-Snapshot Ensemble (average) with \\textcite{m...       2.000000   \n3   3-Snapshot Ensemble (logistic average) with \\t...       1.500000   \n4   3-Snapshot Ensemble (logistic average) with \\t...       4.166667   \n5   3-Snapshot Ensemble (logistic average) with \\t...       2.200000   \n6   3-Snapshot Ensemble (majority vote) with \\text...       3.750000   \n7   3-Snapshot Ensemble (majority vote) with \\text...       3.333333   \n8   3-Snapshot Ensemble (majority vote) with \\text...       2.000000   \n9   3-Snapshot Soup of \\textcite{mnih_human-level_...       2.833333   \n10  3-Snapshot Soup of \\textcite{mnih_human-level_...       3.500000   \n11    3-Snapshot Soup of \\textcite{mnih_playing_2013}       2.833333   \n12                                  Interpretable CNN       1.000000   \n13                                        Random Play       4.125000   \n14  Top-3 Ensemble (average) with \\textcite{mnih_h...       1.666667   \n15  Top-3 Ensemble (average) with \\textcite{mnih_h...       1.000000   \n16  Top-3 Ensemble (average) with \\textcite{mnih_p...       2.400000   \n17  Top-3 Ensemble (logistic average) with \\textci...       1.500000   \n18  Top-3 Ensemble (logistic average) with \\textci...       1.000000   \n19  Top-3 Ensemble (logistic average) with \\textci...       1.500000   \n20  Top-3 Ensemble (majority vote) with \\textcite{...       0.500000   \n21  Top-3 Ensemble (majority vote) with \\textcite{...       4.500000   \n22  Top-3 Ensemble (majority vote) with \\textcite{...       2.000000   \n23                     Top-3 Mixed Ensemble (average)       1.500000   \n24            Top-3 Mixed Ensemble (logistic average)       3.500000   \n25               Top-3 Mixed Ensemble (majority vote)       1.500000   \n26     Top-3 Soup of \\textcite{mnih_human-level_2015}       2.333333   \n27  Top-3 Soup of \\textcite{mnih_human-level_2015}...       4.500000   \n28         Top-3 Soup of \\textcite{mnih_playing_2013}       4.500000   \n29                   \\textcite{mnih_human-level_2015}       2.500000   \n30  \\textcite{mnih_human-level_2015} with Huber Lo...       3.000000   \n31                       \\textcite{mnih_playing_2013}       3.166667   \n\n    mean_enduro  mean_seaquest  std_breakout  std_enduro  std_seaquest  \n0     82.166667      82.166667      1.290994   96.576708     96.576708  \n1     26.300000      26.300000      3.970726   35.978543     35.978543  \n2     26.833333      26.833333      1.581139   28.103276     28.103276  \n3     65.500000      65.500000      1.290994   66.147906     66.147906  \n4     24.500000      24.500000      4.355074   32.992423     32.992423  \n5     42.818182      42.818182      1.923538   50.864168     50.864168  \n6     59.545455      59.545455      5.560276   67.784015     67.784015  \n7     29.894737      29.894737      3.265986   35.773818     35.773818  \n8     28.111111      28.111111      1.581139   28.367108     28.367108  \n9    185.708333     185.708333      2.316607  187.752492    187.752492  \n10    43.400000      43.400000      5.066228   44.335088     44.335088  \n11    28.818182      28.818182      2.483277   35.977266     35.977266  \n12    40.375000      40.375000      1.000000   43.693535     43.693535  \n13   123.720000     123.720000      3.563205  117.537058    117.537058  \n14    78.500000      78.500000      1.527525   79.155613     79.155613  \n15    40.428571      40.428571      1.000000   41.157653     41.157653  \n16    23.777778      23.777778      2.073644   21.514853     21.514853  \n17   104.181818     104.181818      1.290994   97.273653     97.273653  \n18    29.000000      29.000000      1.000000   31.932220     31.932220  \n19    18.000000      18.000000      1.290994   23.614967     23.614967  \n20     7.000000       7.000000      0.707107   11.269428     11.269428  \n21    41.500000      41.500000      6.363961   40.367066     40.367066  \n22    32.846154      32.846154      1.581139   43.352905     43.352905  \n23    48.600000      48.600000      1.290994   57.233042     57.233042  \n24    47.550000      47.550000      3.271085   60.249896     60.249896  \n25    69.238095      69.238095      1.290994   90.703861     90.703861  \n26    29.571429      29.571429      2.516611   31.378640     31.378640  \n27    25.800000      25.800000      6.363961   24.252835     24.252835  \n28    41.500000      41.500000      6.363961   44.153143     44.153143  \n29    88.437500      88.437500      1.870829   95.956913     95.956913  \n30    31.500000      31.500000      3.535534   36.776351     36.776351  \n31    38.000000      38.000000      2.926887   42.715002     42.715002  ",
      "text/html": "<div>\n<style scoped>\n    .dataframe tbody tr th:only-of-type {\n        vertical-align: middle;\n    }\n\n    .dataframe tbody tr th {\n        vertical-align: top;\n    }\n\n    .dataframe thead th {\n        text-align: right;\n    }\n</style>\n<table border=\"1\" class=\"dataframe\">\n  <thead>\n    <tr style=\"text-align: right;\">\n      <th></th>\n      <th>model</th>\n      <th>mean_breakout</th>\n      <th>mean_enduro</th>\n      <th>mean_seaquest</th>\n      <th>std_breakout</th>\n      <th>std_enduro</th>\n      <th>std_seaquest</th>\n    </tr>\n  </thead>\n  <tbody>\n    <tr>\n      <th>0</th>\n      <td>3-Snapshot Ensemble (average) with \\textcite{m...</td>\n      <td>1.500000</td>\n      <td>82.166667</td>\n      <td>82.166667</td>\n      <td>1.290994</td>\n      <td>96.576708</td>\n      <td>96.576708</td>\n    </tr>\n    <tr>\n      <th>1</th>\n      <td>3-Snapshot Ensemble (average) with \\textcite{m...</td>\n      <td>3.833333</td>\n      <td>26.300000</td>\n      <td>26.300000</td>\n      <td>3.970726</td>\n      <td>35.978543</td>\n      <td>35.978543</td>\n    </tr>\n    <tr>\n      <th>2</th>\n      <td>3-Snapshot Ensemble (average) with \\textcite{m...</td>\n      <td>2.000000</td>\n      <td>26.833333</td>\n      <td>26.833333</td>\n      <td>1.581139</td>\n      <td>28.103276</td>\n      <td>28.103276</td>\n    </tr>\n    <tr>\n      <th>3</th>\n      <td>3-Snapshot Ensemble (logistic average) with \\t...</td>\n      <td>1.500000</td>\n      <td>65.500000</td>\n      <td>65.500000</td>\n      <td>1.290994</td>\n      <td>66.147906</td>\n      <td>66.147906</td>\n    </tr>\n    <tr>\n      <th>4</th>\n      <td>3-Snapshot Ensemble (logistic average) with \\t...</td>\n      <td>4.166667</td>\n      <td>24.500000</td>\n      <td>24.500000</td>\n      <td>4.355074</td>\n      <td>32.992423</td>\n      <td>32.992423</td>\n    </tr>\n    <tr>\n      <th>5</th>\n      <td>3-Snapshot Ensemble (logistic average) with \\t...</td>\n      <td>2.200000</td>\n      <td>42.818182</td>\n      <td>42.818182</td>\n      <td>1.923538</td>\n      <td>50.864168</td>\n      <td>50.864168</td>\n    </tr>\n    <tr>\n      <th>6</th>\n      <td>3-Snapshot Ensemble (majority vote) with \\text...</td>\n      <td>3.750000</td>\n      <td>59.545455</td>\n      <td>59.545455</td>\n      <td>5.560276</td>\n      <td>67.784015</td>\n      <td>67.784015</td>\n    </tr>\n    <tr>\n      <th>7</th>\n      <td>3-Snapshot Ensemble (majority vote) with \\text...</td>\n      <td>3.333333</td>\n      <td>29.894737</td>\n      <td>29.894737</td>\n      <td>3.265986</td>\n      <td>35.773818</td>\n      <td>35.773818</td>\n    </tr>\n    <tr>\n      <th>8</th>\n      <td>3-Snapshot Ensemble (majority vote) with \\text...</td>\n      <td>2.000000</td>\n      <td>28.111111</td>\n      <td>28.111111</td>\n      <td>1.581139</td>\n      <td>28.367108</td>\n      <td>28.367108</td>\n    </tr>\n    <tr>\n      <th>9</th>\n      <td>3-Snapshot Soup of \\textcite{mnih_human-level_...</td>\n      <td>2.833333</td>\n      <td>185.708333</td>\n      <td>185.708333</td>\n      <td>2.316607</td>\n      <td>187.752492</td>\n      <td>187.752492</td>\n    </tr>\n    <tr>\n      <th>10</th>\n      <td>3-Snapshot Soup of \\textcite{mnih_human-level_...</td>\n      <td>3.500000</td>\n      <td>43.400000</td>\n      <td>43.400000</td>\n      <td>5.066228</td>\n      <td>44.335088</td>\n      <td>44.335088</td>\n    </tr>\n    <tr>\n      <th>11</th>\n      <td>3-Snapshot Soup of \\textcite{mnih_playing_2013}</td>\n      <td>2.833333</td>\n      <td>28.818182</td>\n      <td>28.818182</td>\n      <td>2.483277</td>\n      <td>35.977266</td>\n      <td>35.977266</td>\n    </tr>\n    <tr>\n      <th>12</th>\n      <td>Interpretable CNN</td>\n      <td>1.000000</td>\n      <td>40.375000</td>\n      <td>40.375000</td>\n      <td>1.000000</td>\n      <td>43.693535</td>\n      <td>43.693535</td>\n    </tr>\n    <tr>\n      <th>13</th>\n      <td>Random Play</td>\n      <td>4.125000</td>\n      <td>123.720000</td>\n      <td>123.720000</td>\n      <td>3.563205</td>\n      <td>117.537058</td>\n      <td>117.537058</td>\n    </tr>\n    <tr>\n      <th>14</th>\n      <td>Top-3 Ensemble (average) with \\textcite{mnih_h...</td>\n      <td>1.666667</td>\n      <td>78.500000</td>\n      <td>78.500000</td>\n      <td>1.527525</td>\n      <td>79.155613</td>\n      <td>79.155613</td>\n    </tr>\n    <tr>\n      <th>15</th>\n      <td>Top-3 Ensemble (average) with \\textcite{mnih_h...</td>\n      <td>1.000000</td>\n      <td>40.428571</td>\n      <td>40.428571</td>\n      <td>1.000000</td>\n      <td>41.157653</td>\n      <td>41.157653</td>\n    </tr>\n    <tr>\n      <th>16</th>\n      <td>Top-3 Ensemble (average) with \\textcite{mnih_p...</td>\n      <td>2.400000</td>\n      <td>23.777778</td>\n      <td>23.777778</td>\n      <td>2.073644</td>\n      <td>21.514853</td>\n      <td>21.514853</td>\n    </tr>\n    <tr>\n      <th>17</th>\n      <td>Top-3 Ensemble (logistic average) with \\textci...</td>\n      <td>1.500000</td>\n      <td>104.181818</td>\n      <td>104.181818</td>\n      <td>1.290994</td>\n      <td>97.273653</td>\n      <td>97.273653</td>\n    </tr>\n    <tr>\n      <th>18</th>\n      <td>Top-3 Ensemble (logistic average) with \\textci...</td>\n      <td>1.000000</td>\n      <td>29.000000</td>\n      <td>29.000000</td>\n      <td>1.000000</td>\n      <td>31.932220</td>\n      <td>31.932220</td>\n    </tr>\n    <tr>\n      <th>19</th>\n      <td>Top-3 Ensemble (logistic average) with \\textci...</td>\n      <td>1.500000</td>\n      <td>18.000000</td>\n      <td>18.000000</td>\n      <td>1.290994</td>\n      <td>23.614967</td>\n      <td>23.614967</td>\n    </tr>\n    <tr>\n      <th>20</th>\n      <td>Top-3 Ensemble (majority vote) with \\textcite{...</td>\n      <td>0.500000</td>\n      <td>7.000000</td>\n      <td>7.000000</td>\n      <td>0.707107</td>\n      <td>11.269428</td>\n      <td>11.269428</td>\n    </tr>\n    <tr>\n      <th>21</th>\n      <td>Top-3 Ensemble (majority vote) with \\textcite{...</td>\n      <td>4.500000</td>\n      <td>41.500000</td>\n      <td>41.500000</td>\n      <td>6.363961</td>\n      <td>40.367066</td>\n      <td>40.367066</td>\n    </tr>\n    <tr>\n      <th>22</th>\n      <td>Top-3 Ensemble (majority vote) with \\textcite{...</td>\n      <td>2.000000</td>\n      <td>32.846154</td>\n      <td>32.846154</td>\n      <td>1.581139</td>\n      <td>43.352905</td>\n      <td>43.352905</td>\n    </tr>\n    <tr>\n      <th>23</th>\n      <td>Top-3 Mixed Ensemble (average)</td>\n      <td>1.500000</td>\n      <td>48.600000</td>\n      <td>48.600000</td>\n      <td>1.290994</td>\n      <td>57.233042</td>\n      <td>57.233042</td>\n    </tr>\n    <tr>\n      <th>24</th>\n      <td>Top-3 Mixed Ensemble (logistic average)</td>\n      <td>3.500000</td>\n      <td>47.550000</td>\n      <td>47.550000</td>\n      <td>3.271085</td>\n      <td>60.249896</td>\n      <td>60.249896</td>\n    </tr>\n    <tr>\n      <th>25</th>\n      <td>Top-3 Mixed Ensemble (majority vote)</td>\n      <td>1.500000</td>\n      <td>69.238095</td>\n      <td>69.238095</td>\n      <td>1.290994</td>\n      <td>90.703861</td>\n      <td>90.703861</td>\n    </tr>\n    <tr>\n      <th>26</th>\n      <td>Top-3 Soup of \\textcite{mnih_human-level_2015}</td>\n      <td>2.333333</td>\n      <td>29.571429</td>\n      <td>29.571429</td>\n      <td>2.516611</td>\n      <td>31.378640</td>\n      <td>31.378640</td>\n    </tr>\n    <tr>\n      <th>27</th>\n      <td>Top-3 Soup of \\textcite{mnih_human-level_2015}...</td>\n      <td>4.500000</td>\n      <td>25.800000</td>\n      <td>25.800000</td>\n      <td>6.363961</td>\n      <td>24.252835</td>\n      <td>24.252835</td>\n    </tr>\n    <tr>\n      <th>28</th>\n      <td>Top-3 Soup of \\textcite{mnih_playing_2013}</td>\n      <td>4.500000</td>\n      <td>41.500000</td>\n      <td>41.500000</td>\n      <td>6.363961</td>\n      <td>44.153143</td>\n      <td>44.153143</td>\n    </tr>\n    <tr>\n      <th>29</th>\n      <td>\\textcite{mnih_human-level_2015}</td>\n      <td>2.500000</td>\n      <td>88.437500</td>\n      <td>88.437500</td>\n      <td>1.870829</td>\n      <td>95.956913</td>\n      <td>95.956913</td>\n    </tr>\n    <tr>\n      <th>30</th>\n      <td>\\textcite{mnih_human-level_2015} with Huber Lo...</td>\n      <td>3.000000</td>\n      <td>31.500000</td>\n      <td>31.500000</td>\n      <td>3.535534</td>\n      <td>36.776351</td>\n      <td>36.776351</td>\n    </tr>\n    <tr>\n      <th>31</th>\n      <td>\\textcite{mnih_playing_2013}</td>\n      <td>3.166667</td>\n      <td>38.000000</td>\n      <td>38.000000</td>\n      <td>2.926887</td>\n      <td>42.715002</td>\n      <td>42.715002</td>\n    </tr>\n  </tbody>\n</table>\n</div>"
     },
     "execution_count": 9,
     "metadata": {},
     "output_type": "execute_result"
    }
   ],
   "source": [
    "df_unpivoted = evaluation_data_df.pivot_table(index=\"model\", columns=\"game\", values=\"episode_rewards\")\n",
    "df_unpivoted.columns = [\"_\".join(tup) for tup in df_unpivoted.columns.to_flat_index()]\n",
    "df_unpivoted.reset_index(inplace=True)\n",
    "df_unpivoted"
   ],
   "metadata": {
    "collapsed": false
   }
  },
  {
   "cell_type": "code",
   "execution_count": 10,
   "outputs": [
    {
     "name": "stdout",
     "output_type": "stream",
     "text": [
      "3-Snapshot Ensemble (average) with \\textcite{mnih_human-level_2015} & 1.500 $\\pm$ 1.291 & 82.167 $\\pm$ 96.577 & 82.167 $\\pm$ 96.577 \\\\\n",
      "3-Snapshot Ensemble (average) with \\textcite{mnih_human-level_2015} with Huber Loss and Adam & 3.833 $\\pm$ 3.971 & 26.300 $\\pm$ 35.979 & 26.300 $\\pm$ 35.979 \\\\\n",
      "3-Snapshot Ensemble (average) with \\textcite{mnih_playing_2013} & 2.000 $\\pm$ 1.581 & 26.833 $\\pm$ 28.103 & 26.833 $\\pm$ 28.103 \\\\\n",
      "3-Snapshot Ensemble (logistic average) with \\textcite{mnih_human-level_2015} & 1.500 $\\pm$ 1.291 & 65.500 $\\pm$ 66.148 & 65.500 $\\pm$ 66.148 \\\\\n",
      "3-Snapshot Ensemble (logistic average) with \\textcite{mnih_human-level_2015} with Huber Loss and Adam & 4.167 $\\pm$ 4.355 & 24.500 $\\pm$ 32.992 & 24.500 $\\pm$ 32.992 \\\\\n",
      "3-Snapshot Ensemble (logistic average) with \\textcite{mnih_playing_2013} & 2.200 $\\pm$ 1.924 & 42.818 $\\pm$ 50.864 & 42.818 $\\pm$ 50.864 \\\\\n",
      "3-Snapshot Ensemble (majority vote) with \\textcite{mnih_human-level_2015} & 3.750 $\\pm$ 5.560 & 59.545 $\\pm$ 67.784 & 59.545 $\\pm$ 67.784 \\\\\n",
      "3-Snapshot Ensemble (majority vote) with \\textcite{mnih_human-level_2015} with Huber Loss and Adam & 3.333 $\\pm$ 3.266 & 29.895 $\\pm$ 35.774 & 29.895 $\\pm$ 35.774 \\\\\n",
      "3-Snapshot Ensemble (majority vote) with \\textcite{mnih_playing_2013} & 2.000 $\\pm$ 1.581 & 28.111 $\\pm$ 28.367 & 28.111 $\\pm$ 28.367 \\\\\n",
      "Top-3 Ensemble (average) with \\textcite{mnih_human-level_2015} & 1.667 $\\pm$ 1.528 & 78.500 $\\pm$ 79.156 & 78.500 $\\pm$ 79.156 \\\\\n",
      "Top-3 Ensemble (average) with \\textcite{mnih_human-level_2015} with Huber Loss and Adam & 1.000 $\\pm$ 1.000 & 40.429 $\\pm$ 41.158 & 40.429 $\\pm$ 41.158 \\\\\n",
      "Top-3 Ensemble (average) with \\textcite{mnih_playing_2013} & 2.400 $\\pm$ 2.074 & 23.778 $\\pm$ 21.515 & 23.778 $\\pm$ 21.515 \\\\\n",
      "Top-3 Ensemble (logistic average) with \\textcite{mnih_human-level_2015} & 1.500 $\\pm$ 1.291 & 104.182 $\\pm$ 97.274 & 104.182 $\\pm$ 97.274 \\\\\n",
      "Top-3 Ensemble (logistic average) with \\textcite{mnih_human-level_2015} with Huber Loss and Adam & 1.000 $\\pm$ 1.000 & 29.000 $\\pm$ 31.932 & 29.000 $\\pm$ 31.932 \\\\\n",
      "Top-3 Ensemble (logistic average) with \\textcite{mnih_playing_2013} & 1.500 $\\pm$ 1.291 & 18.000 $\\pm$ 23.615 & 18.000 $\\pm$ 23.615 \\\\\n",
      "Top-3 Ensemble (majority vote) with \\textcite{mnih_human-level_2015} & 0.500 $\\pm$ 0.707 & 7.000 $\\pm$ 11.269 & 7.000 $\\pm$ 11.269 \\\\\n",
      "Top-3 Ensemble (majority vote) with \\textcite{mnih_human-level_2015} with Huber Loss and Adam & 4.500 $\\pm$ 6.364 & 41.500 $\\pm$ 40.367 & 41.500 $\\pm$ 40.367 \\\\\n",
      "Top-3 Ensemble (majority vote) with \\textcite{mnih_playing_2013} & 2.000 $\\pm$ 1.581 & 32.846 $\\pm$ 43.353 & 32.846 $\\pm$ 43.353 \\\\\n",
      "Top-3 Mixed Ensemble (average) & 1.500 $\\pm$ 1.291 & 48.600 $\\pm$ 57.233 & 48.600 $\\pm$ 57.233 \\\\\n",
      "Top-3 Mixed Ensemble (logistic average) & 3.500 $\\pm$ 3.271 & 47.550 $\\pm$ 60.250 & 47.550 $\\pm$ 60.250 \\\\\n",
      "Top-3 Mixed Ensemble (majority vote) & 1.500 $\\pm$ 1.291 & 69.238 $\\pm$ 90.704 & 69.238 $\\pm$ 90.704 \\\\\n",
      "\n"
     ]
    }
   ],
   "source": [
    "ensembles_subtable = \"\"\n",
    "ensembles_subdf = df_unpivoted[df_unpivoted[\"model\"].str.contains(\"Ensemble\")]\n",
    "\n",
    "for idx, model, breakout_mean, enduro_mean, seaquest_mean, breakout_std, enduro_std, seaquest_std in ensembles_subdf.itertuples():\n",
    "    ensembles_subtable += f\"{model} & {breakout_mean:.3f} $\\pm$ {breakout_std:.3f} & {enduro_mean:.3f} $\\pm$ {enduro_std:.3f} & {seaquest_mean:.3f} $\\pm$ {seaquest_std:.3f} \\\\\\\\\\n\"\n",
    "\n",
    "print(ensembles_subtable)"
   ],
   "metadata": {
    "collapsed": false
   }
  },
  {
   "cell_type": "code",
   "execution_count": 11,
   "outputs": [
    {
     "name": "stdout",
     "output_type": "stream",
     "text": [
      "3-Snapshot Ensemble (average) with \\textcite{mnih_human-level_2015} & 1.500 $\\pm$ 1.291 & 82.167 $\\pm$ 96.577 & 82.167 $\\pm$ 96.577 \\\\\n",
      "3-Snapshot Ensemble (average) with \\textcite{mnih_human-level_2015} with Huber Loss and Adam & 3.833 $\\pm$ 3.971 & 26.300 $\\pm$ 35.979 & 26.300 $\\pm$ 35.979 \\\\\n",
      "3-Snapshot Ensemble (average) with \\textcite{mnih_playing_2013} & 2.000 $\\pm$ 1.581 & 26.833 $\\pm$ 28.103 & 26.833 $\\pm$ 28.103 \\\\\n",
      "3-Snapshot Ensemble (logistic average) with \\textcite{mnih_human-level_2015} & 1.500 $\\pm$ 1.291 & 65.500 $\\pm$ 66.148 & 65.500 $\\pm$ 66.148 \\\\\n",
      "3-Snapshot Ensemble (logistic average) with \\textcite{mnih_human-level_2015} with Huber Loss and Adam & 4.167 $\\pm$ 4.355 & 24.500 $\\pm$ 32.992 & 24.500 $\\pm$ 32.992 \\\\\n",
      "3-Snapshot Ensemble (logistic average) with \\textcite{mnih_playing_2013} & 2.200 $\\pm$ 1.924 & 42.818 $\\pm$ 50.864 & 42.818 $\\pm$ 50.864 \\\\\n",
      "3-Snapshot Ensemble (majority vote) with \\textcite{mnih_human-level_2015} & 3.750 $\\pm$ 5.560 & 59.545 $\\pm$ 67.784 & 59.545 $\\pm$ 67.784 \\\\\n",
      "3-Snapshot Ensemble (majority vote) with \\textcite{mnih_human-level_2015} with Huber Loss and Adam & 3.333 $\\pm$ 3.266 & 29.895 $\\pm$ 35.774 & 29.895 $\\pm$ 35.774 \\\\\n",
      "3-Snapshot Ensemble (majority vote) with \\textcite{mnih_playing_2013} & 2.000 $\\pm$ 1.581 & 28.111 $\\pm$ 28.367 & 28.111 $\\pm$ 28.367 \\\\\n",
      "Top-3 Ensemble (average) with \\textcite{mnih_human-level_2015} & 1.667 $\\pm$ 1.528 & 78.500 $\\pm$ 79.156 & 78.500 $\\pm$ 79.156 \\\\\n",
      "Top-3 Ensemble (average) with \\textcite{mnih_human-level_2015} with Huber Loss and Adam & 1.000 $\\pm$ 1.000 & 40.429 $\\pm$ 41.158 & 40.429 $\\pm$ 41.158 \\\\\n",
      "Top-3 Ensemble (average) with \\textcite{mnih_playing_2013} & 2.400 $\\pm$ 2.074 & 23.778 $\\pm$ 21.515 & 23.778 $\\pm$ 21.515 \\\\\n",
      "Top-3 Ensemble (logistic average) with \\textcite{mnih_human-level_2015} & 1.500 $\\pm$ 1.291 & 104.182 $\\pm$ 97.274 & 104.182 $\\pm$ 97.274 \\\\\n",
      "Top-3 Ensemble (logistic average) with \\textcite{mnih_human-level_2015} with Huber Loss and Adam & 1.000 $\\pm$ 1.000 & 29.000 $\\pm$ 31.932 & 29.000 $\\pm$ 31.932 \\\\\n",
      "Top-3 Ensemble (logistic average) with \\textcite{mnih_playing_2013} & 1.500 $\\pm$ 1.291 & 18.000 $\\pm$ 23.615 & 18.000 $\\pm$ 23.615 \\\\\n",
      "Top-3 Ensemble (majority vote) with \\textcite{mnih_human-level_2015} & 0.500 $\\pm$ 0.707 & 7.000 $\\pm$ 11.269 & 7.000 $\\pm$ 11.269 \\\\\n",
      "Top-3 Ensemble (majority vote) with \\textcite{mnih_human-level_2015} with Huber Loss and Adam & 4.500 $\\pm$ 6.364 & 41.500 $\\pm$ 40.367 & 41.500 $\\pm$ 40.367 \\\\\n",
      "Top-3 Ensemble (majority vote) with \\textcite{mnih_playing_2013} & 2.000 $\\pm$ 1.581 & 32.846 $\\pm$ 43.353 & 32.846 $\\pm$ 43.353 \\\\\n",
      "Top-3 Mixed Ensemble (average) & 1.500 $\\pm$ 1.291 & 48.600 $\\pm$ 57.233 & 48.600 $\\pm$ 57.233 \\\\\n",
      "Top-3 Mixed Ensemble (logistic average) & 3.500 $\\pm$ 3.271 & 47.550 $\\pm$ 60.250 & 47.550 $\\pm$ 60.250 \\\\\n",
      "Top-3 Mixed Ensemble (majority vote) & 1.500 $\\pm$ 1.291 & 69.238 $\\pm$ 90.704 & 69.238 $\\pm$ 90.704 \\\\\n",
      "\n"
     ]
    }
   ],
   "source": [
    "soup_subtable = \"\"\n",
    "soup_subdf = df_unpivoted[df_unpivoted[\"model\"].str.contains(\"Soup\")]\n",
    "\n",
    "for idx, model, breakout_mean, enduro_mean, seaquest_mean, breakout_std, enduro_std, seaquest_std in soup_subdf.itertuples():\n",
    "    soup_subtable += f\"{model} & {breakout_mean:.3f} $\\pm$ {breakout_std:.3f} & {enduro_mean:.3f} $\\pm$ {enduro_std:.3f} & {seaquest_mean:.3f} $\\pm$ {seaquest_std:.3f} \\\\\\\\\\n\"\n",
    "\n",
    "print(ensembles_subtable)"
   ],
   "metadata": {
    "collapsed": false
   }
  },
  {
   "cell_type": "code",
   "execution_count": 12,
   "outputs": [
    {
     "name": "stdout",
     "output_type": "stream",
     "text": [
      "Interpretable CNN & 1.000 $\\pm$ 1.000 & 40.375 $\\pm$ 43.694 & 40.375 $\\pm$ 43.694 \\\\\n",
      "\\textcite{mnih_human-level_2015} & 2.500 $\\pm$ 1.871 & 88.438 $\\pm$ 95.957 & 88.438 $\\pm$ 95.957 \\\\\n",
      "\\textcite{mnih_human-level_2015} with Huber Loss and Adam & 3.000 $\\pm$ 3.536 & 31.500 $\\pm$ 36.776 & 31.500 $\\pm$ 36.776 \\\\\n",
      "\\textcite{mnih_playing_2013} & 3.167 $\\pm$ 2.927 & 38.000 $\\pm$ 42.715 & 38.000 $\\pm$ 42.715 \\\\\n",
      "\n"
     ]
    }
   ],
   "source": [
    "individual_models_subtable = \"\"\n",
    "individual_models_subdf = df_unpivoted[(~df_unpivoted[\"model\"].str.contains(\"Soup\")) & (~df_unpivoted[\"model\"].str.contains(\"Ensemble\")) & (~df_unpivoted[\"model\"].str.contains(\"Random\"))]\n",
    "\n",
    "for idx, model, breakout_mean, enduro_mean, seaquest_mean, breakout_std, enduro_std, seaquest_std in individual_models_subdf.itertuples():\n",
    "    individual_models_subtable += f\"{model} & {breakout_mean:.3f} $\\pm$ {breakout_std:.3f} & {enduro_mean:.3f} $\\pm$ {enduro_std:.3f} & {seaquest_mean:.3f} $\\pm$ {seaquest_std:.3f} \\\\\\\\\\n\"\n",
    "\n",
    "print(individual_models_subtable)"
   ],
   "metadata": {
    "collapsed": false
   }
  },
  {
   "cell_type": "code",
   "execution_count": 13,
   "outputs": [
    {
     "data": {
      "text/plain": "'Random Play & 4.125 $\\\\pm$ 3.563 & 123.720 $\\\\pm$ 117.537 & 123.720 $\\\\pm$ 117.537 \\\\\\\\\\n'"
     },
     "execution_count": 13,
     "metadata": {},
     "output_type": "execute_result"
    }
   ],
   "source": [
    "idx, model, breakout_mean, enduro_mean, seaquest_mean, breakout_std, enduro_std, seaquest_std = df_unpivoted[df_unpivoted[\"model\"].str.contains(\"Random\")].itertuples().__next__()\n",
    "random_play_line = f\"{model} & {breakout_mean:.3f} $\\pm$ {breakout_std:.3f} & {enduro_mean:.3f} $\\pm$ {enduro_std:.3f} & {seaquest_mean:.3f} $\\pm$ {seaquest_std:.3f} \\\\\\\\\\n\"\n",
    "random_play_line"
   ],
   "metadata": {
    "collapsed": false
   }
  },
  {
   "cell_type": "code",
   "execution_count": 14,
   "outputs": [],
   "source": [
    "# Results from others:\n",
    "old_res = \"\"\"\n",
    "Humans (via \\\\textcite{mnih_playing_2013}) & 31 & 368 & 28010 \\\\\\\\\n",
    "\\\\textcite{mnih_playing_2013} & 168 & 470 & 1705 \\\\\\\\\n",
    "\\\\textcite{mnih_human-level_2015} & 401 $\\pm$ 26.9 & 301.8 $\\pm$ 24.6 & 5286 $\\pm$ 1310\\\\\\\\\n",
    "\"\"\""
   ],
   "metadata": {
    "collapsed": false
   }
  },
  {
   "cell_type": "code",
   "execution_count": 15,
   "outputs": [
    {
     "name": "stdout",
     "output_type": "stream",
     "text": [
      "\\begin{sidewaystable}\n",
      "\\centering\n",
      "\\begin{tabularx}{\\textheight}{@{}l>{\\centering\\arraybackslash}X>{\\centering\\arraybackslash}X>{\\centering\\arraybackslash}X@{}}\n",
      "\\toprule\n",
      " & Breakout & Enduro & Seaquest \\\\\n",
      "\\midrule\n",
      "Interpretable CNN & 1.000 $\\pm$ 1.000 & 40.375 $\\pm$ 43.694 & 40.375 $\\pm$ 43.694 \\\\\n",
      "\\textcite{mnih_human-level_2015} & 2.500 $\\pm$ 1.871 & 88.438 $\\pm$ 95.957 & 88.438 $\\pm$ 95.957 \\\\\n",
      "\\textcite{mnih_human-level_2015} with Huber Loss and Adam & 3.000 $\\pm$ 3.536 & 31.500 $\\pm$ 36.776 & 31.500 $\\pm$ 36.776 \\\\\n",
      "\\textcite{mnih_playing_2013} & 3.167 $\\pm$ 2.927 & 38.000 $\\pm$ 42.715 & 38.000 $\\pm$ 42.715 \\\\\n",
      "\\hdashline\n",
      "3-Snapshot Ensemble (average) with \\textcite{mnih_human-level_2015} & 1.500 $\\pm$ 1.291 & 82.167 $\\pm$ 96.577 & 82.167 $\\pm$ 96.577 \\\\\n",
      "3-Snapshot Ensemble (average) with \\textcite{mnih_human-level_2015} with Huber Loss and Adam & 3.833 $\\pm$ 3.971 & 26.300 $\\pm$ 35.979 & 26.300 $\\pm$ 35.979 \\\\\n",
      "3-Snapshot Ensemble (average) with \\textcite{mnih_playing_2013} & 2.000 $\\pm$ 1.581 & 26.833 $\\pm$ 28.103 & 26.833 $\\pm$ 28.103 \\\\\n",
      "3-Snapshot Ensemble (logistic average) with \\textcite{mnih_human-level_2015} & 1.500 $\\pm$ 1.291 & 65.500 $\\pm$ 66.148 & 65.500 $\\pm$ 66.148 \\\\\n",
      "3-Snapshot Ensemble (logistic average) with \\textcite{mnih_human-level_2015} with Huber Loss and Adam & 4.167 $\\pm$ 4.355 & 24.500 $\\pm$ 32.992 & 24.500 $\\pm$ 32.992 \\\\\n",
      "3-Snapshot Ensemble (logistic average) with \\textcite{mnih_playing_2013} & 2.200 $\\pm$ 1.924 & 42.818 $\\pm$ 50.864 & 42.818 $\\pm$ 50.864 \\\\\n",
      "3-Snapshot Ensemble (majority vote) with \\textcite{mnih_human-level_2015} & 3.750 $\\pm$ 5.560 & 59.545 $\\pm$ 67.784 & 59.545 $\\pm$ 67.784 \\\\\n",
      "3-Snapshot Ensemble (majority vote) with \\textcite{mnih_human-level_2015} with Huber Loss and Adam & 3.333 $\\pm$ 3.266 & 29.895 $\\pm$ 35.774 & 29.895 $\\pm$ 35.774 \\\\\n",
      "3-Snapshot Ensemble (majority vote) with \\textcite{mnih_playing_2013} & 2.000 $\\pm$ 1.581 & 28.111 $\\pm$ 28.367 & 28.111 $\\pm$ 28.367 \\\\\n",
      "Top-3 Ensemble (average) with \\textcite{mnih_human-level_2015} & 1.667 $\\pm$ 1.528 & 78.500 $\\pm$ 79.156 & 78.500 $\\pm$ 79.156 \\\\\n",
      "Top-3 Ensemble (average) with \\textcite{mnih_human-level_2015} with Huber Loss and Adam & 1.000 $\\pm$ 1.000 & 40.429 $\\pm$ 41.158 & 40.429 $\\pm$ 41.158 \\\\\n",
      "Top-3 Ensemble (average) with \\textcite{mnih_playing_2013} & 2.400 $\\pm$ 2.074 & 23.778 $\\pm$ 21.515 & 23.778 $\\pm$ 21.515 \\\\\n",
      "Top-3 Ensemble (logistic average) with \\textcite{mnih_human-level_2015} & 1.500 $\\pm$ 1.291 & 104.182 $\\pm$ 97.274 & 104.182 $\\pm$ 97.274 \\\\\n",
      "Top-3 Ensemble (logistic average) with \\textcite{mnih_human-level_2015} with Huber Loss and Adam & 1.000 $\\pm$ 1.000 & 29.000 $\\pm$ 31.932 & 29.000 $\\pm$ 31.932 \\\\\n",
      "Top-3 Ensemble (logistic average) with \\textcite{mnih_playing_2013} & 1.500 $\\pm$ 1.291 & 18.000 $\\pm$ 23.615 & 18.000 $\\pm$ 23.615 \\\\\n",
      "Top-3 Ensemble (majority vote) with \\textcite{mnih_human-level_2015} & 0.500 $\\pm$ 0.707 & 7.000 $\\pm$ 11.269 & 7.000 $\\pm$ 11.269 \\\\\n",
      "Top-3 Ensemble (majority vote) with \\textcite{mnih_human-level_2015} with Huber Loss and Adam & 4.500 $\\pm$ 6.364 & 41.500 $\\pm$ 40.367 & 41.500 $\\pm$ 40.367 \\\\\n",
      "Top-3 Ensemble (majority vote) with \\textcite{mnih_playing_2013} & 2.000 $\\pm$ 1.581 & 32.846 $\\pm$ 43.353 & 32.846 $\\pm$ 43.353 \\\\\n",
      "Top-3 Mixed Ensemble (average) & 1.500 $\\pm$ 1.291 & 48.600 $\\pm$ 57.233 & 48.600 $\\pm$ 57.233 \\\\\n",
      "Top-3 Mixed Ensemble (logistic average) & 3.500 $\\pm$ 3.271 & 47.550 $\\pm$ 60.250 & 47.550 $\\pm$ 60.250 \\\\\n",
      "Top-3 Mixed Ensemble (majority vote) & 1.500 $\\pm$ 1.291 & 69.238 $\\pm$ 90.704 & 69.238 $\\pm$ 90.704 \\\\\n",
      "\\hdashline\n",
      "3-Snapshot Soup of \\textcite{mnih_human-level_2015} & 2.833 $\\pm$ 2.317 & 185.708 $\\pm$ 187.752 & 185.708 $\\pm$ 187.752 \\\\\n",
      "3-Snapshot Soup of \\textcite{mnih_human-level_2015} with Huber Loss and Adam & 3.500 $\\pm$ 5.066 & 43.400 $\\pm$ 44.335 & 43.400 $\\pm$ 44.335 \\\\\n",
      "3-Snapshot Soup of \\textcite{mnih_playing_2013} & 2.833 $\\pm$ 2.483 & 28.818 $\\pm$ 35.977 & 28.818 $\\pm$ 35.977 \\\\\n",
      "Top-3 Soup of \\textcite{mnih_human-level_2015} & 2.333 $\\pm$ 2.517 & 29.571 $\\pm$ 31.379 & 29.571 $\\pm$ 31.379 \\\\\n",
      "Top-3 Soup of \\textcite{mnih_human-level_2015} with Huber Loss and Adam & 4.500 $\\pm$ 6.364 & 25.800 $\\pm$ 24.253 & 25.800 $\\pm$ 24.253 \\\\\n",
      "Top-3 Soup of \\textcite{mnih_playing_2013} & 4.500 $\\pm$ 6.364 & 41.500 $\\pm$ 44.153 & 41.500 $\\pm$ 44.153 \\\\\n",
      "\\hdashline\n",
      "Random Play & 4.125 $\\pm$ 3.563 & 123.720 $\\pm$ 117.537 & 123.720 $\\pm$ 117.537 \\\\\n",
      "\\hdashline\n",
      "\n",
      "Humans (via \\textcite{mnih_playing_2013}) & 31 & 368 & 28010 \\\\\n",
      "\\textcite{mnih_playing_2013} & 168 & 470 & 1705 \\\\\n",
      "\\textcite{mnih_human-level_2015} & 401 $\\pm$ 26.9 & 301.8 $\\pm$ 24.6 & 5286 $\\pm$ 1310\\\\\n",
      "\\end{tabularx}\n",
      "\\caption{\\label{tab:ensembles-of-ensembles}Table with Results for Breakout, Enduro, and Seaquest. The number after $\\pm$ indicates the standard deviation}\n",
      "\\end{sidewaystable}\n"
     ]
    }
   ],
   "source": [
    "table_string = table_header + individual_models_subtable +  divider + ensembles_subtable + divider + soup_subtable + divider + random_play_line + divider + old_res + table_footer\n",
    "print(table_string)"
   ],
   "metadata": {
    "collapsed": false
   }
  },
  {
   "cell_type": "code",
   "execution_count": 16,
   "outputs": [],
   "source": [
    "# Write to .tex file to auto-include the newest results in the latex document\n",
    "with open(\"./../../latex/table_overview.tex\", \"w\") as f:\n",
    "    f.write(table_string)"
   ],
   "metadata": {
    "collapsed": false
   }
  }
 ],
 "metadata": {
  "kernelspec": {
   "display_name": "Python 3",
   "language": "python",
   "name": "python3"
  },
  "language_info": {
   "codemirror_mode": {
    "name": "ipython",
    "version": 2
   },
   "file_extension": ".py",
   "mimetype": "text/x-python",
   "name": "python",
   "nbconvert_exporter": "python",
   "pygments_lexer": "ipython2",
   "version": "2.7.6"
  }
 },
 "nbformat": 4,
 "nbformat_minor": 0
}
